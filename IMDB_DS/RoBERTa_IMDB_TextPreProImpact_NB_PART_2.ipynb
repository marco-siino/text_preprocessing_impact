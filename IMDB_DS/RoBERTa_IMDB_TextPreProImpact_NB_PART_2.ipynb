{
  "nbformat": 4,
  "nbformat_minor": 0,
  "metadata": {
    "accelerator": "GPU",
    "colab": {
      "provenance": [],
      "collapsed_sections": [
        "ITouXXtQ8WzV",
        "ouQCPPGiU7BY",
        "xmWtRjh18LcV",
        "9k63B8ax7E_p",
        "VgvX5p5QB24X"
      ],
      "include_colab_link": true
    },
    "kernelspec": {
      "display_name": "Python 3",
      "name": "python3"
    }
  },
  "cells": [
    {
      "cell_type": "markdown",
      "metadata": {
        "id": "view-in-github",
        "colab_type": "text"
      },
      "source": [
        "<a href=\"https://colab.research.google.com/github/marco-siino/text_preprocessing_impact/blob/main/IMDB_DS/RoBERTa_IMDB_TextPreProImpact_NB_PART_2.ipynb\" target=\"_parent\"><img src=\"https://colab.research.google.com/assets/colab-badge.svg\" alt=\"Open In Colab\"/></a>"
      ]
    },
    {
      "cell_type": "markdown",
      "metadata": {
        "id": "u-hLo5ufkCT1"
      },
      "source": [
        "## Text preprocessing worth the time: A comparative survey on the impact of common techniques on NLP model performances. \n",
        "- - - \n",
        "RoBERTa ON IMDB DS EXPERIMENTS NOTEBOOK \n",
        "- - -\n",
        "RoBERTa on Internet Movies Database Dataset.\n",
        "Code by M. Siino. \n",
        "\n",
        "From the paper: \"Text preprocessing worth the time: A comparative survey on the impact of common techniques on NLP model performances.\" by M.Siino et al.\n",
        "\n"
      ]
    },
    {
      "cell_type": "markdown",
      "metadata": {
        "id": "6IBqUcj4cx2G"
      },
      "source": [
        "## Importing modules."
      ]
    },
    {
      "cell_type": "code",
      "metadata": {
        "id": "AQSunQ-ucjLX",
        "colab": {
          "base_uri": "https://localhost:8080/"
        },
        "outputId": "872a7d19-1795-4c4b-9191-8fb97bc82fe5"
      },
      "source": [
        "!pip install simpletransformers\n",
        "!pip install tensorboardx\n",
        "\n",
        "#import matplotlib.pyplot as plt\n",
        "import os\n",
        "import re\n",
        "import shutil\n",
        "import string\n",
        "import tensorflow as tf\n",
        "import numpy as np\n",
        "import torch\n",
        "import nltk\n",
        "import pandas as pd\n",
        "\n",
        "from tensorflow.keras import layers\n",
        "from tensorflow.keras import losses\n",
        "from tensorflow.keras import preprocessing\n",
        "from tensorflow.keras.models import Model\n",
        "from tensorflow.keras.layers.experimental.preprocessing import TextVectorization\n",
        "from nltk.corpus import stopwords\n",
        "from nltk.tokenize import word_tokenize \n",
        "from nltk.stem import PorterStemmer\n",
        "from textblob import TextBlob\n",
        "nltk.download('stopwords')\n",
        "nltk.download('punkt')\n",
        "from io import open\n",
        "from pathlib import Path\n",
        "from simpletransformers.classification import ClassificationModel, ClassificationArgs\n"
      ],
      "execution_count": null,
      "outputs": [
        {
          "output_type": "stream",
          "name": "stdout",
          "text": [
            "Requirement already satisfied: simpletransformers in c:\\users\\domenico\\.conda\\envs\\tf\\lib\\site-packages (0.63.9)\n",
            "Requirement already satisfied: pandas in c:\\users\\domenico\\.conda\\envs\\tf\\lib\\site-packages (from simpletransformers) (1.4.3)\n",
            "Requirement already satisfied: seqeval in c:\\users\\domenico\\.conda\\envs\\tf\\lib\\site-packages (from simpletransformers) (1.2.2)\n",
            "Requirement already satisfied: wandb>=0.10.32 in c:\\users\\domenico\\.conda\\envs\\tf\\lib\\site-packages (from simpletransformers) (0.13.3)\n",
            "Requirement already satisfied: streamlit in c:\\users\\domenico\\.conda\\envs\\tf\\lib\\site-packages (from simpletransformers) (1.12.2)\n",
            "Requirement already satisfied: scikit-learn in c:\\users\\domenico\\.conda\\envs\\tf\\lib\\site-packages (from simpletransformers) (1.1.1)\n",
            "Requirement already satisfied: tokenizers in c:\\users\\domenico\\.conda\\envs\\tf\\lib\\site-packages (from simpletransformers) (0.12.1)\n",
            "Requirement already satisfied: datasets in c:\\users\\domenico\\.conda\\envs\\tf\\lib\\site-packages (from simpletransformers) (2.4.0)\n",
            "Requirement already satisfied: tqdm>=4.47.0 in c:\\users\\domenico\\.conda\\envs\\tf\\lib\\site-packages (from simpletransformers) (4.64.0)\n",
            "Requirement already satisfied: tensorboard in c:\\users\\domenico\\.conda\\envs\\tf\\lib\\site-packages (from simpletransformers) (2.9.1)\n",
            "Requirement already satisfied: sentencepiece in c:\\users\\domenico\\.conda\\envs\\tf\\lib\\site-packages (from simpletransformers) (0.1.97)\n",
            "Requirement already satisfied: scipy in c:\\users\\domenico\\.conda\\envs\\tf\\lib\\site-packages (from simpletransformers) (1.9.0)\n",
            "Requirement already satisfied: numpy in c:\\users\\domenico\\appdata\\roaming\\python\\python39\\site-packages (from simpletransformers) (1.22.4)\n",
            "Requirement already satisfied: requests in c:\\users\\domenico\\.conda\\envs\\tf\\lib\\site-packages (from simpletransformers) (2.28.1)\n",
            "Requirement already satisfied: transformers>=4.6.0 in c:\\users\\domenico\\.conda\\envs\\tf\\lib\\site-packages (from simpletransformers) (4.22.1)\n",
            "Requirement already satisfied: regex in c:\\users\\domenico\\.conda\\envs\\tf\\lib\\site-packages (from simpletransformers) (2022.7.25)\n",
            "Requirement already satisfied: colorama in c:\\users\\domenico\\.conda\\envs\\tf\\lib\\site-packages (from tqdm>=4.47.0->simpletransformers) (0.4.5)\n",
            "Requirement already satisfied: filelock in c:\\users\\domenico\\.conda\\envs\\tf\\lib\\site-packages (from transformers>=4.6.0->simpletransformers) (3.8.0)\n",
            "Requirement already satisfied: packaging>=20.0 in c:\\users\\domenico\\.conda\\envs\\tf\\lib\\site-packages (from transformers>=4.6.0->simpletransformers) (21.3)\n",
            "Requirement already satisfied: huggingface-hub<1.0,>=0.9.0 in c:\\users\\domenico\\.conda\\envs\\tf\\lib\\site-packages (from transformers>=4.6.0->simpletransformers) (0.9.1)\n",
            "Requirement already satisfied: pyyaml>=5.1 in c:\\users\\domenico\\.conda\\envs\\tf\\lib\\site-packages (from transformers>=4.6.0->simpletransformers) (6.0)\n",
            "Requirement already satisfied: promise<3,>=2.0 in c:\\users\\domenico\\.conda\\envs\\tf\\lib\\site-packages (from wandb>=0.10.32->simpletransformers) (2.3)\n",
            "Requirement already satisfied: six>=1.13.0 in c:\\users\\domenico\\.conda\\envs\\tf\\lib\\site-packages (from wandb>=0.10.32->simpletransformers) (1.16.0)\n",
            "Requirement already satisfied: setproctitle in c:\\users\\domenico\\.conda\\envs\\tf\\lib\\site-packages (from wandb>=0.10.32->simpletransformers) (1.3.2)\n",
            "Requirement already satisfied: shortuuid>=0.5.0 in c:\\users\\domenico\\.conda\\envs\\tf\\lib\\site-packages (from wandb>=0.10.32->simpletransformers) (1.0.9)\n",
            "Requirement already satisfied: protobuf<4.0dev,>=3.12.0 in c:\\users\\domenico\\.conda\\envs\\tf\\lib\\site-packages (from wandb>=0.10.32->simpletransformers) (3.19.4)\n",
            "Requirement already satisfied: Click!=8.0.0,>=7.0 in c:\\users\\domenico\\.conda\\envs\\tf\\lib\\site-packages (from wandb>=0.10.32->simpletransformers) (8.1.3)\n",
            "Requirement already satisfied: setuptools in c:\\users\\domenico\\.conda\\envs\\tf\\lib\\site-packages (from wandb>=0.10.32->simpletransformers) (63.4.1)\n",
            "Requirement already satisfied: pathtools in c:\\users\\domenico\\.conda\\envs\\tf\\lib\\site-packages (from wandb>=0.10.32->simpletransformers) (0.1.2)\n",
            "Requirement already satisfied: docker-pycreds>=0.4.0 in c:\\users\\domenico\\.conda\\envs\\tf\\lib\\site-packages (from wandb>=0.10.32->simpletransformers) (0.4.0)\n",
            "Requirement already satisfied: psutil>=5.0.0 in c:\\users\\domenico\\.conda\\envs\\tf\\lib\\site-packages (from wandb>=0.10.32->simpletransformers) (5.9.1)\n",
            "Requirement already satisfied: GitPython>=1.0.0 in c:\\users\\domenico\\.conda\\envs\\tf\\lib\\site-packages (from wandb>=0.10.32->simpletransformers) (3.1.27)\n",
            "Requirement already satisfied: sentry-sdk>=1.0.0 in c:\\users\\domenico\\.conda\\envs\\tf\\lib\\site-packages (from wandb>=0.10.32->simpletransformers) (1.9.8)\n",
            "Requirement already satisfied: charset-normalizer<3,>=2 in c:\\users\\domenico\\.conda\\envs\\tf\\lib\\site-packages (from requests->simpletransformers) (2.1.0)\n",
            "Requirement already satisfied: urllib3<1.27,>=1.21.1 in c:\\users\\domenico\\.conda\\envs\\tf\\lib\\site-packages (from requests->simpletransformers) (1.26.11)\n",
            "Requirement already satisfied: idna<4,>=2.5 in c:\\users\\domenico\\.conda\\envs\\tf\\lib\\site-packages (from requests->simpletransformers) (3.3)\n",
            "Requirement already satisfied: certifi>=2017.4.17 in c:\\users\\domenico\\.conda\\envs\\tf\\lib\\site-packages (from requests->simpletransformers) (2022.9.14)\n",
            "Requirement already satisfied: fsspec[http]>=2021.11.1 in c:\\users\\domenico\\.conda\\envs\\tf\\lib\\site-packages (from datasets->simpletransformers) (2022.8.2)\n",
            "Requirement already satisfied: dill<0.3.6 in c:\\users\\domenico\\.conda\\envs\\tf\\lib\\site-packages (from datasets->simpletransformers) (0.3.5.1)\n",
            "Requirement already satisfied: aiohttp in c:\\users\\domenico\\.conda\\envs\\tf\\lib\\site-packages (from datasets->simpletransformers) (3.8.1)\n",
            "Requirement already satisfied: pyarrow>=6.0.0 in c:\\users\\domenico\\.conda\\envs\\tf\\lib\\site-packages (from datasets->simpletransformers) (9.0.0)\n",
            "Requirement already satisfied: xxhash in c:\\users\\domenico\\.conda\\envs\\tf\\lib\\site-packages (from datasets->simpletransformers) (3.0.0)\n",
            "Requirement already satisfied: responses<0.19 in c:\\users\\domenico\\.conda\\envs\\tf\\lib\\site-packages (from datasets->simpletransformers) (0.18.0)\n",
            "Requirement already satisfied: multiprocess in c:\\users\\domenico\\.conda\\envs\\tf\\lib\\site-packages (from datasets->simpletransformers) (0.70.13)\n",
            "Requirement already satisfied: pytz>=2020.1 in c:\\users\\domenico\\.conda\\envs\\tf\\lib\\site-packages (from pandas->simpletransformers) (2022.1)\n",
            "Requirement already satisfied: python-dateutil>=2.8.1 in c:\\users\\domenico\\.conda\\envs\\tf\\lib\\site-packages (from pandas->simpletransformers) (2.8.2)\n",
            "Requirement already satisfied: threadpoolctl>=2.0.0 in c:\\users\\domenico\\.conda\\envs\\tf\\lib\\site-packages (from scikit-learn->simpletransformers) (3.1.0)\n",
            "Requirement already satisfied: joblib>=1.0.0 in c:\\users\\domenico\\.conda\\envs\\tf\\lib\\site-packages (from scikit-learn->simpletransformers) (1.1.0)\n",
            "Requirement already satisfied: pympler>=0.9 in c:\\users\\domenico\\.conda\\envs\\tf\\lib\\site-packages (from streamlit->simpletransformers) (1.0.1)\n",
            "Requirement already satisfied: semver in c:\\users\\domenico\\.conda\\envs\\tf\\lib\\site-packages (from streamlit->simpletransformers) (2.13.0)\n",
            "Requirement already satisfied: blinker>=1.0.0 in c:\\users\\domenico\\.conda\\envs\\tf\\lib\\site-packages (from streamlit->simpletransformers) (1.5)\n",
            "Requirement already satisfied: toml in c:\\users\\domenico\\.conda\\envs\\tf\\lib\\site-packages (from streamlit->simpletransformers) (0.10.2)\n",
            "Requirement already satisfied: watchdog in c:\\users\\domenico\\.conda\\envs\\tf\\lib\\site-packages (from streamlit->simpletransformers) (2.1.9)\n",
            "Requirement already satisfied: importlib-metadata>=1.4 in c:\\users\\domenico\\.conda\\envs\\tf\\lib\\site-packages (from streamlit->simpletransformers) (4.12.0)\n",
            "Requirement already satisfied: validators>=0.2 in c:\\users\\domenico\\.conda\\envs\\tf\\lib\\site-packages (from streamlit->simpletransformers) (0.20.0)\n",
            "Requirement already satisfied: tzlocal>=1.1 in c:\\users\\domenico\\.conda\\envs\\tf\\lib\\site-packages (from streamlit->simpletransformers) (4.2)\n",
            "Requirement already satisfied: tornado>=5.0 in c:\\users\\domenico\\.conda\\envs\\tf\\lib\\site-packages (from streamlit->simpletransformers) (6.2)\n",
            "Requirement already satisfied: altair>=3.2.0 in c:\\users\\domenico\\.conda\\envs\\tf\\lib\\site-packages (from streamlit->simpletransformers) (4.2.0)\n",
            "Requirement already satisfied: pillow>=6.2.0 in c:\\users\\domenico\\.conda\\envs\\tf\\lib\\site-packages (from streamlit->simpletransformers) (9.2.0)\n",
            "Requirement already satisfied: typing-extensions>=3.10.0.0 in c:\\users\\domenico\\.conda\\envs\\tf\\lib\\site-packages (from streamlit->simpletransformers) (4.3.0)\n",
            "Requirement already satisfied: pydeck>=0.1.dev5 in c:\\users\\domenico\\.conda\\envs\\tf\\lib\\site-packages (from streamlit->simpletransformers) (0.8.0b3)\n",
            "Requirement already satisfied: rich>=10.11.0 in c:\\users\\domenico\\.conda\\envs\\tf\\lib\\site-packages (from streamlit->simpletransformers) (12.5.1)\n",
            "Requirement already satisfied: cachetools>=4.0 in c:\\users\\domenico\\.conda\\envs\\tf\\lib\\site-packages (from streamlit->simpletransformers) (5.2.0)\n",
            "Requirement already satisfied: grpcio>=1.24.3 in c:\\users\\domenico\\.conda\\envs\\tf\\lib\\site-packages (from tensorboard->simpletransformers) (1.48.0)\n",
            "Requirement already satisfied: absl-py>=0.4 in c:\\users\\domenico\\.conda\\envs\\tf\\lib\\site-packages (from tensorboard->simpletransformers) (1.2.0)\n",
            "Requirement already satisfied: werkzeug>=1.0.1 in c:\\users\\domenico\\.conda\\envs\\tf\\lib\\site-packages (from tensorboard->simpletransformers) (2.2.1)\n",
            "Requirement already satisfied: tensorboard-data-server<0.7.0,>=0.6.0 in c:\\users\\domenico\\.conda\\envs\\tf\\lib\\site-packages (from tensorboard->simpletransformers) (0.6.1)\n",
            "Requirement already satisfied: google-auth<3,>=1.6.3 in c:\\users\\domenico\\.conda\\envs\\tf\\lib\\site-packages (from tensorboard->simpletransformers) (2.9.1)\n",
            "Requirement already satisfied: google-auth-oauthlib<0.5,>=0.4.1 in c:\\users\\domenico\\.conda\\envs\\tf\\lib\\site-packages (from tensorboard->simpletransformers) (0.4.6)\n",
            "Requirement already satisfied: tensorboard-plugin-wit>=1.6.0 in c:\\users\\domenico\\.conda\\envs\\tf\\lib\\site-packages (from tensorboard->simpletransformers) (1.8.1)\n",
            "Requirement already satisfied: wheel>=0.26 in c:\\users\\domenico\\.conda\\envs\\tf\\lib\\site-packages (from tensorboard->simpletransformers) (0.37.1)\n",
            "Requirement already satisfied: markdown>=2.6.8 in c:\\users\\domenico\\.conda\\envs\\tf\\lib\\site-packages (from tensorboard->simpletransformers) (3.4.1)\n",
            "Requirement already satisfied: jinja2 in c:\\users\\domenico\\.conda\\envs\\tf\\lib\\site-packages (from altair>=3.2.0->streamlit->simpletransformers) (3.1.2)\n",
            "Requirement already satisfied: jsonschema>=3.0 in c:\\users\\domenico\\.conda\\envs\\tf\\lib\\site-packages (from altair>=3.2.0->streamlit->simpletransformers) (4.9.0)\n",
            "Requirement already satisfied: toolz in c:\\users\\domenico\\.conda\\envs\\tf\\lib\\site-packages (from altair>=3.2.0->streamlit->simpletransformers) (0.12.0)\n",
            "Requirement already satisfied: entrypoints in c:\\users\\domenico\\.conda\\envs\\tf\\lib\\site-packages (from altair>=3.2.0->streamlit->simpletransformers) (0.4)\n",
            "Requirement already satisfied: async-timeout<5.0,>=4.0.0a3 in c:\\users\\domenico\\.conda\\envs\\tf\\lib\\site-packages (from aiohttp->datasets->simpletransformers) (4.0.2)\n",
            "Requirement already satisfied: attrs>=17.3.0 in c:\\users\\domenico\\.conda\\envs\\tf\\lib\\site-packages (from aiohttp->datasets->simpletransformers) (22.1.0)\n",
            "Requirement already satisfied: aiosignal>=1.1.2 in c:\\users\\domenico\\.conda\\envs\\tf\\lib\\site-packages (from aiohttp->datasets->simpletransformers) (1.2.0)\n",
            "Requirement already satisfied: frozenlist>=1.1.1 in c:\\users\\domenico\\.conda\\envs\\tf\\lib\\site-packages (from aiohttp->datasets->simpletransformers) (1.3.1)\n",
            "Requirement already satisfied: yarl<2.0,>=1.0 in c:\\users\\domenico\\.conda\\envs\\tf\\lib\\site-packages (from aiohttp->datasets->simpletransformers) (1.8.1)\n",
            "Requirement already satisfied: multidict<7.0,>=4.5 in c:\\users\\domenico\\.conda\\envs\\tf\\lib\\site-packages (from aiohttp->datasets->simpletransformers) (6.0.2)\n",
            "Requirement already satisfied: gitdb<5,>=4.0.1 in c:\\users\\domenico\\.conda\\envs\\tf\\lib\\site-packages (from GitPython>=1.0.0->wandb>=0.10.32->simpletransformers) (4.0.9)\n",
            "Requirement already satisfied: rsa<5,>=3.1.4 in c:\\users\\domenico\\.conda\\envs\\tf\\lib\\site-packages (from google-auth<3,>=1.6.3->tensorboard->simpletransformers) (4.9)\n",
            "Requirement already satisfied: pyasn1-modules>=0.2.1 in c:\\users\\domenico\\.conda\\envs\\tf\\lib\\site-packages (from google-auth<3,>=1.6.3->tensorboard->simpletransformers) (0.2.8)\n",
            "Requirement already satisfied: requests-oauthlib>=0.7.0 in c:\\users\\domenico\\.conda\\envs\\tf\\lib\\site-packages (from google-auth-oauthlib<0.5,>=0.4.1->tensorboard->simpletransformers) (1.3.1)\n",
            "Requirement already satisfied: zipp>=0.5 in c:\\users\\domenico\\.conda\\envs\\tf\\lib\\site-packages (from importlib-metadata>=1.4->streamlit->simpletransformers) (3.8.1)\n",
            "Requirement already satisfied: pyparsing!=3.0.5,>=2.0.2 in c:\\users\\domenico\\.conda\\envs\\tf\\lib\\site-packages (from packaging>=20.0->transformers>=4.6.0->simpletransformers) (3.0.9)\n",
            "Requirement already satisfied: commonmark<0.10.0,>=0.9.0 in c:\\users\\domenico\\.conda\\envs\\tf\\lib\\site-packages (from rich>=10.11.0->streamlit->simpletransformers) (0.9.1)\n",
            "Requirement already satisfied: pygments<3.0.0,>=2.6.0 in c:\\users\\domenico\\.conda\\envs\\tf\\lib\\site-packages (from rich>=10.11.0->streamlit->simpletransformers) (2.12.0)\n",
            "Requirement already satisfied: tzdata in c:\\users\\domenico\\.conda\\envs\\tf\\lib\\site-packages (from tzlocal>=1.1->streamlit->simpletransformers) (2022.2)\n",
            "Requirement already satisfied: pytz-deprecation-shim in c:\\users\\domenico\\.conda\\envs\\tf\\lib\\site-packages (from tzlocal>=1.1->streamlit->simpletransformers) (0.1.0.post0)\n",
            "Requirement already satisfied: decorator>=3.4.0 in c:\\users\\domenico\\.conda\\envs\\tf\\lib\\site-packages (from validators>=0.2->streamlit->simpletransformers) (5.1.1)\n",
            "Requirement already satisfied: MarkupSafe>=2.1.1 in c:\\users\\domenico\\.conda\\envs\\tf\\lib\\site-packages (from werkzeug>=1.0.1->tensorboard->simpletransformers) (2.1.1)\n",
            "Requirement already satisfied: smmap<6,>=3.0.1 in c:\\users\\domenico\\.conda\\envs\\tf\\lib\\site-packages (from gitdb<5,>=4.0.1->GitPython>=1.0.0->wandb>=0.10.32->simpletransformers) (5.0.0)\n",
            "Requirement already satisfied: pyrsistent!=0.17.0,!=0.17.1,!=0.17.2,>=0.14.0 in c:\\users\\domenico\\.conda\\envs\\tf\\lib\\site-packages (from jsonschema>=3.0->altair>=3.2.0->streamlit->simpletransformers) (0.18.1)\n",
            "Requirement already satisfied: pyasn1<0.5.0,>=0.4.6 in c:\\users\\domenico\\.conda\\envs\\tf\\lib\\site-packages (from pyasn1-modules>=0.2.1->google-auth<3,>=1.6.3->tensorboard->simpletransformers) (0.4.8)\n",
            "Requirement already satisfied: oauthlib>=3.0.0 in c:\\users\\domenico\\.conda\\envs\\tf\\lib\\site-packages (from requests-oauthlib>=0.7.0->google-auth-oauthlib<0.5,>=0.4.1->tensorboard->simpletransformers) (3.2.0)\n",
            "Requirement already satisfied: tensorboardx in c:\\users\\domenico\\.conda\\envs\\tf\\lib\\site-packages (2.5.1)\n",
            "Requirement already satisfied: numpy in c:\\users\\domenico\\appdata\\roaming\\python\\python39\\site-packages (from tensorboardx) (1.22.4)\n",
            "Requirement already satisfied: protobuf<=3.20.1,>=3.8.0 in c:\\users\\domenico\\.conda\\envs\\tf\\lib\\site-packages (from tensorboardx) (3.19.4)\n"
          ]
        },
        {
          "output_type": "stream",
          "name": "stderr",
          "text": [
            "C:\\Users\\Domenico\\.conda\\envs\\tf\\lib\\site-packages\\tqdm\\auto.py:22: TqdmWarning: IProgress not found. Please update jupyter and ipywidgets. See https://ipywidgets.readthedocs.io/en/stable/user_install.html\n",
            "  from .autonotebook import tqdm as notebook_tqdm\n",
            "[nltk_data] Downloading package stopwords to\n",
            "[nltk_data]     C:\\Users\\Domenico\\AppData\\Roaming\\nltk_data...\n",
            "[nltk_data]   Package stopwords is already up-to-date!\n",
            "[nltk_data] Downloading package punkt to\n",
            "[nltk_data]     C:\\Users\\Domenico\\AppData\\Roaming\\nltk_data...\n",
            "[nltk_data]   Package punkt is already up-to-date!\n"
          ]
        }
      ]
    },
    {
      "cell_type": "markdown",
      "metadata": {
        "id": "0QHd_fxmHCfa"
      },
      "source": [
        "## Importing DS and extract in current working directory."
      ]
    },
    {
      "cell_type": "code",
      "metadata": {
        "id": "ocYMUXaY8r0_"
      },
      "source": [
        "url = \"https://ai.stanford.edu/~amaas/data/sentiment/aclImdb_v1.tar.gz\"\n",
        "\n",
        "dataset = tf.keras.utils.get_file(\"aclImdb_v1\", url,\n",
        "                                    untar=True, cache_dir='.',\n",
        "                                    cache_subdir='')\n",
        "\n",
        "dataset_dir = os.path.join(os.path.dirname(dataset), 'aclImdb')\n",
        "\n",
        "train_set_dir = os.path.join(dataset_dir, 'train')\n",
        "test_set_dir = os.path.join(dataset_dir, 'test')\n",
        "\n",
        "remove_dir = os.path.join(train_set_dir, 'unsup')\n",
        "shutil.rmtree(remove_dir)"
      ],
      "execution_count": null,
      "outputs": []
    },
    {
      "cell_type": "markdown",
      "source": [
        "## Building the dataset."
      ],
      "metadata": {
        "id": "MRMgBDgsCua6"
      }
    },
    {
      "cell_type": "code",
      "source": [
        "# Generate full randomized training set.\n",
        "batch_size = 1\n",
        "seed = 1\n",
        "\n",
        "train_ds = tf.keras.preprocessing.text_dataset_from_directory(\n",
        "    'aclImdb/train', \n",
        "    batch_size=batch_size,\n",
        "    shuffle=False,\n",
        "    seed=seed\n",
        "    )\n",
        "\n",
        "test_ds = tf.keras.preprocessing.text_dataset_from_directory(\n",
        "    'aclImdb/test', \n",
        "    batch_size=batch_size,\n",
        "    shuffle=False,\n",
        "    seed=seed\n",
        "    )\n",
        "\n",
        "train_ds = train_ds.shuffle(25000,seed=1,reshuffle_each_iteration = False)\n",
        "test_ds = test_ds.shuffle(25000,seed=1,reshuffle_each_iteration = False)\n",
        "\n",
        "train_ds = train_ds.take(5000)\n",
        "test_ds = test_ds.take(5000)\n",
        "\n",
        "train_ds_size=len(train_ds)\n",
        "test_ds_size=len(test_ds)"
      ],
      "metadata": {
        "colab": {
          "base_uri": "https://localhost:8080/"
        },
        "id": "XEu8rdcQCuHy",
        "outputId": "2586b99f-1bc4-49d2-8dac-431bd765371e"
      },
      "execution_count": null,
      "outputs": [
        {
          "output_type": "stream",
          "name": "stdout",
          "text": [
            "Found 25000 files belonging to 2 classes.\n",
            "Found 25000 files belonging to 2 classes.\n"
          ]
        }
      ]
    },
    {
      "cell_type": "markdown",
      "metadata": {
        "id": "ITouXXtQ8WzV"
      },
      "source": [
        "## Functions to pre-process source text. (A detailed discussion on our paper)"
      ]
    },
    {
      "cell_type": "code",
      "metadata": {
        "id": "bDPIqAgXYWim"
      },
      "source": [
        "# Do-Nothing preprocessing function.\n",
        "def DON(input_data):\n",
        "  tag_open_CDATA_removed = tf.strings.regex_replace(input_data, '<\\!\\[CDATA\\[', ' ')\n",
        "  tag_closed_CDATA_removed = tf.strings.regex_replace(tag_open_CDATA_removed,'\\]{1,}>', ' ')\n",
        "  tag_author_lang_en_removed = tf.strings.regex_replace(tag_closed_CDATA_removed,'<author lang=\"en\">', ' ')\n",
        "  tag_closed_author_removed = tf.strings.regex_replace(tag_author_lang_en_removed,'</author>', ' ')\n",
        "  tag_open_documents_removed = tf.strings.regex_replace(tag_closed_author_removed,'<documents>\\n(\\t){0,2}', '')\n",
        "  output_data = tf.strings.regex_replace(tag_open_documents_removed,'</documents>\\n(\\t){0,2}', ' ')\n",
        "  return output_data\n",
        "\n",
        "# Lowercasing preprocessing function.\n",
        "def LOW(input_data):  \n",
        "  return tf.strings.lower(DON(input_data))\n",
        "\n",
        "# Removing Stop Words function.\n",
        "def RSW(input_data):\n",
        "  output_data = DON(input_data)\n",
        "\n",
        "  #print(\"\\n\\nInput data è il seguente tensore:\")\n",
        "  #print(output_data)\n",
        "\n",
        "  #print(\"Lo converto in stringa e diventa:\")\n",
        "  # Il seguente try per l'adattamento del ts. Nell'except caso della simulazione vera e propria.\n",
        "  try:\n",
        "    input_string=output_data[0]\n",
        "\n",
        "  # # # # # # # Questo è il caso della chiamata a funzione per la simulazione vera e propria.  \n",
        "  except:\n",
        "    #print(\"\\n\\n****CASO DELLA SIMULAZIONE VERA E PROPRIA****\\n\\n\")\n",
        "    #print(\"\\nQuesto è il contenuto di output data in caso di simulazione\")\n",
        "    #print(output_data)\n",
        "    input_string=output_data\n",
        "    \n",
        "    try:\n",
        "      input_string = input_string.numpy()\n",
        "    \n",
        "    except:\n",
        "      #print(\"This one is not a tensor!\")\n",
        "      return output_data\n",
        "\n",
        "    else:\n",
        "      #print(\"\\nEstraendo il contenuto del tensore risulta:\")\n",
        "      input_string=(str(input_string))[2:-1]\n",
        "\n",
        "    #print(input_string)\n",
        "    blob = TextBlob(str(input_string)).words\n",
        "\n",
        "    outputlist = [word for word in blob if word not in stopwords.words('english')]\n",
        "    #print(\"tolte le stopword inglesi diventa:\")\n",
        "\n",
        "    output_string = (' '.join(word for word in outputlist))\n",
        "    #print(output_string)  \n",
        "\n",
        "    output_tensor=tf.constant(output_string)\n",
        "    #print(output_tensor)\n",
        "\n",
        "    return output_tensor\n",
        "\n",
        "   # # # # # # # Questo è il caso dell'adattamento del TS.   \n",
        "  else:\n",
        "    \n",
        "    try:\n",
        "\n",
        "      # input_string = input_string.numpy() [0]\n",
        "      input_string = input_string.numpy()\n",
        "    \n",
        "    except:\n",
        "      #print(\"This one is not a tensor!\")\n",
        "      return output_data\n",
        "\n",
        "    else:\n",
        "      input_string=(str(input_string))[2:-1]\n",
        "\n",
        "    #print(input_string)\n",
        "    blob = TextBlob(str(input_string)).words\n",
        "\n",
        "    outputlist = [word for word in blob if word not in stopwords.words('english')]\n",
        "    #print(\"Tolte le stopword inglesi diventa:\")\n",
        "\n",
        "    output_string = (' '.join(word for word in outputlist))\n",
        "    #print(output_string)  \n",
        "\n",
        "    output_tensor=tf.constant([[output_string]])\n",
        "    #print(output_tensor)\n",
        "\n",
        "    return output_tensor\n",
        "\n",
        "  return output_data\n",
        "\n",
        "# Porter Stemmer preprocessing function.\n",
        "def STM(input_data):\n",
        "  output_data = DON(input_data)\n",
        "  stemmer = PorterStemmer()\n",
        "\n",
        "  #print(\"\\n\\nInput data è il seguente tensore:\")\n",
        "  #print(output_data)\n",
        "\n",
        "  #print(\"Lo converto in stringa e diventa:\")\n",
        "  # Il seguente try per l'adattamento del ts. Nell'except caso della simulazione vera e propria.\n",
        "  try:\n",
        "    input_string=output_data[0]\n",
        "\n",
        "  # # # # # # # Questo è il caso della chiamata a funzione per la simulazione vera e propria.  \n",
        "  except:\n",
        "    #print(\"\\n\\n****CASO DELLA SIMULAZIONE VERA E PROPRIA****\\n\\n\")\n",
        "    #print(\"\\nQuesto è il contenuto di output data in caso di simulazione\")\n",
        "    #print(output_data)\n",
        "    input_string=output_data\n",
        "    \n",
        "    try:\n",
        "      input_string = input_string.numpy()\n",
        "    \n",
        "    except:\n",
        "      #print(\"This one is not a tensor!\")\n",
        "      return output_data\n",
        "\n",
        "    else:\n",
        "      #print(\"\\nEstraendo il contenuto del tensore risulta:\")\n",
        "      #print(input_string)\n",
        "      input_string=(str(input_string))[2:-1]\n",
        "\n",
        "    #print(input_string)\n",
        "    blob = TextBlob(str(input_string)).words\n",
        "\n",
        "    outputlist = [stemmer.stem(word) for word in blob]\n",
        "\n",
        "    output_string = (' '.join(word for word in outputlist))\n",
        "    #print(output_string)  \n",
        "\n",
        "    output_tensor=tf.constant(output_string)\n",
        "    #print(output_tensor)\n",
        "\n",
        "    return output_tensor\n",
        "\n",
        "   # # # # # # # Questo è il caso dell'adattamento del TS.   \n",
        "  else:\n",
        "    \n",
        "    try:\n",
        "      #input_string = input_string.numpy()[0]\n",
        "      input_string = input_string.numpy()\n",
        "      #print(input_string)\n",
        "    \n",
        "    except:\n",
        "      #print(\"This one is not a tensor!\")\n",
        "      return output_data\n",
        "\n",
        "    else:\n",
        "      input_string=(str(input_string))[2:-1]\n",
        "\n",
        "    #print(input_string)\n",
        "    blob = TextBlob(str(input_string)).words\n",
        "\n",
        "    outputlist = [stemmer.stem(word) for word in blob]\n",
        "\n",
        "    output_string = (' '.join(word for word in outputlist))\n",
        "\n",
        "    output_tensor=tf.constant([[output_string]])\n",
        "    #print(output_tensor)\n",
        "\n",
        "    return output_tensor\n",
        "\n",
        "  return output_data"
      ],
      "execution_count": null,
      "outputs": []
    },
    {
      "cell_type": "markdown",
      "source": [
        "## Define the combined preprocessing functions. (The base functions are: DON, LOW, RSW and STM)."
      ],
      "metadata": {
        "id": "ouQCPPGiU7BY"
      }
    },
    {
      "cell_type": "code",
      "source": [
        "## SECTION WITH PAIRS OF PREPRO FUNCTIONS. APPLICATION ORDER MATTERS (...IN FOLLOWING SECTIONS TOO).\n",
        "#...5\n",
        "def LOW_RSW(input_data):\n",
        "  return RSW(LOW(input_data))\n",
        "\n",
        "# 6\n",
        "def LOW_STM(input_data):\n",
        "  return STM(LOW(input_data))\n",
        "\n",
        "# 7\n",
        "def RSW_LOW(input_data):\n",
        "  return LOW(RSW(input_data))\n",
        "\n",
        "# 8\n",
        "def RSW_STM(input_data):\n",
        "  return STM(RSW(input_data))\n",
        "\n",
        "# 9\n",
        "def STM_LOW(input_data):\n",
        "  return LOW(STM(input_data))\n",
        "\n",
        "# 10\n",
        "def STM_RSW(input_data):\n",
        "  return RSW(STM(input_data))\n",
        "  \n",
        "# 11\n",
        "def LOW_STM_RSW(input_data):\n",
        "  return RSW(STM(LOW(input_data)))\n",
        "\n",
        "# 12\n",
        "def LOW_RSW_STM(input_data):\n",
        "  return STM(RSW(LOW(input_data)))\n",
        "\n",
        "# 13\n",
        "def STM_LOW_RSW(input_data):\n",
        "  return RSW(LOW(STM(input_data)))\n",
        "\n",
        "# 14\n",
        "def STM_RSW_LOW(input_data):\n",
        "  return LOW(RSW(STM(input_data)))\n",
        "\n",
        "# 15\n",
        "def RSW_LOW_STM(input_data):\n",
        "  return STM(LOW(RSW(input_data)))\n",
        "\n",
        "# 16\n",
        "def RSW_STM_LOW(input_data):\n",
        "  return LOW(STM(RSW(input_data)))"
      ],
      "metadata": {
        "id": "f1PYTsbaU8AJ"
      },
      "execution_count": null,
      "outputs": []
    },
    {
      "cell_type": "markdown",
      "source": [
        "## Define a dictionary with -> function_names:prepro_function_caller. And a dictionary to store model results."
      ],
      "metadata": {
        "id": "3lUNTVML4VdI"
      }
    },
    {
      "cell_type": "code",
      "source": [
        "model_results = {}\n",
        "prepro_functions_dict_base = {\n",
        "    'DON':DON,\n",
        "    'LOW':LOW,\n",
        "    'RSW':RSW,\n",
        "    'STM':STM\n",
        "    }\n",
        "\n",
        "# 3 prepro functions = 15 combs...+1 for do_nothing\n",
        "\n",
        "prepro_functions_dict_comb = {\n",
        "    # 1. Do nothing \n",
        "    #'DON': DON,\n",
        "    # 2. Lowercasing \n",
        "    #'LOW':LOW,\n",
        "    # 3. Removing Stopwords\n",
        "    #'RSW':RSW, \n",
        "    # 4. Porter Stemming\n",
        "    #'STM':STM,\n",
        "    # 5. LOW->RSW\n",
        "    #'LOW_RSW':LOW_RSW, \n",
        "    # 6. LOW->STM\n",
        "    #'LOW_STM':LOW_STM,\n",
        "    # 7. RSW->LOW\n",
        "    #'RSW_LOW':RSW_LOW,\n",
        "    # 8. RSW->STM\n",
        "    #'RSW_STM':RSW_STM,\n",
        "    # 9. STM->LOW\n",
        "    #'STM_LOW':STM_LOW,\n",
        "    # 10. STM->RSW\n",
        "    #'STM_RSW':STM_RSW,\n",
        "    # 11. LOW->STM->RSW\n",
        "    'LOW_STM_RSW':LOW_STM_RSW,  \n",
        "    # 12. LOW->RSW->STM\n",
        "    'LOW_RSW_STM':LOW_RSW_STM,\n",
        "    # 13. STM->LOW->RSW\n",
        "    'STM_LOW_RSW':STM_LOW_RSW,\n",
        "    # 14. STM->RSW->LOW\n",
        "    'STM_RSW_LOW':STM_RSW_LOW,\n",
        "    # 15. RSW->LOW->STM\n",
        "    'RSW_LOW_STM':RSW_LOW_STM,\n",
        "    # 16. RSW->STM->LOW\n",
        "    'RSW_STM_LOW':RSW_STM_LOW\n",
        "}\n",
        "\n",
        "for key in prepro_functions_dict_comb:\n",
        "  print(key)\n",
        "  model_results[key]=[]"
      ],
      "metadata": {
        "colab": {
          "base_uri": "https://localhost:8080/"
        },
        "id": "rq8Ah1Wt4YjU",
        "outputId": "edf933e0-27be-4c4d-8ce5-b028019b74d8"
      },
      "execution_count": null,
      "outputs": [
        {
          "output_type": "stream",
          "name": "stdout",
          "text": [
            "LOW_STM_RSW\n",
            "LOW_RSW_STM\n",
            "STM_LOW_RSW\n",
            "STM_RSW_LOW\n",
            "RSW_LOW_STM\n",
            "RSW_STM_LOW\n"
          ]
        }
      ]
    },
    {
      "cell_type": "markdown",
      "source": [
        "## Function to convert DSs to Pandas Dataframe"
      ],
      "metadata": {
        "id": "xmWtRjh18LcV"
      }
    },
    {
      "cell_type": "code",
      "source": [
        "def preprocess_and_convert_ds(preprocessing_function):\n",
        "  # Convert English dataset.\n",
        "  train_df = [] # will contain text and label\n",
        "  for element in train_ds:\n",
        "    authorDocument=element[0]\n",
        "    label=int(element[1].numpy())\n",
        "    #print(authorDocument[0])\n",
        "    text = preprocessing_function(authorDocument[0].numpy()).numpy().decode('UTF-8')\n",
        "    train_df.append({\n",
        "        'text':text,\n",
        "        'label':label\n",
        "    })\n",
        "  train_df = pd.DataFrame(train_df)\n",
        "\n",
        "  test_df = [] # will contain text and label\n",
        "  for element in test_ds:\n",
        "    authorDocument=element[0]\n",
        "    label=int(element[1].numpy())\n",
        "    #print(authorDocument[0])\n",
        "    text = preprocessing_function(authorDocument[0].numpy()).numpy().decode('UTF-8')\n",
        "    test_df.append({\n",
        "        'text':text,\n",
        "        'label':label\n",
        "    })\n",
        "  test_df = pd.DataFrame(test_df)\n",
        "\n",
        "  return train_df, test_df\n"
      ],
      "metadata": {
        "id": "lV54jyB98P2n"
      },
      "execution_count": null,
      "outputs": []
    },
    {
      "cell_type": "markdown",
      "source": [
        "## Print some RAW and preprocessed samples (No need to execute)"
      ],
      "metadata": {
        "id": "9k63B8ax7E_p"
      }
    },
    {
      "cell_type": "code",
      "source": [
        "for idx, element in enumerate(raw_train_ds_es):\n",
        "  if idx>1: break\n",
        "  authorDocument=element[0]\n",
        "  label=element[1]\n",
        "  temp = custom_standardization(authorDocument[0].numpy()).numpy().decode('UTF-8')\n",
        "  print(\"Not-Preprocessed samples: \\n\",authorDocument)\n",
        "  print(\"Preprocessed samples: \\n\",temp)"
      ],
      "metadata": {
        "colab": {
          "base_uri": "https://localhost:8080/",
          "height": 236
        },
        "id": "o8MzLYcpgLQZ",
        "outputId": "991db228-7bf3-4087-dbaf-b8a63a366063"
      },
      "execution_count": null,
      "outputs": [
        {
          "output_type": "error",
          "ename": "NameError",
          "evalue": "ignored",
          "traceback": [
            "\u001b[0;31m---------------------------------------------------------------------------\u001b[0m",
            "\u001b[0;31mNameError\u001b[0m                                 Traceback (most recent call last)",
            "\u001b[0;32m<ipython-input-8-b69278c067f6>\u001b[0m in \u001b[0;36m<module>\u001b[0;34m\u001b[0m\n\u001b[0;32m----> 1\u001b[0;31m \u001b[0;32mfor\u001b[0m \u001b[0midx\u001b[0m\u001b[0;34m,\u001b[0m \u001b[0melement\u001b[0m \u001b[0;32min\u001b[0m \u001b[0menumerate\u001b[0m\u001b[0;34m(\u001b[0m\u001b[0mraw_train_ds_es\u001b[0m\u001b[0;34m)\u001b[0m\u001b[0;34m:\u001b[0m\u001b[0;34m\u001b[0m\u001b[0;34m\u001b[0m\u001b[0m\n\u001b[0m\u001b[1;32m      2\u001b[0m   \u001b[0;32mif\u001b[0m \u001b[0midx\u001b[0m\u001b[0;34m>\u001b[0m\u001b[0;36m1\u001b[0m\u001b[0;34m:\u001b[0m \u001b[0;32mbreak\u001b[0m\u001b[0;34m\u001b[0m\u001b[0;34m\u001b[0m\u001b[0m\n\u001b[1;32m      3\u001b[0m   \u001b[0mauthorDocument\u001b[0m\u001b[0;34m=\u001b[0m\u001b[0melement\u001b[0m\u001b[0;34m[\u001b[0m\u001b[0;36m0\u001b[0m\u001b[0;34m]\u001b[0m\u001b[0;34m\u001b[0m\u001b[0;34m\u001b[0m\u001b[0m\n\u001b[1;32m      4\u001b[0m   \u001b[0mlabel\u001b[0m\u001b[0;34m=\u001b[0m\u001b[0melement\u001b[0m\u001b[0;34m[\u001b[0m\u001b[0;36m1\u001b[0m\u001b[0;34m]\u001b[0m\u001b[0;34m\u001b[0m\u001b[0;34m\u001b[0m\u001b[0m\n\u001b[1;32m      5\u001b[0m   \u001b[0mtemp\u001b[0m \u001b[0;34m=\u001b[0m \u001b[0mcustom_standardization\u001b[0m\u001b[0;34m(\u001b[0m\u001b[0mauthorDocument\u001b[0m\u001b[0;34m[\u001b[0m\u001b[0;36m0\u001b[0m\u001b[0;34m]\u001b[0m\u001b[0;34m.\u001b[0m\u001b[0mnumpy\u001b[0m\u001b[0;34m(\u001b[0m\u001b[0;34m)\u001b[0m\u001b[0;34m)\u001b[0m\u001b[0;34m.\u001b[0m\u001b[0mnumpy\u001b[0m\u001b[0;34m(\u001b[0m\u001b[0;34m)\u001b[0m\u001b[0;34m.\u001b[0m\u001b[0mdecode\u001b[0m\u001b[0;34m(\u001b[0m\u001b[0;34m'UTF-8'\u001b[0m\u001b[0;34m)\u001b[0m\u001b[0;34m\u001b[0m\u001b[0;34m\u001b[0m\u001b[0m\n",
            "\u001b[0;31mNameError\u001b[0m: name 'raw_train_ds_es' is not defined"
          ]
        }
      ]
    },
    {
      "cell_type": "markdown",
      "source": [
        "## Some parameters definition..."
      ],
      "metadata": {
        "id": "VgvX5p5QB24X"
      }
    },
    {
      "cell_type": "code",
      "source": [
        "# check gpu\n",
        "cuda_available = torch.cuda.is_available()\n",
        "\n",
        "print('Cuda available? ',cuda_available)\n",
        "\n",
        "num_epochs_per_run = 10\n",
        "num_runs = 5"
      ],
      "metadata": {
        "colab": {
          "base_uri": "https://localhost:8080/"
        },
        "id": "G3YXCXSM7Nyv",
        "outputId": "18d37d19-6545-46da-911c-a5face314ed5"
      },
      "execution_count": null,
      "outputs": [
        {
          "output_type": "stream",
          "name": "stdout",
          "text": [
            "Cuda available?  False\n"
          ]
        }
      ]
    },
    {
      "cell_type": "markdown",
      "source": [
        "## Training and evaluation of the model"
      ],
      "metadata": {
        "id": "hVY7v48weKX8"
      }
    },
    {
      "cell_type": "code",
      "source": [
        "for key in prepro_functions_dict_comb:\n",
        "  model_results[key]=[]\n",
        "\n",
        "for key in prepro_functions_dict_comb:\n",
        "\n",
        "  model_args = ClassificationArgs(num_train_epochs=1, \n",
        "                                      no_save=True, \n",
        "                                      no_cache=True, \n",
        "                                      silent=True,\n",
        "                                      overwrite_output_dir=True)\n",
        "\n",
        "  model = ClassificationModel(\"roberta\", \n",
        "                                  'roberta-base', \n",
        "                                  args = model_args, \n",
        "                                  num_labels=2, \n",
        "                                  use_cuda=cuda_available)\n",
        "\n",
        "  runs_accuracy = []\n",
        "\n",
        "  print(\"\\n\\n* * * * EVALUATION USING\", key, \"AS PREPROCESSING FUNCTION * * * *\")\n",
        "\n",
        "  # Preprocess train and test set and convert to DFs.\n",
        "  train_df,test_df = preprocess_and_convert_ds(prepro_functions_dict_comb[key])\n",
        "  \n",
        "  for run in range(1,(num_runs+1)):\n",
        "    print(\"\\nRUN NUMBER: \", run)\n",
        "    epochs_accuracy=[]\n",
        "    model = ClassificationModel(\"roberta\", \n",
        "                                  'roberta-base', \n",
        "                                  args = model_args, \n",
        "                                  num_labels=2, \n",
        "                                  use_cuda=cuda_available)\n",
        "    for epoch in range (0,num_epochs_per_run):\n",
        "      print(\"\\nEPOCH NUMBER: \", epoch)\n",
        "      # train model\n",
        "      print(\"\\nNOW TRAIN THE MODEL.\")\n",
        "      model.train_model(train_df,show_running_loss=False)\n",
        "      print(\"\\nNOW EVALUATE THE TEST DF.\")\n",
        "      result, model_outputs, wrong_predictions = model.eval_model(test_df)\n",
        "      # Results on test set.\n",
        "      print(result)\n",
        "      correct_predictions = result['tp']+result['tn']\n",
        "      print(\"Correct predictions are: \",correct_predictions)\n",
        "      total_predictions = result['tp']+result['tn']+result['fp']+result['fn']\n",
        "      print(\"Total predictions are: \",total_predictions)\n",
        "      accuracy = correct_predictions/total_predictions\n",
        "      print(\"Accuracy on test set is:\",accuracy,\"\\n\\n\")\n",
        "      epochs_accuracy.append(accuracy)\n",
        "\n",
        "    print(epochs_accuracy)\n",
        "    runs_accuracy.append(max(epochs_accuracy))\n",
        "\n",
        "  runs_accuracy.sort()\n",
        "  print(\"\\n\\n Over all runs maximum accuracies are:\", runs_accuracy)\n",
        "  print(\"The median is:\",runs_accuracy[2])\n",
        "\n",
        "  if (runs_accuracy[2]-runs_accuracy[0])>(runs_accuracy[4]-runs_accuracy[2]):\n",
        "    max_range_from_median = runs_accuracy[2]-runs_accuracy[0]\n",
        "  else:\n",
        "    max_range_from_median = runs_accuracy[4]-runs_accuracy[2]\n",
        "  final_result = str(runs_accuracy[2])+\" +/- \"+ str(max_range_from_median)\n",
        "  model_results[key].append(final_result)\n",
        "  print(\"RoBERTa Accuracy Score on Test set -> \",model_results[key])\n"
      ],
      "metadata": {
        "id": "45Ip8xOYeLJy",
        "colab": {
          "base_uri": "https://localhost:8080/"
        },
        "outputId": "037afd7d-737a-4803-8b8c-831d9bea5a61"
      },
      "execution_count": null,
      "outputs": [
        {
          "output_type": "stream",
          "name": "stderr",
          "text": [
            "Some weights of the model checkpoint at roberta-base were not used when initializing RobertaForSequenceClassification: ['roberta.pooler.dense.bias', 'lm_head.bias', 'lm_head.dense.bias', 'lm_head.decoder.weight', 'lm_head.dense.weight', 'roberta.pooler.dense.weight', 'lm_head.layer_norm.weight', 'lm_head.layer_norm.bias']\n",
            "- This IS expected if you are initializing RobertaForSequenceClassification from the checkpoint of a model trained on another task or with another architecture (e.g. initializing a BertForSequenceClassification model from a BertForPreTraining model).\n",
            "- This IS NOT expected if you are initializing RobertaForSequenceClassification from the checkpoint of a model that you expect to be exactly identical (initializing a BertForSequenceClassification model from a BertForSequenceClassification model).\n",
            "Some weights of RobertaForSequenceClassification were not initialized from the model checkpoint at roberta-base and are newly initialized: ['classifier.dense.weight', 'classifier.out_proj.weight', 'classifier.out_proj.bias', 'classifier.dense.bias']\n",
            "You should probably TRAIN this model on a down-stream task to be able to use it for predictions and inference.\n"
          ]
        },
        {
          "output_type": "stream",
          "name": "stdout",
          "text": [
            "\n",
            "\n",
            "* * * * EVALUATION USING LOW_STM_RSW AS PREPROCESSING FUNCTION * * * *\n",
            "\n",
            "RUN NUMBER:  1\n"
          ]
        },
        {
          "output_type": "stream",
          "name": "stderr",
          "text": [
            "Some weights of the model checkpoint at roberta-base were not used when initializing RobertaForSequenceClassification: ['roberta.pooler.dense.bias', 'lm_head.bias', 'lm_head.dense.bias', 'lm_head.decoder.weight', 'lm_head.dense.weight', 'roberta.pooler.dense.weight', 'lm_head.layer_norm.weight', 'lm_head.layer_norm.bias']\n",
            "- This IS expected if you are initializing RobertaForSequenceClassification from the checkpoint of a model trained on another task or with another architecture (e.g. initializing a BertForSequenceClassification model from a BertForPreTraining model).\n",
            "- This IS NOT expected if you are initializing RobertaForSequenceClassification from the checkpoint of a model that you expect to be exactly identical (initializing a BertForSequenceClassification model from a BertForSequenceClassification model).\n",
            "Some weights of RobertaForSequenceClassification were not initialized from the model checkpoint at roberta-base and are newly initialized: ['classifier.dense.weight', 'classifier.out_proj.weight', 'classifier.out_proj.bias', 'classifier.dense.bias']\n",
            "You should probably TRAIN this model on a down-stream task to be able to use it for predictions and inference.\n"
          ]
        },
        {
          "output_type": "stream",
          "name": "stdout",
          "text": [
            "\n",
            "EPOCH NUMBER:  0\n",
            "\n",
            "NOW TRAIN THE MODEL.\n"
          ]
        },
        {
          "output_type": "stream",
          "name": "stderr",
          "text": [
            "C:\\Users\\Domenico\\.conda\\envs\\tf\\lib\\site-packages\\simpletransformers\\classification\\classification_model.py:612: UserWarning: Dataframe headers not specified. Falling back to using column 0 as text and column 1 as labels.\n",
            "  warnings.warn(\n"
          ]
        },
        {
          "output_type": "stream",
          "name": "stdout",
          "text": [
            "\n",
            "NOW EVALUATE THE TEST DF.\n"
          ]
        },
        {
          "output_type": "stream",
          "name": "stderr",
          "text": [
            "C:\\Users\\Domenico\\.conda\\envs\\tf\\lib\\site-packages\\simpletransformers\\classification\\classification_model.py:1454: UserWarning: Dataframe headers not specified. Falling back to using column 0 as text and column 1 as labels.\n",
            "  warnings.warn(\n"
          ]
        },
        {
          "output_type": "stream",
          "name": "stdout",
          "text": [
            "{'mcc': 0.5788431922756797, 'tp': 1967, 'tn': 1980, 'fp': 513, 'fn': 540, 'auroc': 0.8476044852191642, 'auprc': 0.8064489798513781, 'eval_loss': 0.4967472278952599}\n",
            "Correct predictions are:  3947\n",
            "Total predictions are:  5000\n",
            "Accuracy on test set is: 0.7894 \n",
            "\n",
            "\n",
            "\n",
            "EPOCH NUMBER:  1\n",
            "\n",
            "NOW TRAIN THE MODEL.\n"
          ]
        },
        {
          "output_type": "stream",
          "name": "stderr",
          "text": [
            "C:\\Users\\Domenico\\.conda\\envs\\tf\\lib\\site-packages\\simpletransformers\\classification\\classification_model.py:612: UserWarning: Dataframe headers not specified. Falling back to using column 0 as text and column 1 as labels.\n",
            "  warnings.warn(\n"
          ]
        },
        {
          "output_type": "stream",
          "name": "stdout",
          "text": [
            "\n",
            "NOW EVALUATE THE TEST DF.\n"
          ]
        },
        {
          "output_type": "stream",
          "name": "stderr",
          "text": [
            "C:\\Users\\Domenico\\.conda\\envs\\tf\\lib\\site-packages\\simpletransformers\\classification\\classification_model.py:1454: UserWarning: Dataframe headers not specified. Falling back to using column 0 as text and column 1 as labels.\n",
            "  warnings.warn(\n"
          ]
        },
        {
          "output_type": "stream",
          "name": "stdout",
          "text": [
            "{'mcc': 0.610814481763355, 'tp': 2013, 'tn': 2014, 'fp': 479, 'fn': 494, 'auroc': 0.8855005423242518, 'auprc': 0.881560420836417, 'eval_loss': 0.45714407997131346}\n",
            "Correct predictions are:  4027\n",
            "Total predictions are:  5000\n",
            "Accuracy on test set is: 0.8054 \n",
            "\n",
            "\n",
            "\n",
            "EPOCH NUMBER:  2\n",
            "\n",
            "NOW TRAIN THE MODEL.\n"
          ]
        },
        {
          "output_type": "stream",
          "name": "stderr",
          "text": [
            "C:\\Users\\Domenico\\.conda\\envs\\tf\\lib\\site-packages\\simpletransformers\\classification\\classification_model.py:612: UserWarning: Dataframe headers not specified. Falling back to using column 0 as text and column 1 as labels.\n",
            "  warnings.warn(\n"
          ]
        },
        {
          "output_type": "stream",
          "name": "stdout",
          "text": [
            "\n",
            "NOW EVALUATE THE TEST DF.\n"
          ]
        },
        {
          "output_type": "stream",
          "name": "stderr",
          "text": [
            "C:\\Users\\Domenico\\.conda\\envs\\tf\\lib\\site-packages\\simpletransformers\\classification\\classification_model.py:1454: UserWarning: Dataframe headers not specified. Falling back to using column 0 as text and column 1 as labels.\n",
            "  warnings.warn(\n"
          ]
        },
        {
          "output_type": "stream",
          "name": "stdout",
          "text": [
            "{'mcc': 0.6029088254792454, 'tp': 2037, 'tn': 1970, 'fp': 523, 'fn': 470, 'auroc': 0.8743909352249322, 'auprc': 0.8624813799902161, 'eval_loss': 0.499165584897995}\n",
            "Correct predictions are:  4007\n",
            "Total predictions are:  5000\n",
            "Accuracy on test set is: 0.8014 \n",
            "\n",
            "\n",
            "\n",
            "EPOCH NUMBER:  3\n",
            "\n",
            "NOW TRAIN THE MODEL.\n"
          ]
        },
        {
          "output_type": "stream",
          "name": "stderr",
          "text": [
            "C:\\Users\\Domenico\\.conda\\envs\\tf\\lib\\site-packages\\simpletransformers\\classification\\classification_model.py:612: UserWarning: Dataframe headers not specified. Falling back to using column 0 as text and column 1 as labels.\n",
            "  warnings.warn(\n"
          ]
        },
        {
          "output_type": "stream",
          "name": "stdout",
          "text": [
            "\n",
            "NOW EVALUATE THE TEST DF.\n"
          ]
        },
        {
          "output_type": "stream",
          "name": "stderr",
          "text": [
            "C:\\Users\\Domenico\\.conda\\envs\\tf\\lib\\site-packages\\simpletransformers\\classification\\classification_model.py:1454: UserWarning: Dataframe headers not specified. Falling back to using column 0 as text and column 1 as labels.\n",
            "  warnings.warn(\n"
          ]
        },
        {
          "output_type": "stream",
          "name": "stdout",
          "text": [
            "{'mcc': 0.601574035836702, 'tp': 2088, 'tn': 1913, 'fp': 580, 'fn': 419, 'auroc': 0.8796854567339808, 'auprc': 0.8705082467427135, 'eval_loss': 0.5066797744154931}\n",
            "Correct predictions are:  4001\n",
            "Total predictions are:  5000\n",
            "Accuracy on test set is: 0.8002 \n",
            "\n",
            "\n",
            "\n",
            "EPOCH NUMBER:  4\n",
            "\n",
            "NOW TRAIN THE MODEL.\n"
          ]
        },
        {
          "output_type": "stream",
          "name": "stderr",
          "text": [
            "C:\\Users\\Domenico\\.conda\\envs\\tf\\lib\\site-packages\\simpletransformers\\classification\\classification_model.py:612: UserWarning: Dataframe headers not specified. Falling back to using column 0 as text and column 1 as labels.\n",
            "  warnings.warn(\n"
          ]
        },
        {
          "output_type": "stream",
          "name": "stdout",
          "text": [
            "\n",
            "NOW EVALUATE THE TEST DF.\n"
          ]
        },
        {
          "output_type": "stream",
          "name": "stderr",
          "text": [
            "C:\\Users\\Domenico\\.conda\\envs\\tf\\lib\\site-packages\\simpletransformers\\classification\\classification_model.py:1454: UserWarning: Dataframe headers not specified. Falling back to using column 0 as text and column 1 as labels.\n",
            "  warnings.warn(\n"
          ]
        },
        {
          "output_type": "stream",
          "name": "stdout",
          "text": [
            "{'mcc': 0.0, 'tp': 2507, 'tn': 0, 'fp': 2493, 'fn': 0, 'auroc': 0.8385176139780937, 'auprc': 0.835649426335994, 'eval_loss': 0.6926385555267334}\n",
            "Correct predictions are:  2507\n",
            "Total predictions are:  5000\n",
            "Accuracy on test set is: 0.5014 \n",
            "\n",
            "\n",
            "\n",
            "EPOCH NUMBER:  5\n",
            "\n",
            "NOW TRAIN THE MODEL.\n"
          ]
        },
        {
          "output_type": "stream",
          "name": "stderr",
          "text": [
            "C:\\Users\\Domenico\\.conda\\envs\\tf\\lib\\site-packages\\simpletransformers\\classification\\classification_model.py:612: UserWarning: Dataframe headers not specified. Falling back to using column 0 as text and column 1 as labels.\n",
            "  warnings.warn(\n"
          ]
        },
        {
          "output_type": "stream",
          "name": "stdout",
          "text": [
            "\n",
            "NOW EVALUATE THE TEST DF.\n"
          ]
        },
        {
          "output_type": "stream",
          "name": "stderr",
          "text": [
            "C:\\Users\\Domenico\\.conda\\envs\\tf\\lib\\site-packages\\simpletransformers\\classification\\classification_model.py:1454: UserWarning: Dataframe headers not specified. Falling back to using column 0 as text and column 1 as labels.\n",
            "  warnings.warn(\n"
          ]
        },
        {
          "output_type": "stream",
          "name": "stdout",
          "text": [
            "{'mcc': 0.5764832653318739, 'tp': 1785, 'tn': 2140, 'fp': 353, 'fn': 722, 'auroc': 0.8799456987742784, 'auprc': 0.8794104179158257, 'eval_loss': 0.4850290187597275}\n",
            "Correct predictions are:  3925\n",
            "Total predictions are:  5000\n",
            "Accuracy on test set is: 0.785 \n",
            "\n",
            "\n",
            "\n",
            "EPOCH NUMBER:  6\n",
            "\n",
            "NOW TRAIN THE MODEL.\n"
          ]
        },
        {
          "output_type": "stream",
          "name": "stderr",
          "text": [
            "C:\\Users\\Domenico\\.conda\\envs\\tf\\lib\\site-packages\\simpletransformers\\classification\\classification_model.py:612: UserWarning: Dataframe headers not specified. Falling back to using column 0 as text and column 1 as labels.\n",
            "  warnings.warn(\n"
          ]
        },
        {
          "output_type": "stream",
          "name": "stdout",
          "text": [
            "\n",
            "NOW EVALUATE THE TEST DF.\n"
          ]
        },
        {
          "output_type": "stream",
          "name": "stderr",
          "text": [
            "C:\\Users\\Domenico\\.conda\\envs\\tf\\lib\\site-packages\\simpletransformers\\classification\\classification_model.py:1454: UserWarning: Dataframe headers not specified. Falling back to using column 0 as text and column 1 as labels.\n",
            "  warnings.warn(\n"
          ]
        },
        {
          "output_type": "stream",
          "name": "stdout",
          "text": [
            "{'mcc': 0.6183142945070419, 'tp': 1921, 'tn': 2119, 'fp': 374, 'fn': 586, 'auroc': 0.8895799343066848, 'auprc': 0.8836587855751754, 'eval_loss': 0.46722850370407104}\n",
            "Correct predictions are:  4040\n",
            "Total predictions are:  5000\n",
            "Accuracy on test set is: 0.808 \n",
            "\n",
            "\n",
            "\n",
            "EPOCH NUMBER:  7\n",
            "\n",
            "NOW TRAIN THE MODEL.\n"
          ]
        },
        {
          "output_type": "stream",
          "name": "stderr",
          "text": [
            "C:\\Users\\Domenico\\.conda\\envs\\tf\\lib\\site-packages\\simpletransformers\\classification\\classification_model.py:612: UserWarning: Dataframe headers not specified. Falling back to using column 0 as text and column 1 as labels.\n",
            "  warnings.warn(\n"
          ]
        },
        {
          "output_type": "stream",
          "name": "stdout",
          "text": [
            "\n",
            "NOW EVALUATE THE TEST DF.\n"
          ]
        },
        {
          "output_type": "stream",
          "name": "stderr",
          "text": [
            "C:\\Users\\Domenico\\.conda\\envs\\tf\\lib\\site-packages\\simpletransformers\\classification\\classification_model.py:1454: UserWarning: Dataframe headers not specified. Falling back to using column 0 as text and column 1 as labels.\n",
            "  warnings.warn(\n"
          ]
        },
        {
          "output_type": "stream",
          "name": "stdout",
          "text": [
            "{'mcc': 0.6193456640325464, 'tp': 1980, 'tn': 2067, 'fp': 426, 'fn': 527, 'auroc': 0.8854769421392265, 'auprc': 0.8736422022504161, 'eval_loss': 0.49887627267837525}\n",
            "Correct predictions are:  4047\n",
            "Total predictions are:  5000\n",
            "Accuracy on test set is: 0.8094 \n",
            "\n",
            "\n",
            "\n",
            "EPOCH NUMBER:  8\n",
            "\n",
            "NOW TRAIN THE MODEL.\n"
          ]
        },
        {
          "output_type": "stream",
          "name": "stderr",
          "text": [
            "C:\\Users\\Domenico\\.conda\\envs\\tf\\lib\\site-packages\\simpletransformers\\classification\\classification_model.py:612: UserWarning: Dataframe headers not specified. Falling back to using column 0 as text and column 1 as labels.\n",
            "  warnings.warn(\n"
          ]
        },
        {
          "output_type": "stream",
          "name": "stdout",
          "text": [
            "\n",
            "NOW EVALUATE THE TEST DF.\n"
          ]
        },
        {
          "output_type": "stream",
          "name": "stderr",
          "text": [
            "C:\\Users\\Domenico\\.conda\\envs\\tf\\lib\\site-packages\\simpletransformers\\classification\\classification_model.py:1454: UserWarning: Dataframe headers not specified. Falling back to using column 0 as text and column 1 as labels.\n",
            "  warnings.warn(\n"
          ]
        },
        {
          "output_type": "stream",
          "name": "stdout",
          "text": [
            "{'mcc': 0.5726414333861926, 'tp': 2108, 'tn': 1815, 'fp': 678, 'fn': 399, 'auroc': 0.7940355852389884, 'auprc': 0.6809964738638381, 'eval_loss': 0.5129246085524559}\n",
            "Correct predictions are:  3923\n",
            "Total predictions are:  5000\n",
            "Accuracy on test set is: 0.7846 \n",
            "\n",
            "\n",
            "\n",
            "EPOCH NUMBER:  9\n",
            "\n",
            "NOW TRAIN THE MODEL.\n"
          ]
        },
        {
          "output_type": "stream",
          "name": "stderr",
          "text": [
            "C:\\Users\\Domenico\\.conda\\envs\\tf\\lib\\site-packages\\simpletransformers\\classification\\classification_model.py:612: UserWarning: Dataframe headers not specified. Falling back to using column 0 as text and column 1 as labels.\n",
            "  warnings.warn(\n"
          ]
        },
        {
          "output_type": "stream",
          "name": "stdout",
          "text": [
            "\n",
            "NOW EVALUATE THE TEST DF.\n"
          ]
        },
        {
          "output_type": "stream",
          "name": "stderr",
          "text": [
            "C:\\Users\\Domenico\\.conda\\envs\\tf\\lib\\site-packages\\simpletransformers\\classification\\classification_model.py:1454: UserWarning: Dataframe headers not specified. Falling back to using column 0 as text and column 1 as labels.\n",
            "  warnings.warn(\n"
          ]
        },
        {
          "output_type": "stream",
          "name": "stdout",
          "text": [
            "{'mcc': 0.24832380586385527, 'tp': 316, 'tn': 2484, 'fp': 9, 'fn': 2191, 'auroc': 0.8120721266454729, 'auprc': 0.8305453091462206, 'eval_loss': 0.6548159215927124}\n",
            "Correct predictions are:  2800\n",
            "Total predictions are:  5000\n",
            "Accuracy on test set is: 0.56 \n",
            "\n",
            "\n",
            "[0.7894, 0.8054, 0.8014, 0.8002, 0.5014, 0.785, 0.808, 0.8094, 0.7846, 0.56]\n",
            "\n",
            "RUN NUMBER:  2\n"
          ]
        },
        {
          "output_type": "stream",
          "name": "stderr",
          "text": [
            "Some weights of the model checkpoint at roberta-base were not used when initializing RobertaForSequenceClassification: ['roberta.pooler.dense.bias', 'lm_head.bias', 'lm_head.dense.bias', 'lm_head.decoder.weight', 'lm_head.dense.weight', 'roberta.pooler.dense.weight', 'lm_head.layer_norm.weight', 'lm_head.layer_norm.bias']\n",
            "- This IS expected if you are initializing RobertaForSequenceClassification from the checkpoint of a model trained on another task or with another architecture (e.g. initializing a BertForSequenceClassification model from a BertForPreTraining model).\n",
            "- This IS NOT expected if you are initializing RobertaForSequenceClassification from the checkpoint of a model that you expect to be exactly identical (initializing a BertForSequenceClassification model from a BertForSequenceClassification model).\n",
            "Some weights of RobertaForSequenceClassification were not initialized from the model checkpoint at roberta-base and are newly initialized: ['classifier.dense.weight', 'classifier.out_proj.weight', 'classifier.out_proj.bias', 'classifier.dense.bias']\n",
            "You should probably TRAIN this model on a down-stream task to be able to use it for predictions and inference.\n"
          ]
        },
        {
          "output_type": "stream",
          "name": "stdout",
          "text": [
            "\n",
            "EPOCH NUMBER:  0\n",
            "\n",
            "NOW TRAIN THE MODEL.\n"
          ]
        },
        {
          "output_type": "stream",
          "name": "stderr",
          "text": [
            "C:\\Users\\Domenico\\.conda\\envs\\tf\\lib\\site-packages\\simpletransformers\\classification\\classification_model.py:612: UserWarning: Dataframe headers not specified. Falling back to using column 0 as text and column 1 as labels.\n",
            "  warnings.warn(\n"
          ]
        },
        {
          "output_type": "stream",
          "name": "stdout",
          "text": [
            "\n",
            "NOW EVALUATE THE TEST DF.\n"
          ]
        },
        {
          "output_type": "stream",
          "name": "stderr",
          "text": [
            "C:\\Users\\Domenico\\.conda\\envs\\tf\\lib\\site-packages\\simpletransformers\\classification\\classification_model.py:1454: UserWarning: Dataframe headers not specified. Falling back to using column 0 as text and column 1 as labels.\n",
            "  warnings.warn(\n"
          ]
        },
        {
          "output_type": "stream",
          "name": "stdout",
          "text": [
            "{'mcc': 0.0, 'tp': 0, 'tn': 2493, 'fp': 0, 'fn': 2507, 'auroc': 0.7387438717519546, 'auprc': 0.7240486862849329, 'eval_loss': 0.6931501873016357}\n",
            "Correct predictions are:  2493\n",
            "Total predictions are:  5000\n",
            "Accuracy on test set is: 0.4986 \n",
            "\n",
            "\n",
            "\n",
            "EPOCH NUMBER:  1\n",
            "\n",
            "NOW TRAIN THE MODEL.\n"
          ]
        },
        {
          "output_type": "stream",
          "name": "stderr",
          "text": [
            "C:\\Users\\Domenico\\.conda\\envs\\tf\\lib\\site-packages\\simpletransformers\\classification\\classification_model.py:612: UserWarning: Dataframe headers not specified. Falling back to using column 0 as text and column 1 as labels.\n",
            "  warnings.warn(\n"
          ]
        },
        {
          "output_type": "stream",
          "name": "stdout",
          "text": [
            "\n",
            "NOW EVALUATE THE TEST DF.\n"
          ]
        },
        {
          "output_type": "stream",
          "name": "stderr",
          "text": [
            "C:\\Users\\Domenico\\.conda\\envs\\tf\\lib\\site-packages\\simpletransformers\\classification\\classification_model.py:1454: UserWarning: Dataframe headers not specified. Falling back to using column 0 as text and column 1 as labels.\n",
            "  warnings.warn(\n"
          ]
        },
        {
          "output_type": "stream",
          "name": "stdout",
          "text": [
            "{'mcc': 0.4654331269827102, 'tp': 1758, 'tn': 1903, 'fp': 590, 'fn': 749, 'auroc': 0.7812843652694237, 'auprc': 0.7894320527175993, 'eval_loss': 0.6173027813434601}\n",
            "Correct predictions are:  3661\n",
            "Total predictions are:  5000\n",
            "Accuracy on test set is: 0.7322 \n",
            "\n",
            "\n",
            "\n",
            "EPOCH NUMBER:  2\n",
            "\n",
            "NOW TRAIN THE MODEL.\n"
          ]
        },
        {
          "output_type": "stream",
          "name": "stderr",
          "text": [
            "C:\\Users\\Domenico\\.conda\\envs\\tf\\lib\\site-packages\\simpletransformers\\classification\\classification_model.py:612: UserWarning: Dataframe headers not specified. Falling back to using column 0 as text and column 1 as labels.\n",
            "  warnings.warn(\n"
          ]
        },
        {
          "output_type": "stream",
          "name": "stdout",
          "text": [
            "\n",
            "NOW EVALUATE THE TEST DF.\n"
          ]
        },
        {
          "output_type": "stream",
          "name": "stderr",
          "text": [
            "C:\\Users\\Domenico\\.conda\\envs\\tf\\lib\\site-packages\\simpletransformers\\classification\\classification_model.py:1454: UserWarning: Dataframe headers not specified. Falling back to using column 0 as text and column 1 as labels.\n",
            "  warnings.warn(\n"
          ]
        },
        {
          "output_type": "stream",
          "name": "stdout",
          "text": [
            "{'mcc': 0.5314996719327071, 'tp': 2047, 'tn': 1775, 'fp': 718, 'fn': 460, 'auroc': 0.8335009346473277, 'auprc': 0.7887304635668551, 'eval_loss': 0.5719748695015907}\n",
            "Correct predictions are:  3822\n",
            "Total predictions are:  5000\n",
            "Accuracy on test set is: 0.7644 \n",
            "\n",
            "\n",
            "\n",
            "EPOCH NUMBER:  3\n",
            "\n",
            "NOW TRAIN THE MODEL.\n"
          ]
        },
        {
          "output_type": "stream",
          "name": "stderr",
          "text": [
            "C:\\Users\\Domenico\\.conda\\envs\\tf\\lib\\site-packages\\simpletransformers\\classification\\classification_model.py:612: UserWarning: Dataframe headers not specified. Falling back to using column 0 as text and column 1 as labels.\n",
            "  warnings.warn(\n"
          ]
        },
        {
          "output_type": "stream",
          "name": "stdout",
          "text": [
            "\n",
            "NOW EVALUATE THE TEST DF.\n"
          ]
        },
        {
          "output_type": "stream",
          "name": "stderr",
          "text": [
            "C:\\Users\\Domenico\\.conda\\envs\\tf\\lib\\site-packages\\simpletransformers\\classification\\classification_model.py:1454: UserWarning: Dataframe headers not specified. Falling back to using column 0 as text and column 1 as labels.\n",
            "  warnings.warn(\n"
          ]
        },
        {
          "output_type": "stream",
          "name": "stdout",
          "text": [
            "{'mcc': 0.5651971233407443, 'tp': 1963, 'tn': 1950, 'fp': 543, 'fn': 544, 'auroc': 0.8417824395743263, 'auprc': 0.7908595491004702, 'eval_loss': 0.5035211671352386}\n",
            "Correct predictions are:  3913\n",
            "Total predictions are:  5000\n",
            "Accuracy on test set is: 0.7826 \n",
            "\n",
            "\n",
            "\n",
            "EPOCH NUMBER:  4\n",
            "\n",
            "NOW TRAIN THE MODEL.\n"
          ]
        },
        {
          "output_type": "stream",
          "name": "stderr",
          "text": [
            "C:\\Users\\Domenico\\.conda\\envs\\tf\\lib\\site-packages\\simpletransformers\\classification\\classification_model.py:612: UserWarning: Dataframe headers not specified. Falling back to using column 0 as text and column 1 as labels.\n",
            "  warnings.warn(\n"
          ]
        },
        {
          "output_type": "stream",
          "name": "stdout",
          "text": [
            "\n",
            "NOW EVALUATE THE TEST DF.\n"
          ]
        },
        {
          "output_type": "stream",
          "name": "stderr",
          "text": [
            "C:\\Users\\Domenico\\.conda\\envs\\tf\\lib\\site-packages\\simpletransformers\\classification\\classification_model.py:1454: UserWarning: Dataframe headers not specified. Falling back to using column 0 as text and column 1 as labels.\n",
            "  warnings.warn(\n"
          ]
        },
        {
          "output_type": "stream",
          "name": "stdout",
          "text": [
            "{'mcc': 0.5731692548480551, 'tp': 2118, 'tn': 1805, 'fp': 688, 'fn': 389, 'auroc': 0.8656497466940141, 'auprc': 0.8504179416293528, 'eval_loss': 0.5004582851529121}\n",
            "Correct predictions are:  3923\n",
            "Total predictions are:  5000\n",
            "Accuracy on test set is: 0.7846 \n",
            "\n",
            "\n",
            "\n",
            "EPOCH NUMBER:  5\n",
            "\n",
            "NOW TRAIN THE MODEL.\n"
          ]
        },
        {
          "output_type": "stream",
          "name": "stderr",
          "text": [
            "C:\\Users\\Domenico\\.conda\\envs\\tf\\lib\\site-packages\\simpletransformers\\classification\\classification_model.py:612: UserWarning: Dataframe headers not specified. Falling back to using column 0 as text and column 1 as labels.\n",
            "  warnings.warn(\n"
          ]
        },
        {
          "output_type": "stream",
          "name": "stdout",
          "text": [
            "\n",
            "NOW EVALUATE THE TEST DF.\n"
          ]
        },
        {
          "output_type": "stream",
          "name": "stderr",
          "text": [
            "C:\\Users\\Domenico\\.conda\\envs\\tf\\lib\\site-packages\\simpletransformers\\classification\\classification_model.py:1454: UserWarning: Dataframe headers not specified. Falling back to using column 0 as text and column 1 as labels.\n",
            "  warnings.warn(\n"
          ]
        },
        {
          "output_type": "stream",
          "name": "stdout",
          "text": [
            "{'mcc': 0.5905916600791085, 'tp': 1898, 'tn': 2074, 'fp': 419, 'fn': 609, 'auroc': 0.8307335529510552, 'auprc': 0.7894856918535317, 'eval_loss': 0.5211471720218659}\n",
            "Correct predictions are:  3972\n",
            "Total predictions are:  5000\n",
            "Accuracy on test set is: 0.7944 \n",
            "\n",
            "\n",
            "\n",
            "EPOCH NUMBER:  6\n",
            "\n",
            "NOW TRAIN THE MODEL.\n"
          ]
        },
        {
          "output_type": "stream",
          "name": "stderr",
          "text": [
            "C:\\Users\\Domenico\\.conda\\envs\\tf\\lib\\site-packages\\simpletransformers\\classification\\classification_model.py:612: UserWarning: Dataframe headers not specified. Falling back to using column 0 as text and column 1 as labels.\n",
            "  warnings.warn(\n"
          ]
        },
        {
          "output_type": "stream",
          "name": "stdout",
          "text": [
            "\n",
            "NOW EVALUATE THE TEST DF.\n"
          ]
        },
        {
          "output_type": "stream",
          "name": "stderr",
          "text": [
            "C:\\Users\\Domenico\\.conda\\envs\\tf\\lib\\site-packages\\simpletransformers\\classification\\classification_model.py:1454: UserWarning: Dataframe headers not specified. Falling back to using column 0 as text and column 1 as labels.\n",
            "  warnings.warn(\n"
          ]
        },
        {
          "output_type": "stream",
          "name": "stdout",
          "text": [
            "{'mcc': 0.5745605144941304, 'tp': 2049, 'tn': 1885, 'fp': 608, 'fn': 458, 'auroc': 0.8756377449999206, 'auprc': 0.8700833916352928, 'eval_loss': 0.47890679894685745}\n",
            "Correct predictions are:  3934\n",
            "Total predictions are:  5000\n",
            "Accuracy on test set is: 0.7868 \n",
            "\n",
            "\n",
            "\n",
            "EPOCH NUMBER:  7\n",
            "\n",
            "NOW TRAIN THE MODEL.\n"
          ]
        },
        {
          "output_type": "stream",
          "name": "stderr",
          "text": [
            "C:\\Users\\Domenico\\.conda\\envs\\tf\\lib\\site-packages\\simpletransformers\\classification\\classification_model.py:612: UserWarning: Dataframe headers not specified. Falling back to using column 0 as text and column 1 as labels.\n",
            "  warnings.warn(\n"
          ]
        },
        {
          "output_type": "stream",
          "name": "stdout",
          "text": [
            "\n",
            "NOW EVALUATE THE TEST DF.\n"
          ]
        },
        {
          "output_type": "stream",
          "name": "stderr",
          "text": [
            "C:\\Users\\Domenico\\.conda\\envs\\tf\\lib\\site-packages\\simpletransformers\\classification\\classification_model.py:1454: UserWarning: Dataframe headers not specified. Falling back to using column 0 as text and column 1 as labels.\n",
            "  warnings.warn(\n"
          ]
        },
        {
          "output_type": "stream",
          "name": "stdout",
          "text": [
            "{'mcc': 0.0, 'tp': 2507, 'tn': 0, 'fp': 2493, 'fn': 0, 'auroc': 0.8706261857092961, 'auprc': 0.8684341744847927, 'eval_loss': 0.6721434483528137}\n",
            "Correct predictions are:  2507\n",
            "Total predictions are:  5000\n",
            "Accuracy on test set is: 0.5014 \n",
            "\n",
            "\n",
            "\n",
            "EPOCH NUMBER:  8\n",
            "\n",
            "NOW TRAIN THE MODEL.\n"
          ]
        },
        {
          "output_type": "stream",
          "name": "stderr",
          "text": [
            "C:\\Users\\Domenico\\.conda\\envs\\tf\\lib\\site-packages\\simpletransformers\\classification\\classification_model.py:612: UserWarning: Dataframe headers not specified. Falling back to using column 0 as text and column 1 as labels.\n",
            "  warnings.warn(\n"
          ]
        },
        {
          "output_type": "stream",
          "name": "stdout",
          "text": [
            "\n",
            "NOW EVALUATE THE TEST DF.\n"
          ]
        },
        {
          "output_type": "stream",
          "name": "stderr",
          "text": [
            "C:\\Users\\Domenico\\.conda\\envs\\tf\\lib\\site-packages\\simpletransformers\\classification\\classification_model.py:1454: UserWarning: Dataframe headers not specified. Falling back to using column 0 as text and column 1 as labels.\n",
            "  warnings.warn(\n"
          ]
        },
        {
          "output_type": "stream",
          "name": "stdout",
          "text": [
            "{'mcc': 0.4731220447048448, 'tp': 1225, 'tn': 2331, 'fp': 162, 'fn': 1282, 'auroc': 0.8507235496726295, 'auprc': 0.8486598627902795, 'eval_loss': 0.5971120788097382}\n",
            "Correct predictions are:  3556\n",
            "Total predictions are:  5000\n",
            "Accuracy on test set is: 0.7112 \n",
            "\n",
            "\n",
            "\n",
            "EPOCH NUMBER:  9\n",
            "\n",
            "NOW TRAIN THE MODEL.\n"
          ]
        },
        {
          "output_type": "stream",
          "name": "stderr",
          "text": [
            "C:\\Users\\Domenico\\.conda\\envs\\tf\\lib\\site-packages\\simpletransformers\\classification\\classification_model.py:612: UserWarning: Dataframe headers not specified. Falling back to using column 0 as text and column 1 as labels.\n",
            "  warnings.warn(\n"
          ]
        },
        {
          "output_type": "stream",
          "name": "stdout",
          "text": [
            "\n",
            "NOW EVALUATE THE TEST DF.\n"
          ]
        },
        {
          "output_type": "stream",
          "name": "stderr",
          "text": [
            "C:\\Users\\Domenico\\.conda\\envs\\tf\\lib\\site-packages\\simpletransformers\\classification\\classification_model.py:1454: UserWarning: Dataframe headers not specified. Falling back to using column 0 as text and column 1 as labels.\n",
            "  warnings.warn(\n"
          ]
        },
        {
          "output_type": "stream",
          "name": "stdout",
          "text": [
            "{'mcc': 0.5572448170926178, 'tp': 2079, 'tn': 1807, 'fp': 686, 'fn': 428, 'auroc': 0.8228625312422448, 'auprc': 0.8451143995145094, 'eval_loss': 0.5328808748364449}\n",
            "Correct predictions are:  3886\n",
            "Total predictions are:  5000\n",
            "Accuracy on test set is: 0.7772 \n",
            "\n",
            "\n",
            "[0.4986, 0.7322, 0.7644, 0.7826, 0.7846, 0.7944, 0.7868, 0.5014, 0.7112, 0.7772]\n",
            "\n",
            "RUN NUMBER:  3\n"
          ]
        },
        {
          "output_type": "stream",
          "name": "stderr",
          "text": [
            "Some weights of the model checkpoint at roberta-base were not used when initializing RobertaForSequenceClassification: ['roberta.pooler.dense.bias', 'lm_head.bias', 'lm_head.dense.bias', 'lm_head.decoder.weight', 'lm_head.dense.weight', 'roberta.pooler.dense.weight', 'lm_head.layer_norm.weight', 'lm_head.layer_norm.bias']\n",
            "- This IS expected if you are initializing RobertaForSequenceClassification from the checkpoint of a model trained on another task or with another architecture (e.g. initializing a BertForSequenceClassification model from a BertForPreTraining model).\n",
            "- This IS NOT expected if you are initializing RobertaForSequenceClassification from the checkpoint of a model that you expect to be exactly identical (initializing a BertForSequenceClassification model from a BertForSequenceClassification model).\n",
            "Some weights of RobertaForSequenceClassification were not initialized from the model checkpoint at roberta-base and are newly initialized: ['classifier.dense.weight', 'classifier.out_proj.weight', 'classifier.out_proj.bias', 'classifier.dense.bias']\n",
            "You should probably TRAIN this model on a down-stream task to be able to use it for predictions and inference.\n"
          ]
        },
        {
          "output_type": "stream",
          "name": "stdout",
          "text": [
            "\n",
            "EPOCH NUMBER:  0\n",
            "\n",
            "NOW TRAIN THE MODEL.\n"
          ]
        },
        {
          "output_type": "stream",
          "name": "stderr",
          "text": [
            "C:\\Users\\Domenico\\.conda\\envs\\tf\\lib\\site-packages\\simpletransformers\\classification\\classification_model.py:612: UserWarning: Dataframe headers not specified. Falling back to using column 0 as text and column 1 as labels.\n",
            "  warnings.warn(\n"
          ]
        },
        {
          "output_type": "stream",
          "name": "stdout",
          "text": [
            "\n",
            "NOW EVALUATE THE TEST DF.\n"
          ]
        },
        {
          "output_type": "stream",
          "name": "stderr",
          "text": [
            "C:\\Users\\Domenico\\.conda\\envs\\tf\\lib\\site-packages\\simpletransformers\\classification\\classification_model.py:1454: UserWarning: Dataframe headers not specified. Falling back to using column 0 as text and column 1 as labels.\n",
            "  warnings.warn(\n"
          ]
        },
        {
          "output_type": "stream",
          "name": "stdout",
          "text": [
            "{'mcc': 0.5456213863995919, 'tp': 1892, 'tn': 1971, 'fp': 522, 'fn': 615, 'auroc': 0.8511962733787833, 'auprc': 0.8422825163985712, 'eval_loss': 0.5221590461134911}\n",
            "Correct predictions are:  3863\n",
            "Total predictions are:  5000\n",
            "Accuracy on test set is: 0.7726 \n",
            "\n",
            "\n",
            "\n",
            "EPOCH NUMBER:  1\n",
            "\n",
            "NOW TRAIN THE MODEL.\n"
          ]
        },
        {
          "output_type": "stream",
          "name": "stderr",
          "text": [
            "C:\\Users\\Domenico\\.conda\\envs\\tf\\lib\\site-packages\\simpletransformers\\classification\\classification_model.py:612: UserWarning: Dataframe headers not specified. Falling back to using column 0 as text and column 1 as labels.\n",
            "  warnings.warn(\n"
          ]
        },
        {
          "output_type": "stream",
          "name": "stdout",
          "text": [
            "\n",
            "NOW EVALUATE THE TEST DF.\n"
          ]
        },
        {
          "output_type": "stream",
          "name": "stderr",
          "text": [
            "C:\\Users\\Domenico\\.conda\\envs\\tf\\lib\\site-packages\\simpletransformers\\classification\\classification_model.py:1454: UserWarning: Dataframe headers not specified. Falling back to using column 0 as text and column 1 as labels.\n",
            "  warnings.warn(\n"
          ]
        },
        {
          "output_type": "stream",
          "name": "stdout",
          "text": [
            "{'mcc': 0.5780180899804436, 'tp': 1971, 'tn': 1974, 'fp': 519, 'fn': 536, 'auroc': 0.8545858199528285, 'auprc': 0.8638834807728191, 'eval_loss': 0.49792022869586944}\n",
            "Correct predictions are:  3945\n",
            "Total predictions are:  5000\n",
            "Accuracy on test set is: 0.789 \n",
            "\n",
            "\n",
            "\n",
            "EPOCH NUMBER:  2\n",
            "\n",
            "NOW TRAIN THE MODEL.\n"
          ]
        },
        {
          "output_type": "stream",
          "name": "stderr",
          "text": [
            "C:\\Users\\Domenico\\.conda\\envs\\tf\\lib\\site-packages\\simpletransformers\\classification\\classification_model.py:612: UserWarning: Dataframe headers not specified. Falling back to using column 0 as text and column 1 as labels.\n",
            "  warnings.warn(\n"
          ]
        },
        {
          "output_type": "stream",
          "name": "stdout",
          "text": [
            "\n",
            "NOW EVALUATE THE TEST DF.\n"
          ]
        },
        {
          "output_type": "stream",
          "name": "stderr",
          "text": [
            "C:\\Users\\Domenico\\.conda\\envs\\tf\\lib\\site-packages\\simpletransformers\\classification\\classification_model.py:1454: UserWarning: Dataframe headers not specified. Falling back to using column 0 as text and column 1 as labels.\n",
            "  warnings.warn(\n"
          ]
        },
        {
          "output_type": "stream",
          "name": "stdout",
          "text": [
            "{'mcc': 0.6128087384971348, 'tp': 2133, 'tn': 1893, 'fp': 600, 'fn': 374, 'auroc': 0.8922902755557605, 'auprc': 0.8860471784357344, 'eval_loss': 0.47173399707078933}\n",
            "Correct predictions are:  4026\n",
            "Total predictions are:  5000\n",
            "Accuracy on test set is: 0.8052 \n",
            "\n",
            "\n",
            "\n",
            "EPOCH NUMBER:  3\n",
            "\n",
            "NOW TRAIN THE MODEL.\n"
          ]
        },
        {
          "output_type": "stream",
          "name": "stderr",
          "text": [
            "C:\\Users\\Domenico\\.conda\\envs\\tf\\lib\\site-packages\\simpletransformers\\classification\\classification_model.py:612: UserWarning: Dataframe headers not specified. Falling back to using column 0 as text and column 1 as labels.\n",
            "  warnings.warn(\n"
          ]
        },
        {
          "output_type": "stream",
          "name": "stdout",
          "text": [
            "\n",
            "NOW EVALUATE THE TEST DF.\n"
          ]
        },
        {
          "output_type": "stream",
          "name": "stderr",
          "text": [
            "C:\\Users\\Domenico\\.conda\\envs\\tf\\lib\\site-packages\\simpletransformers\\classification\\classification_model.py:1454: UserWarning: Dataframe headers not specified. Falling back to using column 0 as text and column 1 as labels.\n",
            "  warnings.warn(\n"
          ]
        },
        {
          "output_type": "stream",
          "name": "stdout",
          "text": [
            "{'mcc': 0.6126835275831733, 'tp': 2063, 'tn': 1968, 'fp': 525, 'fn': 444, 'auroc': 0.8875998387827362, 'auprc': 0.886039631451158, 'eval_loss': 0.4811041169643402}\n",
            "Correct predictions are:  4031\n",
            "Total predictions are:  5000\n",
            "Accuracy on test set is: 0.8062 \n",
            "\n",
            "\n",
            "\n",
            "EPOCH NUMBER:  4\n",
            "\n",
            "NOW TRAIN THE MODEL.\n"
          ]
        },
        {
          "output_type": "stream",
          "name": "stderr",
          "text": [
            "C:\\Users\\Domenico\\.conda\\envs\\tf\\lib\\site-packages\\simpletransformers\\classification\\classification_model.py:612: UserWarning: Dataframe headers not specified. Falling back to using column 0 as text and column 1 as labels.\n",
            "  warnings.warn(\n"
          ]
        },
        {
          "output_type": "stream",
          "name": "stdout",
          "text": [
            "\n",
            "NOW EVALUATE THE TEST DF.\n"
          ]
        },
        {
          "output_type": "stream",
          "name": "stderr",
          "text": [
            "C:\\Users\\Domenico\\.conda\\envs\\tf\\lib\\site-packages\\simpletransformers\\classification\\classification_model.py:1454: UserWarning: Dataframe headers not specified. Falling back to using column 0 as text and column 1 as labels.\n",
            "  warnings.warn(\n"
          ]
        },
        {
          "output_type": "stream",
          "name": "stdout",
          "text": [
            "{'mcc': 0.5572744132830292, 'tp': 2306, 'tn': 1520, 'fp': 973, 'fn': 201, 'auroc': 0.8143471844819263, 'auprc': 0.7170837449245193, 'eval_loss': 0.5357108689308167}\n",
            "Correct predictions are:  3826\n",
            "Total predictions are:  5000\n",
            "Accuracy on test set is: 0.7652 \n",
            "\n",
            "\n",
            "\n",
            "EPOCH NUMBER:  5\n",
            "\n",
            "NOW TRAIN THE MODEL.\n"
          ]
        },
        {
          "output_type": "stream",
          "name": "stderr",
          "text": [
            "C:\\Users\\Domenico\\.conda\\envs\\tf\\lib\\site-packages\\simpletransformers\\classification\\classification_model.py:612: UserWarning: Dataframe headers not specified. Falling back to using column 0 as text and column 1 as labels.\n",
            "  warnings.warn(\n"
          ]
        },
        {
          "output_type": "stream",
          "name": "stdout",
          "text": [
            "\n",
            "NOW EVALUATE THE TEST DF.\n"
          ]
        },
        {
          "output_type": "stream",
          "name": "stderr",
          "text": [
            "C:\\Users\\Domenico\\.conda\\envs\\tf\\lib\\site-packages\\simpletransformers\\classification\\classification_model.py:1454: UserWarning: Dataframe headers not specified. Falling back to using column 0 as text and column 1 as labels.\n",
            "  warnings.warn(\n"
          ]
        },
        {
          "output_type": "stream",
          "name": "stdout",
          "text": [
            "{'mcc': 0.5446884582010985, 'tp': 1566, 'tn': 2242, 'fp': 251, 'fn': 941, 'auroc': 0.8238550190233491, 'auprc': 0.7788293514395045, 'eval_loss': 0.5523071698665619}\n",
            "Correct predictions are:  3808\n",
            "Total predictions are:  5000\n",
            "Accuracy on test set is: 0.7616 \n",
            "\n",
            "\n",
            "\n",
            "EPOCH NUMBER:  6\n",
            "\n",
            "NOW TRAIN THE MODEL.\n"
          ]
        },
        {
          "output_type": "stream",
          "name": "stderr",
          "text": [
            "C:\\Users\\Domenico\\.conda\\envs\\tf\\lib\\site-packages\\simpletransformers\\classification\\classification_model.py:612: UserWarning: Dataframe headers not specified. Falling back to using column 0 as text and column 1 as labels.\n",
            "  warnings.warn(\n"
          ]
        },
        {
          "output_type": "stream",
          "name": "stdout",
          "text": [
            "\n",
            "NOW EVALUATE THE TEST DF.\n"
          ]
        },
        {
          "output_type": "stream",
          "name": "stderr",
          "text": [
            "C:\\Users\\Domenico\\.conda\\envs\\tf\\lib\\site-packages\\simpletransformers\\classification\\classification_model.py:1454: UserWarning: Dataframe headers not specified. Falling back to using column 0 as text and column 1 as labels.\n",
            "  warnings.warn(\n"
          ]
        },
        {
          "output_type": "stream",
          "name": "stdout",
          "text": [
            "{'mcc': 0.5908026606581248, 'tp': 2004, 'tn': 1973, 'fp': 520, 'fn': 503, 'auroc': 0.859097135321541, 'auprc': 0.849492038352137, 'eval_loss': 0.5402330477833748}\n",
            "Correct predictions are:  3977\n",
            "Total predictions are:  5000\n",
            "Accuracy on test set is: 0.7954 \n",
            "\n",
            "\n",
            "\n",
            "EPOCH NUMBER:  7\n",
            "\n",
            "NOW TRAIN THE MODEL.\n"
          ]
        },
        {
          "output_type": "stream",
          "name": "stderr",
          "text": [
            "C:\\Users\\Domenico\\.conda\\envs\\tf\\lib\\site-packages\\simpletransformers\\classification\\classification_model.py:612: UserWarning: Dataframe headers not specified. Falling back to using column 0 as text and column 1 as labels.\n",
            "  warnings.warn(\n"
          ]
        },
        {
          "output_type": "stream",
          "name": "stdout",
          "text": [
            "\n",
            "NOW EVALUATE THE TEST DF.\n"
          ]
        },
        {
          "output_type": "stream",
          "name": "stderr",
          "text": [
            "C:\\Users\\Domenico\\.conda\\envs\\tf\\lib\\site-packages\\simpletransformers\\classification\\classification_model.py:1454: UserWarning: Dataframe headers not specified. Falling back to using column 0 as text and column 1 as labels.\n",
            "  warnings.warn(\n"
          ]
        },
        {
          "output_type": "stream",
          "name": "stdout",
          "text": [
            "{'mcc': 0.36164774494325863, 'tp': 688, 'tn': 2447, 'fp': 46, 'fn': 1819, 'auroc': 0.8600676229301638, 'auprc': 0.8542565918681964, 'eval_loss': 0.6207323719501495}\n",
            "Correct predictions are:  3135\n",
            "Total predictions are:  5000\n",
            "Accuracy on test set is: 0.627 \n",
            "\n",
            "\n",
            "\n",
            "EPOCH NUMBER:  8\n",
            "\n",
            "NOW TRAIN THE MODEL.\n"
          ]
        },
        {
          "output_type": "stream",
          "name": "stderr",
          "text": [
            "C:\\Users\\Domenico\\.conda\\envs\\tf\\lib\\site-packages\\simpletransformers\\classification\\classification_model.py:612: UserWarning: Dataframe headers not specified. Falling back to using column 0 as text and column 1 as labels.\n",
            "  warnings.warn(\n"
          ]
        },
        {
          "output_type": "stream",
          "name": "stdout",
          "text": [
            "\n",
            "NOW EVALUATE THE TEST DF.\n"
          ]
        },
        {
          "output_type": "stream",
          "name": "stderr",
          "text": [
            "C:\\Users\\Domenico\\.conda\\envs\\tf\\lib\\site-packages\\simpletransformers\\classification\\classification_model.py:1454: UserWarning: Dataframe headers not specified. Falling back to using column 0 as text and column 1 as labels.\n",
            "  warnings.warn(\n"
          ]
        },
        {
          "output_type": "stream",
          "name": "stdout",
          "text": [
            "{'mcc': 0.5045344506008772, 'tp': 2302, 'tn': 1373, 'fp': 1120, 'fn': 205, 'auroc': 0.8648362203159672, 'auprc': 0.8681241395813539, 'eval_loss': 0.5943000181436539}\n",
            "Correct predictions are:  3675\n",
            "Total predictions are:  5000\n",
            "Accuracy on test set is: 0.735 \n",
            "\n",
            "\n",
            "\n",
            "EPOCH NUMBER:  9\n",
            "\n",
            "NOW TRAIN THE MODEL.\n"
          ]
        },
        {
          "output_type": "stream",
          "name": "stderr",
          "text": [
            "C:\\Users\\Domenico\\.conda\\envs\\tf\\lib\\site-packages\\simpletransformers\\classification\\classification_model.py:612: UserWarning: Dataframe headers not specified. Falling back to using column 0 as text and column 1 as labels.\n",
            "  warnings.warn(\n"
          ]
        },
        {
          "output_type": "stream",
          "name": "stdout",
          "text": [
            "\n",
            "NOW EVALUATE THE TEST DF.\n"
          ]
        },
        {
          "output_type": "stream",
          "name": "stderr",
          "text": [
            "C:\\Users\\Domenico\\.conda\\envs\\tf\\lib\\site-packages\\simpletransformers\\classification\\classification_model.py:1454: UserWarning: Dataframe headers not specified. Falling back to using column 0 as text and column 1 as labels.\n",
            "  warnings.warn(\n"
          ]
        },
        {
          "output_type": "stream",
          "name": "stdout",
          "text": [
            "{'mcc': 0.0, 'tp': 2507, 'tn': 0, 'fp': 2493, 'fn': 0, 'auroc': 0.8470952012263775, 'auprc': 0.8441603475187832, 'eval_loss': 0.6918931363105774}\n",
            "Correct predictions are:  2507\n",
            "Total predictions are:  5000\n",
            "Accuracy on test set is: 0.5014 \n",
            "\n",
            "\n",
            "[0.7726, 0.789, 0.8052, 0.8062, 0.7652, 0.7616, 0.7954, 0.627, 0.735, 0.5014]\n",
            "\n",
            "RUN NUMBER:  4\n"
          ]
        },
        {
          "output_type": "stream",
          "name": "stderr",
          "text": [
            "Some weights of the model checkpoint at roberta-base were not used when initializing RobertaForSequenceClassification: ['roberta.pooler.dense.bias', 'lm_head.bias', 'lm_head.dense.bias', 'lm_head.decoder.weight', 'lm_head.dense.weight', 'roberta.pooler.dense.weight', 'lm_head.layer_norm.weight', 'lm_head.layer_norm.bias']\n",
            "- This IS expected if you are initializing RobertaForSequenceClassification from the checkpoint of a model trained on another task or with another architecture (e.g. initializing a BertForSequenceClassification model from a BertForPreTraining model).\n",
            "- This IS NOT expected if you are initializing RobertaForSequenceClassification from the checkpoint of a model that you expect to be exactly identical (initializing a BertForSequenceClassification model from a BertForSequenceClassification model).\n",
            "Some weights of RobertaForSequenceClassification were not initialized from the model checkpoint at roberta-base and are newly initialized: ['classifier.dense.weight', 'classifier.out_proj.weight', 'classifier.out_proj.bias', 'classifier.dense.bias']\n",
            "You should probably TRAIN this model on a down-stream task to be able to use it for predictions and inference.\n"
          ]
        },
        {
          "output_type": "stream",
          "name": "stdout",
          "text": [
            "\n",
            "EPOCH NUMBER:  0\n",
            "\n",
            "NOW TRAIN THE MODEL.\n"
          ]
        },
        {
          "output_type": "stream",
          "name": "stderr",
          "text": [
            "C:\\Users\\Domenico\\.conda\\envs\\tf\\lib\\site-packages\\simpletransformers\\classification\\classification_model.py:612: UserWarning: Dataframe headers not specified. Falling back to using column 0 as text and column 1 as labels.\n",
            "  warnings.warn(\n"
          ]
        },
        {
          "output_type": "stream",
          "name": "stdout",
          "text": [
            "\n",
            "NOW EVALUATE THE TEST DF.\n"
          ]
        },
        {
          "output_type": "stream",
          "name": "stderr",
          "text": [
            "C:\\Users\\Domenico\\.conda\\envs\\tf\\lib\\site-packages\\simpletransformers\\classification\\classification_model.py:1454: UserWarning: Dataframe headers not specified. Falling back to using column 0 as text and column 1 as labels.\n",
            "  warnings.warn(\n"
          ]
        },
        {
          "output_type": "stream",
          "name": "stdout",
          "text": [
            "{'mcc': 0.0, 'tp': 0, 'tn': 2493, 'fp': 0, 'fn': 2507, 'auroc': 0.5948323434855729, 'auprc': 0.599402759678786, 'eval_loss': 0.6931870680809021}\n",
            "Correct predictions are:  2493\n",
            "Total predictions are:  5000\n",
            "Accuracy on test set is: 0.4986 \n",
            "\n",
            "\n",
            "\n",
            "EPOCH NUMBER:  1\n",
            "\n",
            "NOW TRAIN THE MODEL.\n"
          ]
        },
        {
          "output_type": "stream",
          "name": "stderr",
          "text": [
            "C:\\Users\\Domenico\\.conda\\envs\\tf\\lib\\site-packages\\simpletransformers\\classification\\classification_model.py:612: UserWarning: Dataframe headers not specified. Falling back to using column 0 as text and column 1 as labels.\n",
            "  warnings.warn(\n"
          ]
        },
        {
          "output_type": "stream",
          "name": "stdout",
          "text": [
            "\n",
            "NOW EVALUATE THE TEST DF.\n"
          ]
        },
        {
          "output_type": "stream",
          "name": "stderr",
          "text": [
            "C:\\Users\\Domenico\\.conda\\envs\\tf\\lib\\site-packages\\simpletransformers\\classification\\classification_model.py:1454: UserWarning: Dataframe headers not specified. Falling back to using column 0 as text and column 1 as labels.\n",
            "  warnings.warn(\n"
          ]
        },
        {
          "output_type": "stream",
          "name": "stdout",
          "text": [
            "{'mcc': 0.0, 'tp': 2507, 'tn': 0, 'fp': 2493, 'fn': 0, 'auroc': 0.6657967398464404, 'auprc': 0.6580587701014258, 'eval_loss': 0.6931651575088501}\n",
            "Correct predictions are:  2507\n",
            "Total predictions are:  5000\n",
            "Accuracy on test set is: 0.5014 \n",
            "\n",
            "\n",
            "\n",
            "EPOCH NUMBER:  2\n",
            "\n",
            "NOW TRAIN THE MODEL.\n"
          ]
        },
        {
          "output_type": "stream",
          "name": "stderr",
          "text": [
            "C:\\Users\\Domenico\\.conda\\envs\\tf\\lib\\site-packages\\simpletransformers\\classification\\classification_model.py:612: UserWarning: Dataframe headers not specified. Falling back to using column 0 as text and column 1 as labels.\n",
            "  warnings.warn(\n"
          ]
        },
        {
          "output_type": "stream",
          "name": "stdout",
          "text": [
            "\n",
            "NOW EVALUATE THE TEST DF.\n"
          ]
        },
        {
          "output_type": "stream",
          "name": "stderr",
          "text": [
            "C:\\Users\\Domenico\\.conda\\envs\\tf\\lib\\site-packages\\simpletransformers\\classification\\classification_model.py:1454: UserWarning: Dataframe headers not specified. Falling back to using column 0 as text and column 1 as labels.\n",
            "  warnings.warn(\n"
          ]
        },
        {
          "output_type": "stream",
          "name": "stdout",
          "text": [
            "{'mcc': 0.0, 'tp': 0, 'tn': 2493, 'fp': 0, 'fn': 2507, 'auroc': 0.6868522649217569, 'auprc': 0.6782883294948878, 'eval_loss': 0.693401675415039}\n",
            "Correct predictions are:  2493\n",
            "Total predictions are:  5000\n",
            "Accuracy on test set is: 0.4986 \n",
            "\n",
            "\n",
            "\n",
            "EPOCH NUMBER:  3\n",
            "\n",
            "NOW TRAIN THE MODEL.\n"
          ]
        },
        {
          "output_type": "stream",
          "name": "stderr",
          "text": [
            "C:\\Users\\Domenico\\.conda\\envs\\tf\\lib\\site-packages\\simpletransformers\\classification\\classification_model.py:612: UserWarning: Dataframe headers not specified. Falling back to using column 0 as text and column 1 as labels.\n",
            "  warnings.warn(\n"
          ]
        },
        {
          "output_type": "stream",
          "name": "stdout",
          "text": [
            "\n",
            "NOW EVALUATE THE TEST DF.\n"
          ]
        },
        {
          "output_type": "stream",
          "name": "stderr",
          "text": [
            "C:\\Users\\Domenico\\.conda\\envs\\tf\\lib\\site-packages\\simpletransformers\\classification\\classification_model.py:1454: UserWarning: Dataframe headers not specified. Falling back to using column 0 as text and column 1 as labels.\n",
            "  warnings.warn(\n"
          ]
        },
        {
          "output_type": "stream",
          "name": "stdout",
          "text": [
            "{'mcc': 0.0, 'tp': 0, 'tn': 2493, 'fp': 0, 'fn': 2507, 'auroc': 0.6968274631273109, 'auprc': 0.6807751040366425, 'eval_loss': 0.6934151350975036}\n",
            "Correct predictions are:  2493\n",
            "Total predictions are:  5000\n",
            "Accuracy on test set is: 0.4986 \n",
            "\n",
            "\n",
            "\n",
            "EPOCH NUMBER:  4\n",
            "\n",
            "NOW TRAIN THE MODEL.\n"
          ]
        },
        {
          "output_type": "stream",
          "name": "stderr",
          "text": [
            "C:\\Users\\Domenico\\.conda\\envs\\tf\\lib\\site-packages\\simpletransformers\\classification\\classification_model.py:612: UserWarning: Dataframe headers not specified. Falling back to using column 0 as text and column 1 as labels.\n",
            "  warnings.warn(\n"
          ]
        },
        {
          "output_type": "stream",
          "name": "stdout",
          "text": [
            "\n",
            "NOW EVALUATE THE TEST DF.\n"
          ]
        },
        {
          "output_type": "stream",
          "name": "stderr",
          "text": [
            "C:\\Users\\Domenico\\.conda\\envs\\tf\\lib\\site-packages\\simpletransformers\\classification\\classification_model.py:1454: UserWarning: Dataframe headers not specified. Falling back to using column 0 as text and column 1 as labels.\n",
            "  warnings.warn(\n"
          ]
        },
        {
          "output_type": "stream",
          "name": "stdout",
          "text": [
            "{'mcc': 0.3108471495257449, 'tp': 1629, 'tn': 1648, 'fp': 845, 'fn': 878, 'auroc': 0.7206128496047408, 'auprc': 0.7029579959081317, 'eval_loss': 0.6574826245307922}\n",
            "Correct predictions are:  3277\n",
            "Total predictions are:  5000\n",
            "Accuracy on test set is: 0.6554 \n",
            "\n",
            "\n",
            "\n",
            "EPOCH NUMBER:  5\n",
            "\n",
            "NOW TRAIN THE MODEL.\n"
          ]
        },
        {
          "output_type": "stream",
          "name": "stderr",
          "text": [
            "C:\\Users\\Domenico\\.conda\\envs\\tf\\lib\\site-packages\\simpletransformers\\classification\\classification_model.py:612: UserWarning: Dataframe headers not specified. Falling back to using column 0 as text and column 1 as labels.\n",
            "  warnings.warn(\n"
          ]
        },
        {
          "output_type": "stream",
          "name": "stdout",
          "text": [
            "\n",
            "NOW EVALUATE THE TEST DF.\n"
          ]
        },
        {
          "output_type": "stream",
          "name": "stderr",
          "text": [
            "C:\\Users\\Domenico\\.conda\\envs\\tf\\lib\\site-packages\\simpletransformers\\classification\\classification_model.py:1454: UserWarning: Dataframe headers not specified. Falling back to using column 0 as text and column 1 as labels.\n",
            "  warnings.warn(\n"
          ]
        },
        {
          "output_type": "stream",
          "name": "stdout",
          "text": [
            "{'mcc': 0.3076632044934192, 'tp': 2395, 'tn': 668, 'fp': 1825, 'fn': 112, 'auroc': 0.7430200652773118, 'auprc': 0.6854994040228513, 'eval_loss': 0.6676036633491517}\n",
            "Correct predictions are:  3063\n",
            "Total predictions are:  5000\n",
            "Accuracy on test set is: 0.6126 \n",
            "\n",
            "\n",
            "\n",
            "EPOCH NUMBER:  6\n",
            "\n",
            "NOW TRAIN THE MODEL.\n"
          ]
        },
        {
          "output_type": "stream",
          "name": "stderr",
          "text": [
            "C:\\Users\\Domenico\\.conda\\envs\\tf\\lib\\site-packages\\simpletransformers\\classification\\classification_model.py:612: UserWarning: Dataframe headers not specified. Falling back to using column 0 as text and column 1 as labels.\n",
            "  warnings.warn(\n"
          ]
        },
        {
          "output_type": "stream",
          "name": "stdout",
          "text": [
            "\n",
            "NOW EVALUATE THE TEST DF.\n"
          ]
        },
        {
          "output_type": "stream",
          "name": "stderr",
          "text": [
            "C:\\Users\\Domenico\\.conda\\envs\\tf\\lib\\site-packages\\simpletransformers\\classification\\classification_model.py:1454: UserWarning: Dataframe headers not specified. Falling back to using column 0 as text and column 1 as labels.\n",
            "  warnings.warn(\n"
          ]
        },
        {
          "output_type": "stream",
          "name": "stdout",
          "text": [
            "{'mcc': 0.5057004299564735, 'tp': 1836, 'tn': 1927, 'fp': 566, 'fn': 671, 'auroc': 0.8292672214550162, 'auprc': 0.8255753555348408, 'eval_loss': 0.5592593445301056}\n",
            "Correct predictions are:  3763\n",
            "Total predictions are:  5000\n",
            "Accuracy on test set is: 0.7526 \n",
            "\n",
            "\n",
            "\n",
            "EPOCH NUMBER:  7\n",
            "\n",
            "NOW TRAIN THE MODEL.\n"
          ]
        },
        {
          "output_type": "stream",
          "name": "stderr",
          "text": [
            "C:\\Users\\Domenico\\.conda\\envs\\tf\\lib\\site-packages\\simpletransformers\\classification\\classification_model.py:612: UserWarning: Dataframe headers not specified. Falling back to using column 0 as text and column 1 as labels.\n",
            "  warnings.warn(\n"
          ]
        },
        {
          "output_type": "stream",
          "name": "stdout",
          "text": [
            "\n",
            "NOW EVALUATE THE TEST DF.\n"
          ]
        },
        {
          "output_type": "stream",
          "name": "stderr",
          "text": [
            "C:\\Users\\Domenico\\.conda\\envs\\tf\\lib\\site-packages\\simpletransformers\\classification\\classification_model.py:1454: UserWarning: Dataframe headers not specified. Falling back to using column 0 as text and column 1 as labels.\n",
            "  warnings.warn(\n"
          ]
        },
        {
          "output_type": "stream",
          "name": "stdout",
          "text": [
            "{'mcc': 0.5570985321654517, 'tp': 2057, 'tn': 1831, 'fp': 662, 'fn': 450, 'auroc': 0.8620912387953121, 'auprc': 0.8606398714997509, 'eval_loss': 0.5079363450407982}\n",
            "Correct predictions are:  3888\n",
            "Total predictions are:  5000\n",
            "Accuracy on test set is: 0.7776 \n",
            "\n",
            "\n",
            "\n",
            "EPOCH NUMBER:  8\n",
            "\n",
            "NOW TRAIN THE MODEL.\n"
          ]
        },
        {
          "output_type": "stream",
          "name": "stderr",
          "text": [
            "C:\\Users\\Domenico\\.conda\\envs\\tf\\lib\\site-packages\\simpletransformers\\classification\\classification_model.py:612: UserWarning: Dataframe headers not specified. Falling back to using column 0 as text and column 1 as labels.\n",
            "  warnings.warn(\n"
          ]
        },
        {
          "output_type": "stream",
          "name": "stdout",
          "text": [
            "\n",
            "NOW EVALUATE THE TEST DF.\n"
          ]
        },
        {
          "output_type": "stream",
          "name": "stderr",
          "text": [
            "C:\\Users\\Domenico\\.conda\\envs\\tf\\lib\\site-packages\\simpletransformers\\classification\\classification_model.py:1454: UserWarning: Dataframe headers not specified. Falling back to using column 0 as text and column 1 as labels.\n",
            "  warnings.warn(\n"
          ]
        },
        {
          "output_type": "stream",
          "name": "stdout",
          "text": [
            "{'mcc': 0.5018517356153576, 'tp': 1778, 'tn': 1972, 'fp': 521, 'fn': 729, 'auroc': 0.8213752395818782, 'auprc': 0.8288915032354714, 'eval_loss': 0.5563921894550323}\n",
            "Correct predictions are:  3750\n",
            "Total predictions are:  5000\n",
            "Accuracy on test set is: 0.75 \n",
            "\n",
            "\n",
            "\n",
            "EPOCH NUMBER:  9\n",
            "\n",
            "NOW TRAIN THE MODEL.\n"
          ]
        },
        {
          "output_type": "stream",
          "name": "stderr",
          "text": [
            "C:\\Users\\Domenico\\.conda\\envs\\tf\\lib\\site-packages\\simpletransformers\\classification\\classification_model.py:612: UserWarning: Dataframe headers not specified. Falling back to using column 0 as text and column 1 as labels.\n",
            "  warnings.warn(\n"
          ]
        },
        {
          "output_type": "stream",
          "name": "stdout",
          "text": [
            "\n",
            "NOW EVALUATE THE TEST DF.\n"
          ]
        },
        {
          "output_type": "stream",
          "name": "stderr",
          "text": [
            "C:\\Users\\Domenico\\.conda\\envs\\tf\\lib\\site-packages\\simpletransformers\\classification\\classification_model.py:1454: UserWarning: Dataframe headers not specified. Falling back to using column 0 as text and column 1 as labels.\n",
            "  warnings.warn(\n"
          ]
        },
        {
          "output_type": "stream",
          "name": "stdout",
          "text": [
            "{'mcc': 0.5523503159329692, 'tp': 1832, 'tn': 2043, 'fp': 450, 'fn': 675, 'auroc': 0.853033407781917, 'auprc': 0.8561772897071941, 'eval_loss': 0.5296208690166473}\n",
            "Correct predictions are:  3875\n",
            "Total predictions are:  5000\n",
            "Accuracy on test set is: 0.775 \n",
            "\n",
            "\n",
            "[0.4986, 0.5014, 0.4986, 0.4986, 0.6554, 0.6126, 0.7526, 0.7776, 0.75, 0.775]\n",
            "\n",
            "RUN NUMBER:  5\n"
          ]
        },
        {
          "output_type": "stream",
          "name": "stderr",
          "text": [
            "Some weights of the model checkpoint at roberta-base were not used when initializing RobertaForSequenceClassification: ['roberta.pooler.dense.bias', 'lm_head.bias', 'lm_head.dense.bias', 'lm_head.decoder.weight', 'lm_head.dense.weight', 'roberta.pooler.dense.weight', 'lm_head.layer_norm.weight', 'lm_head.layer_norm.bias']\n",
            "- This IS expected if you are initializing RobertaForSequenceClassification from the checkpoint of a model trained on another task or with another architecture (e.g. initializing a BertForSequenceClassification model from a BertForPreTraining model).\n",
            "- This IS NOT expected if you are initializing RobertaForSequenceClassification from the checkpoint of a model that you expect to be exactly identical (initializing a BertForSequenceClassification model from a BertForSequenceClassification model).\n",
            "Some weights of RobertaForSequenceClassification were not initialized from the model checkpoint at roberta-base and are newly initialized: ['classifier.dense.weight', 'classifier.out_proj.weight', 'classifier.out_proj.bias', 'classifier.dense.bias']\n",
            "You should probably TRAIN this model on a down-stream task to be able to use it for predictions and inference.\n"
          ]
        },
        {
          "output_type": "stream",
          "name": "stdout",
          "text": [
            "\n",
            "EPOCH NUMBER:  0\n",
            "\n",
            "NOW TRAIN THE MODEL.\n"
          ]
        },
        {
          "output_type": "stream",
          "name": "stderr",
          "text": [
            "C:\\Users\\Domenico\\.conda\\envs\\tf\\lib\\site-packages\\simpletransformers\\classification\\classification_model.py:612: UserWarning: Dataframe headers not specified. Falling back to using column 0 as text and column 1 as labels.\n",
            "  warnings.warn(\n"
          ]
        },
        {
          "output_type": "stream",
          "name": "stdout",
          "text": [
            "\n",
            "NOW EVALUATE THE TEST DF.\n"
          ]
        },
        {
          "output_type": "stream",
          "name": "stderr",
          "text": [
            "C:\\Users\\Domenico\\.conda\\envs\\tf\\lib\\site-packages\\simpletransformers\\classification\\classification_model.py:1454: UserWarning: Dataframe headers not specified. Falling back to using column 0 as text and column 1 as labels.\n",
            "  warnings.warn(\n"
          ]
        },
        {
          "output_type": "stream",
          "name": "stdout",
          "text": [
            "{'mcc': 0.6692005974148695, 'tp': 2091, 'tn': 2082, 'fp': 411, 'fn': 416, 'auroc': 0.917220951012256, 'auprc': 0.9132314675245082, 'eval_loss': 0.3686439800918102}\n",
            "Correct predictions are:  4173\n",
            "Total predictions are:  5000\n",
            "Accuracy on test set is: 0.8346 \n",
            "\n",
            "\n",
            "\n",
            "EPOCH NUMBER:  1\n",
            "\n",
            "NOW TRAIN THE MODEL.\n"
          ]
        },
        {
          "output_type": "stream",
          "name": "stderr",
          "text": [
            "C:\\Users\\Domenico\\.conda\\envs\\tf\\lib\\site-packages\\simpletransformers\\classification\\classification_model.py:612: UserWarning: Dataframe headers not specified. Falling back to using column 0 as text and column 1 as labels.\n",
            "  warnings.warn(\n"
          ]
        },
        {
          "output_type": "stream",
          "name": "stdout",
          "text": [
            "\n",
            "NOW EVALUATE THE TEST DF.\n"
          ]
        },
        {
          "output_type": "stream",
          "name": "stderr",
          "text": [
            "C:\\Users\\Domenico\\.conda\\envs\\tf\\lib\\site-packages\\simpletransformers\\classification\\classification_model.py:1454: UserWarning: Dataframe headers not specified. Falling back to using column 0 as text and column 1 as labels.\n",
            "  warnings.warn(\n"
          ]
        },
        {
          "output_type": "stream",
          "name": "stdout",
          "text": [
            "{'mcc': 0.6910185707743357, 'tp': 2189, 'tn': 2036, 'fp': 457, 'fn': 318, 'auroc': 0.919273287102571, 'auprc': 0.9139301183758481, 'eval_loss': 0.433151958373189}\n",
            "Correct predictions are:  4225\n",
            "Total predictions are:  5000\n",
            "Accuracy on test set is: 0.845 \n",
            "\n",
            "\n",
            "\n",
            "EPOCH NUMBER:  2\n",
            "\n",
            "NOW TRAIN THE MODEL.\n"
          ]
        },
        {
          "output_type": "stream",
          "name": "stderr",
          "text": [
            "C:\\Users\\Domenico\\.conda\\envs\\tf\\lib\\site-packages\\simpletransformers\\classification\\classification_model.py:612: UserWarning: Dataframe headers not specified. Falling back to using column 0 as text and column 1 as labels.\n",
            "  warnings.warn(\n"
          ]
        },
        {
          "output_type": "stream",
          "name": "stdout",
          "text": [
            "\n",
            "NOW EVALUATE THE TEST DF.\n"
          ]
        },
        {
          "output_type": "stream",
          "name": "stderr",
          "text": [
            "C:\\Users\\Domenico\\.conda\\envs\\tf\\lib\\site-packages\\simpletransformers\\classification\\classification_model.py:1454: UserWarning: Dataframe headers not specified. Falling back to using column 0 as text and column 1 as labels.\n",
            "  warnings.warn(\n"
          ]
        },
        {
          "output_type": "stream",
          "name": "stdout",
          "text": [
            "{'mcc': 0.6753412086110636, 'tp': 2052, 'tn': 2135, 'fp': 358, 'fn': 455, 'auroc': 0.9210755412322432, 'auprc': 0.9157985427165687, 'eval_loss': 0.5353094352990388}\n",
            "Correct predictions are:  4187\n",
            "Total predictions are:  5000\n",
            "Accuracy on test set is: 0.8374 \n",
            "\n",
            "\n",
            "\n",
            "EPOCH NUMBER:  3\n",
            "\n",
            "NOW TRAIN THE MODEL.\n"
          ]
        },
        {
          "output_type": "stream",
          "name": "stderr",
          "text": [
            "C:\\Users\\Domenico\\.conda\\envs\\tf\\lib\\site-packages\\simpletransformers\\classification\\classification_model.py:612: UserWarning: Dataframe headers not specified. Falling back to using column 0 as text and column 1 as labels.\n",
            "  warnings.warn(\n"
          ]
        },
        {
          "output_type": "stream",
          "name": "stdout",
          "text": [
            "\n",
            "NOW EVALUATE THE TEST DF.\n"
          ]
        },
        {
          "output_type": "stream",
          "name": "stderr",
          "text": [
            "C:\\Users\\Domenico\\.conda\\envs\\tf\\lib\\site-packages\\simpletransformers\\classification\\classification_model.py:1454: UserWarning: Dataframe headers not specified. Falling back to using column 0 as text and column 1 as labels.\n",
            "  warnings.warn(\n"
          ]
        },
        {
          "output_type": "stream",
          "name": "stdout",
          "text": [
            "{'mcc': 0.6864132214796564, 'tp': 2108, 'tn': 2108, 'fp': 385, 'fn': 399, 'auroc': 0.9233286788968427, 'auprc': 0.9199330409033932, 'eval_loss': 0.5908059426635504}\n",
            "Correct predictions are:  4216\n",
            "Total predictions are:  5000\n",
            "Accuracy on test set is: 0.8432 \n",
            "\n",
            "\n",
            "\n",
            "EPOCH NUMBER:  4\n",
            "\n",
            "NOW TRAIN THE MODEL.\n"
          ]
        },
        {
          "output_type": "stream",
          "name": "stderr",
          "text": [
            "C:\\Users\\Domenico\\.conda\\envs\\tf\\lib\\site-packages\\simpletransformers\\classification\\classification_model.py:612: UserWarning: Dataframe headers not specified. Falling back to using column 0 as text and column 1 as labels.\n",
            "  warnings.warn(\n"
          ]
        },
        {
          "output_type": "stream",
          "name": "stdout",
          "text": [
            "\n",
            "NOW EVALUATE THE TEST DF.\n"
          ]
        },
        {
          "output_type": "stream",
          "name": "stderr",
          "text": [
            "C:\\Users\\Domenico\\.conda\\envs\\tf\\lib\\site-packages\\simpletransformers\\classification\\classification_model.py:1454: UserWarning: Dataframe headers not specified. Falling back to using column 0 as text and column 1 as labels.\n",
            "  warnings.warn(\n"
          ]
        },
        {
          "output_type": "stream",
          "name": "stdout",
          "text": [
            "{'mcc': 0.6780908152780556, 'tp': 2218, 'tn': 1970, 'fp': 523, 'fn': 289, 'auroc': 0.9228712353104848, 'auprc': 0.9208907499528706, 'eval_loss': 0.6492062390334904}\n",
            "Correct predictions are:  4188\n",
            "Total predictions are:  5000\n",
            "Accuracy on test set is: 0.8376 \n",
            "\n",
            "\n",
            "\n",
            "EPOCH NUMBER:  5\n",
            "\n",
            "NOW TRAIN THE MODEL.\n"
          ]
        },
        {
          "output_type": "stream",
          "name": "stderr",
          "text": [
            "C:\\Users\\Domenico\\.conda\\envs\\tf\\lib\\site-packages\\simpletransformers\\classification\\classification_model.py:612: UserWarning: Dataframe headers not specified. Falling back to using column 0 as text and column 1 as labels.\n",
            "  warnings.warn(\n"
          ]
        },
        {
          "output_type": "stream",
          "name": "stdout",
          "text": [
            "\n",
            "NOW EVALUATE THE TEST DF.\n"
          ]
        },
        {
          "output_type": "stream",
          "name": "stderr",
          "text": [
            "C:\\Users\\Domenico\\.conda\\envs\\tf\\lib\\site-packages\\simpletransformers\\classification\\classification_model.py:1454: UserWarning: Dataframe headers not specified. Falling back to using column 0 as text and column 1 as labels.\n",
            "  warnings.warn(\n"
          ]
        },
        {
          "output_type": "stream",
          "name": "stdout",
          "text": [
            "{'mcc': 0.6854092099885071, 'tp': 2084, 'tn': 2129, 'fp': 364, 'fn': 423, 'auroc': 0.9253464547162049, 'auprc': 0.9214880287635536, 'eval_loss': 0.6611487139694393}\n",
            "Correct predictions are:  4213\n",
            "Total predictions are:  5000\n",
            "Accuracy on test set is: 0.8426 \n",
            "\n",
            "\n",
            "\n",
            "EPOCH NUMBER:  6\n",
            "\n",
            "NOW TRAIN THE MODEL.\n"
          ]
        },
        {
          "output_type": "stream",
          "name": "stderr",
          "text": [
            "C:\\Users\\Domenico\\.conda\\envs\\tf\\lib\\site-packages\\simpletransformers\\classification\\classification_model.py:612: UserWarning: Dataframe headers not specified. Falling back to using column 0 as text and column 1 as labels.\n",
            "  warnings.warn(\n"
          ]
        },
        {
          "output_type": "stream",
          "name": "stdout",
          "text": [
            "\n",
            "NOW EVALUATE THE TEST DF.\n"
          ]
        },
        {
          "output_type": "stream",
          "name": "stderr",
          "text": [
            "C:\\Users\\Domenico\\.conda\\envs\\tf\\lib\\site-packages\\simpletransformers\\classification\\classification_model.py:1454: UserWarning: Dataframe headers not specified. Falling back to using column 0 as text and column 1 as labels.\n",
            "  warnings.warn(\n"
          ]
        },
        {
          "output_type": "stream",
          "name": "stdout",
          "text": [
            "{'mcc': 0.6849350037970701, 'tp': 2179, 'tn': 2031, 'fp': 462, 'fn': 328, 'auroc': 0.9229901162425114, 'auprc': 0.919377552079525, 'eval_loss': 0.736071564488858}\n",
            "Correct predictions are:  4210\n",
            "Total predictions are:  5000\n",
            "Accuracy on test set is: 0.842 \n",
            "\n",
            "\n",
            "\n",
            "EPOCH NUMBER:  7\n",
            "\n",
            "NOW TRAIN THE MODEL.\n"
          ]
        },
        {
          "output_type": "stream",
          "name": "stderr",
          "text": [
            "C:\\Users\\Domenico\\.conda\\envs\\tf\\lib\\site-packages\\simpletransformers\\classification\\classification_model.py:612: UserWarning: Dataframe headers not specified. Falling back to using column 0 as text and column 1 as labels.\n",
            "  warnings.warn(\n"
          ]
        },
        {
          "output_type": "stream",
          "name": "stdout",
          "text": [
            "\n",
            "NOW EVALUATE THE TEST DF.\n"
          ]
        },
        {
          "output_type": "stream",
          "name": "stderr",
          "text": [
            "C:\\Users\\Domenico\\.conda\\envs\\tf\\lib\\site-packages\\simpletransformers\\classification\\classification_model.py:1454: UserWarning: Dataframe headers not specified. Falling back to using column 0 as text and column 1 as labels.\n",
            "  warnings.warn(\n"
          ]
        },
        {
          "output_type": "stream",
          "name": "stdout",
          "text": [
            "{'mcc': 0.6781307873104901, 'tp': 2131, 'tn': 2064, 'fp': 429, 'fn': 376, 'auroc': 0.9203492155378499, 'auprc': 0.9164066348722227, 'eval_loss': 0.73970800871104}\n",
            "Correct predictions are:  4195\n",
            "Total predictions are:  5000\n",
            "Accuracy on test set is: 0.839 \n",
            "\n",
            "\n",
            "\n",
            "EPOCH NUMBER:  8\n",
            "\n",
            "NOW TRAIN THE MODEL.\n"
          ]
        },
        {
          "output_type": "stream",
          "name": "stderr",
          "text": [
            "C:\\Users\\Domenico\\.conda\\envs\\tf\\lib\\site-packages\\simpletransformers\\classification\\classification_model.py:612: UserWarning: Dataframe headers not specified. Falling back to using column 0 as text and column 1 as labels.\n",
            "  warnings.warn(\n"
          ]
        },
        {
          "output_type": "stream",
          "name": "stdout",
          "text": [
            "\n",
            "NOW EVALUATE THE TEST DF.\n"
          ]
        },
        {
          "output_type": "stream",
          "name": "stderr",
          "text": [
            "C:\\Users\\Domenico\\.conda\\envs\\tf\\lib\\site-packages\\simpletransformers\\classification\\classification_model.py:1454: UserWarning: Dataframe headers not specified. Falling back to using column 0 as text and column 1 as labels.\n",
            "  warnings.warn(\n"
          ]
        },
        {
          "output_type": "stream",
          "name": "stdout",
          "text": [
            "{'mcc': 0.6761201247507449, 'tp': 2024, 'tn': 2163, 'fp': 330, 'fn': 483, 'auroc': 0.9214997845583109, 'auprc': 0.917161593724703, 'eval_loss': 0.8749300906583667}\n",
            "Correct predictions are:  4187\n",
            "Total predictions are:  5000\n",
            "Accuracy on test set is: 0.8374 \n",
            "\n",
            "\n",
            "\n",
            "EPOCH NUMBER:  9\n",
            "\n",
            "NOW TRAIN THE MODEL.\n"
          ]
        },
        {
          "output_type": "stream",
          "name": "stderr",
          "text": [
            "C:\\Users\\Domenico\\.conda\\envs\\tf\\lib\\site-packages\\simpletransformers\\classification\\classification_model.py:612: UserWarning: Dataframe headers not specified. Falling back to using column 0 as text and column 1 as labels.\n",
            "  warnings.warn(\n"
          ]
        },
        {
          "output_type": "stream",
          "name": "stdout",
          "text": [
            "\n",
            "NOW EVALUATE THE TEST DF.\n"
          ]
        },
        {
          "output_type": "stream",
          "name": "stderr",
          "text": [
            "C:\\Users\\Domenico\\.conda\\envs\\tf\\lib\\site-packages\\simpletransformers\\classification\\classification_model.py:1454: UserWarning: Dataframe headers not specified. Falling back to using column 0 as text and column 1 as labels.\n",
            "  warnings.warn(\n"
          ]
        },
        {
          "output_type": "stream",
          "name": "stdout",
          "text": [
            "{'mcc': 0.6775585581192461, 'tp': 2146, 'tn': 2047, 'fp': 446, 'fn': 361, 'auroc': 0.9088940057290048, 'auprc': 0.9103466381028469, 'eval_loss': 0.7522753954455257}\n",
            "Correct predictions are:  4193\n",
            "Total predictions are:  5000\n",
            "Accuracy on test set is: 0.8386 \n",
            "\n",
            "\n",
            "[0.8346, 0.845, 0.8374, 0.8432, 0.8376, 0.8426, 0.842, 0.839, 0.8374, 0.8386]\n",
            "\n",
            "\n",
            " Over all runs maximum accuracies are: [0.7776, 0.7944, 0.8062, 0.8094, 0.845]\n",
            "The median is: 0.8062\n",
            "RoBERTa Accuracy Score on Test set ->  ['0.8062 +/- 0.038799999999999946']\n"
          ]
        },
        {
          "output_type": "stream",
          "name": "stderr",
          "text": [
            "Some weights of the model checkpoint at roberta-base were not used when initializing RobertaForSequenceClassification: ['roberta.pooler.dense.bias', 'lm_head.bias', 'lm_head.dense.bias', 'lm_head.decoder.weight', 'lm_head.dense.weight', 'roberta.pooler.dense.weight', 'lm_head.layer_norm.weight', 'lm_head.layer_norm.bias']\n",
            "- This IS expected if you are initializing RobertaForSequenceClassification from the checkpoint of a model trained on another task or with another architecture (e.g. initializing a BertForSequenceClassification model from a BertForPreTraining model).\n",
            "- This IS NOT expected if you are initializing RobertaForSequenceClassification from the checkpoint of a model that you expect to be exactly identical (initializing a BertForSequenceClassification model from a BertForSequenceClassification model).\n",
            "Some weights of RobertaForSequenceClassification were not initialized from the model checkpoint at roberta-base and are newly initialized: ['classifier.dense.weight', 'classifier.out_proj.weight', 'classifier.out_proj.bias', 'classifier.dense.bias']\n",
            "You should probably TRAIN this model on a down-stream task to be able to use it for predictions and inference.\n"
          ]
        },
        {
          "output_type": "stream",
          "name": "stdout",
          "text": [
            "\n",
            "\n",
            "* * * * EVALUATION USING LOW_RSW_STM AS PREPROCESSING FUNCTION * * * *\n",
            "\n",
            "RUN NUMBER:  1\n"
          ]
        },
        {
          "output_type": "stream",
          "name": "stderr",
          "text": [
            "Some weights of the model checkpoint at roberta-base were not used when initializing RobertaForSequenceClassification: ['roberta.pooler.dense.bias', 'lm_head.bias', 'lm_head.dense.bias', 'lm_head.decoder.weight', 'lm_head.dense.weight', 'roberta.pooler.dense.weight', 'lm_head.layer_norm.weight', 'lm_head.layer_norm.bias']\n",
            "- This IS expected if you are initializing RobertaForSequenceClassification from the checkpoint of a model trained on another task or with another architecture (e.g. initializing a BertForSequenceClassification model from a BertForPreTraining model).\n",
            "- This IS NOT expected if you are initializing RobertaForSequenceClassification from the checkpoint of a model that you expect to be exactly identical (initializing a BertForSequenceClassification model from a BertForSequenceClassification model).\n",
            "Some weights of RobertaForSequenceClassification were not initialized from the model checkpoint at roberta-base and are newly initialized: ['classifier.dense.weight', 'classifier.out_proj.weight', 'classifier.out_proj.bias', 'classifier.dense.bias']\n",
            "You should probably TRAIN this model on a down-stream task to be able to use it for predictions and inference.\n"
          ]
        },
        {
          "output_type": "stream",
          "name": "stdout",
          "text": [
            "\n",
            "EPOCH NUMBER:  0\n",
            "\n",
            "NOW TRAIN THE MODEL.\n"
          ]
        },
        {
          "output_type": "stream",
          "name": "stderr",
          "text": [
            "C:\\Users\\Domenico\\.conda\\envs\\tf\\lib\\site-packages\\simpletransformers\\classification\\classification_model.py:612: UserWarning: Dataframe headers not specified. Falling back to using column 0 as text and column 1 as labels.\n",
            "  warnings.warn(\n"
          ]
        },
        {
          "output_type": "stream",
          "name": "stdout",
          "text": [
            "\n",
            "NOW EVALUATE THE TEST DF.\n"
          ]
        },
        {
          "output_type": "stream",
          "name": "stderr",
          "text": [
            "C:\\Users\\Domenico\\.conda\\envs\\tf\\lib\\site-packages\\simpletransformers\\classification\\classification_model.py:1454: UserWarning: Dataframe headers not specified. Falling back to using column 0 as text and column 1 as labels.\n",
            "  warnings.warn(\n"
          ]
        },
        {
          "output_type": "stream",
          "name": "stdout",
          "text": [
            "{'mcc': 0.0, 'tp': 0, 'tn': 2493, 'fp': 0, 'fn': 2507, 'auroc': 0.7185222732146219, 'auprc': 0.6973399118055621, 'eval_loss': 0.6939784601211548}\n",
            "Correct predictions are:  2493\n",
            "Total predictions are:  5000\n",
            "Accuracy on test set is: 0.4986 \n",
            "\n",
            "\n",
            "\n",
            "EPOCH NUMBER:  1\n",
            "\n",
            "NOW TRAIN THE MODEL.\n"
          ]
        },
        {
          "output_type": "stream",
          "name": "stderr",
          "text": [
            "C:\\Users\\Domenico\\.conda\\envs\\tf\\lib\\site-packages\\simpletransformers\\classification\\classification_model.py:612: UserWarning: Dataframe headers not specified. Falling back to using column 0 as text and column 1 as labels.\n",
            "  warnings.warn(\n"
          ]
        },
        {
          "output_type": "stream",
          "name": "stdout",
          "text": [
            "\n",
            "NOW EVALUATE THE TEST DF.\n"
          ]
        },
        {
          "output_type": "stream",
          "name": "stderr",
          "text": [
            "C:\\Users\\Domenico\\.conda\\envs\\tf\\lib\\site-packages\\simpletransformers\\classification\\classification_model.py:1454: UserWarning: Dataframe headers not specified. Falling back to using column 0 as text and column 1 as labels.\n",
            "  warnings.warn(\n"
          ]
        },
        {
          "output_type": "stream",
          "name": "stdout",
          "text": [
            "{'mcc': 0.0, 'tp': 0, 'tn': 2493, 'fp': 0, 'fn': 2507, 'auroc': 0.5998827030803922, 'auprc': 0.6113053512459055, 'eval_loss': 0.6933089496612549}\n",
            "Correct predictions are:  2493\n",
            "Total predictions are:  5000\n",
            "Accuracy on test set is: 0.4986 \n",
            "\n",
            "\n",
            "\n",
            "EPOCH NUMBER:  2\n",
            "\n",
            "NOW TRAIN THE MODEL.\n"
          ]
        },
        {
          "output_type": "stream",
          "name": "stderr",
          "text": [
            "C:\\Users\\Domenico\\.conda\\envs\\tf\\lib\\site-packages\\simpletransformers\\classification\\classification_model.py:612: UserWarning: Dataframe headers not specified. Falling back to using column 0 as text and column 1 as labels.\n",
            "  warnings.warn(\n"
          ]
        },
        {
          "output_type": "stream",
          "name": "stdout",
          "text": [
            "\n",
            "NOW EVALUATE THE TEST DF.\n"
          ]
        },
        {
          "output_type": "stream",
          "name": "stderr",
          "text": [
            "C:\\Users\\Domenico\\.conda\\envs\\tf\\lib\\site-packages\\simpletransformers\\classification\\classification_model.py:1454: UserWarning: Dataframe headers not specified. Falling back to using column 0 as text and column 1 as labels.\n",
            "  warnings.warn(\n"
          ]
        },
        {
          "output_type": "stream",
          "name": "stdout",
          "text": [
            "{'mcc': 0.0, 'tp': 0, 'tn': 2493, 'fp': 0, 'fn': 2507, 'auroc': 0.7242470380967786, 'auprc': 0.7059718339723986, 'eval_loss': 0.6932416665077209}\n",
            "Correct predictions are:  2493\n",
            "Total predictions are:  5000\n",
            "Accuracy on test set is: 0.4986 \n",
            "\n",
            "\n",
            "\n",
            "EPOCH NUMBER:  3\n",
            "\n",
            "NOW TRAIN THE MODEL.\n"
          ]
        },
        {
          "output_type": "stream",
          "name": "stderr",
          "text": [
            "C:\\Users\\Domenico\\.conda\\envs\\tf\\lib\\site-packages\\simpletransformers\\classification\\classification_model.py:612: UserWarning: Dataframe headers not specified. Falling back to using column 0 as text and column 1 as labels.\n",
            "  warnings.warn(\n"
          ]
        },
        {
          "output_type": "stream",
          "name": "stdout",
          "text": [
            "\n",
            "NOW EVALUATE THE TEST DF.\n"
          ]
        },
        {
          "output_type": "stream",
          "name": "stderr",
          "text": [
            "C:\\Users\\Domenico\\.conda\\envs\\tf\\lib\\site-packages\\simpletransformers\\classification\\classification_model.py:1454: UserWarning: Dataframe headers not specified. Falling back to using column 0 as text and column 1 as labels.\n",
            "  warnings.warn(\n"
          ]
        },
        {
          "output_type": "stream",
          "name": "stdout",
          "text": [
            "{'mcc': 0.0, 'tp': 0, 'tn': 2493, 'fp': 0, 'fn': 2507, 'auroc': 0.6646261706691782, 'auprc': 0.6532196881033109, 'eval_loss': 0.6931681035041809}\n",
            "Correct predictions are:  2493\n",
            "Total predictions are:  5000\n",
            "Accuracy on test set is: 0.4986 \n",
            "\n",
            "\n",
            "\n",
            "EPOCH NUMBER:  4\n",
            "\n",
            "NOW TRAIN THE MODEL.\n"
          ]
        },
        {
          "output_type": "stream",
          "name": "stderr",
          "text": [
            "C:\\Users\\Domenico\\.conda\\envs\\tf\\lib\\site-packages\\simpletransformers\\classification\\classification_model.py:612: UserWarning: Dataframe headers not specified. Falling back to using column 0 as text and column 1 as labels.\n",
            "  warnings.warn(\n"
          ]
        },
        {
          "output_type": "stream",
          "name": "stdout",
          "text": [
            "\n",
            "NOW EVALUATE THE TEST DF.\n"
          ]
        },
        {
          "output_type": "stream",
          "name": "stderr",
          "text": [
            "C:\\Users\\Domenico\\.conda\\envs\\tf\\lib\\site-packages\\simpletransformers\\classification\\classification_model.py:1454: UserWarning: Dataframe headers not specified. Falling back to using column 0 as text and column 1 as labels.\n",
            "  warnings.warn(\n"
          ]
        },
        {
          "output_type": "stream",
          "name": "stdout",
          "text": [
            "{'mcc': 0.0, 'tp': 2507, 'tn': 0, 'fp': 2493, 'fn': 0, 'auroc': 0.44128177964915244, 'auprc': 0.4641411084264193, 'eval_loss': 0.6932411531448365}\n",
            "Correct predictions are:  2507\n",
            "Total predictions are:  5000\n",
            "Accuracy on test set is: 0.5014 \n",
            "\n",
            "\n",
            "\n",
            "EPOCH NUMBER:  5\n",
            "\n",
            "NOW TRAIN THE MODEL.\n"
          ]
        },
        {
          "output_type": "stream",
          "name": "stderr",
          "text": [
            "C:\\Users\\Domenico\\.conda\\envs\\tf\\lib\\site-packages\\simpletransformers\\classification\\classification_model.py:612: UserWarning: Dataframe headers not specified. Falling back to using column 0 as text and column 1 as labels.\n",
            "  warnings.warn(\n"
          ]
        },
        {
          "output_type": "stream",
          "name": "stdout",
          "text": [
            "\n",
            "NOW EVALUATE THE TEST DF.\n"
          ]
        },
        {
          "output_type": "stream",
          "name": "stderr",
          "text": [
            "C:\\Users\\Domenico\\.conda\\envs\\tf\\lib\\site-packages\\simpletransformers\\classification\\classification_model.py:1454: UserWarning: Dataframe headers not specified. Falling back to using column 0 as text and column 1 as labels.\n",
            "  warnings.warn(\n"
          ]
        },
        {
          "output_type": "stream",
          "name": "stdout",
          "text": [
            "{'mcc': 0.0, 'tp': 0, 'tn': 2493, 'fp': 0, 'fn': 2507, 'auroc': 0.4841313155895142, 'auprc': 0.49850918547985634, 'eval_loss': 0.6932428451538086}\n",
            "Correct predictions are:  2493\n",
            "Total predictions are:  5000\n",
            "Accuracy on test set is: 0.4986 \n",
            "\n",
            "\n",
            "\n",
            "EPOCH NUMBER:  6\n",
            "\n",
            "NOW TRAIN THE MODEL.\n"
          ]
        },
        {
          "output_type": "stream",
          "name": "stderr",
          "text": [
            "C:\\Users\\Domenico\\.conda\\envs\\tf\\lib\\site-packages\\simpletransformers\\classification\\classification_model.py:612: UserWarning: Dataframe headers not specified. Falling back to using column 0 as text and column 1 as labels.\n",
            "  warnings.warn(\n"
          ]
        },
        {
          "output_type": "stream",
          "name": "stdout",
          "text": [
            "\n",
            "NOW EVALUATE THE TEST DF.\n"
          ]
        },
        {
          "output_type": "stream",
          "name": "stderr",
          "text": [
            "C:\\Users\\Domenico\\.conda\\envs\\tf\\lib\\site-packages\\simpletransformers\\classification\\classification_model.py:1454: UserWarning: Dataframe headers not specified. Falling back to using column 0 as text and column 1 as labels.\n",
            "  warnings.warn(\n"
          ]
        },
        {
          "output_type": "stream",
          "name": "stdout",
          "text": [
            "{'mcc': 0.0, 'tp': 0, 'tn': 2493, 'fp': 0, 'fn': 2507, 'auroc': 0.5849249858118888, 'auprc': 0.5793836904185489, 'eval_loss': 0.6951537980079651}\n",
            "Correct predictions are:  2493\n",
            "Total predictions are:  5000\n",
            "Accuracy on test set is: 0.4986 \n",
            "\n",
            "\n",
            "\n",
            "EPOCH NUMBER:  7\n",
            "\n",
            "NOW TRAIN THE MODEL.\n"
          ]
        },
        {
          "output_type": "stream",
          "name": "stderr",
          "text": [
            "C:\\Users\\Domenico\\.conda\\envs\\tf\\lib\\site-packages\\simpletransformers\\classification\\classification_model.py:612: UserWarning: Dataframe headers not specified. Falling back to using column 0 as text and column 1 as labels.\n",
            "  warnings.warn(\n"
          ]
        },
        {
          "output_type": "stream",
          "name": "stdout",
          "text": [
            "\n",
            "NOW EVALUATE THE TEST DF.\n"
          ]
        },
        {
          "output_type": "stream",
          "name": "stderr",
          "text": [
            "C:\\Users\\Domenico\\.conda\\envs\\tf\\lib\\site-packages\\simpletransformers\\classification\\classification_model.py:1454: UserWarning: Dataframe headers not specified. Falling back to using column 0 as text and column 1 as labels.\n",
            "  warnings.warn(\n"
          ]
        },
        {
          "output_type": "stream",
          "name": "stdout",
          "text": [
            "{'mcc': 0.0, 'tp': 0, 'tn': 2493, 'fp': 0, 'fn': 2507, 'auroc': 0.47815886876553115, 'auprc': 0.4865851544427301, 'eval_loss': 0.6931788876533508}\n",
            "Correct predictions are:  2493\n",
            "Total predictions are:  5000\n",
            "Accuracy on test set is: 0.4986 \n",
            "\n",
            "\n",
            "\n",
            "EPOCH NUMBER:  8\n",
            "\n",
            "NOW TRAIN THE MODEL.\n"
          ]
        },
        {
          "output_type": "stream",
          "name": "stderr",
          "text": [
            "C:\\Users\\Domenico\\.conda\\envs\\tf\\lib\\site-packages\\simpletransformers\\classification\\classification_model.py:612: UserWarning: Dataframe headers not specified. Falling back to using column 0 as text and column 1 as labels.\n",
            "  warnings.warn(\n"
          ]
        },
        {
          "output_type": "stream",
          "name": "stdout",
          "text": [
            "\n",
            "NOW EVALUATE THE TEST DF.\n"
          ]
        },
        {
          "output_type": "stream",
          "name": "stderr",
          "text": [
            "C:\\Users\\Domenico\\.conda\\envs\\tf\\lib\\site-packages\\simpletransformers\\classification\\classification_model.py:1454: UserWarning: Dataframe headers not specified. Falling back to using column 0 as text and column 1 as labels.\n",
            "  warnings.warn(\n"
          ]
        },
        {
          "output_type": "stream",
          "name": "stdout",
          "text": [
            "{'mcc': 0.0, 'tp': 2507, 'tn': 0, 'fp': 2493, 'fn': 0, 'auroc': 0.4798386419349528, 'auprc': 0.48794417493361064, 'eval_loss': 0.6934553374290466}\n",
            "Correct predictions are:  2507\n",
            "Total predictions are:  5000\n",
            "Accuracy on test set is: 0.5014 \n",
            "\n",
            "\n",
            "\n",
            "EPOCH NUMBER:  9\n",
            "\n",
            "NOW TRAIN THE MODEL.\n"
          ]
        },
        {
          "output_type": "stream",
          "name": "stderr",
          "text": [
            "C:\\Users\\Domenico\\.conda\\envs\\tf\\lib\\site-packages\\simpletransformers\\classification\\classification_model.py:612: UserWarning: Dataframe headers not specified. Falling back to using column 0 as text and column 1 as labels.\n",
            "  warnings.warn(\n"
          ]
        },
        {
          "output_type": "stream",
          "name": "stdout",
          "text": [
            "\n",
            "NOW EVALUATE THE TEST DF.\n"
          ]
        },
        {
          "output_type": "stream",
          "name": "stderr",
          "text": [
            "C:\\Users\\Domenico\\.conda\\envs\\tf\\lib\\site-packages\\simpletransformers\\classification\\classification_model.py:1454: UserWarning: Dataframe headers not specified. Falling back to using column 0 as text and column 1 as labels.\n",
            "  warnings.warn(\n"
          ]
        },
        {
          "output_type": "stream",
          "name": "stdout",
          "text": [
            "{'mcc': 0.0, 'tp': 2507, 'tn': 0, 'fp': 2493, 'fn': 0, 'auroc': 0.5305941598582133, 'auprc': 0.5287344317267568, 'eval_loss': 0.6931493614196778}\n",
            "Correct predictions are:  2507\n",
            "Total predictions are:  5000\n",
            "Accuracy on test set is: 0.5014 \n",
            "\n",
            "\n",
            "[0.4986, 0.4986, 0.4986, 0.4986, 0.5014, 0.4986, 0.4986, 0.4986, 0.5014, 0.5014]\n",
            "\n",
            "RUN NUMBER:  2\n"
          ]
        },
        {
          "output_type": "stream",
          "name": "stderr",
          "text": [
            "Some weights of the model checkpoint at roberta-base were not used when initializing RobertaForSequenceClassification: ['roberta.pooler.dense.bias', 'lm_head.bias', 'lm_head.dense.bias', 'lm_head.decoder.weight', 'lm_head.dense.weight', 'roberta.pooler.dense.weight', 'lm_head.layer_norm.weight', 'lm_head.layer_norm.bias']\n",
            "- This IS expected if you are initializing RobertaForSequenceClassification from the checkpoint of a model trained on another task or with another architecture (e.g. initializing a BertForSequenceClassification model from a BertForPreTraining model).\n",
            "- This IS NOT expected if you are initializing RobertaForSequenceClassification from the checkpoint of a model that you expect to be exactly identical (initializing a BertForSequenceClassification model from a BertForSequenceClassification model).\n",
            "Some weights of RobertaForSequenceClassification were not initialized from the model checkpoint at roberta-base and are newly initialized: ['classifier.dense.weight', 'classifier.out_proj.weight', 'classifier.out_proj.bias', 'classifier.dense.bias']\n",
            "You should probably TRAIN this model on a down-stream task to be able to use it for predictions and inference.\n"
          ]
        },
        {
          "output_type": "stream",
          "name": "stdout",
          "text": [
            "\n",
            "EPOCH NUMBER:  0\n",
            "\n",
            "NOW TRAIN THE MODEL.\n"
          ]
        },
        {
          "output_type": "stream",
          "name": "stderr",
          "text": [
            "C:\\Users\\Domenico\\.conda\\envs\\tf\\lib\\site-packages\\simpletransformers\\classification\\classification_model.py:612: UserWarning: Dataframe headers not specified. Falling back to using column 0 as text and column 1 as labels.\n",
            "  warnings.warn(\n"
          ]
        },
        {
          "output_type": "stream",
          "name": "stdout",
          "text": [
            "\n",
            "NOW EVALUATE THE TEST DF.\n"
          ]
        },
        {
          "output_type": "stream",
          "name": "stderr",
          "text": [
            "C:\\Users\\Domenico\\.conda\\envs\\tf\\lib\\site-packages\\simpletransformers\\classification\\classification_model.py:1454: UserWarning: Dataframe headers not specified. Falling back to using column 0 as text and column 1 as labels.\n",
            "  warnings.warn(\n"
          ]
        },
        {
          "output_type": "stream",
          "name": "stdout",
          "text": [
            "{'mcc': 0.6767857136107553, 'tp': 2164, 'tn': 2026, 'fp': 467, 'fn': 343, 'auroc': 0.9176259141871672, 'auprc': 0.9148145986069293, 'eval_loss': 0.38454319678843024}\n",
            "Correct predictions are:  4190\n",
            "Total predictions are:  5000\n",
            "Accuracy on test set is: 0.838 \n",
            "\n",
            "\n",
            "\n",
            "EPOCH NUMBER:  1\n",
            "\n",
            "NOW TRAIN THE MODEL.\n"
          ]
        },
        {
          "output_type": "stream",
          "name": "stderr",
          "text": [
            "C:\\Users\\Domenico\\.conda\\envs\\tf\\lib\\site-packages\\simpletransformers\\classification\\classification_model.py:612: UserWarning: Dataframe headers not specified. Falling back to using column 0 as text and column 1 as labels.\n",
            "  warnings.warn(\n"
          ]
        },
        {
          "output_type": "stream",
          "name": "stdout",
          "text": [
            "\n",
            "NOW EVALUATE THE TEST DF.\n"
          ]
        },
        {
          "output_type": "stream",
          "name": "stderr",
          "text": [
            "C:\\Users\\Domenico\\.conda\\envs\\tf\\lib\\site-packages\\simpletransformers\\classification\\classification_model.py:1454: UserWarning: Dataframe headers not specified. Falling back to using column 0 as text and column 1 as labels.\n",
            "  warnings.warn(\n"
          ]
        },
        {
          "output_type": "stream",
          "name": "stdout",
          "text": [
            "{'mcc': 0.6884337588984923, 'tp': 2132, 'tn': 2089, 'fp': 404, 'fn': 375, 'auroc': 0.9248037304612469, 'auprc': 0.9234015875555115, 'eval_loss': 0.3943739936470985}\n",
            "Correct predictions are:  4221\n",
            "Total predictions are:  5000\n",
            "Accuracy on test set is: 0.8442 \n",
            "\n",
            "\n",
            "\n",
            "EPOCH NUMBER:  2\n",
            "\n",
            "NOW TRAIN THE MODEL.\n"
          ]
        },
        {
          "output_type": "stream",
          "name": "stderr",
          "text": [
            "C:\\Users\\Domenico\\.conda\\envs\\tf\\lib\\site-packages\\simpletransformers\\classification\\classification_model.py:612: UserWarning: Dataframe headers not specified. Falling back to using column 0 as text and column 1 as labels.\n",
            "  warnings.warn(\n"
          ]
        },
        {
          "output_type": "stream",
          "name": "stdout",
          "text": [
            "\n",
            "NOW EVALUATE THE TEST DF.\n"
          ]
        },
        {
          "output_type": "stream",
          "name": "stderr",
          "text": [
            "C:\\Users\\Domenico\\.conda\\envs\\tf\\lib\\site-packages\\simpletransformers\\classification\\classification_model.py:1454: UserWarning: Dataframe headers not specified. Falling back to using column 0 as text and column 1 as labels.\n",
            "  warnings.warn(\n"
          ]
        },
        {
          "output_type": "stream",
          "name": "stdout",
          "text": [
            "{'mcc': 0.6864843856422886, 'tp': 2069, 'tn': 2146, 'fp': 347, 'fn': 438, 'auroc': 0.9240840448189113, 'auprc': 0.9230926142915344, 'eval_loss': 0.5212295402266085}\n",
            "Correct predictions are:  4215\n",
            "Total predictions are:  5000\n",
            "Accuracy on test set is: 0.843 \n",
            "\n",
            "\n",
            "\n",
            "EPOCH NUMBER:  3\n",
            "\n",
            "NOW TRAIN THE MODEL.\n"
          ]
        },
        {
          "output_type": "stream",
          "name": "stderr",
          "text": [
            "C:\\Users\\Domenico\\.conda\\envs\\tf\\lib\\site-packages\\simpletransformers\\classification\\classification_model.py:612: UserWarning: Dataframe headers not specified. Falling back to using column 0 as text and column 1 as labels.\n",
            "  warnings.warn(\n"
          ]
        },
        {
          "output_type": "stream",
          "name": "stdout",
          "text": [
            "\n",
            "NOW EVALUATE THE TEST DF.\n"
          ]
        },
        {
          "output_type": "stream",
          "name": "stderr",
          "text": [
            "C:\\Users\\Domenico\\.conda\\envs\\tf\\lib\\site-packages\\simpletransformers\\classification\\classification_model.py:1454: UserWarning: Dataframe headers not specified. Falling back to using column 0 as text and column 1 as labels.\n",
            "  warnings.warn(\n",
            "C:\\Users\\Domenico\\.conda\\envs\\tf\\lib\\site-packages\\simpletransformers\\classification\\classification_model.py:612: UserWarning: Dataframe headers not specified. Falling back to using column 0 as text and column 1 as labels.\n",
            "  warnings.warn(\n"
          ]
        },
        {
          "output_type": "stream",
          "name": "stdout",
          "text": [
            "{'mcc': 0.6764466982320946, 'tp': 2089, 'tn': 2102, 'fp': 391, 'fn': 418, 'auroc': 0.9213465033565863, 'auprc': 0.9202049462551513, 'eval_loss': 0.5913312573999167}\n",
            "Correct predictions are:  4191\n",
            "Total predictions are:  5000\n",
            "Accuracy on test set is: 0.8382 \n",
            "\n",
            "\n",
            "\n",
            "EPOCH NUMBER:  4\n",
            "\n",
            "NOW TRAIN THE MODEL.\n",
            "\n",
            "NOW EVALUATE THE TEST DF.\n"
          ]
        },
        {
          "output_type": "stream",
          "name": "stderr",
          "text": [
            "C:\\Users\\Domenico\\.conda\\envs\\tf\\lib\\site-packages\\simpletransformers\\classification\\classification_model.py:1454: UserWarning: Dataframe headers not specified. Falling back to using column 0 as text and column 1 as labels.\n",
            "  warnings.warn(\n"
          ]
        },
        {
          "output_type": "stream",
          "name": "stdout",
          "text": [
            "{'mcc': 0.6719725242168703, 'tp': 2140, 'tn': 2039, 'fp': 454, 'fn': 367, 'auroc': 0.9199872927003748, 'auprc': 0.9193783686652264, 'eval_loss': 0.6750512220859528}\n",
            "Correct predictions are:  4179\n",
            "Total predictions are:  5000\n",
            "Accuracy on test set is: 0.8358 \n",
            "\n",
            "\n",
            "\n",
            "EPOCH NUMBER:  5\n",
            "\n",
            "NOW TRAIN THE MODEL.\n"
          ]
        },
        {
          "output_type": "stream",
          "name": "stderr",
          "text": [
            "C:\\Users\\Domenico\\.conda\\envs\\tf\\lib\\site-packages\\simpletransformers\\classification\\classification_model.py:612: UserWarning: Dataframe headers not specified. Falling back to using column 0 as text and column 1 as labels.\n",
            "  warnings.warn(\n"
          ]
        },
        {
          "output_type": "stream",
          "name": "stdout",
          "text": [
            "\n",
            "NOW EVALUATE THE TEST DF.\n"
          ]
        },
        {
          "output_type": "stream",
          "name": "stderr",
          "text": [
            "C:\\Users\\Domenico\\.conda\\envs\\tf\\lib\\site-packages\\simpletransformers\\classification\\classification_model.py:1454: UserWarning: Dataframe headers not specified. Falling back to using column 0 as text and column 1 as labels.\n",
            "  warnings.warn(\n"
          ]
        },
        {
          "output_type": "stream",
          "name": "stdout",
          "text": [
            "{'mcc': 0.6699553247127821, 'tp': 2198, 'tn': 1971, 'fp': 522, 'fn': 309, 'auroc': 0.9171852707325227, 'auprc': 0.9164294369634045, 'eval_loss': 0.7038241250485182}\n",
            "Correct predictions are:  4169\n",
            "Total predictions are:  5000\n",
            "Accuracy on test set is: 0.8338 \n",
            "\n",
            "\n",
            "\n",
            "EPOCH NUMBER:  6\n",
            "\n",
            "NOW TRAIN THE MODEL.\n"
          ]
        },
        {
          "output_type": "stream",
          "name": "stderr",
          "text": [
            "C:\\Users\\Domenico\\.conda\\envs\\tf\\lib\\site-packages\\simpletransformers\\classification\\classification_model.py:612: UserWarning: Dataframe headers not specified. Falling back to using column 0 as text and column 1 as labels.\n",
            "  warnings.warn(\n"
          ]
        },
        {
          "output_type": "stream",
          "name": "stdout",
          "text": [
            "\n",
            "NOW EVALUATE THE TEST DF.\n"
          ]
        },
        {
          "output_type": "stream",
          "name": "stderr",
          "text": [
            "C:\\Users\\Domenico\\.conda\\envs\\tf\\lib\\site-packages\\simpletransformers\\classification\\classification_model.py:1454: UserWarning: Dataframe headers not specified. Falling back to using column 0 as text and column 1 as labels.\n",
            "  warnings.warn(\n"
          ]
        },
        {
          "output_type": "stream",
          "name": "stdout",
          "text": [
            "{'mcc': 0.6713035059883145, 'tp': 2120, 'tn': 2058, 'fp': 435, 'fn': 387, 'auroc': 0.9194933688280115, 'auprc': 0.9194484257904292, 'eval_loss': 0.7182616240404546}\n",
            "Correct predictions are:  4178\n",
            "Total predictions are:  5000\n",
            "Accuracy on test set is: 0.8356 \n",
            "\n",
            "\n",
            "\n",
            "EPOCH NUMBER:  7\n",
            "\n",
            "NOW TRAIN THE MODEL.\n"
          ]
        },
        {
          "output_type": "stream",
          "name": "stderr",
          "text": [
            "C:\\Users\\Domenico\\.conda\\envs\\tf\\lib\\site-packages\\simpletransformers\\classification\\classification_model.py:612: UserWarning: Dataframe headers not specified. Falling back to using column 0 as text and column 1 as labels.\n",
            "  warnings.warn(\n"
          ]
        },
        {
          "output_type": "stream",
          "name": "stdout",
          "text": [
            "\n",
            "NOW EVALUATE THE TEST DF.\n"
          ]
        },
        {
          "output_type": "stream",
          "name": "stderr",
          "text": [
            "C:\\Users\\Domenico\\.conda\\envs\\tf\\lib\\site-packages\\simpletransformers\\classification\\classification_model.py:1454: UserWarning: Dataframe headers not specified. Falling back to using column 0 as text and column 1 as labels.\n",
            "  warnings.warn(\n"
          ]
        },
        {
          "output_type": "stream",
          "name": "stdout",
          "text": [
            "{'mcc': 0.6792374067046777, 'tp': 2094, 'tn': 2104, 'fp': 389, 'fn': 413, 'auroc': 0.9224565120590545, 'auprc': 0.9210023553650031, 'eval_loss': 0.69751340399459}\n",
            "Correct predictions are:  4198\n",
            "Total predictions are:  5000\n",
            "Accuracy on test set is: 0.8396 \n",
            "\n",
            "\n",
            "\n",
            "EPOCH NUMBER:  8\n",
            "\n",
            "NOW TRAIN THE MODEL.\n"
          ]
        },
        {
          "output_type": "stream",
          "name": "stderr",
          "text": [
            "C:\\Users\\Domenico\\.conda\\envs\\tf\\lib\\site-packages\\simpletransformers\\classification\\classification_model.py:612: UserWarning: Dataframe headers not specified. Falling back to using column 0 as text and column 1 as labels.\n",
            "  warnings.warn(\n"
          ]
        },
        {
          "output_type": "stream",
          "name": "stdout",
          "text": [
            "\n",
            "NOW EVALUATE THE TEST DF.\n"
          ]
        },
        {
          "output_type": "stream",
          "name": "stderr",
          "text": [
            "C:\\Users\\Domenico\\.conda\\envs\\tf\\lib\\site-packages\\simpletransformers\\classification\\classification_model.py:1454: UserWarning: Dataframe headers not specified. Falling back to using column 0 as text and column 1 as labels.\n",
            "  warnings.warn(\n"
          ]
        },
        {
          "output_type": "stream",
          "name": "stdout",
          "text": [
            "{'mcc': 0.6490351026946903, 'tp': 2036, 'tn': 2086, 'fp': 407, 'fn': 471, 'auroc': 0.8853593412172351, 'auprc': 0.8136312646991207, 'eval_loss': 0.756492348754406}\n",
            "Correct predictions are:  4122\n",
            "Total predictions are:  5000\n",
            "Accuracy on test set is: 0.8244 \n",
            "\n",
            "\n",
            "\n",
            "EPOCH NUMBER:  9\n",
            "\n",
            "NOW TRAIN THE MODEL.\n"
          ]
        },
        {
          "output_type": "stream",
          "name": "stderr",
          "text": [
            "C:\\Users\\Domenico\\.conda\\envs\\tf\\lib\\site-packages\\simpletransformers\\classification\\classification_model.py:612: UserWarning: Dataframe headers not specified. Falling back to using column 0 as text and column 1 as labels.\n",
            "  warnings.warn(\n"
          ]
        },
        {
          "output_type": "stream",
          "name": "stdout",
          "text": [
            "\n",
            "NOW EVALUATE THE TEST DF.\n"
          ]
        },
        {
          "output_type": "stream",
          "name": "stderr",
          "text": [
            "C:\\Users\\Domenico\\.conda\\envs\\tf\\lib\\site-packages\\simpletransformers\\classification\\classification_model.py:1454: UserWarning: Dataframe headers not specified. Falling back to using column 0 as text and column 1 as labels.\n",
            "  warnings.warn(\n"
          ]
        },
        {
          "output_type": "stream",
          "name": "stdout",
          "text": [
            "{'mcc': 0.6801381562616967, 'tp': 2158, 'tn': 2041, 'fp': 452, 'fn': 349, 'auroc': 0.9206025775242079, 'auprc': 0.9178182442113946, 'eval_loss': 0.6463912157192826}\n",
            "Correct predictions are:  4199\n",
            "Total predictions are:  5000\n",
            "Accuracy on test set is: 0.8398 \n",
            "\n",
            "\n",
            "[0.838, 0.8442, 0.843, 0.8382, 0.8358, 0.8338, 0.8356, 0.8396, 0.8244, 0.8398]\n",
            "\n",
            "RUN NUMBER:  3\n"
          ]
        },
        {
          "output_type": "stream",
          "name": "stderr",
          "text": [
            "Some weights of the model checkpoint at roberta-base were not used when initializing RobertaForSequenceClassification: ['roberta.pooler.dense.bias', 'lm_head.bias', 'lm_head.dense.bias', 'lm_head.decoder.weight', 'lm_head.dense.weight', 'roberta.pooler.dense.weight', 'lm_head.layer_norm.weight', 'lm_head.layer_norm.bias']\n",
            "- This IS expected if you are initializing RobertaForSequenceClassification from the checkpoint of a model trained on another task or with another architecture (e.g. initializing a BertForSequenceClassification model from a BertForPreTraining model).\n",
            "- This IS NOT expected if you are initializing RobertaForSequenceClassification from the checkpoint of a model that you expect to be exactly identical (initializing a BertForSequenceClassification model from a BertForSequenceClassification model).\n",
            "Some weights of RobertaForSequenceClassification were not initialized from the model checkpoint at roberta-base and are newly initialized: ['classifier.dense.weight', 'classifier.out_proj.weight', 'classifier.out_proj.bias', 'classifier.dense.bias']\n",
            "You should probably TRAIN this model on a down-stream task to be able to use it for predictions and inference.\n"
          ]
        },
        {
          "output_type": "stream",
          "name": "stdout",
          "text": [
            "\n",
            "EPOCH NUMBER:  0\n",
            "\n",
            "NOW TRAIN THE MODEL.\n"
          ]
        },
        {
          "output_type": "stream",
          "name": "stderr",
          "text": [
            "C:\\Users\\Domenico\\.conda\\envs\\tf\\lib\\site-packages\\simpletransformers\\classification\\classification_model.py:612: UserWarning: Dataframe headers not specified. Falling back to using column 0 as text and column 1 as labels.\n",
            "  warnings.warn(\n"
          ]
        },
        {
          "output_type": "stream",
          "name": "stdout",
          "text": [
            "\n",
            "NOW EVALUATE THE TEST DF.\n"
          ]
        },
        {
          "output_type": "stream",
          "name": "stderr",
          "text": [
            "C:\\Users\\Domenico\\.conda\\envs\\tf\\lib\\site-packages\\simpletransformers\\classification\\classification_model.py:1454: UserWarning: Dataframe headers not specified. Falling back to using column 0 as text and column 1 as labels.\n",
            "  warnings.warn(\n"
          ]
        },
        {
          "output_type": "stream",
          "name": "stdout",
          "text": [
            "{'mcc': 0.0, 'tp': 2507, 'tn': 0, 'fp': 2493, 'fn': 0, 'auroc': 0.47169177806354, 'auprc': 0.4782308912988057, 'eval_loss': 0.6934088620185852}\n",
            "Correct predictions are:  2507\n",
            "Total predictions are:  5000\n",
            "Accuracy on test set is: 0.5014 \n",
            "\n",
            "\n",
            "\n",
            "EPOCH NUMBER:  1\n",
            "\n",
            "NOW TRAIN THE MODEL.\n"
          ]
        },
        {
          "output_type": "stream",
          "name": "stderr",
          "text": [
            "C:\\Users\\Domenico\\.conda\\envs\\tf\\lib\\site-packages\\simpletransformers\\classification\\classification_model.py:612: UserWarning: Dataframe headers not specified. Falling back to using column 0 as text and column 1 as labels.\n",
            "  warnings.warn(\n"
          ]
        },
        {
          "output_type": "stream",
          "name": "stdout",
          "text": [
            "\n",
            "NOW EVALUATE THE TEST DF.\n"
          ]
        },
        {
          "output_type": "stream",
          "name": "stderr",
          "text": [
            "C:\\Users\\Domenico\\.conda\\envs\\tf\\lib\\site-packages\\simpletransformers\\classification\\classification_model.py:1454: UserWarning: Dataframe headers not specified. Falling back to using column 0 as text and column 1 as labels.\n",
            "  warnings.warn(\n"
          ]
        },
        {
          "output_type": "stream",
          "name": "stdout",
          "text": [
            "{'mcc': 0.0, 'tp': 2507, 'tn': 0, 'fp': 2493, 'fn': 0, 'auroc': 0.6249413795404155, 'auprc': 0.6404788351003298, 'eval_loss': 0.6936044204711914}\n",
            "Correct predictions are:  2507\n",
            "Total predictions are:  5000\n",
            "Accuracy on test set is: 0.5014 \n",
            "\n",
            "\n",
            "\n",
            "EPOCH NUMBER:  2\n",
            "\n",
            "NOW TRAIN THE MODEL.\n"
          ]
        },
        {
          "output_type": "stream",
          "name": "stderr",
          "text": [
            "C:\\Users\\Domenico\\.conda\\envs\\tf\\lib\\site-packages\\simpletransformers\\classification\\classification_model.py:612: UserWarning: Dataframe headers not specified. Falling back to using column 0 as text and column 1 as labels.\n",
            "  warnings.warn(\n"
          ]
        },
        {
          "output_type": "stream",
          "name": "stdout",
          "text": [
            "\n",
            "NOW EVALUATE THE TEST DF.\n"
          ]
        },
        {
          "output_type": "stream",
          "name": "stderr",
          "text": [
            "C:\\Users\\Domenico\\.conda\\envs\\tf\\lib\\site-packages\\simpletransformers\\classification\\classification_model.py:1454: UserWarning: Dataframe headers not specified. Falling back to using column 0 as text and column 1 as labels.\n",
            "  warnings.warn(\n"
          ]
        },
        {
          "output_type": "stream",
          "name": "stdout",
          "text": [
            "{'mcc': 0.0, 'tp': 0, 'tn': 2493, 'fp': 0, 'fn': 2507, 'auroc': 0.6452252985663408, 'auprc': 0.6489933979445196, 'eval_loss': 0.6932403461456299}\n",
            "Correct predictions are:  2493\n",
            "Total predictions are:  5000\n",
            "Accuracy on test set is: 0.4986 \n",
            "\n",
            "\n",
            "\n",
            "EPOCH NUMBER:  3\n",
            "\n",
            "NOW TRAIN THE MODEL.\n"
          ]
        },
        {
          "output_type": "stream",
          "name": "stderr",
          "text": [
            "C:\\Users\\Domenico\\.conda\\envs\\tf\\lib\\site-packages\\simpletransformers\\classification\\classification_model.py:612: UserWarning: Dataframe headers not specified. Falling back to using column 0 as text and column 1 as labels.\n",
            "  warnings.warn(\n"
          ]
        },
        {
          "output_type": "stream",
          "name": "stdout",
          "text": [
            "\n",
            "NOW EVALUATE THE TEST DF.\n"
          ]
        },
        {
          "output_type": "stream",
          "name": "stderr",
          "text": [
            "C:\\Users\\Domenico\\.conda\\envs\\tf\\lib\\site-packages\\simpletransformers\\classification\\classification_model.py:1454: UserWarning: Dataframe headers not specified. Falling back to using column 0 as text and column 1 as labels.\n",
            "  warnings.warn(\n"
          ]
        },
        {
          "output_type": "stream",
          "name": "stdout",
          "text": [
            "{'mcc': 0.0, 'tp': 0, 'tn': 2493, 'fp': 0, 'fn': 2507, 'auroc': 0.6596653317762011, 'auprc': 0.6711659755075707, 'eval_loss': 0.6933888234138489}\n",
            "Correct predictions are:  2493\n",
            "Total predictions are:  5000\n",
            "Accuracy on test set is: 0.4986 \n",
            "\n",
            "\n",
            "\n",
            "EPOCH NUMBER:  4\n",
            "\n",
            "NOW TRAIN THE MODEL.\n"
          ]
        },
        {
          "output_type": "stream",
          "name": "stderr",
          "text": [
            "C:\\Users\\Domenico\\.conda\\envs\\tf\\lib\\site-packages\\simpletransformers\\classification\\classification_model.py:612: UserWarning: Dataframe headers not specified. Falling back to using column 0 as text and column 1 as labels.\n",
            "  warnings.warn(\n"
          ]
        },
        {
          "output_type": "stream",
          "name": "stdout",
          "text": [
            "\n",
            "NOW EVALUATE THE TEST DF.\n"
          ]
        },
        {
          "output_type": "stream",
          "name": "stderr",
          "text": [
            "C:\\Users\\Domenico\\.conda\\envs\\tf\\lib\\site-packages\\simpletransformers\\classification\\classification_model.py:1454: UserWarning: Dataframe headers not specified. Falling back to using column 0 as text and column 1 as labels.\n",
            "  warnings.warn(\n"
          ]
        },
        {
          "output_type": "stream",
          "name": "stdout",
          "text": [
            "{'mcc': 0.4131927426340519, 'tp': 1100, 'tn': 2301, 'fp': 192, 'fn': 1407, 'auroc': 0.8112494801959247, 'auprc': 0.7682041576408805, 'eval_loss': 0.6090177876472473}\n",
            "Correct predictions are:  3401\n",
            "Total predictions are:  5000\n",
            "Accuracy on test set is: 0.6802 \n",
            "\n",
            "\n",
            "\n",
            "EPOCH NUMBER:  5\n",
            "\n",
            "NOW TRAIN THE MODEL.\n"
          ]
        },
        {
          "output_type": "stream",
          "name": "stderr",
          "text": [
            "C:\\Users\\Domenico\\.conda\\envs\\tf\\lib\\site-packages\\simpletransformers\\classification\\classification_model.py:612: UserWarning: Dataframe headers not specified. Falling back to using column 0 as text and column 1 as labels.\n",
            "  warnings.warn(\n"
          ]
        },
        {
          "output_type": "stream",
          "name": "stdout",
          "text": [
            "\n",
            "NOW EVALUATE THE TEST DF.\n"
          ]
        },
        {
          "output_type": "stream",
          "name": "stderr",
          "text": [
            "C:\\Users\\Domenico\\.conda\\envs\\tf\\lib\\site-packages\\simpletransformers\\classification\\classification_model.py:1454: UserWarning: Dataframe headers not specified. Falling back to using column 0 as text and column 1 as labels.\n",
            "  warnings.warn(\n"
          ]
        },
        {
          "output_type": "stream",
          "name": "stdout",
          "text": [
            "{'mcc': 0.014183207587881927, 'tp': 2507, 'tn': 1, 'fp': 2492, 'fn': 0, 'auroc': 0.8279443310835557, 'auprc': 0.8278200218610499, 'eval_loss': 0.6942785036087036}\n",
            "Correct predictions are:  2508\n",
            "Total predictions are:  5000\n",
            "Accuracy on test set is: 0.5016 \n",
            "\n",
            "\n",
            "\n",
            "EPOCH NUMBER:  6\n",
            "\n",
            "NOW TRAIN THE MODEL.\n"
          ]
        },
        {
          "output_type": "stream",
          "name": "stderr",
          "text": [
            "C:\\Users\\Domenico\\.conda\\envs\\tf\\lib\\site-packages\\simpletransformers\\classification\\classification_model.py:612: UserWarning: Dataframe headers not specified. Falling back to using column 0 as text and column 1 as labels.\n",
            "  warnings.warn(\n"
          ]
        },
        {
          "output_type": "stream",
          "name": "stdout",
          "text": [
            "\n",
            "NOW EVALUATE THE TEST DF.\n"
          ]
        },
        {
          "output_type": "stream",
          "name": "stderr",
          "text": [
            "C:\\Users\\Domenico\\.conda\\envs\\tf\\lib\\site-packages\\simpletransformers\\classification\\classification_model.py:1454: UserWarning: Dataframe headers not specified. Falling back to using column 0 as text and column 1 as labels.\n",
            "  warnings.warn(\n"
          ]
        },
        {
          "output_type": "stream",
          "name": "stdout",
          "text": [
            "{'mcc': 0.5183108581587713, 'tp': 2089, 'tn': 1692, 'fp': 801, 'fn': 418, 'auroc': 0.8389625774666072, 'auprc': 0.8311705102663369, 'eval_loss': 0.5407608910083771}\n",
            "Correct predictions are:  3781\n",
            "Total predictions are:  5000\n",
            "Accuracy on test set is: 0.7562 \n",
            "\n",
            "\n",
            "\n",
            "EPOCH NUMBER:  7\n",
            "\n",
            "NOW TRAIN THE MODEL.\n"
          ]
        },
        {
          "output_type": "stream",
          "name": "stderr",
          "text": [
            "C:\\Users\\Domenico\\.conda\\envs\\tf\\lib\\site-packages\\simpletransformers\\classification\\classification_model.py:612: UserWarning: Dataframe headers not specified. Falling back to using column 0 as text and column 1 as labels.\n",
            "  warnings.warn(\n"
          ]
        },
        {
          "output_type": "stream",
          "name": "stdout",
          "text": [
            "\n",
            "NOW EVALUATE THE TEST DF.\n"
          ]
        },
        {
          "output_type": "stream",
          "name": "stderr",
          "text": [
            "C:\\Users\\Domenico\\.conda\\envs\\tf\\lib\\site-packages\\simpletransformers\\classification\\classification_model.py:1454: UserWarning: Dataframe headers not specified. Falling back to using column 0 as text and column 1 as labels.\n",
            "  warnings.warn(\n"
          ]
        },
        {
          "output_type": "stream",
          "name": "stdout",
          "text": [
            "{'mcc': 0.5002292573447624, 'tp': 1668, 'tn': 2065, 'fp': 428, 'fn': 839, 'auroc': 0.7992739463077392, 'auprc': 0.7648410647281249, 'eval_loss': 0.5308736925601959}\n",
            "Correct predictions are:  3733\n",
            "Total predictions are:  5000\n",
            "Accuracy on test set is: 0.7466 \n",
            "\n",
            "\n",
            "\n",
            "EPOCH NUMBER:  8\n",
            "\n",
            "NOW TRAIN THE MODEL.\n"
          ]
        },
        {
          "output_type": "stream",
          "name": "stderr",
          "text": [
            "C:\\Users\\Domenico\\.conda\\envs\\tf\\lib\\site-packages\\simpletransformers\\classification\\classification_model.py:612: UserWarning: Dataframe headers not specified. Falling back to using column 0 as text and column 1 as labels.\n",
            "  warnings.warn(\n"
          ]
        },
        {
          "output_type": "stream",
          "name": "stdout",
          "text": [
            "\n",
            "NOW EVALUATE THE TEST DF.\n"
          ]
        },
        {
          "output_type": "stream",
          "name": "stderr",
          "text": [
            "C:\\Users\\Domenico\\.conda\\envs\\tf\\lib\\site-packages\\simpletransformers\\classification\\classification_model.py:1454: UserWarning: Dataframe headers not specified. Falling back to using column 0 as text and column 1 as labels.\n",
            "  warnings.warn(\n"
          ]
        },
        {
          "output_type": "stream",
          "name": "stdout",
          "text": [
            "{'mcc': 0.536493238159621, 'tp': 1807, 'tn': 2028, 'fp': 465, 'fn': 700, 'auroc': 0.8431188500517844, 'auprc': 0.808087678454931, 'eval_loss': 0.537080529665947}\n",
            "Correct predictions are:  3835\n",
            "Total predictions are:  5000\n",
            "Accuracy on test set is: 0.767 \n",
            "\n",
            "\n",
            "\n",
            "EPOCH NUMBER:  9\n",
            "\n",
            "NOW TRAIN THE MODEL.\n"
          ]
        },
        {
          "output_type": "stream",
          "name": "stderr",
          "text": [
            "C:\\Users\\Domenico\\.conda\\envs\\tf\\lib\\site-packages\\simpletransformers\\classification\\classification_model.py:612: UserWarning: Dataframe headers not specified. Falling back to using column 0 as text and column 1 as labels.\n",
            "  warnings.warn(\n"
          ]
        },
        {
          "output_type": "stream",
          "name": "stdout",
          "text": [
            "\n",
            "NOW EVALUATE THE TEST DF.\n"
          ]
        },
        {
          "output_type": "stream",
          "name": "stderr",
          "text": [
            "C:\\Users\\Domenico\\.conda\\envs\\tf\\lib\\site-packages\\simpletransformers\\classification\\classification_model.py:1454: UserWarning: Dataframe headers not specified. Falling back to using column 0 as text and column 1 as labels.\n",
            "  warnings.warn(\n"
          ]
        },
        {
          "output_type": "stream",
          "name": "stdout",
          "text": [
            "{'mcc': 0.5436325725582947, 'tp': 1693, 'tn': 2142, 'fp': 351, 'fn': 814, 'auroc': 0.8567321567801093, 'auprc': 0.8387409064943243, 'eval_loss': 0.5130384755969047}\n",
            "Correct predictions are:  3835\n",
            "Total predictions are:  5000\n",
            "Accuracy on test set is: 0.767 \n",
            "\n",
            "\n",
            "[0.5014, 0.5014, 0.4986, 0.4986, 0.6802, 0.5016, 0.7562, 0.7466, 0.767, 0.767]\n",
            "\n",
            "RUN NUMBER:  4\n"
          ]
        },
        {
          "output_type": "stream",
          "name": "stderr",
          "text": [
            "Some weights of the model checkpoint at roberta-base were not used when initializing RobertaForSequenceClassification: ['roberta.pooler.dense.bias', 'lm_head.bias', 'lm_head.dense.bias', 'lm_head.decoder.weight', 'lm_head.dense.weight', 'roberta.pooler.dense.weight', 'lm_head.layer_norm.weight', 'lm_head.layer_norm.bias']\n",
            "- This IS expected if you are initializing RobertaForSequenceClassification from the checkpoint of a model trained on another task or with another architecture (e.g. initializing a BertForSequenceClassification model from a BertForPreTraining model).\n",
            "- This IS NOT expected if you are initializing RobertaForSequenceClassification from the checkpoint of a model that you expect to be exactly identical (initializing a BertForSequenceClassification model from a BertForSequenceClassification model).\n",
            "Some weights of RobertaForSequenceClassification were not initialized from the model checkpoint at roberta-base and are newly initialized: ['classifier.dense.weight', 'classifier.out_proj.weight', 'classifier.out_proj.bias', 'classifier.dense.bias']\n",
            "You should probably TRAIN this model on a down-stream task to be able to use it for predictions and inference.\n"
          ]
        },
        {
          "output_type": "stream",
          "name": "stdout",
          "text": [
            "\n",
            "EPOCH NUMBER:  0\n",
            "\n",
            "NOW TRAIN THE MODEL.\n"
          ]
        },
        {
          "output_type": "stream",
          "name": "stderr",
          "text": [
            "C:\\Users\\Domenico\\.conda\\envs\\tf\\lib\\site-packages\\simpletransformers\\classification\\classification_model.py:612: UserWarning: Dataframe headers not specified. Falling back to using column 0 as text and column 1 as labels.\n",
            "  warnings.warn(\n"
          ]
        },
        {
          "output_type": "stream",
          "name": "stdout",
          "text": [
            "\n",
            "NOW EVALUATE THE TEST DF.\n"
          ]
        },
        {
          "output_type": "stream",
          "name": "stderr",
          "text": [
            "C:\\Users\\Domenico\\.conda\\envs\\tf\\lib\\site-packages\\simpletransformers\\classification\\classification_model.py:1454: UserWarning: Dataframe headers not specified. Falling back to using column 0 as text and column 1 as labels.\n",
            "  warnings.warn(\n"
          ]
        },
        {
          "output_type": "stream",
          "name": "stdout",
          "text": [
            "{'mcc': 0.657524931430951, 'tp': 2021, 'tn': 2121, 'fp': 372, 'fn': 486, 'auroc': 0.915007813661259, 'auprc': 0.9111851964514655, 'eval_loss': 0.38529835928976536}\n",
            "Correct predictions are:  4142\n",
            "Total predictions are:  5000\n",
            "Accuracy on test set is: 0.8284 \n",
            "\n",
            "\n",
            "\n",
            "EPOCH NUMBER:  1\n",
            "\n",
            "NOW TRAIN THE MODEL.\n"
          ]
        },
        {
          "output_type": "stream",
          "name": "stderr",
          "text": [
            "C:\\Users\\Domenico\\.conda\\envs\\tf\\lib\\site-packages\\simpletransformers\\classification\\classification_model.py:612: UserWarning: Dataframe headers not specified. Falling back to using column 0 as text and column 1 as labels.\n",
            "  warnings.warn(\n"
          ]
        },
        {
          "output_type": "stream",
          "name": "stdout",
          "text": [
            "\n",
            "NOW EVALUATE THE TEST DF.\n"
          ]
        },
        {
          "output_type": "stream",
          "name": "stderr",
          "text": [
            "C:\\Users\\Domenico\\.conda\\envs\\tf\\lib\\site-packages\\simpletransformers\\classification\\classification_model.py:1454: UserWarning: Dataframe headers not specified. Falling back to using column 0 as text and column 1 as labels.\n",
            "  warnings.warn(\n"
          ]
        },
        {
          "output_type": "stream",
          "name": "stdout",
          "text": [
            "{'mcc': 0.6716192057065221, 'tp': 2088, 'tn': 2091, 'fp': 402, 'fn': 419, 'auroc': 0.9154388570406393, 'auprc': 0.9128549959771651, 'eval_loss': 0.4192575818657875}\n",
            "Correct predictions are:  4179\n",
            "Total predictions are:  5000\n",
            "Accuracy on test set is: 0.8358 \n",
            "\n",
            "\n",
            "\n",
            "EPOCH NUMBER:  2\n",
            "\n",
            "NOW TRAIN THE MODEL.\n"
          ]
        },
        {
          "output_type": "stream",
          "name": "stderr",
          "text": [
            "C:\\Users\\Domenico\\.conda\\envs\\tf\\lib\\site-packages\\simpletransformers\\classification\\classification_model.py:612: UserWarning: Dataframe headers not specified. Falling back to using column 0 as text and column 1 as labels.\n",
            "  warnings.warn(\n"
          ]
        },
        {
          "output_type": "stream",
          "name": "stdout",
          "text": [
            "\n",
            "NOW EVALUATE THE TEST DF.\n"
          ]
        },
        {
          "output_type": "stream",
          "name": "stderr",
          "text": [
            "C:\\Users\\Domenico\\.conda\\envs\\tf\\lib\\site-packages\\simpletransformers\\classification\\classification_model.py:1454: UserWarning: Dataframe headers not specified. Falling back to using column 0 as text and column 1 as labels.\n",
            "  warnings.warn(\n"
          ]
        },
        {
          "output_type": "stream",
          "name": "stdout",
          "text": [
            "{'mcc': 0.6704081520049112, 'tp': 2140, 'tn': 2035, 'fp': 458, 'fn': 367, 'auroc': 0.9144377291917968, 'auprc': 0.9041390270824239, 'eval_loss': 0.474289126291126}\n",
            "Correct predictions are:  4175\n",
            "Total predictions are:  5000\n",
            "Accuracy on test set is: 0.835 \n",
            "\n",
            "\n",
            "\n",
            "EPOCH NUMBER:  3\n",
            "\n",
            "NOW TRAIN THE MODEL.\n"
          ]
        },
        {
          "output_type": "stream",
          "name": "stderr",
          "text": [
            "C:\\Users\\Domenico\\.conda\\envs\\tf\\lib\\site-packages\\simpletransformers\\classification\\classification_model.py:612: UserWarning: Dataframe headers not specified. Falling back to using column 0 as text and column 1 as labels.\n",
            "  warnings.warn(\n"
          ]
        },
        {
          "output_type": "stream",
          "name": "stdout",
          "text": [
            "\n",
            "NOW EVALUATE THE TEST DF.\n"
          ]
        },
        {
          "output_type": "stream",
          "name": "stderr",
          "text": [
            "C:\\Users\\Domenico\\.conda\\envs\\tf\\lib\\site-packages\\simpletransformers\\classification\\classification_model.py:1454: UserWarning: Dataframe headers not specified. Falling back to using column 0 as text and column 1 as labels.\n",
            "  warnings.warn(\n"
          ]
        },
        {
          "output_type": "stream",
          "name": "stdout",
          "text": [
            "{'mcc': 0.6723968149756311, 'tp': 2099, 'tn': 2082, 'fp': 411, 'fn': 408, 'auroc': 0.9171763106622757, 'auprc': 0.9180816122474251, 'eval_loss': 0.5599486022986472}\n",
            "Correct predictions are:  4181\n",
            "Total predictions are:  5000\n",
            "Accuracy on test set is: 0.8362 \n",
            "\n",
            "\n",
            "\n",
            "EPOCH NUMBER:  4\n",
            "\n",
            "NOW TRAIN THE MODEL.\n"
          ]
        },
        {
          "output_type": "stream",
          "name": "stderr",
          "text": [
            "C:\\Users\\Domenico\\.conda\\envs\\tf\\lib\\site-packages\\simpletransformers\\classification\\classification_model.py:612: UserWarning: Dataframe headers not specified. Falling back to using column 0 as text and column 1 as labels.\n",
            "  warnings.warn(\n"
          ]
        },
        {
          "output_type": "stream",
          "name": "stdout",
          "text": [
            "\n",
            "NOW EVALUATE THE TEST DF.\n"
          ]
        },
        {
          "output_type": "stream",
          "name": "stderr",
          "text": [
            "C:\\Users\\Domenico\\.conda\\envs\\tf\\lib\\site-packages\\simpletransformers\\classification\\classification_model.py:1454: UserWarning: Dataframe headers not specified. Falling back to using column 0 as text and column 1 as labels.\n",
            "  warnings.warn(\n"
          ]
        },
        {
          "output_type": "stream",
          "name": "stdout",
          "text": [
            "{'mcc': 0.6758834171192082, 'tp': 2159, 'tn': 2029, 'fp': 464, 'fn': 348, 'auroc': 0.9209370601465516, 'auprc': 0.9178751029758275, 'eval_loss': 0.6321008301094174}\n",
            "Correct predictions are:  4188\n",
            "Total predictions are:  5000\n",
            "Accuracy on test set is: 0.8376 \n",
            "\n",
            "\n",
            "\n",
            "EPOCH NUMBER:  5\n",
            "\n",
            "NOW TRAIN THE MODEL.\n"
          ]
        },
        {
          "output_type": "stream",
          "name": "stderr",
          "text": [
            "C:\\Users\\Domenico\\.conda\\envs\\tf\\lib\\site-packages\\simpletransformers\\classification\\classification_model.py:612: UserWarning: Dataframe headers not specified. Falling back to using column 0 as text and column 1 as labels.\n",
            "  warnings.warn(\n"
          ]
        },
        {
          "output_type": "stream",
          "name": "stdout",
          "text": [
            "\n",
            "NOW EVALUATE THE TEST DF.\n"
          ]
        },
        {
          "output_type": "stream",
          "name": "stderr",
          "text": [
            "C:\\Users\\Domenico\\.conda\\envs\\tf\\lib\\site-packages\\simpletransformers\\classification\\classification_model.py:1454: UserWarning: Dataframe headers not specified. Falling back to using column 0 as text and column 1 as labels.\n",
            "  warnings.warn(\n"
          ]
        },
        {
          "output_type": "stream",
          "name": "stdout",
          "text": [
            "{'mcc': 0.6642164701804718, 'tp': 2157, 'tn': 2001, 'fp': 492, 'fn': 350, 'auroc': 0.915783499742638, 'auprc': 0.9073484375845111, 'eval_loss': 0.7456467145428062}\n",
            "Correct predictions are:  4158\n",
            "Total predictions are:  5000\n",
            "Accuracy on test set is: 0.8316 \n",
            "\n",
            "\n",
            "\n",
            "EPOCH NUMBER:  6\n",
            "\n",
            "NOW TRAIN THE MODEL.\n"
          ]
        },
        {
          "output_type": "stream",
          "name": "stderr",
          "text": [
            "C:\\Users\\Domenico\\.conda\\envs\\tf\\lib\\site-packages\\simpletransformers\\classification\\classification_model.py:612: UserWarning: Dataframe headers not specified. Falling back to using column 0 as text and column 1 as labels.\n",
            "  warnings.warn(\n"
          ]
        },
        {
          "output_type": "stream",
          "name": "stdout",
          "text": [
            "\n",
            "NOW EVALUATE THE TEST DF.\n"
          ]
        },
        {
          "output_type": "stream",
          "name": "stderr",
          "text": [
            "C:\\Users\\Domenico\\.conda\\envs\\tf\\lib\\site-packages\\simpletransformers\\classification\\classification_model.py:1454: UserWarning: Dataframe headers not specified. Falling back to using column 0 as text and column 1 as labels.\n",
            "  warnings.warn(\n"
          ]
        },
        {
          "output_type": "stream",
          "name": "stdout",
          "text": [
            "{'mcc': 0.6652212646171315, 'tp': 2101, 'tn': 2062, 'fp': 431, 'fn': 406, 'auroc': 0.9186846424875972, 'auprc': 0.9162559334244814, 'eval_loss': 0.7041259019546211}\n",
            "Correct predictions are:  4163\n",
            "Total predictions are:  5000\n",
            "Accuracy on test set is: 0.8326 \n",
            "\n",
            "\n",
            "\n",
            "EPOCH NUMBER:  7\n",
            "\n",
            "NOW TRAIN THE MODEL.\n"
          ]
        },
        {
          "output_type": "stream",
          "name": "stderr",
          "text": [
            "C:\\Users\\Domenico\\.conda\\envs\\tf\\lib\\site-packages\\simpletransformers\\classification\\classification_model.py:612: UserWarning: Dataframe headers not specified. Falling back to using column 0 as text and column 1 as labels.\n",
            "  warnings.warn(\n"
          ]
        },
        {
          "output_type": "stream",
          "name": "stdout",
          "text": [
            "\n",
            "NOW EVALUATE THE TEST DF.\n"
          ]
        },
        {
          "output_type": "stream",
          "name": "stderr",
          "text": [
            "C:\\Users\\Domenico\\.conda\\envs\\tf\\lib\\site-packages\\simpletransformers\\classification\\classification_model.py:1454: UserWarning: Dataframe headers not specified. Falling back to using column 0 as text and column 1 as labels.\n",
            "  warnings.warn(\n"
          ]
        },
        {
          "output_type": "stream",
          "name": "stdout",
          "text": [
            "{'mcc': 0.6677735251975231, 'tp': 2122, 'tn': 2047, 'fp': 446, 'fn': 385, 'auroc': 0.9196461700259729, 'auprc': 0.9160246396857654, 'eval_loss': 0.7863253000751138}\n",
            "Correct predictions are:  4169\n",
            "Total predictions are:  5000\n",
            "Accuracy on test set is: 0.8338 \n",
            "\n",
            "\n",
            "\n",
            "EPOCH NUMBER:  8\n",
            "\n",
            "NOW TRAIN THE MODEL.\n"
          ]
        },
        {
          "output_type": "stream",
          "name": "stderr",
          "text": [
            "C:\\Users\\Domenico\\.conda\\envs\\tf\\lib\\site-packages\\simpletransformers\\classification\\classification_model.py:612: UserWarning: Dataframe headers not specified. Falling back to using column 0 as text and column 1 as labels.\n",
            "  warnings.warn(\n"
          ]
        },
        {
          "output_type": "stream",
          "name": "stdout",
          "text": [
            "\n",
            "NOW EVALUATE THE TEST DF.\n"
          ]
        },
        {
          "output_type": "stream",
          "name": "stderr",
          "text": [
            "C:\\Users\\Domenico\\.conda\\envs\\tf\\lib\\site-packages\\simpletransformers\\classification\\classification_model.py:1454: UserWarning: Dataframe headers not specified. Falling back to using column 0 as text and column 1 as labels.\n",
            "  warnings.warn(\n"
          ]
        },
        {
          "output_type": "stream",
          "name": "stdout",
          "text": [
            "{'mcc': 0.6652237110733109, 'tp': 2079, 'tn': 2084, 'fp': 409, 'fn': 428, 'auroc': 0.918652962239224, 'auprc': 0.910768989309595, 'eval_loss': 0.8018274288482964}\n",
            "Correct predictions are:  4163\n",
            "Total predictions are:  5000\n",
            "Accuracy on test set is: 0.8326 \n",
            "\n",
            "\n",
            "\n",
            "EPOCH NUMBER:  9\n",
            "\n",
            "NOW TRAIN THE MODEL.\n"
          ]
        },
        {
          "output_type": "stream",
          "name": "stderr",
          "text": [
            "C:\\Users\\Domenico\\.conda\\envs\\tf\\lib\\site-packages\\simpletransformers\\classification\\classification_model.py:612: UserWarning: Dataframe headers not specified. Falling back to using column 0 as text and column 1 as labels.\n",
            "  warnings.warn(\n"
          ]
        },
        {
          "output_type": "stream",
          "name": "stdout",
          "text": [
            "\n",
            "NOW EVALUATE THE TEST DF.\n"
          ]
        },
        {
          "output_type": "stream",
          "name": "stderr",
          "text": [
            "C:\\Users\\Domenico\\.conda\\envs\\tf\\lib\\site-packages\\simpletransformers\\classification\\classification_model.py:1454: UserWarning: Dataframe headers not specified. Falling back to using column 0 as text and column 1 as labels.\n",
            "  warnings.warn(\n"
          ]
        },
        {
          "output_type": "stream",
          "name": "stdout",
          "text": [
            "{'mcc': 0.6573536752550109, 'tp': 2053, 'tn': 2090, 'fp': 403, 'fn': 454, 'auroc': 0.9145629301733725, 'auprc': 0.9132643057460345, 'eval_loss': 0.7759170119985938}\n",
            "Correct predictions are:  4143\n",
            "Total predictions are:  5000\n",
            "Accuracy on test set is: 0.8286 \n",
            "\n",
            "\n",
            "[0.8284, 0.8358, 0.835, 0.8362, 0.8376, 0.8316, 0.8326, 0.8338, 0.8326, 0.8286]\n",
            "\n",
            "RUN NUMBER:  5\n"
          ]
        },
        {
          "output_type": "stream",
          "name": "stderr",
          "text": [
            "Some weights of the model checkpoint at roberta-base were not used when initializing RobertaForSequenceClassification: ['roberta.pooler.dense.bias', 'lm_head.bias', 'lm_head.dense.bias', 'lm_head.decoder.weight', 'lm_head.dense.weight', 'roberta.pooler.dense.weight', 'lm_head.layer_norm.weight', 'lm_head.layer_norm.bias']\n",
            "- This IS expected if you are initializing RobertaForSequenceClassification from the checkpoint of a model trained on another task or with another architecture (e.g. initializing a BertForSequenceClassification model from a BertForPreTraining model).\n",
            "- This IS NOT expected if you are initializing RobertaForSequenceClassification from the checkpoint of a model that you expect to be exactly identical (initializing a BertForSequenceClassification model from a BertForSequenceClassification model).\n",
            "Some weights of RobertaForSequenceClassification were not initialized from the model checkpoint at roberta-base and are newly initialized: ['classifier.dense.weight', 'classifier.out_proj.weight', 'classifier.out_proj.bias', 'classifier.dense.bias']\n",
            "You should probably TRAIN this model on a down-stream task to be able to use it for predictions and inference.\n"
          ]
        },
        {
          "output_type": "stream",
          "name": "stdout",
          "text": [
            "\n",
            "EPOCH NUMBER:  0\n",
            "\n",
            "NOW TRAIN THE MODEL.\n"
          ]
        },
        {
          "output_type": "stream",
          "name": "stderr",
          "text": [
            "C:\\Users\\Domenico\\.conda\\envs\\tf\\lib\\site-packages\\simpletransformers\\classification\\classification_model.py:612: UserWarning: Dataframe headers not specified. Falling back to using column 0 as text and column 1 as labels.\n",
            "  warnings.warn(\n"
          ]
        },
        {
          "output_type": "stream",
          "name": "stdout",
          "text": [
            "\n",
            "NOW EVALUATE THE TEST DF.\n"
          ]
        },
        {
          "output_type": "stream",
          "name": "stderr",
          "text": [
            "C:\\Users\\Domenico\\.conda\\envs\\tf\\lib\\site-packages\\simpletransformers\\classification\\classification_model.py:1454: UserWarning: Dataframe headers not specified. Falling back to using column 0 as text and column 1 as labels.\n",
            "  warnings.warn(\n"
          ]
        },
        {
          "output_type": "stream",
          "name": "stdout",
          "text": [
            "{'mcc': 0.6719858905983104, 'tp': 2201, 'tn': 1973, 'fp': 520, 'fn': 306, 'auroc': 0.9166055861877958, 'auprc': 0.9140213398274534, 'eval_loss': 0.37490652037262917}\n",
            "Correct predictions are:  4174\n",
            "Total predictions are:  5000\n",
            "Accuracy on test set is: 0.8348 \n",
            "\n",
            "\n",
            "\n",
            "EPOCH NUMBER:  1\n",
            "\n",
            "NOW TRAIN THE MODEL.\n"
          ]
        },
        {
          "output_type": "stream",
          "name": "stderr",
          "text": [
            "C:\\Users\\Domenico\\.conda\\envs\\tf\\lib\\site-packages\\simpletransformers\\classification\\classification_model.py:612: UserWarning: Dataframe headers not specified. Falling back to using column 0 as text and column 1 as labels.\n",
            "  warnings.warn(\n"
          ]
        },
        {
          "output_type": "stream",
          "name": "stdout",
          "text": [
            "\n",
            "NOW EVALUATE THE TEST DF.\n"
          ]
        },
        {
          "output_type": "stream",
          "name": "stderr",
          "text": [
            "C:\\Users\\Domenico\\.conda\\envs\\tf\\lib\\site-packages\\simpletransformers\\classification\\classification_model.py:1454: UserWarning: Dataframe headers not specified. Falling back to using column 0 as text and column 1 as labels.\n",
            "  warnings.warn(\n"
          ]
        },
        {
          "output_type": "stream",
          "name": "stdout",
          "text": [
            "{'mcc': 0.6973113475870232, 'tp': 2193, 'tn': 2048, 'fp': 445, 'fn': 314, 'auroc': 0.9276730329565784, 'auprc': 0.9252352508362005, 'eval_loss': 0.3954717468559742}\n",
            "Correct predictions are:  4241\n",
            "Total predictions are:  5000\n",
            "Accuracy on test set is: 0.8482 \n",
            "\n",
            "\n",
            "\n",
            "EPOCH NUMBER:  2\n",
            "\n",
            "NOW TRAIN THE MODEL.\n"
          ]
        },
        {
          "output_type": "stream",
          "name": "stderr",
          "text": [
            "C:\\Users\\Domenico\\.conda\\envs\\tf\\lib\\site-packages\\simpletransformers\\classification\\classification_model.py:612: UserWarning: Dataframe headers not specified. Falling back to using column 0 as text and column 1 as labels.\n",
            "  warnings.warn(\n"
          ]
        },
        {
          "output_type": "stream",
          "name": "stdout",
          "text": [
            "\n",
            "NOW EVALUATE THE TEST DF.\n"
          ]
        },
        {
          "output_type": "stream",
          "name": "stderr",
          "text": [
            "C:\\Users\\Domenico\\.conda\\envs\\tf\\lib\\site-packages\\simpletransformers\\classification\\classification_model.py:1454: UserWarning: Dataframe headers not specified. Falling back to using column 0 as text and column 1 as labels.\n",
            "  warnings.warn(\n"
          ]
        },
        {
          "output_type": "stream",
          "name": "stdout",
          "text": [
            "{'mcc': 0.6809002535474401, 'tp': 2173, 'tn': 2027, 'fp': 466, 'fn': 334, 'auroc': 0.9222929907770477, 'auprc': 0.9199737945932324, 'eval_loss': 0.45968432557284833}\n",
            "Correct predictions are:  4200\n",
            "Total predictions are:  5000\n",
            "Accuracy on test set is: 0.84 \n",
            "\n",
            "\n",
            "\n",
            "EPOCH NUMBER:  3\n",
            "\n",
            "NOW TRAIN THE MODEL.\n"
          ]
        },
        {
          "output_type": "stream",
          "name": "stderr",
          "text": [
            "C:\\Users\\Domenico\\.conda\\envs\\tf\\lib\\site-packages\\simpletransformers\\classification\\classification_model.py:612: UserWarning: Dataframe headers not specified. Falling back to using column 0 as text and column 1 as labels.\n",
            "  warnings.warn(\n"
          ]
        },
        {
          "output_type": "stream",
          "name": "stdout",
          "text": [
            "\n",
            "NOW EVALUATE THE TEST DF.\n"
          ]
        },
        {
          "output_type": "stream",
          "name": "stderr",
          "text": [
            "C:\\Users\\Domenico\\.conda\\envs\\tf\\lib\\site-packages\\simpletransformers\\classification\\classification_model.py:1454: UserWarning: Dataframe headers not specified. Falling back to using column 0 as text and column 1 as labels.\n",
            "  warnings.warn(\n"
          ]
        },
        {
          "output_type": "stream",
          "name": "stdout",
          "text": [
            "{'mcc': 0.6914411870557039, 'tp': 2176, 'tn': 2051, 'fp': 442, 'fn': 331, 'auroc': 0.9196023296822647, 'auprc': 0.9004130996274343, 'eval_loss': 0.5546729481294751}\n",
            "Correct predictions are:  4227\n",
            "Total predictions are:  5000\n",
            "Accuracy on test set is: 0.8454 \n",
            "\n",
            "\n",
            "\n",
            "EPOCH NUMBER:  4\n",
            "\n",
            "NOW TRAIN THE MODEL.\n"
          ]
        },
        {
          "output_type": "stream",
          "name": "stderr",
          "text": [
            "C:\\Users\\Domenico\\.conda\\envs\\tf\\lib\\site-packages\\simpletransformers\\classification\\classification_model.py:612: UserWarning: Dataframe headers not specified. Falling back to using column 0 as text and column 1 as labels.\n",
            "  warnings.warn(\n"
          ]
        },
        {
          "output_type": "stream",
          "name": "stdout",
          "text": [
            "\n",
            "NOW EVALUATE THE TEST DF.\n"
          ]
        },
        {
          "output_type": "stream",
          "name": "stderr",
          "text": [
            "C:\\Users\\Domenico\\.conda\\envs\\tf\\lib\\site-packages\\simpletransformers\\classification\\classification_model.py:1454: UserWarning: Dataframe headers not specified. Falling back to using column 0 as text and column 1 as labels.\n",
            "  warnings.warn(\n"
          ]
        },
        {
          "output_type": "stream",
          "name": "stdout",
          "text": [
            "{'mcc': 0.6991116386786982, 'tp': 2188, 'tn': 2058, 'fp': 435, 'fn': 319, 'auroc': 0.9277577536207884, 'auprc': 0.9232120274978123, 'eval_loss': 0.5691103402525186}\n",
            "Correct predictions are:  4246\n",
            "Total predictions are:  5000\n",
            "Accuracy on test set is: 0.8492 \n",
            "\n",
            "\n",
            "\n",
            "EPOCH NUMBER:  5\n",
            "\n",
            "NOW TRAIN THE MODEL.\n"
          ]
        },
        {
          "output_type": "stream",
          "name": "stderr",
          "text": [
            "C:\\Users\\Domenico\\.conda\\envs\\tf\\lib\\site-packages\\simpletransformers\\classification\\classification_model.py:612: UserWarning: Dataframe headers not specified. Falling back to using column 0 as text and column 1 as labels.\n",
            "  warnings.warn(\n"
          ]
        },
        {
          "output_type": "stream",
          "name": "stdout",
          "text": [
            "\n",
            "NOW EVALUATE THE TEST DF.\n"
          ]
        },
        {
          "output_type": "stream",
          "name": "stderr",
          "text": [
            "C:\\Users\\Domenico\\.conda\\envs\\tf\\lib\\site-packages\\simpletransformers\\classification\\classification_model.py:1454: UserWarning: Dataframe headers not specified. Falling back to using column 0 as text and column 1 as labels.\n",
            "  warnings.warn(\n"
          ]
        },
        {
          "output_type": "stream",
          "name": "stdout",
          "text": [
            "{'mcc': 0.6878380021036412, 'tp': 2085, 'tn': 2134, 'fp': 359, 'fn': 422, 'auroc': 0.925550616316832, 'auprc': 0.9228655927155467, 'eval_loss': 0.6531652946494519}\n",
            "Correct predictions are:  4219\n",
            "Total predictions are:  5000\n",
            "Accuracy on test set is: 0.8438 \n",
            "\n",
            "\n",
            "\n",
            "EPOCH NUMBER:  6\n",
            "\n",
            "NOW TRAIN THE MODEL.\n"
          ]
        },
        {
          "output_type": "stream",
          "name": "stderr",
          "text": [
            "C:\\Users\\Domenico\\.conda\\envs\\tf\\lib\\site-packages\\simpletransformers\\classification\\classification_model.py:612: UserWarning: Dataframe headers not specified. Falling back to using column 0 as text and column 1 as labels.\n",
            "  warnings.warn(\n"
          ]
        },
        {
          "output_type": "stream",
          "name": "stdout",
          "text": [
            "\n",
            "NOW EVALUATE THE TEST DF.\n"
          ]
        },
        {
          "output_type": "stream",
          "name": "stderr",
          "text": [
            "C:\\Users\\Domenico\\.conda\\envs\\tf\\lib\\site-packages\\simpletransformers\\classification\\classification_model.py:1454: UserWarning: Dataframe headers not specified. Falling back to using column 0 as text and column 1 as labels.\n",
            "  warnings.warn(\n"
          ]
        },
        {
          "output_type": "stream",
          "name": "stdout",
          "text": [
            "{'mcc': 0.6952037323281696, 'tp': 2133, 'tn': 2105, 'fp': 388, 'fn': 374, 'auroc': 0.9265137438677519, 'auprc': 0.922623791429488, 'eval_loss': 0.6536908151656389}\n",
            "Correct predictions are:  4238\n",
            "Total predictions are:  5000\n",
            "Accuracy on test set is: 0.8476 \n",
            "\n",
            "\n",
            "\n",
            "EPOCH NUMBER:  7\n",
            "\n",
            "NOW TRAIN THE MODEL.\n"
          ]
        },
        {
          "output_type": "stream",
          "name": "stderr",
          "text": [
            "C:\\Users\\Domenico\\.conda\\envs\\tf\\lib\\site-packages\\simpletransformers\\classification\\classification_model.py:612: UserWarning: Dataframe headers not specified. Falling back to using column 0 as text and column 1 as labels.\n",
            "  warnings.warn(\n"
          ]
        },
        {
          "output_type": "stream",
          "name": "stdout",
          "text": [
            "\n",
            "NOW EVALUATE THE TEST DF.\n"
          ]
        },
        {
          "output_type": "stream",
          "name": "stderr",
          "text": [
            "C:\\Users\\Domenico\\.conda\\envs\\tf\\lib\\site-packages\\simpletransformers\\classification\\classification_model.py:1454: UserWarning: Dataframe headers not specified. Falling back to using column 0 as text and column 1 as labels.\n",
            "  warnings.warn(\n"
          ]
        },
        {
          "output_type": "stream",
          "name": "stdout",
          "text": [
            "{'mcc': 0.6872125331249795, 'tp': 2126, 'tn': 2092, 'fp': 401, 'fn': 381, 'auroc': 0.9271517488697111, 'auprc': 0.9221006263840514, 'eval_loss': 0.6768644362777472}\n",
            "Correct predictions are:  4218\n",
            "Total predictions are:  5000\n",
            "Accuracy on test set is: 0.8436 \n",
            "\n",
            "\n",
            "\n",
            "EPOCH NUMBER:  8\n",
            "\n",
            "NOW TRAIN THE MODEL.\n"
          ]
        },
        {
          "output_type": "stream",
          "name": "stderr",
          "text": [
            "C:\\Users\\Domenico\\.conda\\envs\\tf\\lib\\site-packages\\simpletransformers\\classification\\classification_model.py:612: UserWarning: Dataframe headers not specified. Falling back to using column 0 as text and column 1 as labels.\n",
            "  warnings.warn(\n"
          ]
        },
        {
          "output_type": "stream",
          "name": "stdout",
          "text": [
            "\n",
            "NOW EVALUATE THE TEST DF.\n"
          ]
        },
        {
          "output_type": "stream",
          "name": "stderr",
          "text": [
            "C:\\Users\\Domenico\\.conda\\envs\\tf\\lib\\site-packages\\simpletransformers\\classification\\classification_model.py:1454: UserWarning: Dataframe headers not specified. Falling back to using column 0 as text and column 1 as labels.\n",
            "  warnings.warn(\n"
          ]
        },
        {
          "output_type": "stream",
          "name": "stdout",
          "text": [
            "{'mcc': 0.6984016277909514, 'tp': 2136, 'tn': 2110, 'fp': 383, 'fn': 371, 'auroc': 0.9262049414467409, 'auprc': 0.9228371054137269, 'eval_loss': 0.7115546334207058}\n",
            "Correct predictions are:  4246\n",
            "Total predictions are:  5000\n",
            "Accuracy on test set is: 0.8492 \n",
            "\n",
            "\n",
            "\n",
            "EPOCH NUMBER:  9\n",
            "\n",
            "NOW TRAIN THE MODEL.\n"
          ]
        },
        {
          "output_type": "stream",
          "name": "stderr",
          "text": [
            "C:\\Users\\Domenico\\.conda\\envs\\tf\\lib\\site-packages\\simpletransformers\\classification\\classification_model.py:612: UserWarning: Dataframe headers not specified. Falling back to using column 0 as text and column 1 as labels.\n",
            "  warnings.warn(\n"
          ]
        },
        {
          "output_type": "stream",
          "name": "stdout",
          "text": [
            "\n",
            "NOW EVALUATE THE TEST DF.\n"
          ]
        },
        {
          "output_type": "stream",
          "name": "stderr",
          "text": [
            "C:\\Users\\Domenico\\.conda\\envs\\tf\\lib\\site-packages\\simpletransformers\\classification\\classification_model.py:1454: UserWarning: Dataframe headers not specified. Falling back to using column 0 as text and column 1 as labels.\n",
            "  warnings.warn(\n"
          ]
        },
        {
          "output_type": "stream",
          "name": "stdout",
          "text": [
            "{'mcc': 0.6816787411027623, 'tp': 2130, 'tn': 2074, 'fp': 419, 'fn': 377, 'auroc': 0.9229337158003318, 'auprc': 0.9216857069625335, 'eval_loss': 0.7721647175081074}\n",
            "Correct predictions are:  4204\n",
            "Total predictions are:  5000\n",
            "Accuracy on test set is: 0.8408 \n",
            "\n",
            "\n",
            "[0.8348, 0.8482, 0.84, 0.8454, 0.8492, 0.8438, 0.8476, 0.8436, 0.8492, 0.8408]\n",
            "\n",
            "\n",
            " Over all runs maximum accuracies are: [0.5014, 0.767, 0.8376, 0.8442, 0.8492]\n",
            "The median is: 0.8376\n",
            "RoBERTa Accuracy Score on Test set ->  ['0.8376 +/- 0.33620000000000005']\n"
          ]
        },
        {
          "output_type": "stream",
          "name": "stderr",
          "text": [
            "Some weights of the model checkpoint at roberta-base were not used when initializing RobertaForSequenceClassification: ['roberta.pooler.dense.bias', 'lm_head.bias', 'lm_head.dense.bias', 'lm_head.decoder.weight', 'lm_head.dense.weight', 'roberta.pooler.dense.weight', 'lm_head.layer_norm.weight', 'lm_head.layer_norm.bias']\n",
            "- This IS expected if you are initializing RobertaForSequenceClassification from the checkpoint of a model trained on another task or with another architecture (e.g. initializing a BertForSequenceClassification model from a BertForPreTraining model).\n",
            "- This IS NOT expected if you are initializing RobertaForSequenceClassification from the checkpoint of a model that you expect to be exactly identical (initializing a BertForSequenceClassification model from a BertForSequenceClassification model).\n",
            "Some weights of RobertaForSequenceClassification were not initialized from the model checkpoint at roberta-base and are newly initialized: ['classifier.dense.weight', 'classifier.out_proj.weight', 'classifier.out_proj.bias', 'classifier.dense.bias']\n",
            "You should probably TRAIN this model on a down-stream task to be able to use it for predictions and inference.\n"
          ]
        },
        {
          "output_type": "stream",
          "name": "stdout",
          "text": [
            "\n",
            "\n",
            "* * * * EVALUATION USING STM_LOW_RSW AS PREPROCESSING FUNCTION * * * *\n",
            "\n",
            "RUN NUMBER:  1\n"
          ]
        },
        {
          "output_type": "stream",
          "name": "stderr",
          "text": [
            "Some weights of the model checkpoint at roberta-base were not used when initializing RobertaForSequenceClassification: ['roberta.pooler.dense.bias', 'lm_head.bias', 'lm_head.dense.bias', 'lm_head.decoder.weight', 'lm_head.dense.weight', 'roberta.pooler.dense.weight', 'lm_head.layer_norm.weight', 'lm_head.layer_norm.bias']\n",
            "- This IS expected if you are initializing RobertaForSequenceClassification from the checkpoint of a model trained on another task or with another architecture (e.g. initializing a BertForSequenceClassification model from a BertForPreTraining model).\n",
            "- This IS NOT expected if you are initializing RobertaForSequenceClassification from the checkpoint of a model that you expect to be exactly identical (initializing a BertForSequenceClassification model from a BertForSequenceClassification model).\n",
            "Some weights of RobertaForSequenceClassification were not initialized from the model checkpoint at roberta-base and are newly initialized: ['classifier.dense.weight', 'classifier.out_proj.weight', 'classifier.out_proj.bias', 'classifier.dense.bias']\n",
            "You should probably TRAIN this model on a down-stream task to be able to use it for predictions and inference.\n"
          ]
        },
        {
          "output_type": "stream",
          "name": "stdout",
          "text": [
            "\n",
            "EPOCH NUMBER:  0\n",
            "\n",
            "NOW TRAIN THE MODEL.\n"
          ]
        },
        {
          "output_type": "stream",
          "name": "stderr",
          "text": [
            "C:\\Users\\Domenico\\.conda\\envs\\tf\\lib\\site-packages\\simpletransformers\\classification\\classification_model.py:612: UserWarning: Dataframe headers not specified. Falling back to using column 0 as text and column 1 as labels.\n",
            "  warnings.warn(\n"
          ]
        },
        {
          "output_type": "stream",
          "name": "stdout",
          "text": [
            "\n",
            "NOW EVALUATE THE TEST DF.\n"
          ]
        },
        {
          "output_type": "stream",
          "name": "stderr",
          "text": [
            "C:\\Users\\Domenico\\.conda\\envs\\tf\\lib\\site-packages\\simpletransformers\\classification\\classification_model.py:1454: UserWarning: Dataframe headers not specified. Falling back to using column 0 as text and column 1 as labels.\n",
            "  warnings.warn(\n"
          ]
        },
        {
          "output_type": "stream",
          "name": "stdout",
          "text": [
            "{'mcc': 0.0, 'tp': 0, 'tn': 2493, 'fp': 0, 'fn': 2507, 'auroc': 0.7694698726438015, 'auprc': 0.7680226832814385, 'eval_loss': 0.693040403175354}\n",
            "Correct predictions are:  2493\n",
            "Total predictions are:  5000\n",
            "Accuracy on test set is: 0.4986 \n",
            "\n",
            "\n",
            "\n",
            "EPOCH NUMBER:  1\n",
            "\n",
            "NOW TRAIN THE MODEL.\n"
          ]
        },
        {
          "output_type": "stream",
          "name": "stderr",
          "text": [
            "C:\\Users\\Domenico\\.conda\\envs\\tf\\lib\\site-packages\\simpletransformers\\classification\\classification_model.py:612: UserWarning: Dataframe headers not specified. Falling back to using column 0 as text and column 1 as labels.\n",
            "  warnings.warn(\n"
          ]
        },
        {
          "output_type": "stream",
          "name": "stdout",
          "text": [
            "\n",
            "NOW EVALUATE THE TEST DF.\n"
          ]
        },
        {
          "output_type": "stream",
          "name": "stderr",
          "text": [
            "C:\\Users\\Domenico\\.conda\\envs\\tf\\lib\\site-packages\\simpletransformers\\classification\\classification_model.py:1454: UserWarning: Dataframe headers not specified. Falling back to using column 0 as text and column 1 as labels.\n",
            "  warnings.warn(\n"
          ]
        },
        {
          "output_type": "stream",
          "name": "stdout",
          "text": [
            "{'mcc': 0.5611139843246149, 'tp': 2062, 'tn': 1836, 'fp': 657, 'fn': 445, 'auroc': 0.8534763712547507, 'auprc': 0.8345949734040722, 'eval_loss': 0.49154411554336547}\n",
            "Correct predictions are:  3898\n",
            "Total predictions are:  5000\n",
            "Accuracy on test set is: 0.7796 \n",
            "\n",
            "\n",
            "\n",
            "EPOCH NUMBER:  2\n",
            "\n",
            "NOW TRAIN THE MODEL.\n"
          ]
        },
        {
          "output_type": "stream",
          "name": "stderr",
          "text": [
            "C:\\Users\\Domenico\\.conda\\envs\\tf\\lib\\site-packages\\simpletransformers\\classification\\classification_model.py:612: UserWarning: Dataframe headers not specified. Falling back to using column 0 as text and column 1 as labels.\n",
            "  warnings.warn(\n"
          ]
        },
        {
          "output_type": "stream",
          "name": "stdout",
          "text": [
            "\n",
            "NOW EVALUATE THE TEST DF.\n"
          ]
        },
        {
          "output_type": "stream",
          "name": "stderr",
          "text": [
            "C:\\Users\\Domenico\\.conda\\envs\\tf\\lib\\site-packages\\simpletransformers\\classification\\classification_model.py:1454: UserWarning: Dataframe headers not specified. Falling back to using column 0 as text and column 1 as labels.\n",
            "  warnings.warn(\n"
          ]
        },
        {
          "output_type": "stream",
          "name": "stdout",
          "text": [
            "{'mcc': 0.024570951821620956, 'tp': 2507, 'tn': 3, 'fp': 2490, 'fn': 0, 'auroc': 0.8656589467661426, 'auprc': 0.8600016705079611, 'eval_loss': 0.6929204022407531}\n",
            "Correct predictions are:  2510\n",
            "Total predictions are:  5000\n",
            "Accuracy on test set is: 0.502 \n",
            "\n",
            "\n",
            "\n",
            "EPOCH NUMBER:  3\n",
            "\n",
            "NOW TRAIN THE MODEL.\n"
          ]
        },
        {
          "output_type": "stream",
          "name": "stderr",
          "text": [
            "C:\\Users\\Domenico\\.conda\\envs\\tf\\lib\\site-packages\\simpletransformers\\classification\\classification_model.py:612: UserWarning: Dataframe headers not specified. Falling back to using column 0 as text and column 1 as labels.\n",
            "  warnings.warn(\n"
          ]
        },
        {
          "output_type": "stream",
          "name": "stdout",
          "text": [
            "\n",
            "NOW EVALUATE THE TEST DF.\n"
          ]
        },
        {
          "output_type": "stream",
          "name": "stderr",
          "text": [
            "C:\\Users\\Domenico\\.conda\\envs\\tf\\lib\\site-packages\\simpletransformers\\classification\\classification_model.py:1454: UserWarning: Dataframe headers not specified. Falling back to using column 0 as text and column 1 as labels.\n",
            "  warnings.warn(\n"
          ]
        },
        {
          "output_type": "stream",
          "name": "stdout",
          "text": [
            "{'mcc': 0.576793537418391, 'tp': 2082, 'tn': 1855, 'fp': 638, 'fn': 425, 'auroc': 0.8701213017510057, 'auprc': 0.869053632466648, 'eval_loss': 0.49784986329078673}\n",
            "Correct predictions are:  3937\n",
            "Total predictions are:  5000\n",
            "Accuracy on test set is: 0.7874 \n",
            "\n",
            "\n",
            "\n",
            "EPOCH NUMBER:  4\n",
            "\n",
            "NOW TRAIN THE MODEL.\n"
          ]
        },
        {
          "output_type": "stream",
          "name": "stderr",
          "text": [
            "C:\\Users\\Domenico\\.conda\\envs\\tf\\lib\\site-packages\\simpletransformers\\classification\\classification_model.py:612: UserWarning: Dataframe headers not specified. Falling back to using column 0 as text and column 1 as labels.\n",
            "  warnings.warn(\n"
          ]
        },
        {
          "output_type": "stream",
          "name": "stdout",
          "text": [
            "\n",
            "NOW EVALUATE THE TEST DF.\n"
          ]
        },
        {
          "output_type": "stream",
          "name": "stderr",
          "text": [
            "C:\\Users\\Domenico\\.conda\\envs\\tf\\lib\\site-packages\\simpletransformers\\classification\\classification_model.py:1454: UserWarning: Dataframe headers not specified. Falling back to using column 0 as text and column 1 as labels.\n",
            "  warnings.warn(\n"
          ]
        },
        {
          "output_type": "stream",
          "name": "stdout",
          "text": [
            "{'mcc': 0.5957859972206825, 'tp': 2133, 'tn': 1848, 'fp': 645, 'fn': 374, 'auroc': 0.8505760285160636, 'auprc': 0.7846985233614316, 'eval_loss': 0.5029361195325851}\n",
            "Correct predictions are:  3981\n",
            "Total predictions are:  5000\n",
            "Accuracy on test set is: 0.7962 \n",
            "\n",
            "\n",
            "\n",
            "EPOCH NUMBER:  5\n",
            "\n",
            "NOW TRAIN THE MODEL.\n"
          ]
        },
        {
          "output_type": "stream",
          "name": "stderr",
          "text": [
            "C:\\Users\\Domenico\\.conda\\envs\\tf\\lib\\site-packages\\simpletransformers\\classification\\classification_model.py:612: UserWarning: Dataframe headers not specified. Falling back to using column 0 as text and column 1 as labels.\n",
            "  warnings.warn(\n"
          ]
        },
        {
          "output_type": "stream",
          "name": "stdout",
          "text": [
            "\n",
            "NOW EVALUATE THE TEST DF.\n"
          ]
        },
        {
          "output_type": "stream",
          "name": "stderr",
          "text": [
            "C:\\Users\\Domenico\\.conda\\envs\\tf\\lib\\site-packages\\simpletransformers\\classification\\classification_model.py:1454: UserWarning: Dataframe headers not specified. Falling back to using column 0 as text and column 1 as labels.\n",
            "  warnings.warn(\n"
          ]
        },
        {
          "output_type": "stream",
          "name": "stdout",
          "text": [
            "{'mcc': 0.5892859429148208, 'tp': 1860, 'tn': 2105, 'fp': 388, 'fn': 647, 'auroc': 0.8769575153469202, 'auprc': 0.8716656763358623, 'eval_loss': 0.5094379117012023}\n",
            "Correct predictions are:  3965\n",
            "Total predictions are:  5000\n",
            "Accuracy on test set is: 0.793 \n",
            "\n",
            "\n",
            "\n",
            "EPOCH NUMBER:  6\n",
            "\n",
            "NOW TRAIN THE MODEL.\n"
          ]
        },
        {
          "output_type": "stream",
          "name": "stderr",
          "text": [
            "C:\\Users\\Domenico\\.conda\\envs\\tf\\lib\\site-packages\\simpletransformers\\classification\\classification_model.py:612: UserWarning: Dataframe headers not specified. Falling back to using column 0 as text and column 1 as labels.\n",
            "  warnings.warn(\n"
          ]
        },
        {
          "output_type": "stream",
          "name": "stdout",
          "text": [
            "\n",
            "NOW EVALUATE THE TEST DF.\n"
          ]
        },
        {
          "output_type": "stream",
          "name": "stderr",
          "text": [
            "C:\\Users\\Domenico\\.conda\\envs\\tf\\lib\\site-packages\\simpletransformers\\classification\\classification_model.py:1454: UserWarning: Dataframe headers not specified. Falling back to using column 0 as text and column 1 as labels.\n",
            "  warnings.warn(\n"
          ]
        },
        {
          "output_type": "stream",
          "name": "stdout",
          "text": [
            "{'mcc': 0.5841473290247554, 'tp': 1961, 'tn': 1999, 'fp': 494, 'fn': 546, 'auroc': 0.8798834582863131, 'auprc': 0.8732136767162277, 'eval_loss': 0.52293787753582}\n",
            "Correct predictions are:  3960\n",
            "Total predictions are:  5000\n",
            "Accuracy on test set is: 0.792 \n",
            "\n",
            "\n",
            "\n",
            "EPOCH NUMBER:  7\n",
            "\n",
            "NOW TRAIN THE MODEL.\n"
          ]
        },
        {
          "output_type": "stream",
          "name": "stderr",
          "text": [
            "C:\\Users\\Domenico\\.conda\\envs\\tf\\lib\\site-packages\\simpletransformers\\classification\\classification_model.py:612: UserWarning: Dataframe headers not specified. Falling back to using column 0 as text and column 1 as labels.\n",
            "  warnings.warn(\n"
          ]
        },
        {
          "output_type": "stream",
          "name": "stdout",
          "text": [
            "\n",
            "NOW EVALUATE THE TEST DF.\n"
          ]
        },
        {
          "output_type": "stream",
          "name": "stderr",
          "text": [
            "C:\\Users\\Domenico\\.conda\\envs\\tf\\lib\\site-packages\\simpletransformers\\classification\\classification_model.py:1454: UserWarning: Dataframe headers not specified. Falling back to using column 0 as text and column 1 as labels.\n",
            "  warnings.warn(\n"
          ]
        },
        {
          "output_type": "stream",
          "name": "stdout",
          "text": [
            "{'mcc': 0.5980734931997863, 'tp': 2027, 'tn': 1968, 'fp': 525, 'fn': 480, 'auroc': 0.877978243349428, 'auprc': 0.875727276650503, 'eval_loss': 0.4886719374895096}\n",
            "Correct predictions are:  3995\n",
            "Total predictions are:  5000\n",
            "Accuracy on test set is: 0.799 \n",
            "\n",
            "\n",
            "\n",
            "EPOCH NUMBER:  8\n",
            "\n",
            "NOW TRAIN THE MODEL.\n"
          ]
        },
        {
          "output_type": "stream",
          "name": "stderr",
          "text": [
            "C:\\Users\\Domenico\\.conda\\envs\\tf\\lib\\site-packages\\simpletransformers\\classification\\classification_model.py:612: UserWarning: Dataframe headers not specified. Falling back to using column 0 as text and column 1 as labels.\n",
            "  warnings.warn(\n"
          ]
        },
        {
          "output_type": "stream",
          "name": "stdout",
          "text": [
            "\n",
            "NOW EVALUATE THE TEST DF.\n"
          ]
        },
        {
          "output_type": "stream",
          "name": "stderr",
          "text": [
            "C:\\Users\\Domenico\\.conda\\envs\\tf\\lib\\site-packages\\simpletransformers\\classification\\classification_model.py:1454: UserWarning: Dataframe headers not specified. Falling back to using column 0 as text and column 1 as labels.\n",
            "  warnings.warn(\n"
          ]
        },
        {
          "output_type": "stream",
          "name": "stdout",
          "text": [
            "{'mcc': 0.5948287838337353, 'tp': 2129, 'tn': 1850, 'fp': 643, 'fn': 378, 'auroc': 0.8418738002905942, 'auprc': 0.8011635029619748, 'eval_loss': 0.5221679372668266}\n",
            "Correct predictions are:  3979\n",
            "Total predictions are:  5000\n",
            "Accuracy on test set is: 0.7958 \n",
            "\n",
            "\n",
            "\n",
            "EPOCH NUMBER:  9\n",
            "\n",
            "NOW TRAIN THE MODEL.\n"
          ]
        },
        {
          "output_type": "stream",
          "name": "stderr",
          "text": [
            "C:\\Users\\Domenico\\.conda\\envs\\tf\\lib\\site-packages\\simpletransformers\\classification\\classification_model.py:612: UserWarning: Dataframe headers not specified. Falling back to using column 0 as text and column 1 as labels.\n",
            "  warnings.warn(\n"
          ]
        },
        {
          "output_type": "stream",
          "name": "stdout",
          "text": [
            "\n",
            "NOW EVALUATE THE TEST DF.\n"
          ]
        },
        {
          "output_type": "stream",
          "name": "stderr",
          "text": [
            "C:\\Users\\Domenico\\.conda\\envs\\tf\\lib\\site-packages\\simpletransformers\\classification\\classification_model.py:1454: UserWarning: Dataframe headers not specified. Falling back to using column 0 as text and column 1 as labels.\n",
            "  warnings.warn(\n"
          ]
        },
        {
          "output_type": "stream",
          "name": "stdout",
          "text": [
            "{'mcc': 0.4049315796919848, 'tp': 820, 'tn': 2443, 'fp': 50, 'fn': 1687, 'auroc': 0.8548971023932828, 'auprc': 0.8541517880857226, 'eval_loss': 0.5997709676742554}\n",
            "Correct predictions are:  3263\n",
            "Total predictions are:  5000\n",
            "Accuracy on test set is: 0.6526 \n",
            "\n",
            "\n",
            "[0.4986, 0.7796, 0.502, 0.7874, 0.7962, 0.793, 0.792, 0.799, 0.7958, 0.6526]\n",
            "\n",
            "RUN NUMBER:  2\n"
          ]
        },
        {
          "output_type": "stream",
          "name": "stderr",
          "text": [
            "Some weights of the model checkpoint at roberta-base were not used when initializing RobertaForSequenceClassification: ['roberta.pooler.dense.bias', 'lm_head.bias', 'lm_head.dense.bias', 'lm_head.decoder.weight', 'lm_head.dense.weight', 'roberta.pooler.dense.weight', 'lm_head.layer_norm.weight', 'lm_head.layer_norm.bias']\n",
            "- This IS expected if you are initializing RobertaForSequenceClassification from the checkpoint of a model trained on another task or with another architecture (e.g. initializing a BertForSequenceClassification model from a BertForPreTraining model).\n",
            "- This IS NOT expected if you are initializing RobertaForSequenceClassification from the checkpoint of a model that you expect to be exactly identical (initializing a BertForSequenceClassification model from a BertForSequenceClassification model).\n",
            "Some weights of RobertaForSequenceClassification were not initialized from the model checkpoint at roberta-base and are newly initialized: ['classifier.dense.weight', 'classifier.out_proj.weight', 'classifier.out_proj.bias', 'classifier.dense.bias']\n",
            "You should probably TRAIN this model on a down-stream task to be able to use it for predictions and inference.\n"
          ]
        },
        {
          "output_type": "stream",
          "name": "stdout",
          "text": [
            "\n",
            "EPOCH NUMBER:  0\n",
            "\n",
            "NOW TRAIN THE MODEL.\n"
          ]
        },
        {
          "output_type": "stream",
          "name": "stderr",
          "text": [
            "C:\\Users\\Domenico\\.conda\\envs\\tf\\lib\\site-packages\\simpletransformers\\classification\\classification_model.py:612: UserWarning: Dataframe headers not specified. Falling back to using column 0 as text and column 1 as labels.\n",
            "  warnings.warn(\n"
          ]
        },
        {
          "output_type": "stream",
          "name": "stdout",
          "text": [
            "\n",
            "NOW EVALUATE THE TEST DF.\n"
          ]
        },
        {
          "output_type": "stream",
          "name": "stderr",
          "text": [
            "C:\\Users\\Domenico\\.conda\\envs\\tf\\lib\\site-packages\\simpletransformers\\classification\\classification_model.py:1454: UserWarning: Dataframe headers not specified. Falling back to using column 0 as text and column 1 as labels.\n",
            "  warnings.warn(\n"
          ]
        },
        {
          "output_type": "stream",
          "name": "stdout",
          "text": [
            "{'mcc': 0.5978402766395451, 'tp': 1918, 'tn': 2073, 'fp': 420, 'fn': 589, 'auroc': 0.8798843382932122, 'auprc': 0.8765659895502431, 'eval_loss': 0.44940892201662064}\n",
            "Correct predictions are:  3991\n",
            "Total predictions are:  5000\n",
            "Accuracy on test set is: 0.7982 \n",
            "\n",
            "\n",
            "\n",
            "EPOCH NUMBER:  1\n",
            "\n",
            "NOW TRAIN THE MODEL.\n"
          ]
        },
        {
          "output_type": "stream",
          "name": "stderr",
          "text": [
            "C:\\Users\\Domenico\\.conda\\envs\\tf\\lib\\site-packages\\simpletransformers\\classification\\classification_model.py:612: UserWarning: Dataframe headers not specified. Falling back to using column 0 as text and column 1 as labels.\n",
            "  warnings.warn(\n"
          ]
        },
        {
          "output_type": "stream",
          "name": "stdout",
          "text": [
            "\n",
            "NOW EVALUATE THE TEST DF.\n"
          ]
        },
        {
          "output_type": "stream",
          "name": "stderr",
          "text": [
            "C:\\Users\\Domenico\\.conda\\envs\\tf\\lib\\site-packages\\simpletransformers\\classification\\classification_model.py:1454: UserWarning: Dataframe headers not specified. Falling back to using column 0 as text and column 1 as labels.\n",
            "  warnings.warn(\n"
          ]
        },
        {
          "output_type": "stream",
          "name": "stdout",
          "text": [
            "{'mcc': 0.5751371448472052, 'tp': 1935, 'tn': 2002, 'fp': 491, 'fn': 572, 'auroc': 0.8604313057814373, 'auprc': 0.8701573297991239, 'eval_loss': 0.48475395209789274}\n",
            "Correct predictions are:  3937\n",
            "Total predictions are:  5000\n",
            "Accuracy on test set is: 0.7874 \n",
            "\n",
            "\n",
            "\n",
            "EPOCH NUMBER:  2\n",
            "\n",
            "NOW TRAIN THE MODEL.\n"
          ]
        },
        {
          "output_type": "stream",
          "name": "stderr",
          "text": [
            "C:\\Users\\Domenico\\.conda\\envs\\tf\\lib\\site-packages\\simpletransformers\\classification\\classification_model.py:612: UserWarning: Dataframe headers not specified. Falling back to using column 0 as text and column 1 as labels.\n",
            "  warnings.warn(\n"
          ]
        },
        {
          "output_type": "stream",
          "name": "stdout",
          "text": [
            "\n",
            "NOW EVALUATE THE TEST DF.\n"
          ]
        },
        {
          "output_type": "stream",
          "name": "stderr",
          "text": [
            "C:\\Users\\Domenico\\.conda\\envs\\tf\\lib\\site-packages\\simpletransformers\\classification\\classification_model.py:1454: UserWarning: Dataframe headers not specified. Falling back to using column 0 as text and column 1 as labels.\n",
            "  warnings.warn(\n"
          ]
        },
        {
          "output_type": "stream",
          "name": "stdout",
          "text": [
            "{'mcc': 0.5731762477106724, 'tp': 1824, 'tn': 2099, 'fp': 394, 'fn': 683, 'auroc': 0.8707005062919693, 'auprc': 0.8723925659917809, 'eval_loss': 0.48930418701171874}\n",
            "Correct predictions are:  3923\n",
            "Total predictions are:  5000\n",
            "Accuracy on test set is: 0.7846 \n",
            "\n",
            "\n",
            "\n",
            "EPOCH NUMBER:  3\n",
            "\n",
            "NOW TRAIN THE MODEL.\n"
          ]
        },
        {
          "output_type": "stream",
          "name": "stderr",
          "text": [
            "C:\\Users\\Domenico\\.conda\\envs\\tf\\lib\\site-packages\\simpletransformers\\classification\\classification_model.py:612: UserWarning: Dataframe headers not specified. Falling back to using column 0 as text and column 1 as labels.\n",
            "  warnings.warn(\n"
          ]
        },
        {
          "output_type": "stream",
          "name": "stdout",
          "text": [
            "\n",
            "NOW EVALUATE THE TEST DF.\n"
          ]
        },
        {
          "output_type": "stream",
          "name": "stderr",
          "text": [
            "C:\\Users\\Domenico\\.conda\\envs\\tf\\lib\\site-packages\\simpletransformers\\classification\\classification_model.py:1454: UserWarning: Dataframe headers not specified. Falling back to using column 0 as text and column 1 as labels.\n",
            "  warnings.warn(\n"
          ]
        },
        {
          "output_type": "stream",
          "name": "stdout",
          "text": [
            "{'mcc': 0.6287252896369608, 'tp': 2085, 'tn': 1986, 'fp': 507, 'fn': 422, 'auroc': 0.8935395653501924, 'auprc': 0.8877933736334127, 'eval_loss': 0.4643405649423599}\n",
            "Correct predictions are:  4071\n",
            "Total predictions are:  5000\n",
            "Accuracy on test set is: 0.8142 \n",
            "\n",
            "\n",
            "\n",
            "EPOCH NUMBER:  4\n",
            "\n",
            "NOW TRAIN THE MODEL.\n"
          ]
        },
        {
          "output_type": "stream",
          "name": "stderr",
          "text": [
            "C:\\Users\\Domenico\\.conda\\envs\\tf\\lib\\site-packages\\simpletransformers\\classification\\classification_model.py:612: UserWarning: Dataframe headers not specified. Falling back to using column 0 as text and column 1 as labels.\n",
            "  warnings.warn(\n"
          ]
        },
        {
          "output_type": "stream",
          "name": "stdout",
          "text": [
            "\n",
            "NOW EVALUATE THE TEST DF.\n"
          ]
        },
        {
          "output_type": "stream",
          "name": "stderr",
          "text": [
            "C:\\Users\\Domenico\\.conda\\envs\\tf\\lib\\site-packages\\simpletransformers\\classification\\classification_model.py:1454: UserWarning: Dataframe headers not specified. Falling back to using column 0 as text and column 1 as labels.\n",
            "  warnings.warn(\n"
          ]
        },
        {
          "output_type": "stream",
          "name": "stdout",
          "text": [
            "{'mcc': 0.607156769100536, 'tp': 2180, 'tn': 1824, 'fp': 669, 'fn': 327, 'auroc': 0.8847918967684707, 'auprc': 0.8834191591349159, 'eval_loss': 0.500898078930378}\n",
            "Correct predictions are:  4004\n",
            "Total predictions are:  5000\n",
            "Accuracy on test set is: 0.8008 \n",
            "\n",
            "\n",
            "\n",
            "EPOCH NUMBER:  5\n",
            "\n",
            "NOW TRAIN THE MODEL.\n"
          ]
        },
        {
          "output_type": "stream",
          "name": "stderr",
          "text": [
            "C:\\Users\\Domenico\\.conda\\envs\\tf\\lib\\site-packages\\simpletransformers\\classification\\classification_model.py:612: UserWarning: Dataframe headers not specified. Falling back to using column 0 as text and column 1 as labels.\n",
            "  warnings.warn(\n"
          ]
        },
        {
          "output_type": "stream",
          "name": "stdout",
          "text": [
            "\n",
            "NOW EVALUATE THE TEST DF.\n"
          ]
        },
        {
          "output_type": "stream",
          "name": "stderr",
          "text": [
            "C:\\Users\\Domenico\\.conda\\envs\\tf\\lib\\site-packages\\simpletransformers\\classification\\classification_model.py:1454: UserWarning: Dataframe headers not specified. Falling back to using column 0 as text and column 1 as labels.\n",
            "  warnings.warn(\n"
          ]
        },
        {
          "output_type": "stream",
          "name": "stdout",
          "text": [
            "{'mcc': 0.6129943113945898, 'tp': 2057, 'tn': 1975, 'fp': 518, 'fn': 450, 'auroc': 0.880898906247425, 'auprc': 0.8645322294789264, 'eval_loss': 0.5128700563192368}\n",
            "Correct predictions are:  4032\n",
            "Total predictions are:  5000\n",
            "Accuracy on test set is: 0.8064 \n",
            "\n",
            "\n",
            "\n",
            "EPOCH NUMBER:  6\n",
            "\n",
            "NOW TRAIN THE MODEL.\n"
          ]
        },
        {
          "output_type": "stream",
          "name": "stderr",
          "text": [
            "C:\\Users\\Domenico\\.conda\\envs\\tf\\lib\\site-packages\\simpletransformers\\classification\\classification_model.py:612: UserWarning: Dataframe headers not specified. Falling back to using column 0 as text and column 1 as labels.\n",
            "  warnings.warn(\n"
          ]
        },
        {
          "output_type": "stream",
          "name": "stdout",
          "text": [
            "\n",
            "NOW EVALUATE THE TEST DF.\n"
          ]
        },
        {
          "output_type": "stream",
          "name": "stderr",
          "text": [
            "C:\\Users\\Domenico\\.conda\\envs\\tf\\lib\\site-packages\\simpletransformers\\classification\\classification_model.py:1454: UserWarning: Dataframe headers not specified. Falling back to using column 0 as text and column 1 as labels.\n",
            "  warnings.warn(\n"
          ]
        },
        {
          "output_type": "stream",
          "name": "stdout",
          "text": [
            "{'mcc': 0.6104160252162643, 'tp': 2200, 'tn': 1809, 'fp': 684, 'fn': 307, 'auroc': 0.8933296437044067, 'auprc': 0.892508413125443, 'eval_loss': 0.48922437419891357}\n",
            "Correct predictions are:  4009\n",
            "Total predictions are:  5000\n",
            "Accuracy on test set is: 0.8018 \n",
            "\n",
            "\n",
            "\n",
            "EPOCH NUMBER:  7\n",
            "\n",
            "NOW TRAIN THE MODEL.\n"
          ]
        },
        {
          "output_type": "stream",
          "name": "stderr",
          "text": [
            "C:\\Users\\Domenico\\.conda\\envs\\tf\\lib\\site-packages\\simpletransformers\\classification\\classification_model.py:612: UserWarning: Dataframe headers not specified. Falling back to using column 0 as text and column 1 as labels.\n",
            "  warnings.warn(\n"
          ]
        },
        {
          "output_type": "stream",
          "name": "stdout",
          "text": [
            "\n",
            "NOW EVALUATE THE TEST DF.\n"
          ]
        },
        {
          "output_type": "stream",
          "name": "stderr",
          "text": [
            "C:\\Users\\Domenico\\.conda\\envs\\tf\\lib\\site-packages\\simpletransformers\\classification\\classification_model.py:1454: UserWarning: Dataframe headers not specified. Falling back to using column 0 as text and column 1 as labels.\n",
            "  warnings.warn(\n"
          ]
        },
        {
          "output_type": "stream",
          "name": "stdout",
          "text": [
            "{'mcc': 0.6056658213404877, 'tp': 1826, 'tn': 2172, 'fp': 321, 'fn': 681, 'auroc': 0.873680289653471, 'auprc': 0.8220516910518259, 'eval_loss': 0.5156546618163586}\n",
            "Correct predictions are:  3998\n",
            "Total predictions are:  5000\n",
            "Accuracy on test set is: 0.7996 \n",
            "\n",
            "\n",
            "\n",
            "EPOCH NUMBER:  8\n",
            "\n",
            "NOW TRAIN THE MODEL.\n"
          ]
        },
        {
          "output_type": "stream",
          "name": "stderr",
          "text": [
            "C:\\Users\\Domenico\\.conda\\envs\\tf\\lib\\site-packages\\simpletransformers\\classification\\classification_model.py:612: UserWarning: Dataframe headers not specified. Falling back to using column 0 as text and column 1 as labels.\n",
            "  warnings.warn(\n"
          ]
        },
        {
          "output_type": "stream",
          "name": "stdout",
          "text": [
            "\n",
            "NOW EVALUATE THE TEST DF.\n"
          ]
        },
        {
          "output_type": "stream",
          "name": "stderr",
          "text": [
            "C:\\Users\\Domenico\\.conda\\envs\\tf\\lib\\site-packages\\simpletransformers\\classification\\classification_model.py:1454: UserWarning: Dataframe headers not specified. Falling back to using column 0 as text and column 1 as labels.\n",
            "  warnings.warn(\n"
          ]
        },
        {
          "output_type": "stream",
          "name": "stdout",
          "text": [
            "{'mcc': 0.6080936189487436, 'tp': 1913, 'tn': 2102, 'fp': 391, 'fn': 594, 'auroc': 0.8868095925872058, 'auprc': 0.8885755442691026, 'eval_loss': 0.503600704151392}\n",
            "Correct predictions are:  4015\n",
            "Total predictions are:  5000\n",
            "Accuracy on test set is: 0.803 \n",
            "\n",
            "\n",
            "\n",
            "EPOCH NUMBER:  9\n",
            "\n",
            "NOW TRAIN THE MODEL.\n"
          ]
        },
        {
          "output_type": "stream",
          "name": "stderr",
          "text": [
            "C:\\Users\\Domenico\\.conda\\envs\\tf\\lib\\site-packages\\simpletransformers\\classification\\classification_model.py:612: UserWarning: Dataframe headers not specified. Falling back to using column 0 as text and column 1 as labels.\n",
            "  warnings.warn(\n"
          ]
        },
        {
          "output_type": "stream",
          "name": "stdout",
          "text": [
            "\n",
            "NOW EVALUATE THE TEST DF.\n"
          ]
        },
        {
          "output_type": "stream",
          "name": "stderr",
          "text": [
            "C:\\Users\\Domenico\\.conda\\envs\\tf\\lib\\site-packages\\simpletransformers\\classification\\classification_model.py:1454: UserWarning: Dataframe headers not specified. Falling back to using column 0 as text and column 1 as labels.\n",
            "  warnings.warn(\n"
          ]
        },
        {
          "output_type": "stream",
          "name": "stdout",
          "text": [
            "{'mcc': 0.61238513326619, 'tp': 2132, 'tn': 1893, 'fp': 600, 'fn': 375, 'auroc': 0.8932450030408239, 'auprc': 0.892098644292268, 'eval_loss': 0.5293065720081329}\n",
            "Correct predictions are:  4025\n",
            "Total predictions are:  5000\n",
            "Accuracy on test set is: 0.805 \n",
            "\n",
            "\n",
            "[0.7982, 0.7874, 0.7846, 0.8142, 0.8008, 0.8064, 0.8018, 0.7996, 0.803, 0.805]\n",
            "\n",
            "RUN NUMBER:  3\n"
          ]
        },
        {
          "output_type": "stream",
          "name": "stderr",
          "text": [
            "Some weights of the model checkpoint at roberta-base were not used when initializing RobertaForSequenceClassification: ['roberta.pooler.dense.bias', 'lm_head.bias', 'lm_head.dense.bias', 'lm_head.decoder.weight', 'lm_head.dense.weight', 'roberta.pooler.dense.weight', 'lm_head.layer_norm.weight', 'lm_head.layer_norm.bias']\n",
            "- This IS expected if you are initializing RobertaForSequenceClassification from the checkpoint of a model trained on another task or with another architecture (e.g. initializing a BertForSequenceClassification model from a BertForPreTraining model).\n",
            "- This IS NOT expected if you are initializing RobertaForSequenceClassification from the checkpoint of a model that you expect to be exactly identical (initializing a BertForSequenceClassification model from a BertForSequenceClassification model).\n",
            "Some weights of RobertaForSequenceClassification were not initialized from the model checkpoint at roberta-base and are newly initialized: ['classifier.dense.weight', 'classifier.out_proj.weight', 'classifier.out_proj.bias', 'classifier.dense.bias']\n",
            "You should probably TRAIN this model on a down-stream task to be able to use it for predictions and inference.\n"
          ]
        },
        {
          "output_type": "stream",
          "name": "stdout",
          "text": [
            "\n",
            "EPOCH NUMBER:  0\n",
            "\n",
            "NOW TRAIN THE MODEL.\n"
          ]
        },
        {
          "output_type": "stream",
          "name": "stderr",
          "text": [
            "C:\\Users\\Domenico\\.conda\\envs\\tf\\lib\\site-packages\\simpletransformers\\classification\\classification_model.py:612: UserWarning: Dataframe headers not specified. Falling back to using column 0 as text and column 1 as labels.\n",
            "  warnings.warn(\n"
          ]
        },
        {
          "output_type": "stream",
          "name": "stdout",
          "text": [
            "\n",
            "NOW EVALUATE THE TEST DF.\n"
          ]
        },
        {
          "output_type": "stream",
          "name": "stderr",
          "text": [
            "C:\\Users\\Domenico\\.conda\\envs\\tf\\lib\\site-packages\\simpletransformers\\classification\\classification_model.py:1454: UserWarning: Dataframe headers not specified. Falling back to using column 0 as text and column 1 as labels.\n",
            "  warnings.warn(\n"
          ]
        },
        {
          "output_type": "stream",
          "name": "stdout",
          "text": [
            "{'mcc': 0.5035449091835128, 'tp': 2096, 'tn': 1644, 'fp': 849, 'fn': 411, 'auroc': 0.8359604739301156, 'auprc': 0.8363231744756056, 'eval_loss': 0.5241886733412743}\n",
            "Correct predictions are:  3740\n",
            "Total predictions are:  5000\n",
            "Accuracy on test set is: 0.748 \n",
            "\n",
            "\n",
            "\n",
            "EPOCH NUMBER:  1\n",
            "\n",
            "NOW TRAIN THE MODEL.\n"
          ]
        },
        {
          "output_type": "stream",
          "name": "stderr",
          "text": [
            "C:\\Users\\Domenico\\.conda\\envs\\tf\\lib\\site-packages\\simpletransformers\\classification\\classification_model.py:612: UserWarning: Dataframe headers not specified. Falling back to using column 0 as text and column 1 as labels.\n",
            "  warnings.warn(\n"
          ]
        },
        {
          "output_type": "stream",
          "name": "stdout",
          "text": [
            "\n",
            "NOW EVALUATE THE TEST DF.\n"
          ]
        },
        {
          "output_type": "stream",
          "name": "stderr",
          "text": [
            "C:\\Users\\Domenico\\.conda\\envs\\tf\\lib\\site-packages\\simpletransformers\\classification\\classification_model.py:1454: UserWarning: Dataframe headers not specified. Falling back to using column 0 as text and column 1 as labels.\n",
            "  warnings.warn(\n"
          ]
        },
        {
          "output_type": "stream",
          "name": "stdout",
          "text": [
            "{'mcc': 0.5960091283751386, 'tp': 1996, 'tn': 1994, 'fp': 499, 'fn': 511, 'auroc': 0.8743703750637404, 'auprc': 0.8625237180609104, 'eval_loss': 0.44965520169734957}\n",
            "Correct predictions are:  3990\n",
            "Total predictions are:  5000\n",
            "Accuracy on test set is: 0.798 \n",
            "\n",
            "\n",
            "\n",
            "EPOCH NUMBER:  2\n",
            "\n",
            "NOW TRAIN THE MODEL.\n"
          ]
        },
        {
          "output_type": "stream",
          "name": "stderr",
          "text": [
            "C:\\Users\\Domenico\\.conda\\envs\\tf\\lib\\site-packages\\simpletransformers\\classification\\classification_model.py:612: UserWarning: Dataframe headers not specified. Falling back to using column 0 as text and column 1 as labels.\n",
            "  warnings.warn(\n"
          ]
        },
        {
          "output_type": "stream",
          "name": "stdout",
          "text": [
            "\n",
            "NOW EVALUATE THE TEST DF.\n"
          ]
        },
        {
          "output_type": "stream",
          "name": "stderr",
          "text": [
            "C:\\Users\\Domenico\\.conda\\envs\\tf\\lib\\site-packages\\simpletransformers\\classification\\classification_model.py:1454: UserWarning: Dataframe headers not specified. Falling back to using column 0 as text and column 1 as labels.\n",
            "  warnings.warn(\n"
          ]
        },
        {
          "output_type": "stream",
          "name": "stdout",
          "text": [
            "{'mcc': 0.6250371356986798, 'tp': 1983, 'tn': 2078, 'fp': 415, 'fn': 524, 'auroc': 0.8901621788714824, 'auprc': 0.8900350283840313, 'eval_loss': 0.44934432402849195}\n",
            "Correct predictions are:  4061\n",
            "Total predictions are:  5000\n",
            "Accuracy on test set is: 0.8122 \n",
            "\n",
            "\n",
            "\n",
            "EPOCH NUMBER:  3\n",
            "\n",
            "NOW TRAIN THE MODEL.\n"
          ]
        },
        {
          "output_type": "stream",
          "name": "stderr",
          "text": [
            "C:\\Users\\Domenico\\.conda\\envs\\tf\\lib\\site-packages\\simpletransformers\\classification\\classification_model.py:612: UserWarning: Dataframe headers not specified. Falling back to using column 0 as text and column 1 as labels.\n",
            "  warnings.warn(\n"
          ]
        },
        {
          "output_type": "stream",
          "name": "stdout",
          "text": [
            "\n",
            "NOW EVALUATE THE TEST DF.\n"
          ]
        },
        {
          "output_type": "stream",
          "name": "stderr",
          "text": [
            "C:\\Users\\Domenico\\.conda\\envs\\tf\\lib\\site-packages\\simpletransformers\\classification\\classification_model.py:1454: UserWarning: Dataframe headers not specified. Falling back to using column 0 as text and column 1 as labels.\n",
            "  warnings.warn(\n"
          ]
        },
        {
          "output_type": "stream",
          "name": "stdout",
          "text": [
            "{'mcc': 0.6098637967197555, 'tp': 2176, 'tn': 1836, 'fp': 657, 'fn': 331, 'auroc': 0.8927217189382765, 'auprc': 0.8878934793742446, 'eval_loss': 0.4782244719445705}\n",
            "Correct predictions are:  4012\n",
            "Total predictions are:  5000\n",
            "Accuracy on test set is: 0.8024 \n",
            "\n",
            "\n",
            "\n",
            "EPOCH NUMBER:  4\n",
            "\n",
            "NOW TRAIN THE MODEL.\n"
          ]
        },
        {
          "output_type": "stream",
          "name": "stderr",
          "text": [
            "C:\\Users\\Domenico\\.conda\\envs\\tf\\lib\\site-packages\\simpletransformers\\classification\\classification_model.py:612: UserWarning: Dataframe headers not specified. Falling back to using column 0 as text and column 1 as labels.\n",
            "  warnings.warn(\n"
          ]
        },
        {
          "output_type": "stream",
          "name": "stdout",
          "text": [
            "\n",
            "NOW EVALUATE THE TEST DF.\n"
          ]
        },
        {
          "output_type": "stream",
          "name": "stderr",
          "text": [
            "C:\\Users\\Domenico\\.conda\\envs\\tf\\lib\\site-packages\\simpletransformers\\classification\\classification_model.py:1454: UserWarning: Dataframe headers not specified. Falling back to using column 0 as text and column 1 as labels.\n",
            "  warnings.warn(\n"
          ]
        },
        {
          "output_type": "stream",
          "name": "stdout",
          "text": [
            "{'mcc': 0.6254088434316969, 'tp': 2008, 'tn': 2055, 'fp': 438, 'fn': 499, 'auroc': 0.8981792017249415, 'auprc': 0.897301631080328, 'eval_loss': 0.5002843851625919}\n",
            "Correct predictions are:  4063\n",
            "Total predictions are:  5000\n",
            "Accuracy on test set is: 0.8126 \n",
            "\n",
            "\n",
            "\n",
            "EPOCH NUMBER:  5\n",
            "\n",
            "NOW TRAIN THE MODEL.\n"
          ]
        },
        {
          "output_type": "stream",
          "name": "stderr",
          "text": [
            "C:\\Users\\Domenico\\.conda\\envs\\tf\\lib\\site-packages\\simpletransformers\\classification\\classification_model.py:612: UserWarning: Dataframe headers not specified. Falling back to using column 0 as text and column 1 as labels.\n",
            "  warnings.warn(\n"
          ]
        },
        {
          "output_type": "stream",
          "name": "stdout",
          "text": [
            "\n",
            "NOW EVALUATE THE TEST DF.\n"
          ]
        },
        {
          "output_type": "stream",
          "name": "stderr",
          "text": [
            "C:\\Users\\Domenico\\.conda\\envs\\tf\\lib\\site-packages\\simpletransformers\\classification\\classification_model.py:1454: UserWarning: Dataframe headers not specified. Falling back to using column 0 as text and column 1 as labels.\n",
            "  warnings.warn(\n"
          ]
        },
        {
          "output_type": "stream",
          "name": "stdout",
          "text": [
            "{'mcc': 0.6243280602951208, 'tp': 2193, 'tn': 1855, 'fp': 638, 'fn': 314, 'auroc': 0.8890508101583516, 'auprc': 0.8957019971423597, 'eval_loss': 0.47456613247394563}\n",
            "Correct predictions are:  4048\n",
            "Total predictions are:  5000\n",
            "Accuracy on test set is: 0.8096 \n",
            "\n",
            "\n",
            "\n",
            "EPOCH NUMBER:  6\n",
            "\n",
            "NOW TRAIN THE MODEL.\n"
          ]
        },
        {
          "output_type": "stream",
          "name": "stderr",
          "text": [
            "C:\\Users\\Domenico\\.conda\\envs\\tf\\lib\\site-packages\\simpletransformers\\classification\\classification_model.py:612: UserWarning: Dataframe headers not specified. Falling back to using column 0 as text and column 1 as labels.\n",
            "  warnings.warn(\n"
          ]
        },
        {
          "output_type": "stream",
          "name": "stdout",
          "text": [
            "\n",
            "NOW EVALUATE THE TEST DF.\n"
          ]
        },
        {
          "output_type": "stream",
          "name": "stderr",
          "text": [
            "C:\\Users\\Domenico\\.conda\\envs\\tf\\lib\\site-packages\\simpletransformers\\classification\\classification_model.py:1454: UserWarning: Dataframe headers not specified. Falling back to using column 0 as text and column 1 as labels.\n",
            "  warnings.warn(\n"
          ]
        },
        {
          "output_type": "stream",
          "name": "stdout",
          "text": [
            "{'mcc': 0.6354452461422766, 'tp': 2164, 'tn': 1918, 'fp': 575, 'fn': 343, 'auroc': 0.9004140992465381, 'auprc': 0.9006336669160403, 'eval_loss': 0.44320955239534376}\n",
            "Correct predictions are:  4082\n",
            "Total predictions are:  5000\n",
            "Accuracy on test set is: 0.8164 \n",
            "\n",
            "\n",
            "\n",
            "EPOCH NUMBER:  7\n",
            "\n",
            "NOW TRAIN THE MODEL.\n"
          ]
        },
        {
          "output_type": "stream",
          "name": "stderr",
          "text": [
            "C:\\Users\\Domenico\\.conda\\envs\\tf\\lib\\site-packages\\simpletransformers\\classification\\classification_model.py:612: UserWarning: Dataframe headers not specified. Falling back to using column 0 as text and column 1 as labels.\n",
            "  warnings.warn(\n"
          ]
        },
        {
          "output_type": "stream",
          "name": "stdout",
          "text": [
            "\n",
            "NOW EVALUATE THE TEST DF.\n"
          ]
        },
        {
          "output_type": "stream",
          "name": "stderr",
          "text": [
            "C:\\Users\\Domenico\\.conda\\envs\\tf\\lib\\site-packages\\simpletransformers\\classification\\classification_model.py:1454: UserWarning: Dataframe headers not specified. Falling back to using column 0 as text and column 1 as labels.\n",
            "  warnings.warn(\n"
          ]
        },
        {
          "output_type": "stream",
          "name": "stdout",
          "text": [
            "{'mcc': 0.6378688502135614, 'tp': 2175, 'tn': 1912, 'fp': 581, 'fn': 332, 'auroc': 0.9007101815678235, 'auprc': 0.8999529566729885, 'eval_loss': 0.5030661512970924}\n",
            "Correct predictions are:  4087\n",
            "Total predictions are:  5000\n",
            "Accuracy on test set is: 0.8174 \n",
            "\n",
            "\n",
            "\n",
            "EPOCH NUMBER:  8\n",
            "\n",
            "NOW TRAIN THE MODEL.\n"
          ]
        },
        {
          "output_type": "stream",
          "name": "stderr",
          "text": [
            "C:\\Users\\Domenico\\.conda\\envs\\tf\\lib\\site-packages\\simpletransformers\\classification\\classification_model.py:612: UserWarning: Dataframe headers not specified. Falling back to using column 0 as text and column 1 as labels.\n",
            "  warnings.warn(\n"
          ]
        },
        {
          "output_type": "stream",
          "name": "stdout",
          "text": [
            "\n",
            "NOW EVALUATE THE TEST DF.\n"
          ]
        },
        {
          "output_type": "stream",
          "name": "stderr",
          "text": [
            "C:\\Users\\Domenico\\.conda\\envs\\tf\\lib\\site-packages\\simpletransformers\\classification\\classification_model.py:1454: UserWarning: Dataframe headers not specified. Falling back to using column 0 as text and column 1 as labels.\n",
            "  warnings.warn(\n"
          ]
        },
        {
          "output_type": "stream",
          "name": "stdout",
          "text": [
            "{'mcc': 0.6450751294641638, 'tp': 2148, 'tn': 1961, 'fp': 532, 'fn': 359, 'auroc': 0.8832964450441291, 'auprc': 0.8569932594973626, 'eval_loss': 0.537348651945591}\n",
            "Correct predictions are:  4109\n",
            "Total predictions are:  5000\n",
            "Accuracy on test set is: 0.8218 \n",
            "\n",
            "\n",
            "\n",
            "EPOCH NUMBER:  9\n",
            "\n",
            "NOW TRAIN THE MODEL.\n"
          ]
        },
        {
          "output_type": "stream",
          "name": "stderr",
          "text": [
            "C:\\Users\\Domenico\\.conda\\envs\\tf\\lib\\site-packages\\simpletransformers\\classification\\classification_model.py:612: UserWarning: Dataframe headers not specified. Falling back to using column 0 as text and column 1 as labels.\n",
            "  warnings.warn(\n"
          ]
        },
        {
          "output_type": "stream",
          "name": "stdout",
          "text": [
            "\n",
            "NOW EVALUATE THE TEST DF.\n"
          ]
        },
        {
          "output_type": "stream",
          "name": "stderr",
          "text": [
            "C:\\Users\\Domenico\\.conda\\envs\\tf\\lib\\site-packages\\simpletransformers\\classification\\classification_model.py:1454: UserWarning: Dataframe headers not specified. Falling back to using column 0 as text and column 1 as labels.\n",
            "  warnings.warn(\n"
          ]
        },
        {
          "output_type": "stream",
          "name": "stdout",
          "text": [
            "{'mcc': 0.6272983445411985, 'tp': 2193, 'tn': 1863, 'fp': 630, 'fn': 314, 'auroc': 0.8962231863897813, 'auprc': 0.894783026392296, 'eval_loss': 0.5012600041806697}\n",
            "Correct predictions are:  4056\n",
            "Total predictions are:  5000\n",
            "Accuracy on test set is: 0.8112 \n",
            "\n",
            "\n",
            "[0.748, 0.798, 0.8122, 0.8024, 0.8126, 0.8096, 0.8164, 0.8174, 0.8218, 0.8112]\n",
            "\n",
            "RUN NUMBER:  4\n"
          ]
        },
        {
          "output_type": "stream",
          "name": "stderr",
          "text": [
            "Some weights of the model checkpoint at roberta-base were not used when initializing RobertaForSequenceClassification: ['roberta.pooler.dense.bias', 'lm_head.bias', 'lm_head.dense.bias', 'lm_head.decoder.weight', 'lm_head.dense.weight', 'roberta.pooler.dense.weight', 'lm_head.layer_norm.weight', 'lm_head.layer_norm.bias']\n",
            "- This IS expected if you are initializing RobertaForSequenceClassification from the checkpoint of a model trained on another task or with another architecture (e.g. initializing a BertForSequenceClassification model from a BertForPreTraining model).\n",
            "- This IS NOT expected if you are initializing RobertaForSequenceClassification from the checkpoint of a model that you expect to be exactly identical (initializing a BertForSequenceClassification model from a BertForSequenceClassification model).\n",
            "Some weights of RobertaForSequenceClassification were not initialized from the model checkpoint at roberta-base and are newly initialized: ['classifier.dense.weight', 'classifier.out_proj.weight', 'classifier.out_proj.bias', 'classifier.dense.bias']\n",
            "You should probably TRAIN this model on a down-stream task to be able to use it for predictions and inference.\n"
          ]
        },
        {
          "output_type": "stream",
          "name": "stdout",
          "text": [
            "\n",
            "EPOCH NUMBER:  0\n",
            "\n",
            "NOW TRAIN THE MODEL.\n"
          ]
        },
        {
          "output_type": "stream",
          "name": "stderr",
          "text": [
            "C:\\Users\\Domenico\\.conda\\envs\\tf\\lib\\site-packages\\simpletransformers\\classification\\classification_model.py:612: UserWarning: Dataframe headers not specified. Falling back to using column 0 as text and column 1 as labels.\n",
            "  warnings.warn(\n"
          ]
        },
        {
          "output_type": "stream",
          "name": "stdout",
          "text": [
            "\n",
            "NOW EVALUATE THE TEST DF.\n"
          ]
        },
        {
          "output_type": "stream",
          "name": "stderr",
          "text": [
            "C:\\Users\\Domenico\\.conda\\envs\\tf\\lib\\site-packages\\simpletransformers\\classification\\classification_model.py:1454: UserWarning: Dataframe headers not specified. Falling back to using column 0 as text and column 1 as labels.\n",
            "  warnings.warn(\n"
          ]
        },
        {
          "output_type": "stream",
          "name": "stdout",
          "text": [
            "{'mcc': 0.5736751024407426, 'tp': 1879, 'tn': 2051, 'fp': 442, 'fn': 628, 'auroc': 0.8681472862747244, 'auprc': 0.8664474766135236, 'eval_loss': 0.4597698366045952}\n",
            "Correct predictions are:  3930\n",
            "Total predictions are:  5000\n",
            "Accuracy on test set is: 0.786 \n",
            "\n",
            "\n",
            "\n",
            "EPOCH NUMBER:  1\n",
            "\n",
            "NOW TRAIN THE MODEL.\n"
          ]
        },
        {
          "output_type": "stream",
          "name": "stderr",
          "text": [
            "C:\\Users\\Domenico\\.conda\\envs\\tf\\lib\\site-packages\\simpletransformers\\classification\\classification_model.py:612: UserWarning: Dataframe headers not specified. Falling back to using column 0 as text and column 1 as labels.\n",
            "  warnings.warn(\n"
          ]
        },
        {
          "output_type": "stream",
          "name": "stdout",
          "text": [
            "\n",
            "NOW EVALUATE THE TEST DF.\n"
          ]
        },
        {
          "output_type": "stream",
          "name": "stderr",
          "text": [
            "C:\\Users\\Domenico\\.conda\\envs\\tf\\lib\\site-packages\\simpletransformers\\classification\\classification_model.py:1454: UserWarning: Dataframe headers not specified. Falling back to using column 0 as text and column 1 as labels.\n",
            "  warnings.warn(\n"
          ]
        },
        {
          "output_type": "stream",
          "name": "stdout",
          "text": [
            "{'mcc': 0.6090980596598636, 'tp': 1931, 'tn': 2088, 'fp': 405, 'fn': 576, 'auroc': 0.8810761076366839, 'auprc': 0.87729778039249, 'eval_loss': 0.46762230302095414}\n",
            "Correct predictions are:  4019\n",
            "Total predictions are:  5000\n",
            "Accuracy on test set is: 0.8038 \n",
            "\n",
            "\n",
            "\n",
            "EPOCH NUMBER:  2\n",
            "\n",
            "NOW TRAIN THE MODEL.\n"
          ]
        },
        {
          "output_type": "stream",
          "name": "stderr",
          "text": [
            "C:\\Users\\Domenico\\.conda\\envs\\tf\\lib\\site-packages\\simpletransformers\\classification\\classification_model.py:612: UserWarning: Dataframe headers not specified. Falling back to using column 0 as text and column 1 as labels.\n",
            "  warnings.warn(\n"
          ]
        },
        {
          "output_type": "stream",
          "name": "stdout",
          "text": [
            "\n",
            "NOW EVALUATE THE TEST DF.\n"
          ]
        },
        {
          "output_type": "stream",
          "name": "stderr",
          "text": [
            "C:\\Users\\Domenico\\.conda\\envs\\tf\\lib\\site-packages\\simpletransformers\\classification\\classification_model.py:1454: UserWarning: Dataframe headers not specified. Falling back to using column 0 as text and column 1 as labels.\n",
            "  warnings.warn(\n"
          ]
        },
        {
          "output_type": "stream",
          "name": "stdout",
          "text": [
            "{'mcc': 0.5940617885125213, 'tp': 2121, 'tn': 1857, 'fp': 636, 'fn': 386, 'auroc': 0.8806913846204554, 'auprc': 0.8698641954433001, 'eval_loss': 0.47400425913333893}\n",
            "Correct predictions are:  3978\n",
            "Total predictions are:  5000\n",
            "Accuracy on test set is: 0.7956 \n",
            "\n",
            "\n",
            "\n",
            "EPOCH NUMBER:  3\n",
            "\n",
            "NOW TRAIN THE MODEL.\n"
          ]
        },
        {
          "output_type": "stream",
          "name": "stderr",
          "text": [
            "C:\\Users\\Domenico\\.conda\\envs\\tf\\lib\\site-packages\\simpletransformers\\classification\\classification_model.py:612: UserWarning: Dataframe headers not specified. Falling back to using column 0 as text and column 1 as labels.\n",
            "  warnings.warn(\n"
          ]
        },
        {
          "output_type": "stream",
          "name": "stdout",
          "text": [
            "\n",
            "NOW EVALUATE THE TEST DF.\n"
          ]
        },
        {
          "output_type": "stream",
          "name": "stderr",
          "text": [
            "C:\\Users\\Domenico\\.conda\\envs\\tf\\lib\\site-packages\\simpletransformers\\classification\\classification_model.py:1454: UserWarning: Dataframe headers not specified. Falling back to using column 0 as text and column 1 as labels.\n",
            "  warnings.warn(\n"
          ]
        },
        {
          "output_type": "stream",
          "name": "stdout",
          "text": [
            "{'mcc': 0.6197354645841326, 'tp': 1950, 'tn': 2096, 'fp': 397, 'fn': 557, 'auroc': 0.8890603302329891, 'auprc': 0.8682849769798096, 'eval_loss': 0.45246393384337424}\n",
            "Correct predictions are:  4046\n",
            "Total predictions are:  5000\n",
            "Accuracy on test set is: 0.8092 \n",
            "\n",
            "\n",
            "\n",
            "EPOCH NUMBER:  4\n",
            "\n",
            "NOW TRAIN THE MODEL.\n"
          ]
        },
        {
          "output_type": "stream",
          "name": "stderr",
          "text": [
            "C:\\Users\\Domenico\\.conda\\envs\\tf\\lib\\site-packages\\simpletransformers\\classification\\classification_model.py:612: UserWarning: Dataframe headers not specified. Falling back to using column 0 as text and column 1 as labels.\n",
            "  warnings.warn(\n"
          ]
        },
        {
          "output_type": "stream",
          "name": "stdout",
          "text": [
            "\n",
            "NOW EVALUATE THE TEST DF.\n"
          ]
        },
        {
          "output_type": "stream",
          "name": "stderr",
          "text": [
            "C:\\Users\\Domenico\\.conda\\envs\\tf\\lib\\site-packages\\simpletransformers\\classification\\classification_model.py:1454: UserWarning: Dataframe headers not specified. Falling back to using column 0 as text and column 1 as labels.\n",
            "  warnings.warn(\n"
          ]
        },
        {
          "output_type": "stream",
          "name": "stdout",
          "text": [
            "{'mcc': 0.5899018637868295, 'tp': 2113, 'tn': 1855, 'fp': 638, 'fn': 394, 'auroc': 0.8807701852382521, 'auprc': 0.8741716264808583, 'eval_loss': 0.4896265535593033}\n",
            "Correct predictions are:  3968\n",
            "Total predictions are:  5000\n",
            "Accuracy on test set is: 0.7936 \n",
            "\n",
            "\n",
            "\n",
            "EPOCH NUMBER:  5\n",
            "\n",
            "NOW TRAIN THE MODEL.\n"
          ]
        },
        {
          "output_type": "stream",
          "name": "stderr",
          "text": [
            "C:\\Users\\Domenico\\.conda\\envs\\tf\\lib\\site-packages\\simpletransformers\\classification\\classification_model.py:612: UserWarning: Dataframe headers not specified. Falling back to using column 0 as text and column 1 as labels.\n",
            "  warnings.warn(\n"
          ]
        },
        {
          "output_type": "stream",
          "name": "stdout",
          "text": [
            "\n",
            "NOW EVALUATE THE TEST DF.\n"
          ]
        },
        {
          "output_type": "stream",
          "name": "stderr",
          "text": [
            "C:\\Users\\Domenico\\.conda\\envs\\tf\\lib\\site-packages\\simpletransformers\\classification\\classification_model.py:1454: UserWarning: Dataframe headers not specified. Falling back to using column 0 as text and column 1 as labels.\n",
            "  warnings.warn(\n"
          ]
        },
        {
          "output_type": "stream",
          "name": "stdout",
          "text": [
            "{'mcc': 0.6102583648287396, 'tp': 1947, 'tn': 2076, 'fp': 417, 'fn': 560, 'auroc': 0.8544293387260157, 'auprc': 0.7686049054100234, 'eval_loss': 0.49131767444610597}\n",
            "Correct predictions are:  4023\n",
            "Total predictions are:  5000\n",
            "Accuracy on test set is: 0.8046 \n",
            "\n",
            "\n",
            "\n",
            "EPOCH NUMBER:  6\n",
            "\n",
            "NOW TRAIN THE MODEL.\n"
          ]
        },
        {
          "output_type": "stream",
          "name": "stderr",
          "text": [
            "C:\\Users\\Domenico\\.conda\\envs\\tf\\lib\\site-packages\\simpletransformers\\classification\\classification_model.py:612: UserWarning: Dataframe headers not specified. Falling back to using column 0 as text and column 1 as labels.\n",
            "  warnings.warn(\n"
          ]
        },
        {
          "output_type": "stream",
          "name": "stdout",
          "text": [
            "\n",
            "NOW EVALUATE THE TEST DF.\n"
          ]
        },
        {
          "output_type": "stream",
          "name": "stderr",
          "text": [
            "C:\\Users\\Domenico\\.conda\\envs\\tf\\lib\\site-packages\\simpletransformers\\classification\\classification_model.py:1454: UserWarning: Dataframe headers not specified. Falling back to using column 0 as text and column 1 as labels.\n",
            "  warnings.warn(\n"
          ]
        },
        {
          "output_type": "stream",
          "name": "stdout",
          "text": [
            "{'mcc': 0.6227975150234389, 'tp': 2035, 'tn': 2022, 'fp': 471, 'fn': 472, 'auroc': 0.8911257864261655, 'auprc': 0.8910263021697378, 'eval_loss': 0.49963321187496185}\n",
            "Correct predictions are:  4057\n",
            "Total predictions are:  5000\n",
            "Accuracy on test set is: 0.8114 \n",
            "\n",
            "\n",
            "\n",
            "EPOCH NUMBER:  7\n",
            "\n",
            "NOW TRAIN THE MODEL.\n"
          ]
        },
        {
          "output_type": "stream",
          "name": "stderr",
          "text": [
            "C:\\Users\\Domenico\\.conda\\envs\\tf\\lib\\site-packages\\simpletransformers\\classification\\classification_model.py:612: UserWarning: Dataframe headers not specified. Falling back to using column 0 as text and column 1 as labels.\n",
            "  warnings.warn(\n"
          ]
        },
        {
          "output_type": "stream",
          "name": "stdout",
          "text": [
            "\n",
            "NOW EVALUATE THE TEST DF.\n"
          ]
        },
        {
          "output_type": "stream",
          "name": "stderr",
          "text": [
            "C:\\Users\\Domenico\\.conda\\envs\\tf\\lib\\site-packages\\simpletransformers\\classification\\classification_model.py:1454: UserWarning: Dataframe headers not specified. Falling back to using column 0 as text and column 1 as labels.\n",
            "  warnings.warn(\n"
          ]
        },
        {
          "output_type": "stream",
          "name": "stdout",
          "text": [
            "{'mcc': 0.554746563277546, 'tp': 2341, 'tn': 1461, 'fp': 1032, 'fn': 166, 'auroc': 0.738066266439529, 'auprc': 0.6153007616755659, 'eval_loss': 0.5321348212599755}\n",
            "Correct predictions are:  3802\n",
            "Total predictions are:  5000\n",
            "Accuracy on test set is: 0.7604 \n",
            "\n",
            "\n",
            "\n",
            "EPOCH NUMBER:  8\n",
            "\n",
            "NOW TRAIN THE MODEL.\n"
          ]
        },
        {
          "output_type": "stream",
          "name": "stderr",
          "text": [
            "C:\\Users\\Domenico\\.conda\\envs\\tf\\lib\\site-packages\\simpletransformers\\classification\\classification_model.py:612: UserWarning: Dataframe headers not specified. Falling back to using column 0 as text and column 1 as labels.\n",
            "  warnings.warn(\n"
          ]
        },
        {
          "output_type": "stream",
          "name": "stdout",
          "text": [
            "\n",
            "NOW EVALUATE THE TEST DF.\n"
          ]
        },
        {
          "output_type": "stream",
          "name": "stderr",
          "text": [
            "C:\\Users\\Domenico\\.conda\\envs\\tf\\lib\\site-packages\\simpletransformers\\classification\\classification_model.py:1454: UserWarning: Dataframe headers not specified. Falling back to using column 0 as text and column 1 as labels.\n",
            "  warnings.warn(\n"
          ]
        },
        {
          "output_type": "stream",
          "name": "stdout",
          "text": [
            "{'mcc': 0.6000163201716959, 'tp': 1999, 'tn': 2001, 'fp': 492, 'fn': 508, 'auroc': 0.8257623139765415, 'auprc': 0.8572094213412352, 'eval_loss': 0.5423527262926102}\n",
            "Correct predictions are:  4000\n",
            "Total predictions are:  5000\n",
            "Accuracy on test set is: 0.8 \n",
            "\n",
            "\n",
            "\n",
            "EPOCH NUMBER:  9\n",
            "\n",
            "NOW TRAIN THE MODEL.\n"
          ]
        },
        {
          "output_type": "stream",
          "name": "stderr",
          "text": [
            "C:\\Users\\Domenico\\.conda\\envs\\tf\\lib\\site-packages\\simpletransformers\\classification\\classification_model.py:612: UserWarning: Dataframe headers not specified. Falling back to using column 0 as text and column 1 as labels.\n",
            "  warnings.warn(\n"
          ]
        },
        {
          "output_type": "stream",
          "name": "stdout",
          "text": [
            "\n",
            "NOW EVALUATE THE TEST DF.\n"
          ]
        },
        {
          "output_type": "stream",
          "name": "stderr",
          "text": [
            "C:\\Users\\Domenico\\.conda\\envs\\tf\\lib\\site-packages\\simpletransformers\\classification\\classification_model.py:1454: UserWarning: Dataframe headers not specified. Falling back to using column 0 as text and column 1 as labels.\n",
            "  warnings.warn(\n"
          ]
        },
        {
          "output_type": "stream",
          "name": "stdout",
          "text": [
            "{'mcc': 0.6254226858828559, 'tp': 1968, 'tn': 2093, 'fp': 400, 'fn': 539, 'auroc': 0.8900243377908083, 'auprc': 0.8739002450394965, 'eval_loss': 0.5099257447719574}\n",
            "Correct predictions are:  4061\n",
            "Total predictions are:  5000\n",
            "Accuracy on test set is: 0.8122 \n",
            "\n",
            "\n",
            "[0.786, 0.8038, 0.7956, 0.8092, 0.7936, 0.8046, 0.8114, 0.7604, 0.8, 0.8122]\n",
            "\n",
            "RUN NUMBER:  5\n"
          ]
        },
        {
          "output_type": "stream",
          "name": "stderr",
          "text": [
            "Some weights of the model checkpoint at roberta-base were not used when initializing RobertaForSequenceClassification: ['roberta.pooler.dense.bias', 'lm_head.bias', 'lm_head.dense.bias', 'lm_head.decoder.weight', 'lm_head.dense.weight', 'roberta.pooler.dense.weight', 'lm_head.layer_norm.weight', 'lm_head.layer_norm.bias']\n",
            "- This IS expected if you are initializing RobertaForSequenceClassification from the checkpoint of a model trained on another task or with another architecture (e.g. initializing a BertForSequenceClassification model from a BertForPreTraining model).\n",
            "- This IS NOT expected if you are initializing RobertaForSequenceClassification from the checkpoint of a model that you expect to be exactly identical (initializing a BertForSequenceClassification model from a BertForSequenceClassification model).\n",
            "Some weights of RobertaForSequenceClassification were not initialized from the model checkpoint at roberta-base and are newly initialized: ['classifier.dense.weight', 'classifier.out_proj.weight', 'classifier.out_proj.bias', 'classifier.dense.bias']\n",
            "You should probably TRAIN this model on a down-stream task to be able to use it for predictions and inference.\n"
          ]
        },
        {
          "output_type": "stream",
          "name": "stdout",
          "text": [
            "\n",
            "EPOCH NUMBER:  0\n",
            "\n",
            "NOW TRAIN THE MODEL.\n"
          ]
        },
        {
          "output_type": "stream",
          "name": "stderr",
          "text": [
            "C:\\Users\\Domenico\\.conda\\envs\\tf\\lib\\site-packages\\simpletransformers\\classification\\classification_model.py:612: UserWarning: Dataframe headers not specified. Falling back to using column 0 as text and column 1 as labels.\n",
            "  warnings.warn(\n"
          ]
        },
        {
          "output_type": "stream",
          "name": "stdout",
          "text": [
            "\n",
            "NOW EVALUATE THE TEST DF.\n"
          ]
        },
        {
          "output_type": "stream",
          "name": "stderr",
          "text": [
            "C:\\Users\\Domenico\\.conda\\envs\\tf\\lib\\site-packages\\simpletransformers\\classification\\classification_model.py:1454: UserWarning: Dataframe headers not specified. Falling back to using column 0 as text and column 1 as labels.\n",
            "  warnings.warn(\n"
          ]
        },
        {
          "output_type": "stream",
          "name": "stdout",
          "text": [
            "{'mcc': 0.0, 'tp': 0, 'tn': 2493, 'fp': 0, 'fn': 2507, 'auroc': 0.682272469016157, 'auprc': 0.6577267239573505, 'eval_loss': 0.6948343278884888}\n",
            "Correct predictions are:  2493\n",
            "Total predictions are:  5000\n",
            "Accuracy on test set is: 0.4986 \n",
            "\n",
            "\n",
            "\n",
            "EPOCH NUMBER:  1\n",
            "\n",
            "NOW TRAIN THE MODEL.\n"
          ]
        },
        {
          "output_type": "stream",
          "name": "stderr",
          "text": [
            "C:\\Users\\Domenico\\.conda\\envs\\tf\\lib\\site-packages\\simpletransformers\\classification\\classification_model.py:612: UserWarning: Dataframe headers not specified. Falling back to using column 0 as text and column 1 as labels.\n",
            "  warnings.warn(\n"
          ]
        },
        {
          "output_type": "stream",
          "name": "stdout",
          "text": [
            "\n",
            "NOW EVALUATE THE TEST DF.\n"
          ]
        },
        {
          "output_type": "stream",
          "name": "stderr",
          "text": [
            "C:\\Users\\Domenico\\.conda\\envs\\tf\\lib\\site-packages\\simpletransformers\\classification\\classification_model.py:1454: UserWarning: Dataframe headers not specified. Falling back to using column 0 as text and column 1 as labels.\n",
            "  warnings.warn(\n"
          ]
        },
        {
          "output_type": "stream",
          "name": "stdout",
          "text": [
            "{'mcc': 0.5217046934658847, 'tp': 1985, 'tn': 1817, 'fp': 676, 'fn': 522, 'auroc': 0.8214107598603573, 'auprc': 0.8240895081231653, 'eval_loss': 0.5491300178527831}\n",
            "Correct predictions are:  3802\n",
            "Total predictions are:  5000\n",
            "Accuracy on test set is: 0.7604 \n",
            "\n",
            "\n",
            "\n",
            "EPOCH NUMBER:  2\n",
            "\n",
            "NOW TRAIN THE MODEL.\n"
          ]
        },
        {
          "output_type": "stream",
          "name": "stderr",
          "text": [
            "C:\\Users\\Domenico\\.conda\\envs\\tf\\lib\\site-packages\\simpletransformers\\classification\\classification_model.py:612: UserWarning: Dataframe headers not specified. Falling back to using column 0 as text and column 1 as labels.\n",
            "  warnings.warn(\n"
          ]
        },
        {
          "output_type": "stream",
          "name": "stdout",
          "text": [
            "\n",
            "NOW EVALUATE THE TEST DF.\n"
          ]
        },
        {
          "output_type": "stream",
          "name": "stderr",
          "text": [
            "C:\\Users\\Domenico\\.conda\\envs\\tf\\lib\\site-packages\\simpletransformers\\classification\\classification_model.py:1454: UserWarning: Dataframe headers not specified. Falling back to using column 0 as text and column 1 as labels.\n",
            "  warnings.warn(\n"
          ]
        },
        {
          "output_type": "stream",
          "name": "stdout",
          "text": [
            "{'mcc': 0.42422398307057796, 'tp': 987, 'tn': 2386, 'fp': 107, 'fn': 1520, 'auroc': 0.6272801178761243, 'auprc': 0.734161483563327, 'eval_loss': 0.6190155213832855}\n",
            "Correct predictions are:  3373\n",
            "Total predictions are:  5000\n",
            "Accuracy on test set is: 0.6746 \n",
            "\n",
            "\n",
            "\n",
            "EPOCH NUMBER:  3\n",
            "\n",
            "NOW TRAIN THE MODEL.\n"
          ]
        },
        {
          "output_type": "stream",
          "name": "stderr",
          "text": [
            "C:\\Users\\Domenico\\.conda\\envs\\tf\\lib\\site-packages\\simpletransformers\\classification\\classification_model.py:612: UserWarning: Dataframe headers not specified. Falling back to using column 0 as text and column 1 as labels.\n",
            "  warnings.warn(\n"
          ]
        },
        {
          "output_type": "stream",
          "name": "stdout",
          "text": [
            "\n",
            "NOW EVALUATE THE TEST DF.\n"
          ]
        },
        {
          "output_type": "stream",
          "name": "stderr",
          "text": [
            "C:\\Users\\Domenico\\.conda\\envs\\tf\\lib\\site-packages\\simpletransformers\\classification\\classification_model.py:1454: UserWarning: Dataframe headers not specified. Falling back to using column 0 as text and column 1 as labels.\n",
            "  warnings.warn(\n"
          ]
        },
        {
          "output_type": "stream",
          "name": "stdout",
          "text": [
            "{'mcc': 0.5878563741310685, 'tp': 2068, 'tn': 1899, 'fp': 594, 'fn': 439, 'auroc': 0.8748523788426501, 'auprc': 0.8744411295232096, 'eval_loss': 0.4908921403646469}\n",
            "Correct predictions are:  3967\n",
            "Total predictions are:  5000\n",
            "Accuracy on test set is: 0.7934 \n",
            "\n",
            "\n",
            "\n",
            "EPOCH NUMBER:  4\n",
            "\n",
            "NOW TRAIN THE MODEL.\n"
          ]
        },
        {
          "output_type": "stream",
          "name": "stderr",
          "text": [
            "C:\\Users\\Domenico\\.conda\\envs\\tf\\lib\\site-packages\\simpletransformers\\classification\\classification_model.py:612: UserWarning: Dataframe headers not specified. Falling back to using column 0 as text and column 1 as labels.\n",
            "  warnings.warn(\n"
          ]
        },
        {
          "output_type": "stream",
          "name": "stdout",
          "text": [
            "\n",
            "NOW EVALUATE THE TEST DF.\n"
          ]
        },
        {
          "output_type": "stream",
          "name": "stderr",
          "text": [
            "C:\\Users\\Domenico\\.conda\\envs\\tf\\lib\\site-packages\\simpletransformers\\classification\\classification_model.py:1454: UserWarning: Dataframe headers not specified. Falling back to using column 0 as text and column 1 as labels.\n",
            "  warnings.warn(\n"
          ]
        },
        {
          "output_type": "stream",
          "name": "stdout",
          "text": [
            "{'mcc': 0.5838191107179508, 'tp': 1914, 'tn': 2043, 'fp': 450, 'fn': 593, 'auroc': 0.8339486981577936, 'auprc': 0.859389619615372, 'eval_loss': 0.5167745352506637}\n",
            "Correct predictions are:  3957\n",
            "Total predictions are:  5000\n",
            "Accuracy on test set is: 0.7914 \n",
            "\n",
            "\n",
            "\n",
            "EPOCH NUMBER:  5\n",
            "\n",
            "NOW TRAIN THE MODEL.\n"
          ]
        },
        {
          "output_type": "stream",
          "name": "stderr",
          "text": [
            "C:\\Users\\Domenico\\.conda\\envs\\tf\\lib\\site-packages\\simpletransformers\\classification\\classification_model.py:612: UserWarning: Dataframe headers not specified. Falling back to using column 0 as text and column 1 as labels.\n",
            "  warnings.warn(\n"
          ]
        },
        {
          "output_type": "stream",
          "name": "stdout",
          "text": [
            "\n",
            "NOW EVALUATE THE TEST DF.\n"
          ]
        },
        {
          "output_type": "stream",
          "name": "stderr",
          "text": [
            "C:\\Users\\Domenico\\.conda\\envs\\tf\\lib\\site-packages\\simpletransformers\\classification\\classification_model.py:1454: UserWarning: Dataframe headers not specified. Falling back to using column 0 as text and column 1 as labels.\n",
            "  warnings.warn(\n"
          ]
        },
        {
          "output_type": "stream",
          "name": "stdout",
          "text": [
            "{'mcc': 0.6030594922958207, 'tp': 2086, 'tn': 1919, 'fp': 574, 'fn': 421, 'auroc': 0.8673140797423852, 'auprc': 0.8773484988544706, 'eval_loss': 0.542154499912262}\n",
            "Correct predictions are:  4005\n",
            "Total predictions are:  5000\n",
            "Accuracy on test set is: 0.801 \n",
            "\n",
            "\n",
            "\n",
            "EPOCH NUMBER:  6\n",
            "\n",
            "NOW TRAIN THE MODEL.\n"
          ]
        },
        {
          "output_type": "stream",
          "name": "stderr",
          "text": [
            "C:\\Users\\Domenico\\.conda\\envs\\tf\\lib\\site-packages\\simpletransformers\\classification\\classification_model.py:612: UserWarning: Dataframe headers not specified. Falling back to using column 0 as text and column 1 as labels.\n",
            "  warnings.warn(\n"
          ]
        },
        {
          "output_type": "stream",
          "name": "stdout",
          "text": [
            "\n",
            "NOW EVALUATE THE TEST DF.\n"
          ]
        },
        {
          "output_type": "stream",
          "name": "stderr",
          "text": [
            "C:\\Users\\Domenico\\.conda\\envs\\tf\\lib\\site-packages\\simpletransformers\\classification\\classification_model.py:1454: UserWarning: Dataframe headers not specified. Falling back to using column 0 as text and column 1 as labels.\n",
            "  warnings.warn(\n"
          ]
        },
        {
          "output_type": "stream",
          "name": "stdout",
          "text": [
            "{'mcc': 0.09852813408221933, 'tp': 54, 'tn': 2491, 'fp': 2, 'fn': 2453, 'auroc': 0.8615875548464299, 'auprc': 0.8651244044968163, 'eval_loss': 0.6908934730529785}\n",
            "Correct predictions are:  2545\n",
            "Total predictions are:  5000\n",
            "Accuracy on test set is: 0.509 \n",
            "\n",
            "\n",
            "\n",
            "EPOCH NUMBER:  7\n",
            "\n",
            "NOW TRAIN THE MODEL.\n"
          ]
        },
        {
          "output_type": "stream",
          "name": "stderr",
          "text": [
            "C:\\Users\\Domenico\\.conda\\envs\\tf\\lib\\site-packages\\simpletransformers\\classification\\classification_model.py:612: UserWarning: Dataframe headers not specified. Falling back to using column 0 as text and column 1 as labels.\n",
            "  warnings.warn(\n"
          ]
        },
        {
          "output_type": "stream",
          "name": "stdout",
          "text": [
            "\n",
            "NOW EVALUATE THE TEST DF.\n"
          ]
        },
        {
          "output_type": "stream",
          "name": "stderr",
          "text": [
            "C:\\Users\\Domenico\\.conda\\envs\\tf\\lib\\site-packages\\simpletransformers\\classification\\classification_model.py:1454: UserWarning: Dataframe headers not specified. Falling back to using column 0 as text and column 1 as labels.\n",
            "  warnings.warn(\n"
          ]
        },
        {
          "output_type": "stream",
          "name": "stdout",
          "text": [
            "{'mcc': 0.5971350333031218, 'tp': 2104, 'tn': 1884, 'fp': 609, 'fn': 403, 'auroc': 0.8714168319079622, 'auprc': 0.8412667385065704, 'eval_loss': 0.5043507263422012}\n",
            "Correct predictions are:  3988\n",
            "Total predictions are:  5000\n",
            "Accuracy on test set is: 0.7976 \n",
            "\n",
            "\n",
            "\n",
            "EPOCH NUMBER:  8\n",
            "\n",
            "NOW TRAIN THE MODEL.\n"
          ]
        },
        {
          "output_type": "stream",
          "name": "stderr",
          "text": [
            "C:\\Users\\Domenico\\.conda\\envs\\tf\\lib\\site-packages\\simpletransformers\\classification\\classification_model.py:612: UserWarning: Dataframe headers not specified. Falling back to using column 0 as text and column 1 as labels.\n",
            "  warnings.warn(\n"
          ]
        },
        {
          "output_type": "stream",
          "name": "stdout",
          "text": [
            "\n",
            "NOW EVALUATE THE TEST DF.\n"
          ]
        },
        {
          "output_type": "stream",
          "name": "stderr",
          "text": [
            "C:\\Users\\Domenico\\.conda\\envs\\tf\\lib\\site-packages\\simpletransformers\\classification\\classification_model.py:1454: UserWarning: Dataframe headers not specified. Falling back to using column 0 as text and column 1 as labels.\n",
            "  warnings.warn(\n"
          ]
        },
        {
          "output_type": "stream",
          "name": "stdout",
          "text": [
            "{'mcc': 0.09455687867685, 'tp': 2193, 'tn': 485, 'fp': 2008, 'fn': 314, 'auroc': 0.799868910972262, 'auprc': 0.8438478397904865, 'eval_loss': 0.692611737537384}\n",
            "Correct predictions are:  2678\n",
            "Total predictions are:  5000\n",
            "Accuracy on test set is: 0.5356 \n",
            "\n",
            "\n",
            "\n",
            "EPOCH NUMBER:  9\n",
            "\n",
            "NOW TRAIN THE MODEL.\n"
          ]
        },
        {
          "output_type": "stream",
          "name": "stderr",
          "text": [
            "C:\\Users\\Domenico\\.conda\\envs\\tf\\lib\\site-packages\\simpletransformers\\classification\\classification_model.py:612: UserWarning: Dataframe headers not specified. Falling back to using column 0 as text and column 1 as labels.\n",
            "  warnings.warn(\n"
          ]
        },
        {
          "output_type": "stream",
          "name": "stdout",
          "text": [
            "\n",
            "NOW EVALUATE THE TEST DF.\n"
          ]
        },
        {
          "output_type": "stream",
          "name": "stderr",
          "text": [
            "C:\\Users\\Domenico\\.conda\\envs\\tf\\lib\\site-packages\\simpletransformers\\classification\\classification_model.py:1454: UserWarning: Dataframe headers not specified. Falling back to using column 0 as text and column 1 as labels.\n",
            "  warnings.warn(\n"
          ]
        },
        {
          "output_type": "stream",
          "name": "stdout",
          "text": [
            "{'mcc': 0.5299696952611903, 'tp': 2324, 'tn': 1414, 'fp': 1079, 'fn': 183, 'auroc': 0.7630707024743074, 'auprc': 0.6449048985133417, 'eval_loss': 0.5517807277441025}\n",
            "Correct predictions are:  3738\n",
            "Total predictions are:  5000\n",
            "Accuracy on test set is: 0.7476 \n",
            "\n",
            "\n",
            "[0.4986, 0.7604, 0.6746, 0.7934, 0.7914, 0.801, 0.509, 0.7976, 0.5356, 0.7476]\n",
            "\n",
            "\n",
            " Over all runs maximum accuracies are: [0.799, 0.801, 0.8122, 0.8142, 0.8218]\n",
            "The median is: 0.8122\n",
            "RoBERTa Accuracy Score on Test set ->  ['0.8122 +/- 0.01319999999999999']\n"
          ]
        },
        {
          "output_type": "stream",
          "name": "stderr",
          "text": [
            "Some weights of the model checkpoint at roberta-base were not used when initializing RobertaForSequenceClassification: ['roberta.pooler.dense.bias', 'lm_head.bias', 'lm_head.dense.bias', 'lm_head.decoder.weight', 'lm_head.dense.weight', 'roberta.pooler.dense.weight', 'lm_head.layer_norm.weight', 'lm_head.layer_norm.bias']\n",
            "- This IS expected if you are initializing RobertaForSequenceClassification from the checkpoint of a model trained on another task or with another architecture (e.g. initializing a BertForSequenceClassification model from a BertForPreTraining model).\n",
            "- This IS NOT expected if you are initializing RobertaForSequenceClassification from the checkpoint of a model that you expect to be exactly identical (initializing a BertForSequenceClassification model from a BertForSequenceClassification model).\n",
            "Some weights of RobertaForSequenceClassification were not initialized from the model checkpoint at roberta-base and are newly initialized: ['classifier.dense.weight', 'classifier.out_proj.weight', 'classifier.out_proj.bias', 'classifier.dense.bias']\n",
            "You should probably TRAIN this model on a down-stream task to be able to use it for predictions and inference.\n"
          ]
        },
        {
          "output_type": "stream",
          "name": "stdout",
          "text": [
            "\n",
            "\n",
            "* * * * EVALUATION USING STM_RSW_LOW AS PREPROCESSING FUNCTION * * * *\n",
            "\n",
            "RUN NUMBER:  1\n"
          ]
        },
        {
          "output_type": "stream",
          "name": "stderr",
          "text": [
            "Some weights of the model checkpoint at roberta-base were not used when initializing RobertaForSequenceClassification: ['roberta.pooler.dense.bias', 'lm_head.bias', 'lm_head.dense.bias', 'lm_head.decoder.weight', 'lm_head.dense.weight', 'roberta.pooler.dense.weight', 'lm_head.layer_norm.weight', 'lm_head.layer_norm.bias']\n",
            "- This IS expected if you are initializing RobertaForSequenceClassification from the checkpoint of a model trained on another task or with another architecture (e.g. initializing a BertForSequenceClassification model from a BertForPreTraining model).\n",
            "- This IS NOT expected if you are initializing RobertaForSequenceClassification from the checkpoint of a model that you expect to be exactly identical (initializing a BertForSequenceClassification model from a BertForSequenceClassification model).\n",
            "Some weights of RobertaForSequenceClassification were not initialized from the model checkpoint at roberta-base and are newly initialized: ['classifier.dense.weight', 'classifier.out_proj.weight', 'classifier.out_proj.bias', 'classifier.dense.bias']\n",
            "You should probably TRAIN this model on a down-stream task to be able to use it for predictions and inference.\n"
          ]
        },
        {
          "output_type": "stream",
          "name": "stdout",
          "text": [
            "\n",
            "EPOCH NUMBER:  0\n",
            "\n",
            "NOW TRAIN THE MODEL.\n"
          ]
        },
        {
          "output_type": "stream",
          "name": "stderr",
          "text": [
            "C:\\Users\\Domenico\\.conda\\envs\\tf\\lib\\site-packages\\simpletransformers\\classification\\classification_model.py:612: UserWarning: Dataframe headers not specified. Falling back to using column 0 as text and column 1 as labels.\n",
            "  warnings.warn(\n"
          ]
        },
        {
          "output_type": "stream",
          "name": "stdout",
          "text": [
            "\n",
            "NOW EVALUATE THE TEST DF.\n"
          ]
        },
        {
          "output_type": "stream",
          "name": "stderr",
          "text": [
            "C:\\Users\\Domenico\\.conda\\envs\\tf\\lib\\site-packages\\simpletransformers\\classification\\classification_model.py:1454: UserWarning: Dataframe headers not specified. Falling back to using column 0 as text and column 1 as labels.\n",
            "  warnings.warn(\n"
          ]
        },
        {
          "output_type": "stream",
          "name": "stdout",
          "text": [
            "{'mcc': 0.5827314481498316, 'tp': 2128, 'tn': 1819, 'fp': 674, 'fn': 379, 'auroc': 0.8794987352700846, 'auprc': 0.877220037211751, 'eval_loss': 0.4603658403277397}\n",
            "Correct predictions are:  3947\n",
            "Total predictions are:  5000\n",
            "Accuracy on test set is: 0.7894 \n",
            "\n",
            "\n",
            "\n",
            "EPOCH NUMBER:  1\n",
            "\n",
            "NOW TRAIN THE MODEL.\n"
          ]
        },
        {
          "output_type": "stream",
          "name": "stderr",
          "text": [
            "C:\\Users\\Domenico\\.conda\\envs\\tf\\lib\\site-packages\\simpletransformers\\classification\\classification_model.py:612: UserWarning: Dataframe headers not specified. Falling back to using column 0 as text and column 1 as labels.\n",
            "  warnings.warn(\n"
          ]
        },
        {
          "output_type": "stream",
          "name": "stdout",
          "text": [
            "\n",
            "NOW EVALUATE THE TEST DF.\n"
          ]
        },
        {
          "output_type": "stream",
          "name": "stderr",
          "text": [
            "C:\\Users\\Domenico\\.conda\\envs\\tf\\lib\\site-packages\\simpletransformers\\classification\\classification_model.py:1454: UserWarning: Dataframe headers not specified. Falling back to using column 0 as text and column 1 as labels.\n",
            "  warnings.warn(\n"
          ]
        },
        {
          "output_type": "stream",
          "name": "stdout",
          "text": [
            "{'mcc': 0.6156133332994859, 'tp': 1915, 'tn': 2118, 'fp': 375, 'fn': 592, 'auroc': 0.8863107886765833, 'auprc': 0.8887982252051422, 'eval_loss': 0.4618244962334633}\n",
            "Correct predictions are:  4033\n",
            "Total predictions are:  5000\n",
            "Accuracy on test set is: 0.8066 \n",
            "\n",
            "\n",
            "\n",
            "EPOCH NUMBER:  2\n",
            "\n",
            "NOW TRAIN THE MODEL.\n"
          ]
        },
        {
          "output_type": "stream",
          "name": "stderr",
          "text": [
            "C:\\Users\\Domenico\\.conda\\envs\\tf\\lib\\site-packages\\simpletransformers\\classification\\classification_model.py:612: UserWarning: Dataframe headers not specified. Falling back to using column 0 as text and column 1 as labels.\n",
            "  warnings.warn(\n"
          ]
        },
        {
          "output_type": "stream",
          "name": "stdout",
          "text": [
            "\n",
            "NOW EVALUATE THE TEST DF.\n"
          ]
        },
        {
          "output_type": "stream",
          "name": "stderr",
          "text": [
            "C:\\Users\\Domenico\\.conda\\envs\\tf\\lib\\site-packages\\simpletransformers\\classification\\classification_model.py:1454: UserWarning: Dataframe headers not specified. Falling back to using column 0 as text and column 1 as labels.\n",
            "  warnings.warn(\n"
          ]
        },
        {
          "output_type": "stream",
          "name": "stdout",
          "text": [
            "{'mcc': 0.6232292626028708, 'tp': 2051, 'tn': 2007, 'fp': 486, 'fn': 456, 'auroc': 0.8967278303461899, 'auprc': 0.890685051125697, 'eval_loss': 0.4664386723279953}\n",
            "Correct predictions are:  4058\n",
            "Total predictions are:  5000\n",
            "Accuracy on test set is: 0.8116 \n",
            "\n",
            "\n",
            "\n",
            "EPOCH NUMBER:  3\n",
            "\n",
            "NOW TRAIN THE MODEL.\n"
          ]
        },
        {
          "output_type": "stream",
          "name": "stderr",
          "text": [
            "C:\\Users\\Domenico\\.conda\\envs\\tf\\lib\\site-packages\\simpletransformers\\classification\\classification_model.py:612: UserWarning: Dataframe headers not specified. Falling back to using column 0 as text and column 1 as labels.\n",
            "  warnings.warn(\n"
          ]
        },
        {
          "output_type": "stream",
          "name": "stdout",
          "text": [
            "\n",
            "NOW EVALUATE THE TEST DF.\n"
          ]
        },
        {
          "output_type": "stream",
          "name": "stderr",
          "text": [
            "C:\\Users\\Domenico\\.conda\\envs\\tf\\lib\\site-packages\\simpletransformers\\classification\\classification_model.py:1454: UserWarning: Dataframe headers not specified. Falling back to using column 0 as text and column 1 as labels.\n",
            "  warnings.warn(\n"
          ]
        },
        {
          "output_type": "stream",
          "name": "stdout",
          "text": [
            "{'mcc': 0.6253576656105831, 'tp': 2069, 'tn': 1994, 'fp': 499, 'fn': 438, 'auroc': 0.8897560156871629, 'auprc': 0.8639934294143797, 'eval_loss': 0.4678882896900177}\n",
            "Correct predictions are:  4063\n",
            "Total predictions are:  5000\n",
            "Accuracy on test set is: 0.8126 \n",
            "\n",
            "\n",
            "\n",
            "EPOCH NUMBER:  4\n",
            "\n",
            "NOW TRAIN THE MODEL.\n"
          ]
        },
        {
          "output_type": "stream",
          "name": "stderr",
          "text": [
            "C:\\Users\\Domenico\\.conda\\envs\\tf\\lib\\site-packages\\simpletransformers\\classification\\classification_model.py:612: UserWarning: Dataframe headers not specified. Falling back to using column 0 as text and column 1 as labels.\n",
            "  warnings.warn(\n"
          ]
        },
        {
          "output_type": "stream",
          "name": "stdout",
          "text": [
            "\n",
            "NOW EVALUATE THE TEST DF.\n"
          ]
        },
        {
          "output_type": "stream",
          "name": "stderr",
          "text": [
            "C:\\Users\\Domenico\\.conda\\envs\\tf\\lib\\site-packages\\simpletransformers\\classification\\classification_model.py:1454: UserWarning: Dataframe headers not specified. Falling back to using column 0 as text and column 1 as labels.\n",
            "  warnings.warn(\n"
          ]
        },
        {
          "output_type": "stream",
          "name": "stdout",
          "text": [
            "{'mcc': 0.6146442293607929, 'tp': 2148, 'tn': 1881, 'fp': 612, 'fn': 359, 'auroc': 0.851272273974628, 'auprc': 0.8086295338518418, 'eval_loss': 0.5150199774265289}\n",
            "Correct predictions are:  4029\n",
            "Total predictions are:  5000\n",
            "Accuracy on test set is: 0.8058 \n",
            "\n",
            "\n",
            "\n",
            "EPOCH NUMBER:  5\n",
            "\n",
            "NOW TRAIN THE MODEL.\n"
          ]
        },
        {
          "output_type": "stream",
          "name": "stderr",
          "text": [
            "C:\\Users\\Domenico\\.conda\\envs\\tf\\lib\\site-packages\\simpletransformers\\classification\\classification_model.py:612: UserWarning: Dataframe headers not specified. Falling back to using column 0 as text and column 1 as labels.\n",
            "  warnings.warn(\n"
          ]
        },
        {
          "output_type": "stream",
          "name": "stdout",
          "text": [
            "\n",
            "NOW EVALUATE THE TEST DF.\n"
          ]
        },
        {
          "output_type": "stream",
          "name": "stderr",
          "text": [
            "C:\\Users\\Domenico\\.conda\\envs\\tf\\lib\\site-packages\\simpletransformers\\classification\\classification_model.py:1454: UserWarning: Dataframe headers not specified. Falling back to using column 0 as text and column 1 as labels.\n",
            "  warnings.warn(\n"
          ]
        },
        {
          "output_type": "stream",
          "name": "stdout",
          "text": [
            "{'mcc': 0.6220751523431901, 'tp': 1955, 'tn': 2097, 'fp': 396, 'fn': 552, 'auroc': 0.8955126208189472, 'auprc': 0.8942506867819993, 'eval_loss': 0.4674291839718819}\n",
            "Correct predictions are:  4052\n",
            "Total predictions are:  5000\n",
            "Accuracy on test set is: 0.8104 \n",
            "\n",
            "\n",
            "\n",
            "EPOCH NUMBER:  6\n",
            "\n",
            "NOW TRAIN THE MODEL.\n"
          ]
        },
        {
          "output_type": "stream",
          "name": "stderr",
          "text": [
            "C:\\Users\\Domenico\\.conda\\envs\\tf\\lib\\site-packages\\simpletransformers\\classification\\classification_model.py:612: UserWarning: Dataframe headers not specified. Falling back to using column 0 as text and column 1 as labels.\n",
            "  warnings.warn(\n"
          ]
        },
        {
          "output_type": "stream",
          "name": "stdout",
          "text": [
            "\n",
            "NOW EVALUATE THE TEST DF.\n"
          ]
        },
        {
          "output_type": "stream",
          "name": "stderr",
          "text": [
            "C:\\Users\\Domenico\\.conda\\envs\\tf\\lib\\site-packages\\simpletransformers\\classification\\classification_model.py:1454: UserWarning: Dataframe headers not specified. Falling back to using column 0 as text and column 1 as labels.\n",
            "  warnings.warn(\n"
          ]
        },
        {
          "output_type": "stream",
          "name": "stdout",
          "text": [
            "{'mcc': 0.6109500584957137, 'tp': 1969, 'tn': 2057, 'fp': 436, 'fn': 538, 'auroc': 0.8903387402557236, 'auprc': 0.8831362959642854, 'eval_loss': 0.5069976220846176}\n",
            "Correct predictions are:  4026\n",
            "Total predictions are:  5000\n",
            "Accuracy on test set is: 0.8052 \n",
            "\n",
            "\n",
            "\n",
            "EPOCH NUMBER:  7\n",
            "\n",
            "NOW TRAIN THE MODEL.\n"
          ]
        },
        {
          "output_type": "stream",
          "name": "stderr",
          "text": [
            "C:\\Users\\Domenico\\.conda\\envs\\tf\\lib\\site-packages\\simpletransformers\\classification\\classification_model.py:612: UserWarning: Dataframe headers not specified. Falling back to using column 0 as text and column 1 as labels.\n",
            "  warnings.warn(\n"
          ]
        },
        {
          "output_type": "stream",
          "name": "stdout",
          "text": [
            "\n",
            "NOW EVALUATE THE TEST DF.\n"
          ]
        },
        {
          "output_type": "stream",
          "name": "stderr",
          "text": [
            "C:\\Users\\Domenico\\.conda\\envs\\tf\\lib\\site-packages\\simpletransformers\\classification\\classification_model.py:1454: UserWarning: Dataframe headers not specified. Falling back to using column 0 as text and column 1 as labels.\n",
            "  warnings.warn(\n"
          ]
        },
        {
          "output_type": "stream",
          "name": "stdout",
          "text": [
            "{'mcc': 0.6080202662678338, 'tp': 2151, 'tn': 1860, 'fp': 633, 'fn': 356, 'auroc': 0.8616756355369827, 'auprc': 0.8327816717038171, 'eval_loss': 0.5229124562978744}\n",
            "Correct predictions are:  4011\n",
            "Total predictions are:  5000\n",
            "Accuracy on test set is: 0.8022 \n",
            "\n",
            "\n",
            "\n",
            "EPOCH NUMBER:  8\n",
            "\n",
            "NOW TRAIN THE MODEL.\n"
          ]
        },
        {
          "output_type": "stream",
          "name": "stderr",
          "text": [
            "C:\\Users\\Domenico\\.conda\\envs\\tf\\lib\\site-packages\\simpletransformers\\classification\\classification_model.py:612: UserWarning: Dataframe headers not specified. Falling back to using column 0 as text and column 1 as labels.\n",
            "  warnings.warn(\n"
          ]
        },
        {
          "output_type": "stream",
          "name": "stdout",
          "text": [
            "\n",
            "NOW EVALUATE THE TEST DF.\n"
          ]
        },
        {
          "output_type": "stream",
          "name": "stderr",
          "text": [
            "C:\\Users\\Domenico\\.conda\\envs\\tf\\lib\\site-packages\\simpletransformers\\classification\\classification_model.py:1454: UserWarning: Dataframe headers not specified. Falling back to using column 0 as text and column 1 as labels.\n",
            "  warnings.warn(\n"
          ]
        },
        {
          "output_type": "stream",
          "name": "stdout",
          "text": [
            "{'mcc': 0.5989477907734319, 'tp': 2036, 'tn': 1961, 'fp': 532, 'fn': 471, 'auroc': 0.8883536046922607, 'auprc': 0.8841466325917886, 'eval_loss': 0.43901161158084867}\n",
            "Correct predictions are:  3997\n",
            "Total predictions are:  5000\n",
            "Accuracy on test set is: 0.7994 \n",
            "\n",
            "\n",
            "\n",
            "EPOCH NUMBER:  9\n",
            "\n",
            "NOW TRAIN THE MODEL.\n"
          ]
        },
        {
          "output_type": "stream",
          "name": "stderr",
          "text": [
            "C:\\Users\\Domenico\\.conda\\envs\\tf\\lib\\site-packages\\simpletransformers\\classification\\classification_model.py:612: UserWarning: Dataframe headers not specified. Falling back to using column 0 as text and column 1 as labels.\n",
            "  warnings.warn(\n"
          ]
        },
        {
          "output_type": "stream",
          "name": "stdout",
          "text": [
            "\n",
            "NOW EVALUATE THE TEST DF.\n"
          ]
        },
        {
          "output_type": "stream",
          "name": "stderr",
          "text": [
            "C:\\Users\\Domenico\\.conda\\envs\\tf\\lib\\site-packages\\simpletransformers\\classification\\classification_model.py:1454: UserWarning: Dataframe headers not specified. Falling back to using column 0 as text and column 1 as labels.\n",
            "  warnings.warn(\n"
          ]
        },
        {
          "output_type": "stream",
          "name": "stdout",
          "text": [
            "{'mcc': 0.6362012460624679, 'tp': 1999, 'tn': 2090, 'fp': 403, 'fn': 508, 'auroc': 0.8713225111684875, 'auprc': 0.8027388338245829, 'eval_loss': 0.4931035452008247}\n",
            "Correct predictions are:  4089\n",
            "Total predictions are:  5000\n",
            "Accuracy on test set is: 0.8178 \n",
            "\n",
            "\n",
            "[0.7894, 0.8066, 0.8116, 0.8126, 0.8058, 0.8104, 0.8052, 0.8022, 0.7994, 0.8178]\n",
            "\n",
            "RUN NUMBER:  2\n"
          ]
        },
        {
          "output_type": "stream",
          "name": "stderr",
          "text": [
            "Some weights of the model checkpoint at roberta-base were not used when initializing RobertaForSequenceClassification: ['roberta.pooler.dense.bias', 'lm_head.bias', 'lm_head.dense.bias', 'lm_head.decoder.weight', 'lm_head.dense.weight', 'roberta.pooler.dense.weight', 'lm_head.layer_norm.weight', 'lm_head.layer_norm.bias']\n",
            "- This IS expected if you are initializing RobertaForSequenceClassification from the checkpoint of a model trained on another task or with another architecture (e.g. initializing a BertForSequenceClassification model from a BertForPreTraining model).\n",
            "- This IS NOT expected if you are initializing RobertaForSequenceClassification from the checkpoint of a model that you expect to be exactly identical (initializing a BertForSequenceClassification model from a BertForSequenceClassification model).\n",
            "Some weights of RobertaForSequenceClassification were not initialized from the model checkpoint at roberta-base and are newly initialized: ['classifier.dense.weight', 'classifier.out_proj.weight', 'classifier.out_proj.bias', 'classifier.dense.bias']\n",
            "You should probably TRAIN this model on a down-stream task to be able to use it for predictions and inference.\n"
          ]
        },
        {
          "output_type": "stream",
          "name": "stdout",
          "text": [
            "\n",
            "EPOCH NUMBER:  0\n",
            "\n",
            "NOW TRAIN THE MODEL.\n"
          ]
        },
        {
          "output_type": "stream",
          "name": "stderr",
          "text": [
            "C:\\Users\\Domenico\\.conda\\envs\\tf\\lib\\site-packages\\simpletransformers\\classification\\classification_model.py:612: UserWarning: Dataframe headers not specified. Falling back to using column 0 as text and column 1 as labels.\n",
            "  warnings.warn(\n"
          ]
        },
        {
          "output_type": "stream",
          "name": "stdout",
          "text": [
            "\n",
            "NOW EVALUATE THE TEST DF.\n"
          ]
        },
        {
          "output_type": "stream",
          "name": "stderr",
          "text": [
            "C:\\Users\\Domenico\\.conda\\envs\\tf\\lib\\site-packages\\simpletransformers\\classification\\classification_model.py:1454: UserWarning: Dataframe headers not specified. Falling back to using column 0 as text and column 1 as labels.\n",
            "  warnings.warn(\n"
          ]
        },
        {
          "output_type": "stream",
          "name": "stdout",
          "text": [
            "{'mcc': 0.5295534681100038, 'tp': 2046, 'tn': 1771, 'fp': 722, 'fn': 461, 'auroc': 0.7951696741302452, 'auprc': 0.7012047464994486, 'eval_loss': 0.5192037623643875}\n",
            "Correct predictions are:  3817\n",
            "Total predictions are:  5000\n",
            "Accuracy on test set is: 0.7634 \n",
            "\n",
            "\n",
            "\n",
            "EPOCH NUMBER:  1\n",
            "\n",
            "NOW TRAIN THE MODEL.\n"
          ]
        },
        {
          "output_type": "stream",
          "name": "stderr",
          "text": [
            "C:\\Users\\Domenico\\.conda\\envs\\tf\\lib\\site-packages\\simpletransformers\\classification\\classification_model.py:612: UserWarning: Dataframe headers not specified. Falling back to using column 0 as text and column 1 as labels.\n",
            "  warnings.warn(\n"
          ]
        },
        {
          "output_type": "stream",
          "name": "stdout",
          "text": [
            "\n",
            "NOW EVALUATE THE TEST DF.\n"
          ]
        },
        {
          "output_type": "stream",
          "name": "stderr",
          "text": [
            "C:\\Users\\Domenico\\.conda\\envs\\tf\\lib\\site-packages\\simpletransformers\\classification\\classification_model.py:1454: UserWarning: Dataframe headers not specified. Falling back to using column 0 as text and column 1 as labels.\n",
            "  warnings.warn(\n"
          ]
        },
        {
          "output_type": "stream",
          "name": "stdout",
          "text": [
            "{'mcc': 0.5793261036710029, 'tp': 1957, 'tn': 1991, 'fp': 502, 'fn': 550, 'auroc': 0.8661826308718261, 'auprc': 0.86866148351189, 'eval_loss': 0.5081300094604492}\n",
            "Correct predictions are:  3948\n",
            "Total predictions are:  5000\n",
            "Accuracy on test set is: 0.7896 \n",
            "\n",
            "\n",
            "\n",
            "EPOCH NUMBER:  2\n",
            "\n",
            "NOW TRAIN THE MODEL.\n"
          ]
        },
        {
          "output_type": "stream",
          "name": "stderr",
          "text": [
            "C:\\Users\\Domenico\\.conda\\envs\\tf\\lib\\site-packages\\simpletransformers\\classification\\classification_model.py:612: UserWarning: Dataframe headers not specified. Falling back to using column 0 as text and column 1 as labels.\n",
            "  warnings.warn(\n"
          ]
        },
        {
          "output_type": "stream",
          "name": "stdout",
          "text": [
            "\n",
            "NOW EVALUATE THE TEST DF.\n"
          ]
        },
        {
          "output_type": "stream",
          "name": "stderr",
          "text": [
            "C:\\Users\\Domenico\\.conda\\envs\\tf\\lib\\site-packages\\simpletransformers\\classification\\classification_model.py:1454: UserWarning: Dataframe headers not specified. Falling back to using column 0 as text and column 1 as labels.\n",
            "  warnings.warn(\n"
          ]
        },
        {
          "output_type": "stream",
          "name": "stdout",
          "text": [
            "{'mcc': 0.6023658857537274, 'tp': 1968, 'tn': 2037, 'fp': 456, 'fn': 539, 'auroc': 0.884699896047185, 'auprc': 0.8789119108830213, 'eval_loss': 0.47185400043725967}\n",
            "Correct predictions are:  4005\n",
            "Total predictions are:  5000\n",
            "Accuracy on test set is: 0.801 \n",
            "\n",
            "\n",
            "\n",
            "EPOCH NUMBER:  3\n",
            "\n",
            "NOW TRAIN THE MODEL.\n"
          ]
        },
        {
          "output_type": "stream",
          "name": "stderr",
          "text": [
            "C:\\Users\\Domenico\\.conda\\envs\\tf\\lib\\site-packages\\simpletransformers\\classification\\classification_model.py:612: UserWarning: Dataframe headers not specified. Falling back to using column 0 as text and column 1 as labels.\n",
            "  warnings.warn(\n"
          ]
        },
        {
          "output_type": "stream",
          "name": "stdout",
          "text": [
            "\n",
            "NOW EVALUATE THE TEST DF.\n"
          ]
        },
        {
          "output_type": "stream",
          "name": "stderr",
          "text": [
            "C:\\Users\\Domenico\\.conda\\envs\\tf\\lib\\site-packages\\simpletransformers\\classification\\classification_model.py:1454: UserWarning: Dataframe headers not specified. Falling back to using column 0 as text and column 1 as labels.\n",
            "  warnings.warn(\n"
          ]
        },
        {
          "output_type": "stream",
          "name": "stdout",
          "text": [
            "{'mcc': 0.4629245127389032, 'tp': 1027, 'tn': 2426, 'fp': 67, 'fn': 1480, 'auroc': 0.7084625943467397, 'auprc': 0.7908471559428726, 'eval_loss': 0.6442597319126129}\n",
            "Correct predictions are:  3453\n",
            "Total predictions are:  5000\n",
            "Accuracy on test set is: 0.6906 \n",
            "\n",
            "\n",
            "\n",
            "EPOCH NUMBER:  4\n",
            "\n",
            "NOW TRAIN THE MODEL.\n"
          ]
        },
        {
          "output_type": "stream",
          "name": "stderr",
          "text": [
            "C:\\Users\\Domenico\\.conda\\envs\\tf\\lib\\site-packages\\simpletransformers\\classification\\classification_model.py:612: UserWarning: Dataframe headers not specified. Falling back to using column 0 as text and column 1 as labels.\n",
            "  warnings.warn(\n"
          ]
        },
        {
          "output_type": "stream",
          "name": "stdout",
          "text": [
            "\n",
            "NOW EVALUATE THE TEST DF.\n"
          ]
        },
        {
          "output_type": "stream",
          "name": "stderr",
          "text": [
            "C:\\Users\\Domenico\\.conda\\envs\\tf\\lib\\site-packages\\simpletransformers\\classification\\classification_model.py:1454: UserWarning: Dataframe headers not specified. Falling back to using column 0 as text and column 1 as labels.\n",
            "  warnings.warn(\n"
          ]
        },
        {
          "output_type": "stream",
          "name": "stdout",
          "text": [
            "{'mcc': 0.5801657291590578, 'tp': 2188, 'tn': 1741, 'fp': 752, 'fn': 319, 'auroc': 0.8750543804263425, 'auprc': 0.8530924311667605, 'eval_loss': 0.5075619214773178}\n",
            "Correct predictions are:  3929\n",
            "Total predictions are:  5000\n",
            "Accuracy on test set is: 0.7858 \n",
            "\n",
            "\n",
            "\n",
            "EPOCH NUMBER:  5\n",
            "\n",
            "NOW TRAIN THE MODEL.\n"
          ]
        },
        {
          "output_type": "stream",
          "name": "stderr",
          "text": [
            "C:\\Users\\Domenico\\.conda\\envs\\tf\\lib\\site-packages\\simpletransformers\\classification\\classification_model.py:612: UserWarning: Dataframe headers not specified. Falling back to using column 0 as text and column 1 as labels.\n",
            "  warnings.warn(\n",
            "C:\\Users\\Domenico\\.conda\\envs\\tf\\lib\\site-packages\\simpletransformers\\classification\\classification_model.py:1454: UserWarning: Dataframe headers not specified. Falling back to using column 0 as text and column 1 as labels.\n",
            "  warnings.warn(\n"
          ]
        },
        {
          "output_type": "stream",
          "name": "stdout",
          "text": [
            "\n",
            "NOW EVALUATE THE TEST DF.\n",
            "{'mcc': 0.5948287838337353, 'tp': 2129, 'tn': 1850, 'fp': 643, 'fn': 378, 'auroc': 0.8761701491739694, 'auprc': 0.8646745798459962, 'eval_loss': 0.4990461624622345}\n",
            "Correct predictions are:  3979\n",
            "Total predictions are:  5000\n",
            "Accuracy on test set is: 0.7958 \n",
            "\n",
            "\n",
            "\n",
            "EPOCH NUMBER:  6\n",
            "\n",
            "NOW TRAIN THE MODEL.\n"
          ]
        },
        {
          "output_type": "stream",
          "name": "stderr",
          "text": [
            "C:\\Users\\Domenico\\.conda\\envs\\tf\\lib\\site-packages\\simpletransformers\\classification\\classification_model.py:612: UserWarning: Dataframe headers not specified. Falling back to using column 0 as text and column 1 as labels.\n",
            "  warnings.warn(\n"
          ]
        },
        {
          "output_type": "stream",
          "name": "stdout",
          "text": [
            "\n",
            "NOW EVALUATE THE TEST DF.\n"
          ]
        },
        {
          "output_type": "stream",
          "name": "stderr",
          "text": [
            "C:\\Users\\Domenico\\.conda\\envs\\tf\\lib\\site-packages\\simpletransformers\\classification\\classification_model.py:1454: UserWarning: Dataframe headers not specified. Falling back to using column 0 as text and column 1 as labels.\n",
            "  warnings.warn(\n"
          ]
        },
        {
          "output_type": "stream",
          "name": "stdout",
          "text": [
            "{'mcc': 0.5974716064049782, 'tp': 2129, 'tn': 1857, 'fp': 636, 'fn': 378, 'auroc': 0.8891214507121735, 'auprc': 0.8867362065160982, 'eval_loss': 0.49754379211068156}\n",
            "Correct predictions are:  3986\n",
            "Total predictions are:  5000\n",
            "Accuracy on test set is: 0.7972 \n",
            "\n",
            "\n",
            "\n",
            "EPOCH NUMBER:  7\n",
            "\n",
            "NOW TRAIN THE MODEL.\n"
          ]
        },
        {
          "output_type": "stream",
          "name": "stderr",
          "text": [
            "C:\\Users\\Domenico\\.conda\\envs\\tf\\lib\\site-packages\\simpletransformers\\classification\\classification_model.py:612: UserWarning: Dataframe headers not specified. Falling back to using column 0 as text and column 1 as labels.\n",
            "  warnings.warn(\n"
          ]
        },
        {
          "output_type": "stream",
          "name": "stdout",
          "text": [
            "\n",
            "NOW EVALUATE THE TEST DF.\n"
          ]
        },
        {
          "output_type": "stream",
          "name": "stderr",
          "text": [
            "C:\\Users\\Domenico\\.conda\\envs\\tf\\lib\\site-packages\\simpletransformers\\classification\\classification_model.py:1454: UserWarning: Dataframe headers not specified. Falling back to using column 0 as text and column 1 as labels.\n",
            "  warnings.warn(\n"
          ]
        },
        {
          "output_type": "stream",
          "name": "stdout",
          "text": [
            "{'mcc': 0.6151741233117528, 'tp': 2104, 'tn': 1931, 'fp': 562, 'fn': 403, 'auroc': 0.8767247135217541, 'auprc': 0.8731131319028201, 'eval_loss': 0.47107796103954314}\n",
            "Correct predictions are:  4035\n",
            "Total predictions are:  5000\n",
            "Accuracy on test set is: 0.807 \n",
            "\n",
            "\n",
            "\n",
            "EPOCH NUMBER:  8\n",
            "\n",
            "NOW TRAIN THE MODEL.\n"
          ]
        },
        {
          "output_type": "stream",
          "name": "stderr",
          "text": [
            "C:\\Users\\Domenico\\.conda\\envs\\tf\\lib\\site-packages\\simpletransformers\\classification\\classification_model.py:612: UserWarning: Dataframe headers not specified. Falling back to using column 0 as text and column 1 as labels.\n",
            "  warnings.warn(\n"
          ]
        },
        {
          "output_type": "stream",
          "name": "stdout",
          "text": [
            "\n",
            "NOW EVALUATE THE TEST DF.\n"
          ]
        },
        {
          "output_type": "stream",
          "name": "stderr",
          "text": [
            "C:\\Users\\Domenico\\.conda\\envs\\tf\\lib\\site-packages\\simpletransformers\\classification\\classification_model.py:1454: UserWarning: Dataframe headers not specified. Falling back to using column 0 as text and column 1 as labels.\n",
            "  warnings.warn(\n"
          ]
        },
        {
          "output_type": "stream",
          "name": "stdout",
          "text": [
            "{'mcc': 0.5899719094859809, 'tp': 2243, 'tn': 1699, 'fp': 794, 'fn': 264, 'auroc': 0.8902242593581935, 'auprc': 0.8873552437936, 'eval_loss': 0.509838357514143}\n",
            "Correct predictions are:  3942\n",
            "Total predictions are:  5000\n",
            "Accuracy on test set is: 0.7884 \n",
            "\n",
            "\n",
            "\n",
            "EPOCH NUMBER:  9\n",
            "\n",
            "NOW TRAIN THE MODEL.\n"
          ]
        },
        {
          "output_type": "stream",
          "name": "stderr",
          "text": [
            "C:\\Users\\Domenico\\.conda\\envs\\tf\\lib\\site-packages\\simpletransformers\\classification\\classification_model.py:612: UserWarning: Dataframe headers not specified. Falling back to using column 0 as text and column 1 as labels.\n",
            "  warnings.warn(\n"
          ]
        },
        {
          "output_type": "stream",
          "name": "stdout",
          "text": [
            "\n",
            "NOW EVALUATE THE TEST DF.\n"
          ]
        },
        {
          "output_type": "stream",
          "name": "stderr",
          "text": [
            "C:\\Users\\Domenico\\.conda\\envs\\tf\\lib\\site-packages\\simpletransformers\\classification\\classification_model.py:1454: UserWarning: Dataframe headers not specified. Falling back to using column 0 as text and column 1 as labels.\n",
            "  warnings.warn(\n"
          ]
        },
        {
          "output_type": "stream",
          "name": "stdout",
          "text": [
            "{'mcc': 0.6042819752480495, 'tp': 2206, 'tn': 1785, 'fp': 708, 'fn': 301, 'auroc': 0.8103099528300302, 'auprc': 0.720093825396757, 'eval_loss': 0.5010407052159309}\n",
            "Correct predictions are:  3991\n",
            "Total predictions are:  5000\n",
            "Accuracy on test set is: 0.7982 \n",
            "\n",
            "\n",
            "[0.7634, 0.7896, 0.801, 0.6906, 0.7858, 0.7958, 0.7972, 0.807, 0.7884, 0.7982]\n",
            "\n",
            "RUN NUMBER:  3\n"
          ]
        },
        {
          "output_type": "stream",
          "name": "stderr",
          "text": [
            "Some weights of the model checkpoint at roberta-base were not used when initializing RobertaForSequenceClassification: ['roberta.pooler.dense.bias', 'lm_head.bias', 'lm_head.dense.bias', 'lm_head.decoder.weight', 'lm_head.dense.weight', 'roberta.pooler.dense.weight', 'lm_head.layer_norm.weight', 'lm_head.layer_norm.bias']\n",
            "- This IS expected if you are initializing RobertaForSequenceClassification from the checkpoint of a model trained on another task or with another architecture (e.g. initializing a BertForSequenceClassification model from a BertForPreTraining model).\n",
            "- This IS NOT expected if you are initializing RobertaForSequenceClassification from the checkpoint of a model that you expect to be exactly identical (initializing a BertForSequenceClassification model from a BertForSequenceClassification model).\n",
            "Some weights of RobertaForSequenceClassification were not initialized from the model checkpoint at roberta-base and are newly initialized: ['classifier.dense.weight', 'classifier.out_proj.weight', 'classifier.out_proj.bias', 'classifier.dense.bias']\n",
            "You should probably TRAIN this model on a down-stream task to be able to use it for predictions and inference.\n"
          ]
        },
        {
          "output_type": "stream",
          "name": "stdout",
          "text": [
            "\n",
            "EPOCH NUMBER:  0\n",
            "\n",
            "NOW TRAIN THE MODEL.\n"
          ]
        },
        {
          "output_type": "stream",
          "name": "stderr",
          "text": [
            "C:\\Users\\Domenico\\.conda\\envs\\tf\\lib\\site-packages\\simpletransformers\\classification\\classification_model.py:612: UserWarning: Dataframe headers not specified. Falling back to using column 0 as text and column 1 as labels.\n",
            "  warnings.warn(\n"
          ]
        },
        {
          "output_type": "stream",
          "name": "stdout",
          "text": [
            "\n",
            "NOW EVALUATE THE TEST DF.\n"
          ]
        },
        {
          "output_type": "stream",
          "name": "stderr",
          "text": [
            "C:\\Users\\Domenico\\.conda\\envs\\tf\\lib\\site-packages\\simpletransformers\\classification\\classification_model.py:1454: UserWarning: Dataframe headers not specified. Falling back to using column 0 as text and column 1 as labels.\n",
            "  warnings.warn(\n"
          ]
        },
        {
          "output_type": "stream",
          "name": "stdout",
          "text": [
            "{'mcc': 0.6227975150234389, 'tp': 2035, 'tn': 2022, 'fp': 471, 'fn': 472, 'auroc': 0.8898645765382801, 'auprc': 0.8858294307114812, 'eval_loss': 0.4236627125740051}\n",
            "Correct predictions are:  4057\n",
            "Total predictions are:  5000\n",
            "Accuracy on test set is: 0.8114 \n",
            "\n",
            "\n",
            "\n",
            "EPOCH NUMBER:  1\n",
            "\n",
            "NOW TRAIN THE MODEL.\n"
          ]
        },
        {
          "output_type": "stream",
          "name": "stderr",
          "text": [
            "C:\\Users\\Domenico\\.conda\\envs\\tf\\lib\\site-packages\\simpletransformers\\classification\\classification_model.py:612: UserWarning: Dataframe headers not specified. Falling back to using column 0 as text and column 1 as labels.\n",
            "  warnings.warn(\n"
          ]
        },
        {
          "output_type": "stream",
          "name": "stdout",
          "text": [
            "\n",
            "NOW EVALUATE THE TEST DF.\n"
          ]
        },
        {
          "output_type": "stream",
          "name": "stderr",
          "text": [
            "C:\\Users\\Domenico\\.conda\\envs\\tf\\lib\\site-packages\\simpletransformers\\classification\\classification_model.py:1454: UserWarning: Dataframe headers not specified. Falling back to using column 0 as text and column 1 as labels.\n",
            "  warnings.warn(\n"
          ]
        },
        {
          "output_type": "stream",
          "name": "stdout",
          "text": [
            "{'mcc': 0.6317600595104986, 'tp': 2077, 'tn': 2002, 'fp': 491, 'fn': 430, 'auroc': 0.8991113690331332, 'auprc': 0.8977273574065016, 'eval_loss': 0.4515158511161804}\n",
            "Correct predictions are:  4079\n",
            "Total predictions are:  5000\n",
            "Accuracy on test set is: 0.8158 \n",
            "\n",
            "\n",
            "\n",
            "EPOCH NUMBER:  2\n",
            "\n",
            "NOW TRAIN THE MODEL.\n"
          ]
        },
        {
          "output_type": "stream",
          "name": "stderr",
          "text": [
            "C:\\Users\\Domenico\\.conda\\envs\\tf\\lib\\site-packages\\simpletransformers\\classification\\classification_model.py:612: UserWarning: Dataframe headers not specified. Falling back to using column 0 as text and column 1 as labels.\n",
            "  warnings.warn(\n"
          ]
        },
        {
          "output_type": "stream",
          "name": "stdout",
          "text": [
            "\n",
            "NOW EVALUATE THE TEST DF.\n"
          ]
        },
        {
          "output_type": "stream",
          "name": "stderr",
          "text": [
            "C:\\Users\\Domenico\\.conda\\envs\\tf\\lib\\site-packages\\simpletransformers\\classification\\classification_model.py:1454: UserWarning: Dataframe headers not specified. Falling back to using column 0 as text and column 1 as labels.\n",
            "  warnings.warn(\n"
          ]
        },
        {
          "output_type": "stream",
          "name": "stdout",
          "text": [
            "{'mcc': 0.6508348416371301, 'tp': 2159, 'tn': 1964, 'fp': 529, 'fn': 348, 'auroc': 0.9030149996375971, 'auprc': 0.9011697712377004, 'eval_loss': 0.4464569105744362}\n",
            "Correct predictions are:  4123\n",
            "Total predictions are:  5000\n",
            "Accuracy on test set is: 0.8246 \n",
            "\n",
            "\n",
            "\n",
            "EPOCH NUMBER:  3\n",
            "\n",
            "NOW TRAIN THE MODEL.\n"
          ]
        },
        {
          "output_type": "stream",
          "name": "stderr",
          "text": [
            "C:\\Users\\Domenico\\.conda\\envs\\tf\\lib\\site-packages\\simpletransformers\\classification\\classification_model.py:612: UserWarning: Dataframe headers not specified. Falling back to using column 0 as text and column 1 as labels.\n",
            "  warnings.warn(\n"
          ]
        },
        {
          "output_type": "stream",
          "name": "stdout",
          "text": [
            "\n",
            "NOW EVALUATE THE TEST DF.\n"
          ]
        },
        {
          "output_type": "stream",
          "name": "stderr",
          "text": [
            "C:\\Users\\Domenico\\.conda\\envs\\tf\\lib\\site-packages\\simpletransformers\\classification\\classification_model.py:1454: UserWarning: Dataframe headers not specified. Falling back to using column 0 as text and column 1 as labels.\n",
            "  warnings.warn(\n"
          ]
        },
        {
          "output_type": "stream",
          "name": "stdout",
          "text": [
            "{'mcc': 0.6296504834179582, 'tp': 2176, 'tn': 1889, 'fp': 604, 'fn': 331, 'auroc': 0.8957018223022868, 'auprc': 0.8839956488584577, 'eval_loss': 0.5144481601178647}\n",
            "Correct predictions are:  4065\n",
            "Total predictions are:  5000\n",
            "Accuracy on test set is: 0.813 \n",
            "\n",
            "\n",
            "\n",
            "EPOCH NUMBER:  4\n",
            "\n",
            "NOW TRAIN THE MODEL.\n"
          ]
        },
        {
          "output_type": "stream",
          "name": "stderr",
          "text": [
            "C:\\Users\\Domenico\\.conda\\envs\\tf\\lib\\site-packages\\simpletransformers\\classification\\classification_model.py:612: UserWarning: Dataframe headers not specified. Falling back to using column 0 as text and column 1 as labels.\n",
            "  warnings.warn(\n"
          ]
        },
        {
          "output_type": "stream",
          "name": "stdout",
          "text": [
            "\n",
            "NOW EVALUATE THE TEST DF.\n"
          ]
        },
        {
          "output_type": "stream",
          "name": "stderr",
          "text": [
            "C:\\Users\\Domenico\\.conda\\envs\\tf\\lib\\site-packages\\simpletransformers\\classification\\classification_model.py:1454: UserWarning: Dataframe headers not specified. Falling back to using column 0 as text and column 1 as labels.\n",
            "  warnings.warn(\n"
          ]
        },
        {
          "output_type": "stream",
          "name": "stdout",
          "text": [
            "{'mcc': 0.6491186777807951, 'tp': 2164, 'tn': 1954, 'fp': 539, 'fn': 343, 'auroc': 0.8877347198402036, 'auprc': 0.8369210298687381, 'eval_loss': 0.489417466378212}\n",
            "Correct predictions are:  4118\n",
            "Total predictions are:  5000\n",
            "Accuracy on test set is: 0.8236 \n",
            "\n",
            "\n",
            "\n",
            "EPOCH NUMBER:  5\n",
            "\n",
            "NOW TRAIN THE MODEL.\n"
          ]
        },
        {
          "output_type": "stream",
          "name": "stderr",
          "text": [
            "C:\\Users\\Domenico\\.conda\\envs\\tf\\lib\\site-packages\\simpletransformers\\classification\\classification_model.py:612: UserWarning: Dataframe headers not specified. Falling back to using column 0 as text and column 1 as labels.\n",
            "  warnings.warn(\n"
          ]
        },
        {
          "output_type": "stream",
          "name": "stdout",
          "text": [
            "\n",
            "NOW EVALUATE THE TEST DF.\n"
          ]
        },
        {
          "output_type": "stream",
          "name": "stderr",
          "text": [
            "C:\\Users\\Domenico\\.conda\\envs\\tf\\lib\\site-packages\\simpletransformers\\classification\\classification_model.py:1454: UserWarning: Dataframe headers not specified. Falling back to using column 0 as text and column 1 as labels.\n",
            "  warnings.warn(\n"
          ]
        },
        {
          "output_type": "stream",
          "name": "stdout",
          "text": [
            "{'mcc': 0.662268750843115, 'tp': 2223, 'tn': 1922, 'fp': 571, 'fn': 284, 'auroc': 0.9103628172444872, 'auprc': 0.9063947734360377, 'eval_loss': 0.5058231715202332}\n",
            "Correct predictions are:  4145\n",
            "Total predictions are:  5000\n",
            "Accuracy on test set is: 0.829 \n",
            "\n",
            "\n",
            "\n",
            "EPOCH NUMBER:  6\n",
            "\n",
            "NOW TRAIN THE MODEL.\n"
          ]
        },
        {
          "output_type": "stream",
          "name": "stderr",
          "text": [
            "C:\\Users\\Domenico\\.conda\\envs\\tf\\lib\\site-packages\\simpletransformers\\classification\\classification_model.py:612: UserWarning: Dataframe headers not specified. Falling back to using column 0 as text and column 1 as labels.\n",
            "  warnings.warn(\n"
          ]
        },
        {
          "output_type": "stream",
          "name": "stdout",
          "text": [
            "\n",
            "NOW EVALUATE THE TEST DF.\n"
          ]
        },
        {
          "output_type": "stream",
          "name": "stderr",
          "text": [
            "C:\\Users\\Domenico\\.conda\\envs\\tf\\lib\\site-packages\\simpletransformers\\classification\\classification_model.py:1454: UserWarning: Dataframe headers not specified. Falling back to using column 0 as text and column 1 as labels.\n",
            "  warnings.warn(\n"
          ]
        },
        {
          "output_type": "stream",
          "name": "stdout",
          "text": [
            "{'mcc': 0.6513470672928897, 'tp': 2046, 'tn': 2082, 'fp': 411, 'fn': 461, 'auroc': 0.9052446971184254, 'auprc': 0.9001659865288093, 'eval_loss': 0.5323032192409038}\n",
            "Correct predictions are:  4128\n",
            "Total predictions are:  5000\n",
            "Accuracy on test set is: 0.8256 \n",
            "\n",
            "\n",
            "\n",
            "EPOCH NUMBER:  7\n",
            "\n",
            "NOW TRAIN THE MODEL.\n"
          ]
        },
        {
          "output_type": "stream",
          "name": "stderr",
          "text": [
            "C:\\Users\\Domenico\\.conda\\envs\\tf\\lib\\site-packages\\simpletransformers\\classification\\classification_model.py:612: UserWarning: Dataframe headers not specified. Falling back to using column 0 as text and column 1 as labels.\n",
            "  warnings.warn(\n"
          ]
        },
        {
          "output_type": "stream",
          "name": "stdout",
          "text": [
            "\n",
            "NOW EVALUATE THE TEST DF.\n"
          ]
        },
        {
          "output_type": "stream",
          "name": "stderr",
          "text": [
            "C:\\Users\\Domenico\\.conda\\envs\\tf\\lib\\site-packages\\simpletransformers\\classification\\classification_model.py:1454: UserWarning: Dataframe headers not specified. Falling back to using column 0 as text and column 1 as labels.\n",
            "  warnings.warn(\n"
          ]
        },
        {
          "output_type": "stream",
          "name": "stdout",
          "text": [
            "{'mcc': 0.6501003647608028, 'tp': 2149, 'tn': 1973, 'fp': 520, 'fn': 358, 'auroc': 0.9051841366436312, 'auprc': 0.8991179263567741, 'eval_loss': 0.5592438753306865}\n",
            "Correct predictions are:  4122\n",
            "Total predictions are:  5000\n",
            "Accuracy on test set is: 0.8244 \n",
            "\n",
            "\n",
            "\n",
            "EPOCH NUMBER:  8\n",
            "\n",
            "NOW TRAIN THE MODEL.\n"
          ]
        },
        {
          "output_type": "stream",
          "name": "stderr",
          "text": [
            "C:\\Users\\Domenico\\.conda\\envs\\tf\\lib\\site-packages\\simpletransformers\\classification\\classification_model.py:612: UserWarning: Dataframe headers not specified. Falling back to using column 0 as text and column 1 as labels.\n",
            "  warnings.warn(\n"
          ]
        },
        {
          "output_type": "stream",
          "name": "stdout",
          "text": [
            "\n",
            "NOW EVALUATE THE TEST DF.\n"
          ]
        },
        {
          "output_type": "stream",
          "name": "stderr",
          "text": [
            "C:\\Users\\Domenico\\.conda\\envs\\tf\\lib\\site-packages\\simpletransformers\\classification\\classification_model.py:1454: UserWarning: Dataframe headers not specified. Falling back to using column 0 as text and column 1 as labels.\n",
            "  warnings.warn(\n"
          ]
        },
        {
          "output_type": "stream",
          "name": "stdout",
          "text": [
            "{'mcc': 0.6579565463184003, 'tp': 2154, 'tn': 1988, 'fp': 505, 'fn': 353, 'auroc': 0.9055266193286954, 'auprc': 0.9018535942410484, 'eval_loss': 0.5850512365192175}\n",
            "Correct predictions are:  4142\n",
            "Total predictions are:  5000\n",
            "Accuracy on test set is: 0.8284 \n",
            "\n",
            "\n",
            "\n",
            "EPOCH NUMBER:  9\n",
            "\n",
            "NOW TRAIN THE MODEL.\n"
          ]
        },
        {
          "output_type": "stream",
          "name": "stderr",
          "text": [
            "C:\\Users\\Domenico\\.conda\\envs\\tf\\lib\\site-packages\\simpletransformers\\classification\\classification_model.py:612: UserWarning: Dataframe headers not specified. Falling back to using column 0 as text and column 1 as labels.\n",
            "  warnings.warn(\n"
          ]
        },
        {
          "output_type": "stream",
          "name": "stdout",
          "text": [
            "\n",
            "NOW EVALUATE THE TEST DF.\n"
          ]
        },
        {
          "output_type": "stream",
          "name": "stderr",
          "text": [
            "C:\\Users\\Domenico\\.conda\\envs\\tf\\lib\\site-packages\\simpletransformers\\classification\\classification_model.py:1454: UserWarning: Dataframe headers not specified. Falling back to using column 0 as text and column 1 as labels.\n",
            "  warnings.warn(\n"
          ]
        },
        {
          "output_type": "stream",
          "name": "stdout",
          "text": [
            "{'mcc': 0.6355079161100244, 'tp': 1910, 'tn': 2169, 'fp': 324, 'fn': 597, 'auroc': 0.9060244632317918, 'auprc': 0.9025321953892989, 'eval_loss': 0.6314675674438477}\n",
            "Correct predictions are:  4079\n",
            "Total predictions are:  5000\n",
            "Accuracy on test set is: 0.8158 \n",
            "\n",
            "\n",
            "[0.8114, 0.8158, 0.8246, 0.813, 0.8236, 0.829, 0.8256, 0.8244, 0.8284, 0.8158]\n",
            "\n",
            "RUN NUMBER:  4\n"
          ]
        },
        {
          "output_type": "stream",
          "name": "stderr",
          "text": [
            "Some weights of the model checkpoint at roberta-base were not used when initializing RobertaForSequenceClassification: ['roberta.pooler.dense.bias', 'lm_head.bias', 'lm_head.dense.bias', 'lm_head.decoder.weight', 'lm_head.dense.weight', 'roberta.pooler.dense.weight', 'lm_head.layer_norm.weight', 'lm_head.layer_norm.bias']\n",
            "- This IS expected if you are initializing RobertaForSequenceClassification from the checkpoint of a model trained on another task or with another architecture (e.g. initializing a BertForSequenceClassification model from a BertForPreTraining model).\n",
            "- This IS NOT expected if you are initializing RobertaForSequenceClassification from the checkpoint of a model that you expect to be exactly identical (initializing a BertForSequenceClassification model from a BertForSequenceClassification model).\n",
            "Some weights of RobertaForSequenceClassification were not initialized from the model checkpoint at roberta-base and are newly initialized: ['classifier.dense.weight', 'classifier.out_proj.weight', 'classifier.out_proj.bias', 'classifier.dense.bias']\n",
            "You should probably TRAIN this model on a down-stream task to be able to use it for predictions and inference.\n"
          ]
        },
        {
          "output_type": "stream",
          "name": "stdout",
          "text": [
            "\n",
            "EPOCH NUMBER:  0\n",
            "\n",
            "NOW TRAIN THE MODEL.\n"
          ]
        },
        {
          "output_type": "stream",
          "name": "stderr",
          "text": [
            "C:\\Users\\Domenico\\.conda\\envs\\tf\\lib\\site-packages\\simpletransformers\\classification\\classification_model.py:612: UserWarning: Dataframe headers not specified. Falling back to using column 0 as text and column 1 as labels.\n",
            "  warnings.warn(\n"
          ]
        },
        {
          "output_type": "stream",
          "name": "stdout",
          "text": [
            "\n",
            "NOW EVALUATE THE TEST DF.\n"
          ]
        },
        {
          "output_type": "stream",
          "name": "stderr",
          "text": [
            "C:\\Users\\Domenico\\.conda\\envs\\tf\\lib\\site-packages\\simpletransformers\\classification\\classification_model.py:1454: UserWarning: Dataframe headers not specified. Falling back to using column 0 as text and column 1 as labels.\n",
            "  warnings.warn(\n"
          ]
        },
        {
          "output_type": "stream",
          "name": "stdout",
          "text": [
            "{'mcc': 0.6570724419476381, 'tp': 2136, 'tn': 2005, 'fp': 488, 'fn': 371, 'auroc': 0.907968398472244, 'auprc': 0.9052270290789067, 'eval_loss': 0.39380376536250117}\n",
            "Correct predictions are:  4141\n",
            "Total predictions are:  5000\n",
            "Accuracy on test set is: 0.8282 \n",
            "\n",
            "\n",
            "\n",
            "EPOCH NUMBER:  1\n",
            "\n",
            "NOW TRAIN THE MODEL.\n"
          ]
        },
        {
          "output_type": "stream",
          "name": "stderr",
          "text": [
            "C:\\Users\\Domenico\\.conda\\envs\\tf\\lib\\site-packages\\simpletransformers\\classification\\classification_model.py:612: UserWarning: Dataframe headers not specified. Falling back to using column 0 as text and column 1 as labels.\n",
            "  warnings.warn(\n"
          ]
        },
        {
          "output_type": "stream",
          "name": "stdout",
          "text": [
            "\n",
            "NOW EVALUATE THE TEST DF.\n"
          ]
        },
        {
          "output_type": "stream",
          "name": "stderr",
          "text": [
            "C:\\Users\\Domenico\\.conda\\envs\\tf\\lib\\site-packages\\simpletransformers\\classification\\classification_model.py:1454: UserWarning: Dataframe headers not specified. Falling back to using column 0 as text and column 1 as labels.\n",
            "  warnings.warn(\n"
          ]
        },
        {
          "output_type": "stream",
          "name": "stdout",
          "text": [
            "{'mcc': 0.6580463427927525, 'tp': 2194, 'tn': 1944, 'fp': 549, 'fn': 313, 'auroc': 0.913692123346247, 'auprc': 0.910842821759295, 'eval_loss': 0.4057748050630093}\n",
            "Correct predictions are:  4138\n",
            "Total predictions are:  5000\n",
            "Accuracy on test set is: 0.8276 \n",
            "\n",
            "\n",
            "\n",
            "EPOCH NUMBER:  2\n",
            "\n",
            "NOW TRAIN THE MODEL.\n"
          ]
        },
        {
          "output_type": "stream",
          "name": "stderr",
          "text": [
            "C:\\Users\\Domenico\\.conda\\envs\\tf\\lib\\site-packages\\simpletransformers\\classification\\classification_model.py:612: UserWarning: Dataframe headers not specified. Falling back to using column 0 as text and column 1 as labels.\n",
            "  warnings.warn(\n"
          ]
        },
        {
          "output_type": "stream",
          "name": "stdout",
          "text": [
            "\n",
            "NOW EVALUATE THE TEST DF.\n"
          ]
        },
        {
          "output_type": "stream",
          "name": "stderr",
          "text": [
            "C:\\Users\\Domenico\\.conda\\envs\\tf\\lib\\site-packages\\simpletransformers\\classification\\classification_model.py:1454: UserWarning: Dataframe headers not specified. Falling back to using column 0 as text and column 1 as labels.\n",
            "  warnings.warn(\n"
          ]
        },
        {
          "output_type": "stream",
          "name": "stdout",
          "text": [
            "{'mcc': 0.6784158245685529, 'tp': 2116, 'tn': 2080, 'fp': 413, 'fn': 391, 'auroc': 0.9165785459758004, 'auprc': 0.914034704663049, 'eval_loss': 0.44216965155005455}\n",
            "Correct predictions are:  4196\n",
            "Total predictions are:  5000\n",
            "Accuracy on test set is: 0.8392 \n",
            "\n",
            "\n",
            "\n",
            "EPOCH NUMBER:  3\n",
            "\n",
            "NOW TRAIN THE MODEL.\n"
          ]
        },
        {
          "output_type": "stream",
          "name": "stderr",
          "text": [
            "C:\\Users\\Domenico\\.conda\\envs\\tf\\lib\\site-packages\\simpletransformers\\classification\\classification_model.py:612: UserWarning: Dataframe headers not specified. Falling back to using column 0 as text and column 1 as labels.\n",
            "  warnings.warn(\n"
          ]
        },
        {
          "output_type": "stream",
          "name": "stdout",
          "text": [
            "\n",
            "NOW EVALUATE THE TEST DF.\n"
          ]
        },
        {
          "output_type": "stream",
          "name": "stderr",
          "text": [
            "C:\\Users\\Domenico\\.conda\\envs\\tf\\lib\\site-packages\\simpletransformers\\classification\\classification_model.py:1454: UserWarning: Dataframe headers not specified. Falling back to using column 0 as text and column 1 as labels.\n",
            "  warnings.warn(\n"
          ]
        },
        {
          "output_type": "stream",
          "name": "stdout",
          "text": [
            "{'mcc': 0.6788981093210268, 'tp': 2183, 'tn': 2011, 'fp': 482, 'fn': 324, 'auroc': 0.9148368523209222, 'auprc': 0.9101567215243735, 'eval_loss': 0.5137875683665275}\n",
            "Correct predictions are:  4194\n",
            "Total predictions are:  5000\n",
            "Accuracy on test set is: 0.8388 \n",
            "\n",
            "\n",
            "\n",
            "EPOCH NUMBER:  4\n",
            "\n",
            "NOW TRAIN THE MODEL.\n"
          ]
        },
        {
          "output_type": "stream",
          "name": "stderr",
          "text": [
            "C:\\Users\\Domenico\\.conda\\envs\\tf\\lib\\site-packages\\simpletransformers\\classification\\classification_model.py:612: UserWarning: Dataframe headers not specified. Falling back to using column 0 as text and column 1 as labels.\n",
            "  warnings.warn(\n"
          ]
        },
        {
          "output_type": "stream",
          "name": "stdout",
          "text": [
            "\n",
            "NOW EVALUATE THE TEST DF.\n"
          ]
        },
        {
          "output_type": "stream",
          "name": "stderr",
          "text": [
            "C:\\Users\\Domenico\\.conda\\envs\\tf\\lib\\site-packages\\simpletransformers\\classification\\classification_model.py:1454: UserWarning: Dataframe headers not specified. Falling back to using column 0 as text and column 1 as labels.\n",
            "  warnings.warn(\n"
          ]
        },
        {
          "output_type": "stream",
          "name": "stdout",
          "text": [
            "{'mcc': 0.6767405211413224, 'tp': 2144, 'tn': 2047, 'fp': 446, 'fn': 363, 'auroc': 0.9171689506045727, 'auprc': 0.9123920728853931, 'eval_loss': 0.5471041945174336}\n",
            "Correct predictions are:  4191\n",
            "Total predictions are:  5000\n",
            "Accuracy on test set is: 0.8382 \n",
            "\n",
            "\n",
            "\n",
            "EPOCH NUMBER:  5\n",
            "\n",
            "NOW TRAIN THE MODEL.\n"
          ]
        },
        {
          "output_type": "stream",
          "name": "stderr",
          "text": [
            "C:\\Users\\Domenico\\.conda\\envs\\tf\\lib\\site-packages\\simpletransformers\\classification\\classification_model.py:612: UserWarning: Dataframe headers not specified. Falling back to using column 0 as text and column 1 as labels.\n",
            "  warnings.warn(\n"
          ]
        },
        {
          "output_type": "stream",
          "name": "stdout",
          "text": [
            "\n",
            "NOW EVALUATE THE TEST DF.\n"
          ]
        },
        {
          "output_type": "stream",
          "name": "stderr",
          "text": [
            "C:\\Users\\Domenico\\.conda\\envs\\tf\\lib\\site-packages\\simpletransformers\\classification\\classification_model.py:1454: UserWarning: Dataframe headers not specified. Falling back to using column 0 as text and column 1 as labels.\n",
            "  warnings.warn(\n"
          ]
        },
        {
          "output_type": "stream",
          "name": "stdout",
          "text": [
            "{'mcc': 0.670443270748131, 'tp': 2082, 'tn': 2094, 'fp': 399, 'fn': 425, 'auroc': 0.9159539010785844, 'auprc': 0.9115027571318894, 'eval_loss': 0.6361440266117454}\n",
            "Correct predictions are:  4176\n",
            "Total predictions are:  5000\n",
            "Accuracy on test set is: 0.8352 \n",
            "\n",
            "\n",
            "\n",
            "EPOCH NUMBER:  6\n",
            "\n",
            "NOW TRAIN THE MODEL.\n"
          ]
        },
        {
          "output_type": "stream",
          "name": "stderr",
          "text": [
            "C:\\Users\\Domenico\\.conda\\envs\\tf\\lib\\site-packages\\simpletransformers\\classification\\classification_model.py:612: UserWarning: Dataframe headers not specified. Falling back to using column 0 as text and column 1 as labels.\n",
            "  warnings.warn(\n"
          ]
        },
        {
          "output_type": "stream",
          "name": "stdout",
          "text": [
            "\n",
            "NOW EVALUATE THE TEST DF.\n"
          ]
        },
        {
          "output_type": "stream",
          "name": "stderr",
          "text": [
            "C:\\Users\\Domenico\\.conda\\envs\\tf\\lib\\site-packages\\simpletransformers\\classification\\classification_model.py:1454: UserWarning: Dataframe headers not specified. Falling back to using column 0 as text and column 1 as labels.\n",
            "  warnings.warn(\n"
          ]
        },
        {
          "output_type": "stream",
          "name": "stdout",
          "text": [
            "{'mcc': 0.6753581561618216, 'tp': 2130, 'tn': 2058, 'fp': 435, 'fn': 377, 'auroc': 0.9155802981495376, 'auprc': 0.9113055339125011, 'eval_loss': 0.6579405097961426}\n",
            "Correct predictions are:  4188\n",
            "Total predictions are:  5000\n",
            "Accuracy on test set is: 0.8376 \n",
            "\n",
            "\n",
            "\n",
            "EPOCH NUMBER:  7\n",
            "\n",
            "NOW TRAIN THE MODEL.\n"
          ]
        },
        {
          "output_type": "stream",
          "name": "stderr",
          "text": [
            "C:\\Users\\Domenico\\.conda\\envs\\tf\\lib\\site-packages\\simpletransformers\\classification\\classification_model.py:612: UserWarning: Dataframe headers not specified. Falling back to using column 0 as text and column 1 as labels.\n",
            "  warnings.warn(\n"
          ]
        },
        {
          "output_type": "stream",
          "name": "stdout",
          "text": [
            "\n",
            "NOW EVALUATE THE TEST DF.\n"
          ]
        },
        {
          "output_type": "stream",
          "name": "stderr",
          "text": [
            "C:\\Users\\Domenico\\.conda\\envs\\tf\\lib\\site-packages\\simpletransformers\\classification\\classification_model.py:1454: UserWarning: Dataframe headers not specified. Falling back to using column 0 as text and column 1 as labels.\n",
            "  warnings.warn(\n"
          ]
        },
        {
          "output_type": "stream",
          "name": "stdout",
          "text": [
            "{'mcc': 0.6813542928053021, 'tp': 2137, 'tn': 2066, 'fp': 427, 'fn': 370, 'auroc': 0.9172169509808958, 'auprc': 0.9121587870437948, 'eval_loss': 0.7669736339345574}\n",
            "Correct predictions are:  4203\n",
            "Total predictions are:  5000\n",
            "Accuracy on test set is: 0.8406 \n",
            "\n",
            "\n",
            "\n",
            "EPOCH NUMBER:  8\n",
            "\n",
            "NOW TRAIN THE MODEL.\n"
          ]
        },
        {
          "output_type": "stream",
          "name": "stderr",
          "text": [
            "C:\\Users\\Domenico\\.conda\\envs\\tf\\lib\\site-packages\\simpletransformers\\classification\\classification_model.py:612: UserWarning: Dataframe headers not specified. Falling back to using column 0 as text and column 1 as labels.\n",
            "  warnings.warn(\n"
          ]
        },
        {
          "output_type": "stream",
          "name": "stdout",
          "text": [
            "\n",
            "NOW EVALUATE THE TEST DF.\n"
          ]
        },
        {
          "output_type": "stream",
          "name": "stderr",
          "text": [
            "C:\\Users\\Domenico\\.conda\\envs\\tf\\lib\\site-packages\\simpletransformers\\classification\\classification_model.py:1454: UserWarning: Dataframe headers not specified. Falling back to using column 0 as text and column 1 as labels.\n",
            "  warnings.warn(\n"
          ]
        },
        {
          "output_type": "stream",
          "name": "stdout",
          "text": [
            "{'mcc': 0.6660369956068496, 'tp': 2105, 'tn': 2060, 'fp': 433, 'fn': 402, 'auroc': 0.9145376499751758, 'auprc': 0.9076994521050301, 'eval_loss': 0.7508420505546033}\n",
            "Correct predictions are:  4165\n",
            "Total predictions are:  5000\n",
            "Accuracy on test set is: 0.833 \n",
            "\n",
            "\n",
            "\n",
            "EPOCH NUMBER:  9\n",
            "\n",
            "NOW TRAIN THE MODEL.\n"
          ]
        },
        {
          "output_type": "stream",
          "name": "stderr",
          "text": [
            "C:\\Users\\Domenico\\.conda\\envs\\tf\\lib\\site-packages\\simpletransformers\\classification\\classification_model.py:612: UserWarning: Dataframe headers not specified. Falling back to using column 0 as text and column 1 as labels.\n",
            "  warnings.warn(\n"
          ]
        },
        {
          "output_type": "stream",
          "name": "stdout",
          "text": [
            "\n",
            "NOW EVALUATE THE TEST DF.\n"
          ]
        },
        {
          "output_type": "stream",
          "name": "stderr",
          "text": [
            "C:\\Users\\Domenico\\.conda\\envs\\tf\\lib\\site-packages\\simpletransformers\\classification\\classification_model.py:1454: UserWarning: Dataframe headers not specified. Falling back to using column 0 as text and column 1 as labels.\n",
            "  warnings.warn(\n"
          ]
        },
        {
          "output_type": "stream",
          "name": "stdout",
          "text": [
            "{'mcc': 0.6689385067914632, 'tp': 2069, 'tn': 2103, 'fp': 390, 'fn': 438, 'auroc': 0.9139096450516172, 'auprc': 0.9085447385401031, 'eval_loss': 0.7968143521904946}\n",
            "Correct predictions are:  4172\n",
            "Total predictions are:  5000\n",
            "Accuracy on test set is: 0.8344 \n",
            "\n",
            "\n",
            "[0.8282, 0.8276, 0.8392, 0.8388, 0.8382, 0.8352, 0.8376, 0.8406, 0.833, 0.8344]\n",
            "\n",
            "RUN NUMBER:  5\n"
          ]
        },
        {
          "output_type": "stream",
          "name": "stderr",
          "text": [
            "Some weights of the model checkpoint at roberta-base were not used when initializing RobertaForSequenceClassification: ['roberta.pooler.dense.bias', 'lm_head.bias', 'lm_head.dense.bias', 'lm_head.decoder.weight', 'lm_head.dense.weight', 'roberta.pooler.dense.weight', 'lm_head.layer_norm.weight', 'lm_head.layer_norm.bias']\n",
            "- This IS expected if you are initializing RobertaForSequenceClassification from the checkpoint of a model trained on another task or with another architecture (e.g. initializing a BertForSequenceClassification model from a BertForPreTraining model).\n",
            "- This IS NOT expected if you are initializing RobertaForSequenceClassification from the checkpoint of a model that you expect to be exactly identical (initializing a BertForSequenceClassification model from a BertForSequenceClassification model).\n",
            "Some weights of RobertaForSequenceClassification were not initialized from the model checkpoint at roberta-base and are newly initialized: ['classifier.dense.weight', 'classifier.out_proj.weight', 'classifier.out_proj.bias', 'classifier.dense.bias']\n",
            "You should probably TRAIN this model on a down-stream task to be able to use it for predictions and inference.\n"
          ]
        },
        {
          "output_type": "stream",
          "name": "stdout",
          "text": [
            "\n",
            "EPOCH NUMBER:  0\n",
            "\n",
            "NOW TRAIN THE MODEL.\n"
          ]
        },
        {
          "output_type": "stream",
          "name": "stderr",
          "text": [
            "C:\\Users\\Domenico\\.conda\\envs\\tf\\lib\\site-packages\\simpletransformers\\classification\\classification_model.py:612: UserWarning: Dataframe headers not specified. Falling back to using column 0 as text and column 1 as labels.\n",
            "  warnings.warn(\n"
          ]
        },
        {
          "output_type": "stream",
          "name": "stdout",
          "text": [
            "\n",
            "NOW EVALUATE THE TEST DF.\n"
          ]
        },
        {
          "output_type": "stream",
          "name": "stderr",
          "text": [
            "C:\\Users\\Domenico\\.conda\\envs\\tf\\lib\\site-packages\\simpletransformers\\classification\\classification_model.py:1454: UserWarning: Dataframe headers not specified. Falling back to using column 0 as text and column 1 as labels.\n",
            "  warnings.warn(\n"
          ]
        },
        {
          "output_type": "stream",
          "name": "stdout",
          "text": [
            "{'mcc': 0.0, 'tp': 2507, 'tn': 0, 'fp': 2493, 'fn': 0, 'auroc': 0.7349656821309479, 'auprc': 0.7189900653935297, 'eval_loss': 0.6929263680458069}\n",
            "Correct predictions are:  2507\n",
            "Total predictions are:  5000\n",
            "Accuracy on test set is: 0.5014 \n",
            "\n",
            "\n",
            "\n",
            "EPOCH NUMBER:  1\n",
            "\n",
            "NOW TRAIN THE MODEL.\n"
          ]
        },
        {
          "output_type": "stream",
          "name": "stderr",
          "text": [
            "C:\\Users\\Domenico\\.conda\\envs\\tf\\lib\\site-packages\\simpletransformers\\classification\\classification_model.py:612: UserWarning: Dataframe headers not specified. Falling back to using column 0 as text and column 1 as labels.\n",
            "  warnings.warn(\n"
          ]
        },
        {
          "output_type": "stream",
          "name": "stdout",
          "text": [
            "\n",
            "NOW EVALUATE THE TEST DF.\n"
          ]
        },
        {
          "output_type": "stream",
          "name": "stderr",
          "text": [
            "C:\\Users\\Domenico\\.conda\\envs\\tf\\lib\\site-packages\\simpletransformers\\classification\\classification_model.py:1454: UserWarning: Dataframe headers not specified. Falling back to using column 0 as text and column 1 as labels.\n",
            "  warnings.warn(\n"
          ]
        },
        {
          "output_type": "stream",
          "name": "stdout",
          "text": [
            "{'mcc': 0.4945101035255435, 'tp': 2061, 'tn': 1661, 'fp': 832, 'fn': 446, 'auroc': 0.8189947409187688, 'auprc': 0.7956623646089418, 'eval_loss': 0.544583643078804}\n",
            "Correct predictions are:  3722\n",
            "Total predictions are:  5000\n",
            "Accuracy on test set is: 0.7444 \n",
            "\n",
            "\n",
            "\n",
            "EPOCH NUMBER:  2\n",
            "\n",
            "NOW TRAIN THE MODEL.\n"
          ]
        },
        {
          "output_type": "stream",
          "name": "stderr",
          "text": [
            "C:\\Users\\Domenico\\.conda\\envs\\tf\\lib\\site-packages\\simpletransformers\\classification\\classification_model.py:612: UserWarning: Dataframe headers not specified. Falling back to using column 0 as text and column 1 as labels.\n",
            "  warnings.warn(\n"
          ]
        },
        {
          "output_type": "stream",
          "name": "stdout",
          "text": [
            "\n",
            "NOW EVALUATE THE TEST DF.\n"
          ]
        },
        {
          "output_type": "stream",
          "name": "stderr",
          "text": [
            "C:\\Users\\Domenico\\.conda\\envs\\tf\\lib\\site-packages\\simpletransformers\\classification\\classification_model.py:1454: UserWarning: Dataframe headers not specified. Falling back to using column 0 as text and column 1 as labels.\n",
            "  warnings.warn(\n"
          ]
        },
        {
          "output_type": "stream",
          "name": "stdout",
          "text": [
            "{'mcc': 0.5618377945280224, 'tp': 1925, 'tn': 1979, 'fp': 514, 'fn': 582, 'auroc': 0.8648680605655948, 'auprc': 0.8612655504323727, 'eval_loss': 0.48241135417222974}\n",
            "Correct predictions are:  3904\n",
            "Total predictions are:  5000\n",
            "Accuracy on test set is: 0.7808 \n",
            "\n",
            "\n",
            "\n",
            "EPOCH NUMBER:  3\n",
            "\n",
            "NOW TRAIN THE MODEL.\n"
          ]
        },
        {
          "output_type": "stream",
          "name": "stderr",
          "text": [
            "C:\\Users\\Domenico\\.conda\\envs\\tf\\lib\\site-packages\\simpletransformers\\classification\\classification_model.py:612: UserWarning: Dataframe headers not specified. Falling back to using column 0 as text and column 1 as labels.\n",
            "  warnings.warn(\n"
          ]
        },
        {
          "output_type": "stream",
          "name": "stdout",
          "text": [
            "\n",
            "NOW EVALUATE THE TEST DF.\n"
          ]
        },
        {
          "output_type": "stream",
          "name": "stderr",
          "text": [
            "C:\\Users\\Domenico\\.conda\\envs\\tf\\lib\\site-packages\\simpletransformers\\classification\\classification_model.py:1454: UserWarning: Dataframe headers not specified. Falling back to using column 0 as text and column 1 as labels.\n",
            "  warnings.warn(\n"
          ]
        },
        {
          "output_type": "stream",
          "name": "stdout",
          "text": [
            "{'mcc': 0.5925401444033584, 'tp': 2155, 'tn': 1814, 'fp': 679, 'fn': 352, 'auroc': 0.7988668231158932, 'auprc': 0.6916812155111662, 'eval_loss': 0.5244604750990868}\n",
            "Correct predictions are:  3969\n",
            "Total predictions are:  5000\n",
            "Accuracy on test set is: 0.7938 \n",
            "\n",
            "\n",
            "\n",
            "EPOCH NUMBER:  4\n",
            "\n",
            "NOW TRAIN THE MODEL.\n"
          ]
        },
        {
          "output_type": "stream",
          "name": "stderr",
          "text": [
            "C:\\Users\\Domenico\\.conda\\envs\\tf\\lib\\site-packages\\simpletransformers\\classification\\classification_model.py:612: UserWarning: Dataframe headers not specified. Falling back to using column 0 as text and column 1 as labels.\n",
            "  warnings.warn(\n"
          ]
        },
        {
          "output_type": "stream",
          "name": "stdout",
          "text": [
            "\n",
            "NOW EVALUATE THE TEST DF.\n"
          ]
        },
        {
          "output_type": "stream",
          "name": "stderr",
          "text": [
            "C:\\Users\\Domenico\\.conda\\envs\\tf\\lib\\site-packages\\simpletransformers\\classification\\classification_model.py:1454: UserWarning: Dataframe headers not specified. Falling back to using column 0 as text and column 1 as labels.\n",
            "  warnings.warn(\n"
          ]
        },
        {
          "output_type": "stream",
          "name": "stdout",
          "text": [
            "{'mcc': 0.5748217786554717, 'tp': 1790, 'tn': 2132, 'fp': 361, 'fn': 717, 'auroc': 0.8770535961001934, 'auprc': 0.8631334684809286, 'eval_loss': 0.47992018095254896}\n",
            "Correct predictions are:  3922\n",
            "Total predictions are:  5000\n",
            "Accuracy on test set is: 0.7844 \n",
            "\n",
            "\n",
            "\n",
            "EPOCH NUMBER:  5\n",
            "\n",
            "NOW TRAIN THE MODEL.\n"
          ]
        },
        {
          "output_type": "stream",
          "name": "stderr",
          "text": [
            "C:\\Users\\Domenico\\.conda\\envs\\tf\\lib\\site-packages\\simpletransformers\\classification\\classification_model.py:612: UserWarning: Dataframe headers not specified. Falling back to using column 0 as text and column 1 as labels.\n",
            "  warnings.warn(\n"
          ]
        },
        {
          "output_type": "stream",
          "name": "stdout",
          "text": [
            "\n",
            "NOW EVALUATE THE TEST DF.\n"
          ]
        },
        {
          "output_type": "stream",
          "name": "stderr",
          "text": [
            "C:\\Users\\Domenico\\.conda\\envs\\tf\\lib\\site-packages\\simpletransformers\\classification\\classification_model.py:1454: UserWarning: Dataframe headers not specified. Falling back to using column 0 as text and column 1 as labels.\n",
            "  warnings.warn(\n"
          ]
        },
        {
          "output_type": "stream",
          "name": "stdout",
          "text": [
            "{'mcc': 0.5691758234810582, 'tp': 2314, 'tn': 1543, 'fp': 950, 'fn': 193, 'auroc': 0.80372262118535, 'auprc': 0.7161553610717583, 'eval_loss': 0.5150839552998543}\n",
            "Correct predictions are:  3857\n",
            "Total predictions are:  5000\n",
            "Accuracy on test set is: 0.7714 \n",
            "\n",
            "\n",
            "\n",
            "EPOCH NUMBER:  6\n",
            "\n",
            "NOW TRAIN THE MODEL.\n"
          ]
        },
        {
          "output_type": "stream",
          "name": "stderr",
          "text": [
            "C:\\Users\\Domenico\\.conda\\envs\\tf\\lib\\site-packages\\simpletransformers\\classification\\classification_model.py:612: UserWarning: Dataframe headers not specified. Falling back to using column 0 as text and column 1 as labels.\n",
            "  warnings.warn(\n"
          ]
        },
        {
          "output_type": "stream",
          "name": "stdout",
          "text": [
            "\n",
            "NOW EVALUATE THE TEST DF.\n"
          ]
        },
        {
          "output_type": "stream",
          "name": "stderr",
          "text": [
            "C:\\Users\\Domenico\\.conda\\envs\\tf\\lib\\site-packages\\simpletransformers\\classification\\classification_model.py:1454: UserWarning: Dataframe headers not specified. Falling back to using column 0 as text and column 1 as labels.\n",
            "  warnings.warn(\n"
          ]
        },
        {
          "output_type": "stream",
          "name": "stdout",
          "text": [
            "{'mcc': 0.6140770181771964, 'tp': 2047, 'tn': 1988, 'fp': 505, 'fn': 460, 'auroc': 0.8848100569108464, 'auprc': 0.8774214718755011, 'eval_loss': 0.47489205641746524}\n",
            "Correct predictions are:  4035\n",
            "Total predictions are:  5000\n",
            "Accuracy on test set is: 0.807 \n",
            "\n",
            "\n",
            "\n",
            "EPOCH NUMBER:  7\n",
            "\n",
            "NOW TRAIN THE MODEL.\n"
          ]
        },
        {
          "output_type": "stream",
          "name": "stderr",
          "text": [
            "C:\\Users\\Domenico\\.conda\\envs\\tf\\lib\\site-packages\\simpletransformers\\classification\\classification_model.py:612: UserWarning: Dataframe headers not specified. Falling back to using column 0 as text and column 1 as labels.\n",
            "  warnings.warn(\n"
          ]
        },
        {
          "output_type": "stream",
          "name": "stdout",
          "text": [
            "\n",
            "NOW EVALUATE THE TEST DF.\n"
          ]
        },
        {
          "output_type": "stream",
          "name": "stderr",
          "text": [
            "C:\\Users\\Domenico\\.conda\\envs\\tf\\lib\\site-packages\\simpletransformers\\classification\\classification_model.py:1454: UserWarning: Dataframe headers not specified. Falling back to using column 0 as text and column 1 as labels.\n",
            "  warnings.warn(\n"
          ]
        },
        {
          "output_type": "stream",
          "name": "stdout",
          "text": [
            "{'mcc': 0.6086926999527656, 'tp': 1874, 'tn': 2138, 'fp': 355, 'fn': 633, 'auroc': 0.8883304045103715, 'auprc': 0.8840837246008411, 'eval_loss': 0.49946857986450194}\n",
            "Correct predictions are:  4012\n",
            "Total predictions are:  5000\n",
            "Accuracy on test set is: 0.8024 \n",
            "\n",
            "\n",
            "\n",
            "EPOCH NUMBER:  8\n",
            "\n",
            "NOW TRAIN THE MODEL.\n"
          ]
        },
        {
          "output_type": "stream",
          "name": "stderr",
          "text": [
            "C:\\Users\\Domenico\\.conda\\envs\\tf\\lib\\site-packages\\simpletransformers\\classification\\classification_model.py:612: UserWarning: Dataframe headers not specified. Falling back to using column 0 as text and column 1 as labels.\n",
            "  warnings.warn(\n"
          ]
        },
        {
          "output_type": "stream",
          "name": "stdout",
          "text": [
            "\n",
            "NOW EVALUATE THE TEST DF.\n"
          ]
        },
        {
          "output_type": "stream",
          "name": "stderr",
          "text": [
            "C:\\Users\\Domenico\\.conda\\envs\\tf\\lib\\site-packages\\simpletransformers\\classification\\classification_model.py:1454: UserWarning: Dataframe headers not specified. Falling back to using column 0 as text and column 1 as labels.\n",
            "  warnings.warn(\n"
          ]
        },
        {
          "output_type": "stream",
          "name": "stdout",
          "text": [
            "{'mcc': 0.6060780364530192, 'tp': 1934, 'tn': 2078, 'fp': 415, 'fn': 573, 'auroc': 0.878383526526848, 'auprc': 0.8566164103098344, 'eval_loss': 0.49339949079751966}\n",
            "Correct predictions are:  4012\n",
            "Total predictions are:  5000\n",
            "Accuracy on test set is: 0.8024 \n",
            "\n",
            "\n",
            "\n",
            "EPOCH NUMBER:  9\n",
            "\n",
            "NOW TRAIN THE MODEL.\n"
          ]
        },
        {
          "output_type": "stream",
          "name": "stderr",
          "text": [
            "C:\\Users\\Domenico\\.conda\\envs\\tf\\lib\\site-packages\\simpletransformers\\classification\\classification_model.py:612: UserWarning: Dataframe headers not specified. Falling back to using column 0 as text and column 1 as labels.\n",
            "  warnings.warn(\n"
          ]
        },
        {
          "output_type": "stream",
          "name": "stdout",
          "text": [
            "\n",
            "NOW EVALUATE THE TEST DF.\n"
          ]
        },
        {
          "output_type": "stream",
          "name": "stderr",
          "text": [
            "C:\\Users\\Domenico\\.conda\\envs\\tf\\lib\\site-packages\\simpletransformers\\classification\\classification_model.py:1454: UserWarning: Dataframe headers not specified. Falling back to using column 0 as text and column 1 as labels.\n",
            "  warnings.warn(\n"
          ]
        },
        {
          "output_type": "stream",
          "name": "stdout",
          "text": [
            "{'mcc': 0.44756420681075804, 'tp': 1017, 'tn': 2407, 'fp': 86, 'fn': 1490, 'auroc': 0.8758647067793011, 'auprc': 0.8646035617135928, 'eval_loss': 0.5824050602912902}\n",
            "Correct predictions are:  3424\n",
            "Total predictions are:  5000\n",
            "Accuracy on test set is: 0.6848 \n",
            "\n",
            "\n",
            "[0.5014, 0.7444, 0.7808, 0.7938, 0.7844, 0.7714, 0.807, 0.8024, 0.8024, 0.6848]\n",
            "\n",
            "\n",
            " Over all runs maximum accuracies are: [0.807, 0.807, 0.8178, 0.829, 0.8406]\n",
            "The median is: 0.8178\n",
            "RoBERTa Accuracy Score on Test set ->  ['0.8178 +/- 0.022800000000000042']\n"
          ]
        },
        {
          "output_type": "stream",
          "name": "stderr",
          "text": [
            "Some weights of the model checkpoint at roberta-base were not used when initializing RobertaForSequenceClassification: ['roberta.pooler.dense.bias', 'lm_head.bias', 'lm_head.dense.bias', 'lm_head.decoder.weight', 'lm_head.dense.weight', 'roberta.pooler.dense.weight', 'lm_head.layer_norm.weight', 'lm_head.layer_norm.bias']\n",
            "- This IS expected if you are initializing RobertaForSequenceClassification from the checkpoint of a model trained on another task or with another architecture (e.g. initializing a BertForSequenceClassification model from a BertForPreTraining model).\n",
            "- This IS NOT expected if you are initializing RobertaForSequenceClassification from the checkpoint of a model that you expect to be exactly identical (initializing a BertForSequenceClassification model from a BertForSequenceClassification model).\n",
            "Some weights of RobertaForSequenceClassification were not initialized from the model checkpoint at roberta-base and are newly initialized: ['classifier.dense.weight', 'classifier.out_proj.weight', 'classifier.out_proj.bias', 'classifier.dense.bias']\n",
            "You should probably TRAIN this model on a down-stream task to be able to use it for predictions and inference.\n"
          ]
        },
        {
          "output_type": "stream",
          "name": "stdout",
          "text": [
            "\n",
            "\n",
            "* * * * EVALUATION USING RSW_LOW_STM AS PREPROCESSING FUNCTION * * * *\n",
            "\n",
            "RUN NUMBER:  1\n"
          ]
        },
        {
          "output_type": "stream",
          "name": "stderr",
          "text": [
            "Some weights of the model checkpoint at roberta-base were not used when initializing RobertaForSequenceClassification: ['roberta.pooler.dense.bias', 'lm_head.bias', 'lm_head.dense.bias', 'lm_head.decoder.weight', 'lm_head.dense.weight', 'roberta.pooler.dense.weight', 'lm_head.layer_norm.weight', 'lm_head.layer_norm.bias']\n",
            "- This IS expected if you are initializing RobertaForSequenceClassification from the checkpoint of a model trained on another task or with another architecture (e.g. initializing a BertForSequenceClassification model from a BertForPreTraining model).\n",
            "- This IS NOT expected if you are initializing RobertaForSequenceClassification from the checkpoint of a model that you expect to be exactly identical (initializing a BertForSequenceClassification model from a BertForSequenceClassification model).\n",
            "Some weights of RobertaForSequenceClassification were not initialized from the model checkpoint at roberta-base and are newly initialized: ['classifier.dense.weight', 'classifier.out_proj.weight', 'classifier.out_proj.bias', 'classifier.dense.bias']\n",
            "You should probably TRAIN this model on a down-stream task to be able to use it for predictions and inference.\n"
          ]
        },
        {
          "output_type": "stream",
          "name": "stdout",
          "text": [
            "\n",
            "EPOCH NUMBER:  0\n",
            "\n",
            "NOW TRAIN THE MODEL.\n"
          ]
        },
        {
          "output_type": "stream",
          "name": "stderr",
          "text": [
            "C:\\Users\\Domenico\\.conda\\envs\\tf\\lib\\site-packages\\simpletransformers\\classification\\classification_model.py:612: UserWarning: Dataframe headers not specified. Falling back to using column 0 as text and column 1 as labels.\n",
            "  warnings.warn(\n"
          ]
        },
        {
          "output_type": "stream",
          "name": "stdout",
          "text": [
            "\n",
            "NOW EVALUATE THE TEST DF.\n"
          ]
        },
        {
          "output_type": "stream",
          "name": "stderr",
          "text": [
            "C:\\Users\\Domenico\\.conda\\envs\\tf\\lib\\site-packages\\simpletransformers\\classification\\classification_model.py:1454: UserWarning: Dataframe headers not specified. Falling back to using column 0 as text and column 1 as labels.\n",
            "  warnings.warn(\n"
          ]
        },
        {
          "output_type": "stream",
          "name": "stdout",
          "text": [
            "{'mcc': 0.45789209090570343, 'tp': 2093, 'tn': 1524, 'fp': 969, 'fn': 414, 'auroc': 0.807209688523958, 'auprc': 0.8037128491811183, 'eval_loss': 0.5714673122644425}\n",
            "Correct predictions are:  3617\n",
            "Total predictions are:  5000\n",
            "Accuracy on test set is: 0.7234 \n",
            "\n",
            "\n",
            "\n",
            "EPOCH NUMBER:  1\n",
            "\n",
            "NOW TRAIN THE MODEL.\n"
          ]
        },
        {
          "output_type": "stream",
          "name": "stderr",
          "text": [
            "C:\\Users\\Domenico\\.conda\\envs\\tf\\lib\\site-packages\\simpletransformers\\classification\\classification_model.py:612: UserWarning: Dataframe headers not specified. Falling back to using column 0 as text and column 1 as labels.\n",
            "  warnings.warn(\n"
          ]
        },
        {
          "output_type": "stream",
          "name": "stdout",
          "text": [
            "\n",
            "NOW EVALUATE THE TEST DF.\n"
          ]
        },
        {
          "output_type": "stream",
          "name": "stderr",
          "text": [
            "C:\\Users\\Domenico\\.conda\\envs\\tf\\lib\\site-packages\\simpletransformers\\classification\\classification_model.py:1454: UserWarning: Dataframe headers not specified. Falling back to using column 0 as text and column 1 as labels.\n",
            "  warnings.warn(\n"
          ]
        },
        {
          "output_type": "stream",
          "name": "stdout",
          "text": [
            "{'mcc': 0.5554506397369465, 'tp': 2122, 'tn': 1753, 'fp': 740, 'fn': 385, 'auroc': 0.8653434242924465, 'auprc': 0.8648718931496402, 'eval_loss': 0.5029265428185463}\n",
            "Correct predictions are:  3875\n",
            "Total predictions are:  5000\n",
            "Accuracy on test set is: 0.775 \n",
            "\n",
            "\n",
            "\n",
            "EPOCH NUMBER:  2\n",
            "\n",
            "NOW TRAIN THE MODEL.\n"
          ]
        },
        {
          "output_type": "stream",
          "name": "stderr",
          "text": [
            "C:\\Users\\Domenico\\.conda\\envs\\tf\\lib\\site-packages\\simpletransformers\\classification\\classification_model.py:612: UserWarning: Dataframe headers not specified. Falling back to using column 0 as text and column 1 as labels.\n",
            "  warnings.warn(\n"
          ]
        },
        {
          "output_type": "stream",
          "name": "stdout",
          "text": [
            "\n",
            "NOW EVALUATE THE TEST DF.\n"
          ]
        },
        {
          "output_type": "stream",
          "name": "stderr",
          "text": [
            "C:\\Users\\Domenico\\.conda\\envs\\tf\\lib\\site-packages\\simpletransformers\\classification\\classification_model.py:1454: UserWarning: Dataframe headers not specified. Falling back to using column 0 as text and column 1 as labels.\n",
            "  warnings.warn(\n"
          ]
        },
        {
          "output_type": "stream",
          "name": "stdout",
          "text": [
            "{'mcc': 0.591248569835969, 'tp': 1949, 'tn': 2028, 'fp': 465, 'fn': 558, 'auroc': 0.8766114326336318, 'auprc': 0.8708686493797683, 'eval_loss': 0.478712079668045}\n",
            "Correct predictions are:  3977\n",
            "Total predictions are:  5000\n",
            "Accuracy on test set is: 0.7954 \n",
            "\n",
            "\n",
            "\n",
            "EPOCH NUMBER:  3\n",
            "\n",
            "NOW TRAIN THE MODEL.\n"
          ]
        },
        {
          "output_type": "stream",
          "name": "stderr",
          "text": [
            "C:\\Users\\Domenico\\.conda\\envs\\tf\\lib\\site-packages\\simpletransformers\\classification\\classification_model.py:612: UserWarning: Dataframe headers not specified. Falling back to using column 0 as text and column 1 as labels.\n",
            "  warnings.warn(\n"
          ]
        },
        {
          "output_type": "stream",
          "name": "stdout",
          "text": [
            "\n",
            "NOW EVALUATE THE TEST DF.\n"
          ]
        },
        {
          "output_type": "stream",
          "name": "stderr",
          "text": [
            "C:\\Users\\Domenico\\.conda\\envs\\tf\\lib\\site-packages\\simpletransformers\\classification\\classification_model.py:1454: UserWarning: Dataframe headers not specified. Falling back to using column 0 as text and column 1 as labels.\n",
            "  warnings.warn(\n"
          ]
        },
        {
          "output_type": "stream",
          "name": "stdout",
          "text": [
            "{'mcc': 0.5981204978241678, 'tp': 1954, 'tn': 2040, 'fp': 453, 'fn': 553, 'auroc': 0.8815043509941118, 'auprc': 0.8553998374078406, 'eval_loss': 0.5169130062818528}\n",
            "Correct predictions are:  3994\n",
            "Total predictions are:  5000\n",
            "Accuracy on test set is: 0.7988 \n",
            "\n",
            "\n",
            "\n",
            "EPOCH NUMBER:  4\n",
            "\n",
            "NOW TRAIN THE MODEL.\n"
          ]
        },
        {
          "output_type": "stream",
          "name": "stderr",
          "text": [
            "C:\\Users\\Domenico\\.conda\\envs\\tf\\lib\\site-packages\\simpletransformers\\classification\\classification_model.py:612: UserWarning: Dataframe headers not specified. Falling back to using column 0 as text and column 1 as labels.\n",
            "  warnings.warn(\n"
          ]
        },
        {
          "output_type": "stream",
          "name": "stdout",
          "text": [
            "\n",
            "NOW EVALUATE THE TEST DF.\n"
          ]
        },
        {
          "output_type": "stream",
          "name": "stderr",
          "text": [
            "C:\\Users\\Domenico\\.conda\\envs\\tf\\lib\\site-packages\\simpletransformers\\classification\\classification_model.py:1454: UserWarning: Dataframe headers not specified. Falling back to using column 0 as text and column 1 as labels.\n",
            "  warnings.warn(\n"
          ]
        },
        {
          "output_type": "stream",
          "name": "stdout",
          "text": [
            "{'mcc': 0.5950474922413889, 'tp': 2109, 'tn': 1873, 'fp': 620, 'fn': 398, 'auroc': 0.8819017941100658, 'auprc': 0.8829339485527575, 'eval_loss': 0.5152659676551818}\n",
            "Correct predictions are:  3982\n",
            "Total predictions are:  5000\n",
            "Accuracy on test set is: 0.7964 \n",
            "\n",
            "\n",
            "\n",
            "EPOCH NUMBER:  5\n",
            "\n",
            "NOW TRAIN THE MODEL.\n"
          ]
        },
        {
          "output_type": "stream",
          "name": "stderr",
          "text": [
            "C:\\Users\\Domenico\\.conda\\envs\\tf\\lib\\site-packages\\simpletransformers\\classification\\classification_model.py:612: UserWarning: Dataframe headers not specified. Falling back to using column 0 as text and column 1 as labels.\n",
            "  warnings.warn(\n"
          ]
        },
        {
          "output_type": "stream",
          "name": "stdout",
          "text": [
            "\n",
            "NOW EVALUATE THE TEST DF.\n"
          ]
        },
        {
          "output_type": "stream",
          "name": "stderr",
          "text": [
            "C:\\Users\\Domenico\\.conda\\envs\\tf\\lib\\site-packages\\simpletransformers\\classification\\classification_model.py:1454: UserWarning: Dataframe headers not specified. Falling back to using column 0 as text and column 1 as labels.\n",
            "  warnings.warn(\n"
          ]
        },
        {
          "output_type": "stream",
          "name": "stdout",
          "text": [
            "{'mcc': 0.5999117781956329, 'tp': 1887, 'tn': 2106, 'fp': 387, 'fn': 620, 'auroc': 0.886803432538911, 'auprc': 0.8880566458614279, 'eval_loss': 0.4971036990761757}\n",
            "Correct predictions are:  3993\n",
            "Total predictions are:  5000\n",
            "Accuracy on test set is: 0.7986 \n",
            "\n",
            "\n",
            "\n",
            "EPOCH NUMBER:  6\n",
            "\n",
            "NOW TRAIN THE MODEL.\n"
          ]
        },
        {
          "output_type": "stream",
          "name": "stderr",
          "text": [
            "C:\\Users\\Domenico\\.conda\\envs\\tf\\lib\\site-packages\\simpletransformers\\classification\\classification_model.py:612: UserWarning: Dataframe headers not specified. Falling back to using column 0 as text and column 1 as labels.\n",
            "  warnings.warn(\n"
          ]
        },
        {
          "output_type": "stream",
          "name": "stdout",
          "text": [
            "\n",
            "NOW EVALUATE THE TEST DF.\n"
          ]
        },
        {
          "output_type": "stream",
          "name": "stderr",
          "text": [
            "C:\\Users\\Domenico\\.conda\\envs\\tf\\lib\\site-packages\\simpletransformers\\classification\\classification_model.py:1454: UserWarning: Dataframe headers not specified. Falling back to using column 0 as text and column 1 as labels.\n",
            "  warnings.warn(\n"
          ]
        },
        {
          "output_type": "stream",
          "name": "stdout",
          "text": [
            "{'mcc': 0.6005162536351862, 'tp': 2078, 'tn': 1921, 'fp': 572, 'fn': 429, 'auroc': 0.8648079000939367, 'auprc': 0.8754590900004546, 'eval_loss': 0.508961179959774}\n",
            "Correct predictions are:  3999\n",
            "Total predictions are:  5000\n",
            "Accuracy on test set is: 0.7998 \n",
            "\n",
            "\n",
            "\n",
            "EPOCH NUMBER:  7\n",
            "\n",
            "NOW TRAIN THE MODEL.\n"
          ]
        },
        {
          "output_type": "stream",
          "name": "stderr",
          "text": [
            "C:\\Users\\Domenico\\.conda\\envs\\tf\\lib\\site-packages\\simpletransformers\\classification\\classification_model.py:612: UserWarning: Dataframe headers not specified. Falling back to using column 0 as text and column 1 as labels.\n",
            "  warnings.warn(\n"
          ]
        },
        {
          "output_type": "stream",
          "name": "stdout",
          "text": [
            "\n",
            "NOW EVALUATE THE TEST DF.\n"
          ]
        },
        {
          "output_type": "stream",
          "name": "stderr",
          "text": [
            "C:\\Users\\Domenico\\.conda\\envs\\tf\\lib\\site-packages\\simpletransformers\\classification\\classification_model.py:1454: UserWarning: Dataframe headers not specified. Falling back to using column 0 as text and column 1 as labels.\n",
            "  warnings.warn(\n"
          ]
        },
        {
          "output_type": "stream",
          "name": "stdout",
          "text": [
            "{'mcc': 0.6065274775643947, 'tp': 2187, 'tn': 1814, 'fp': 679, 'fn': 320, 'auroc': 0.8931274821194597, 'auprc': 0.8913759361739597, 'eval_loss': 0.4820817490935326}\n",
            "Correct predictions are:  4001\n",
            "Total predictions are:  5000\n",
            "Accuracy on test set is: 0.8002 \n",
            "\n",
            "\n",
            "\n",
            "EPOCH NUMBER:  8\n",
            "\n",
            "NOW TRAIN THE MODEL.\n"
          ]
        },
        {
          "output_type": "stream",
          "name": "stderr",
          "text": [
            "C:\\Users\\Domenico\\.conda\\envs\\tf\\lib\\site-packages\\simpletransformers\\classification\\classification_model.py:612: UserWarning: Dataframe headers not specified. Falling back to using column 0 as text and column 1 as labels.\n",
            "  warnings.warn(\n"
          ]
        },
        {
          "output_type": "stream",
          "name": "stdout",
          "text": [
            "\n",
            "NOW EVALUATE THE TEST DF.\n"
          ]
        },
        {
          "output_type": "stream",
          "name": "stderr",
          "text": [
            "C:\\Users\\Domenico\\.conda\\envs\\tf\\lib\\site-packages\\simpletransformers\\classification\\classification_model.py:1454: UserWarning: Dataframe headers not specified. Falling back to using column 0 as text and column 1 as labels.\n",
            "  warnings.warn(\n"
          ]
        },
        {
          "output_type": "stream",
          "name": "stdout",
          "text": [
            "{'mcc': 0.6158104303274236, 'tp': 2084, 'tn': 1954, 'fp': 539, 'fn': 423, 'auroc': 0.8620200382370998, 'auprc': 0.8832430309386037, 'eval_loss': 0.5009721420049668}\n",
            "Correct predictions are:  4038\n",
            "Total predictions are:  5000\n",
            "Accuracy on test set is: 0.8076 \n",
            "\n",
            "\n",
            "\n",
            "EPOCH NUMBER:  9\n",
            "\n",
            "NOW TRAIN THE MODEL.\n"
          ]
        },
        {
          "output_type": "stream",
          "name": "stderr",
          "text": [
            "C:\\Users\\Domenico\\.conda\\envs\\tf\\lib\\site-packages\\simpletransformers\\classification\\classification_model.py:612: UserWarning: Dataframe headers not specified. Falling back to using column 0 as text and column 1 as labels.\n",
            "  warnings.warn(\n"
          ]
        },
        {
          "output_type": "stream",
          "name": "stdout",
          "text": [
            "\n",
            "NOW EVALUATE THE TEST DF.\n"
          ]
        },
        {
          "output_type": "stream",
          "name": "stderr",
          "text": [
            "C:\\Users\\Domenico\\.conda\\envs\\tf\\lib\\site-packages\\simpletransformers\\classification\\classification_model.py:1454: UserWarning: Dataframe headers not specified. Falling back to using column 0 as text and column 1 as labels.\n",
            "  warnings.warn(\n"
          ]
        },
        {
          "output_type": "stream",
          "name": "stdout",
          "text": [
            "{'mcc': 0.5858187765317022, 'tp': 2223, 'tn': 1713, 'fp': 780, 'fn': 284, 'auroc': 0.8652326234237677, 'auprc': 0.8091671575854157, 'eval_loss': 0.489897701638937}\n",
            "Correct predictions are:  3936\n",
            "Total predictions are:  5000\n",
            "Accuracy on test set is: 0.7872 \n",
            "\n",
            "\n",
            "[0.7234, 0.775, 0.7954, 0.7988, 0.7964, 0.7986, 0.7998, 0.8002, 0.8076, 0.7872]\n",
            "\n",
            "RUN NUMBER:  2\n"
          ]
        },
        {
          "output_type": "stream",
          "name": "stderr",
          "text": [
            "Some weights of the model checkpoint at roberta-base were not used when initializing RobertaForSequenceClassification: ['roberta.pooler.dense.bias', 'lm_head.bias', 'lm_head.dense.bias', 'lm_head.decoder.weight', 'lm_head.dense.weight', 'roberta.pooler.dense.weight', 'lm_head.layer_norm.weight', 'lm_head.layer_norm.bias']\n",
            "- This IS expected if you are initializing RobertaForSequenceClassification from the checkpoint of a model trained on another task or with another architecture (e.g. initializing a BertForSequenceClassification model from a BertForPreTraining model).\n",
            "- This IS NOT expected if you are initializing RobertaForSequenceClassification from the checkpoint of a model that you expect to be exactly identical (initializing a BertForSequenceClassification model from a BertForSequenceClassification model).\n",
            "Some weights of RobertaForSequenceClassification were not initialized from the model checkpoint at roberta-base and are newly initialized: ['classifier.dense.weight', 'classifier.out_proj.weight', 'classifier.out_proj.bias', 'classifier.dense.bias']\n",
            "You should probably TRAIN this model on a down-stream task to be able to use it for predictions and inference.\n"
          ]
        },
        {
          "output_type": "stream",
          "name": "stdout",
          "text": [
            "\n",
            "EPOCH NUMBER:  0\n",
            "\n",
            "NOW TRAIN THE MODEL.\n"
          ]
        },
        {
          "output_type": "stream",
          "name": "stderr",
          "text": [
            "C:\\Users\\Domenico\\.conda\\envs\\tf\\lib\\site-packages\\simpletransformers\\classification\\classification_model.py:612: UserWarning: Dataframe headers not specified. Falling back to using column 0 as text and column 1 as labels.\n",
            "  warnings.warn(\n"
          ]
        },
        {
          "output_type": "stream",
          "name": "stdout",
          "text": [
            "\n",
            "NOW EVALUATE THE TEST DF.\n"
          ]
        },
        {
          "output_type": "stream",
          "name": "stderr",
          "text": [
            "C:\\Users\\Domenico\\.conda\\envs\\tf\\lib\\site-packages\\simpletransformers\\classification\\classification_model.py:1454: UserWarning: Dataframe headers not specified. Falling back to using column 0 as text and column 1 as labels.\n",
            "  warnings.warn(\n"
          ]
        },
        {
          "output_type": "stream",
          "name": "stdout",
          "text": [
            "{'mcc': 0.6522732647149581, 'tp': 1967, 'tn': 2158, 'fp': 335, 'fn': 540, 'auroc': 0.9115066662122631, 'auprc': 0.9085487491557442, 'eval_loss': 0.4172042602002621}\n",
            "Correct predictions are:  4125\n",
            "Total predictions are:  5000\n",
            "Accuracy on test set is: 0.825 \n",
            "\n",
            "\n",
            "\n",
            "EPOCH NUMBER:  1\n",
            "\n",
            "NOW TRAIN THE MODEL.\n"
          ]
        },
        {
          "output_type": "stream",
          "name": "stderr",
          "text": [
            "C:\\Users\\Domenico\\.conda\\envs\\tf\\lib\\site-packages\\simpletransformers\\classification\\classification_model.py:612: UserWarning: Dataframe headers not specified. Falling back to using column 0 as text and column 1 as labels.\n",
            "  warnings.warn(\n"
          ]
        },
        {
          "output_type": "stream",
          "name": "stdout",
          "text": [
            "\n",
            "NOW EVALUATE THE TEST DF.\n"
          ]
        },
        {
          "output_type": "stream",
          "name": "stderr",
          "text": [
            "C:\\Users\\Domenico\\.conda\\envs\\tf\\lib\\site-packages\\simpletransformers\\classification\\classification_model.py:1454: UserWarning: Dataframe headers not specified. Falling back to using column 0 as text and column 1 as labels.\n",
            "  warnings.warn(\n"
          ]
        },
        {
          "output_type": "stream",
          "name": "stdout",
          "text": [
            "{'mcc': 0.6576730027824512, 'tp': 2168, 'tn': 1972, 'fp': 521, 'fn': 339, 'auroc': 0.904813173735282, 'auprc': 0.8959949880142655, 'eval_loss': 0.4479407170176506}\n",
            "Correct predictions are:  4140\n",
            "Total predictions are:  5000\n",
            "Accuracy on test set is: 0.828 \n",
            "\n",
            "\n",
            "\n",
            "EPOCH NUMBER:  2\n",
            "\n",
            "NOW TRAIN THE MODEL.\n"
          ]
        },
        {
          "output_type": "stream",
          "name": "stderr",
          "text": [
            "C:\\Users\\Domenico\\.conda\\envs\\tf\\lib\\site-packages\\simpletransformers\\classification\\classification_model.py:612: UserWarning: Dataframe headers not specified. Falling back to using column 0 as text and column 1 as labels.\n",
            "  warnings.warn(\n"
          ]
        },
        {
          "output_type": "stream",
          "name": "stdout",
          "text": [
            "\n",
            "NOW EVALUATE THE TEST DF.\n"
          ]
        },
        {
          "output_type": "stream",
          "name": "stderr",
          "text": [
            "C:\\Users\\Domenico\\.conda\\envs\\tf\\lib\\site-packages\\simpletransformers\\classification\\classification_model.py:1454: UserWarning: Dataframe headers not specified. Falling back to using column 0 as text and column 1 as labels.\n",
            "  warnings.warn(\n"
          ]
        },
        {
          "output_type": "stream",
          "name": "stdout",
          "text": [
            "{'mcc': 0.6157655717111594, 'tp': 2131, 'tn': 1903, 'fp': 590, 'fn': 376, 'auroc': 0.891786511606251, 'auprc': 0.8843450109604926, 'eval_loss': 0.508691627830267}\n",
            "Correct predictions are:  4034\n",
            "Total predictions are:  5000\n",
            "Accuracy on test set is: 0.8068 \n",
            "\n",
            "\n",
            "\n",
            "EPOCH NUMBER:  3\n",
            "\n",
            "NOW TRAIN THE MODEL.\n"
          ]
        },
        {
          "output_type": "stream",
          "name": "stderr",
          "text": [
            "C:\\Users\\Domenico\\.conda\\envs\\tf\\lib\\site-packages\\simpletransformers\\classification\\classification_model.py:612: UserWarning: Dataframe headers not specified. Falling back to using column 0 as text and column 1 as labels.\n",
            "  warnings.warn(\n"
          ]
        },
        {
          "output_type": "stream",
          "name": "stdout",
          "text": [
            "\n",
            "NOW EVALUATE THE TEST DF.\n"
          ]
        },
        {
          "output_type": "stream",
          "name": "stderr",
          "text": [
            "C:\\Users\\Domenico\\.conda\\envs\\tf\\lib\\site-packages\\simpletransformers\\classification\\classification_model.py:1454: UserWarning: Dataframe headers not specified. Falling back to using column 0 as text and column 1 as labels.\n",
            "  warnings.warn(\n"
          ]
        },
        {
          "output_type": "stream",
          "name": "stdout",
          "text": [
            "{'mcc': 0.640183857950512, 'tp': 2112, 'tn': 1987, 'fp': 506, 'fn': 395, 'auroc': 0.8989748879631217, 'auprc': 0.8955518218494509, 'eval_loss': 0.4680416236758232}\n",
            "Correct predictions are:  4099\n",
            "Total predictions are:  5000\n",
            "Accuracy on test set is: 0.8198 \n",
            "\n",
            "\n",
            "\n",
            "EPOCH NUMBER:  4\n",
            "\n",
            "NOW TRAIN THE MODEL.\n"
          ]
        },
        {
          "output_type": "stream",
          "name": "stderr",
          "text": [
            "C:\\Users\\Domenico\\.conda\\envs\\tf\\lib\\site-packages\\simpletransformers\\classification\\classification_model.py:612: UserWarning: Dataframe headers not specified. Falling back to using column 0 as text and column 1 as labels.\n",
            "  warnings.warn(\n"
          ]
        },
        {
          "output_type": "stream",
          "name": "stdout",
          "text": [
            "\n",
            "NOW EVALUATE THE TEST DF.\n"
          ]
        },
        {
          "output_type": "stream",
          "name": "stderr",
          "text": [
            "C:\\Users\\Domenico\\.conda\\envs\\tf\\lib\\site-packages\\simpletransformers\\classification\\classification_model.py:1454: UserWarning: Dataframe headers not specified. Falling back to using column 0 as text and column 1 as labels.\n",
            "  warnings.warn(\n"
          ]
        },
        {
          "output_type": "stream",
          "name": "stdout",
          "text": [
            "{'mcc': 0.6542156771705459, 'tp': 2044, 'tn': 2091, 'fp': 402, 'fn': 463, 'auroc': 0.9048946143737766, 'auprc': 0.9002004527037095, 'eval_loss': 0.5147956947863102}\n",
            "Correct predictions are:  4135\n",
            "Total predictions are:  5000\n",
            "Accuracy on test set is: 0.827 \n",
            "\n",
            "\n",
            "\n",
            "EPOCH NUMBER:  5\n",
            "\n",
            "NOW TRAIN THE MODEL.\n"
          ]
        },
        {
          "output_type": "stream",
          "name": "stderr",
          "text": [
            "C:\\Users\\Domenico\\.conda\\envs\\tf\\lib\\site-packages\\simpletransformers\\classification\\classification_model.py:612: UserWarning: Dataframe headers not specified. Falling back to using column 0 as text and column 1 as labels.\n",
            "  warnings.warn(\n"
          ]
        },
        {
          "output_type": "stream",
          "name": "stdout",
          "text": [
            "\n",
            "NOW EVALUATE THE TEST DF.\n"
          ]
        },
        {
          "output_type": "stream",
          "name": "stderr",
          "text": [
            "C:\\Users\\Domenico\\.conda\\envs\\tf\\lib\\site-packages\\simpletransformers\\classification\\classification_model.py:1454: UserWarning: Dataframe headers not specified. Falling back to using column 0 as text and column 1 as labels.\n",
            "  warnings.warn(\n"
          ]
        },
        {
          "output_type": "stream",
          "name": "stdout",
          "text": [
            "{'mcc': 0.6365736802063908, 'tp': 2084, 'tn': 2007, 'fp': 486, 'fn': 423, 'auroc': 0.8574580824713666, 'auprc': 0.7757680698718952, 'eval_loss': 0.5000350476503372}\n",
            "Correct predictions are:  4091\n",
            "Total predictions are:  5000\n",
            "Accuracy on test set is: 0.8182 \n",
            "\n",
            "\n",
            "\n",
            "EPOCH NUMBER:  6\n",
            "\n",
            "NOW TRAIN THE MODEL.\n"
          ]
        },
        {
          "output_type": "stream",
          "name": "stderr",
          "text": [
            "C:\\Users\\Domenico\\.conda\\envs\\tf\\lib\\site-packages\\simpletransformers\\classification\\classification_model.py:612: UserWarning: Dataframe headers not specified. Falling back to using column 0 as text and column 1 as labels.\n",
            "  warnings.warn(\n"
          ]
        },
        {
          "output_type": "stream",
          "name": "stdout",
          "text": [
            "\n",
            "NOW EVALUATE THE TEST DF.\n"
          ]
        },
        {
          "output_type": "stream",
          "name": "stderr",
          "text": [
            "C:\\Users\\Domenico\\.conda\\envs\\tf\\lib\\site-packages\\simpletransformers\\classification\\classification_model.py:1454: UserWarning: Dataframe headers not specified. Falling back to using column 0 as text and column 1 as labels.\n",
            "  warnings.warn(\n"
          ]
        },
        {
          "output_type": "stream",
          "name": "stdout",
          "text": [
            "{'mcc': 0.6455984171001983, 'tp': 2069, 'tn': 2045, 'fp': 448, 'fn': 438, 'auroc': 0.9040282875817747, 'auprc': 0.8966884850652637, 'eval_loss': 0.498767427790165}\n",
            "Correct predictions are:  4114\n",
            "Total predictions are:  5000\n",
            "Accuracy on test set is: 0.8228 \n",
            "\n",
            "\n",
            "\n",
            "EPOCH NUMBER:  7\n",
            "\n",
            "NOW TRAIN THE MODEL.\n"
          ]
        },
        {
          "output_type": "stream",
          "name": "stderr",
          "text": [
            "C:\\Users\\Domenico\\.conda\\envs\\tf\\lib\\site-packages\\simpletransformers\\classification\\classification_model.py:612: UserWarning: Dataframe headers not specified. Falling back to using column 0 as text and column 1 as labels.\n",
            "  warnings.warn(\n"
          ]
        },
        {
          "output_type": "stream",
          "name": "stdout",
          "text": [
            "\n",
            "NOW EVALUATE THE TEST DF.\n"
          ]
        },
        {
          "output_type": "stream",
          "name": "stderr",
          "text": [
            "C:\\Users\\Domenico\\.conda\\envs\\tf\\lib\\site-packages\\simpletransformers\\classification\\classification_model.py:1454: UserWarning: Dataframe headers not specified. Falling back to using column 0 as text and column 1 as labels.\n",
            "  warnings.warn(\n"
          ]
        },
        {
          "output_type": "stream",
          "name": "stdout",
          "text": [
            "{'mcc': 0.6593723393987881, 'tp': 2162, 'tn': 1983, 'fp': 510, 'fn': 345, 'auroc': 0.9111819436664383, 'auprc': 0.9098591027256466, 'eval_loss': 0.4884637660264969}\n",
            "Correct predictions are:  4145\n",
            "Total predictions are:  5000\n",
            "Accuracy on test set is: 0.829 \n",
            "\n",
            "\n",
            "\n",
            "EPOCH NUMBER:  8\n",
            "\n",
            "NOW TRAIN THE MODEL.\n"
          ]
        },
        {
          "output_type": "stream",
          "name": "stderr",
          "text": [
            "C:\\Users\\Domenico\\.conda\\envs\\tf\\lib\\site-packages\\simpletransformers\\classification\\classification_model.py:612: UserWarning: Dataframe headers not specified. Falling back to using column 0 as text and column 1 as labels.\n",
            "  warnings.warn(\n"
          ]
        },
        {
          "output_type": "stream",
          "name": "stdout",
          "text": [
            "\n",
            "NOW EVALUATE THE TEST DF.\n"
          ]
        },
        {
          "output_type": "stream",
          "name": "stderr",
          "text": [
            "C:\\Users\\Domenico\\.conda\\envs\\tf\\lib\\site-packages\\simpletransformers\\classification\\classification_model.py:1454: UserWarning: Dataframe headers not specified. Falling back to using column 0 as text and column 1 as labels.\n",
            "  warnings.warn(\n"
          ]
        },
        {
          "output_type": "stream",
          "name": "stdout",
          "text": [
            "{'mcc': 0.6580111944764783, 'tp': 2073, 'tn': 2072, 'fp': 421, 'fn': 434, 'auroc': 0.9086691239659317, 'auprc': 0.9026143542608959, 'eval_loss': 0.5377797941684723}\n",
            "Correct predictions are:  4145\n",
            "Total predictions are:  5000\n",
            "Accuracy on test set is: 0.829 \n",
            "\n",
            "\n",
            "\n",
            "EPOCH NUMBER:  9\n",
            "\n",
            "NOW TRAIN THE MODEL.\n"
          ]
        },
        {
          "output_type": "stream",
          "name": "stderr",
          "text": [
            "C:\\Users\\Domenico\\.conda\\envs\\tf\\lib\\site-packages\\simpletransformers\\classification\\classification_model.py:612: UserWarning: Dataframe headers not specified. Falling back to using column 0 as text and column 1 as labels.\n",
            "  warnings.warn(\n"
          ]
        },
        {
          "output_type": "stream",
          "name": "stdout",
          "text": [
            "\n",
            "NOW EVALUATE THE TEST DF.\n"
          ]
        },
        {
          "output_type": "stream",
          "name": "stderr",
          "text": [
            "C:\\Users\\Domenico\\.conda\\envs\\tf\\lib\\site-packages\\simpletransformers\\classification\\classification_model.py:1454: UserWarning: Dataframe headers not specified. Falling back to using column 0 as text and column 1 as labels.\n",
            "  warnings.warn(\n"
          ]
        },
        {
          "output_type": "stream",
          "name": "stdout",
          "text": [
            "{'mcc': 0.6445298313375458, 'tp': 2039, 'tn': 2072, 'fp': 421, 'fn': 468, 'auroc': 0.902519155750181, 'auprc': 0.8979177448568143, 'eval_loss': 0.5938370259106159}\n",
            "Correct predictions are:  4111\n",
            "Total predictions are:  5000\n",
            "Accuracy on test set is: 0.8222 \n",
            "\n",
            "\n",
            "[0.825, 0.828, 0.8068, 0.8198, 0.827, 0.8182, 0.8228, 0.829, 0.829, 0.8222]\n",
            "\n",
            "RUN NUMBER:  3\n"
          ]
        },
        {
          "output_type": "stream",
          "name": "stderr",
          "text": [
            "Some weights of the model checkpoint at roberta-base were not used when initializing RobertaForSequenceClassification: ['roberta.pooler.dense.bias', 'lm_head.bias', 'lm_head.dense.bias', 'lm_head.decoder.weight', 'lm_head.dense.weight', 'roberta.pooler.dense.weight', 'lm_head.layer_norm.weight', 'lm_head.layer_norm.bias']\n",
            "- This IS expected if you are initializing RobertaForSequenceClassification from the checkpoint of a model trained on another task or with another architecture (e.g. initializing a BertForSequenceClassification model from a BertForPreTraining model).\n",
            "- This IS NOT expected if you are initializing RobertaForSequenceClassification from the checkpoint of a model that you expect to be exactly identical (initializing a BertForSequenceClassification model from a BertForSequenceClassification model).\n",
            "Some weights of RobertaForSequenceClassification were not initialized from the model checkpoint at roberta-base and are newly initialized: ['classifier.dense.weight', 'classifier.out_proj.weight', 'classifier.out_proj.bias', 'classifier.dense.bias']\n",
            "You should probably TRAIN this model on a down-stream task to be able to use it for predictions and inference.\n"
          ]
        },
        {
          "output_type": "stream",
          "name": "stdout",
          "text": [
            "\n",
            "EPOCH NUMBER:  0\n",
            "\n",
            "NOW TRAIN THE MODEL.\n"
          ]
        },
        {
          "output_type": "stream",
          "name": "stderr",
          "text": [
            "C:\\Users\\Domenico\\.conda\\envs\\tf\\lib\\site-packages\\simpletransformers\\classification\\classification_model.py:612: UserWarning: Dataframe headers not specified. Falling back to using column 0 as text and column 1 as labels.\n",
            "  warnings.warn(\n"
          ]
        },
        {
          "output_type": "stream",
          "name": "stdout",
          "text": [
            "\n",
            "NOW EVALUATE THE TEST DF.\n"
          ]
        },
        {
          "output_type": "stream",
          "name": "stderr",
          "text": [
            "C:\\Users\\Domenico\\.conda\\envs\\tf\\lib\\site-packages\\simpletransformers\\classification\\classification_model.py:1454: UserWarning: Dataframe headers not specified. Falling back to using column 0 as text and column 1 as labels.\n",
            "  warnings.warn(\n"
          ]
        },
        {
          "output_type": "stream",
          "name": "stdout",
          "text": [
            "{'mcc': 0.6385922253727493, 'tp': 2195, 'tn': 1891, 'fp': 602, 'fn': 312, 'auroc': 0.9068199094680903, 'auprc': 0.9056844362535006, 'eval_loss': 0.41518423107862473}\n",
            "Correct predictions are:  4086\n",
            "Total predictions are:  5000\n",
            "Accuracy on test set is: 0.8172 \n",
            "\n",
            "\n",
            "\n",
            "EPOCH NUMBER:  1\n",
            "\n",
            "NOW TRAIN THE MODEL.\n"
          ]
        },
        {
          "output_type": "stream",
          "name": "stderr",
          "text": [
            "C:\\Users\\Domenico\\.conda\\envs\\tf\\lib\\site-packages\\simpletransformers\\classification\\classification_model.py:612: UserWarning: Dataframe headers not specified. Falling back to using column 0 as text and column 1 as labels.\n",
            "  warnings.warn(\n"
          ]
        },
        {
          "output_type": "stream",
          "name": "stdout",
          "text": [
            "\n",
            "NOW EVALUATE THE TEST DF.\n"
          ]
        },
        {
          "output_type": "stream",
          "name": "stderr",
          "text": [
            "C:\\Users\\Domenico\\.conda\\envs\\tf\\lib\\site-packages\\simpletransformers\\classification\\classification_model.py:1454: UserWarning: Dataframe headers not specified. Falling back to using column 0 as text and column 1 as labels.\n",
            "  warnings.warn(\n"
          ]
        },
        {
          "output_type": "stream",
          "name": "stdout",
          "text": [
            "{'mcc': 0.6689801911264991, 'tp': 2124, 'tn': 2048, 'fp': 445, 'fn': 383, 'auroc': 0.9134462014182191, 'auprc': 0.9105631375356436, 'eval_loss': 0.4336043484866619}\n",
            "Correct predictions are:  4172\n",
            "Total predictions are:  5000\n",
            "Accuracy on test set is: 0.8344 \n",
            "\n",
            "\n",
            "\n",
            "EPOCH NUMBER:  2\n",
            "\n",
            "NOW TRAIN THE MODEL.\n"
          ]
        },
        {
          "output_type": "stream",
          "name": "stderr",
          "text": [
            "C:\\Users\\Domenico\\.conda\\envs\\tf\\lib\\site-packages\\simpletransformers\\classification\\classification_model.py:612: UserWarning: Dataframe headers not specified. Falling back to using column 0 as text and column 1 as labels.\n",
            "  warnings.warn(\n"
          ]
        },
        {
          "output_type": "stream",
          "name": "stdout",
          "text": [
            "\n",
            "NOW EVALUATE THE TEST DF.\n"
          ]
        },
        {
          "output_type": "stream",
          "name": "stderr",
          "text": [
            "C:\\Users\\Domenico\\.conda\\envs\\tf\\lib\\site-packages\\simpletransformers\\classification\\classification_model.py:1454: UserWarning: Dataframe headers not specified. Falling back to using column 0 as text and column 1 as labels.\n",
            "  warnings.warn(\n"
          ]
        },
        {
          "output_type": "stream",
          "name": "stdout",
          "text": [
            "{'mcc': 0.6648370173154943, 'tp': 2076, 'tn': 2086, 'fp': 407, 'fn': 431, 'auroc': 0.916231343253731, 'auprc': 0.9139494096279456, 'eval_loss': 0.4172482461571693}\n",
            "Correct predictions are:  4162\n",
            "Total predictions are:  5000\n",
            "Accuracy on test set is: 0.8324 \n",
            "\n",
            "\n",
            "\n",
            "EPOCH NUMBER:  3\n",
            "\n",
            "NOW TRAIN THE MODEL.\n"
          ]
        },
        {
          "output_type": "stream",
          "name": "stderr",
          "text": [
            "C:\\Users\\Domenico\\.conda\\envs\\tf\\lib\\site-packages\\simpletransformers\\classification\\classification_model.py:612: UserWarning: Dataframe headers not specified. Falling back to using column 0 as text and column 1 as labels.\n",
            "  warnings.warn(\n"
          ]
        },
        {
          "output_type": "stream",
          "name": "stdout",
          "text": [
            "\n",
            "NOW EVALUATE THE TEST DF.\n"
          ]
        },
        {
          "output_type": "stream",
          "name": "stderr",
          "text": [
            "C:\\Users\\Domenico\\.conda\\envs\\tf\\lib\\site-packages\\simpletransformers\\classification\\classification_model.py:1454: UserWarning: Dataframe headers not specified. Falling back to using column 0 as text and column 1 as labels.\n",
            "  warnings.warn(\n"
          ]
        },
        {
          "output_type": "stream",
          "name": "stdout",
          "text": [
            "{'mcc': 0.65430512995343, 'tp': 2134, 'tn': 2000, 'fp': 493, 'fn': 373, 'auroc': 0.9029120388303846, 'auprc': 0.8981018377693547, 'eval_loss': 0.5048988553404808}\n",
            "Correct predictions are:  4134\n",
            "Total predictions are:  5000\n",
            "Accuracy on test set is: 0.8268 \n",
            "\n",
            "\n",
            "\n",
            "EPOCH NUMBER:  4\n",
            "\n",
            "NOW TRAIN THE MODEL.\n"
          ]
        },
        {
          "output_type": "stream",
          "name": "stderr",
          "text": [
            "C:\\Users\\Domenico\\.conda\\envs\\tf\\lib\\site-packages\\simpletransformers\\classification\\classification_model.py:612: UserWarning: Dataframe headers not specified. Falling back to using column 0 as text and column 1 as labels.\n",
            "  warnings.warn(\n"
          ]
        },
        {
          "output_type": "stream",
          "name": "stdout",
          "text": [
            "\n",
            "NOW EVALUATE THE TEST DF.\n"
          ]
        },
        {
          "output_type": "stream",
          "name": "stderr",
          "text": [
            "C:\\Users\\Domenico\\.conda\\envs\\tf\\lib\\site-packages\\simpletransformers\\classification\\classification_model.py:1454: UserWarning: Dataframe headers not specified. Falling back to using column 0 as text and column 1 as labels.\n",
            "  warnings.warn(\n"
          ]
        },
        {
          "output_type": "stream",
          "name": "stdout",
          "text": [
            "{'mcc': 0.6491439031839303, 'tp': 2029, 'tn': 2093, 'fp': 400, 'fn': 478, 'auroc': 0.8981932018347023, 'auprc': 0.8720405385647092, 'eval_loss': 0.5000810361683369}\n",
            "Correct predictions are:  4122\n",
            "Total predictions are:  5000\n",
            "Accuracy on test set is: 0.8244 \n",
            "\n",
            "\n",
            "\n",
            "EPOCH NUMBER:  5\n",
            "\n",
            "NOW TRAIN THE MODEL.\n"
          ]
        },
        {
          "output_type": "stream",
          "name": "stderr",
          "text": [
            "C:\\Users\\Domenico\\.conda\\envs\\tf\\lib\\site-packages\\simpletransformers\\classification\\classification_model.py:612: UserWarning: Dataframe headers not specified. Falling back to using column 0 as text and column 1 as labels.\n",
            "  warnings.warn(\n"
          ]
        },
        {
          "output_type": "stream",
          "name": "stdout",
          "text": [
            "\n",
            "NOW EVALUATE THE TEST DF.\n"
          ]
        },
        {
          "output_type": "stream",
          "name": "stderr",
          "text": [
            "C:\\Users\\Domenico\\.conda\\envs\\tf\\lib\\site-packages\\simpletransformers\\classification\\classification_model.py:1454: UserWarning: Dataframe headers not specified. Falling back to using column 0 as text and column 1 as labels.\n",
            "  warnings.warn(\n"
          ]
        },
        {
          "output_type": "stream",
          "name": "stdout",
          "text": [
            "{'mcc': 0.6559809114905671, 'tp': 1990, 'tn': 2146, 'fp': 347, 'fn': 517, 'auroc': 0.9104654580491912, 'auprc': 0.9072989820375341, 'eval_loss': 0.4688999691694975}\n",
            "Correct predictions are:  4136\n",
            "Total predictions are:  5000\n",
            "Accuracy on test set is: 0.8272 \n",
            "\n",
            "\n",
            "\n",
            "EPOCH NUMBER:  6\n",
            "\n",
            "NOW TRAIN THE MODEL.\n"
          ]
        },
        {
          "output_type": "stream",
          "name": "stderr",
          "text": [
            "C:\\Users\\Domenico\\.conda\\envs\\tf\\lib\\site-packages\\simpletransformers\\classification\\classification_model.py:612: UserWarning: Dataframe headers not specified. Falling back to using column 0 as text and column 1 as labels.\n",
            "  warnings.warn(\n"
          ]
        },
        {
          "output_type": "stream",
          "name": "stdout",
          "text": [
            "\n",
            "NOW EVALUATE THE TEST DF.\n"
          ]
        },
        {
          "output_type": "stream",
          "name": "stderr",
          "text": [
            "C:\\Users\\Domenico\\.conda\\envs\\tf\\lib\\site-packages\\simpletransformers\\classification\\classification_model.py:1454: UserWarning: Dataframe headers not specified. Falling back to using column 0 as text and column 1 as labels.\n",
            "  warnings.warn(\n"
          ]
        },
        {
          "output_type": "stream",
          "name": "stdout",
          "text": [
            "{'mcc': 0.6447169147425593, 'tp': 2123, 'tn': 1987, 'fp': 506, 'fn': 384, 'auroc': 0.9069209502602501, 'auprc': 0.9070919198895632, 'eval_loss': 0.5764836792856455}\n",
            "Correct predictions are:  4110\n",
            "Total predictions are:  5000\n",
            "Accuracy on test set is: 0.822 \n",
            "\n",
            "\n",
            "\n",
            "EPOCH NUMBER:  7\n",
            "\n",
            "NOW TRAIN THE MODEL.\n"
          ]
        },
        {
          "output_type": "stream",
          "name": "stderr",
          "text": [
            "C:\\Users\\Domenico\\.conda\\envs\\tf\\lib\\site-packages\\simpletransformers\\classification\\classification_model.py:612: UserWarning: Dataframe headers not specified. Falling back to using column 0 as text and column 1 as labels.\n",
            "  warnings.warn(\n"
          ]
        },
        {
          "output_type": "stream",
          "name": "stdout",
          "text": [
            "\n",
            "NOW EVALUATE THE TEST DF.\n"
          ]
        },
        {
          "output_type": "stream",
          "name": "stderr",
          "text": [
            "C:\\Users\\Domenico\\.conda\\envs\\tf\\lib\\site-packages\\simpletransformers\\classification\\classification_model.py:1454: UserWarning: Dataframe headers not specified. Falling back to using column 0 as text and column 1 as labels.\n",
            "  warnings.warn(\n"
          ]
        },
        {
          "output_type": "stream",
          "name": "stdout",
          "text": [
            "{'mcc': 0.6288408806311981, 'tp': 2255, 'tn': 1792, 'fp': 701, 'fn': 252, 'auroc': 0.8974009556234921, 'auprc': 0.8796567652528252, 'eval_loss': 0.6011904692351818}\n",
            "Correct predictions are:  4047\n",
            "Total predictions are:  5000\n",
            "Accuracy on test set is: 0.8094 \n",
            "\n",
            "\n",
            "\n",
            "EPOCH NUMBER:  8\n",
            "\n",
            "NOW TRAIN THE MODEL.\n"
          ]
        },
        {
          "output_type": "stream",
          "name": "stderr",
          "text": [
            "C:\\Users\\Domenico\\.conda\\envs\\tf\\lib\\site-packages\\simpletransformers\\classification\\classification_model.py:612: UserWarning: Dataframe headers not specified. Falling back to using column 0 as text and column 1 as labels.\n",
            "  warnings.warn(\n"
          ]
        },
        {
          "output_type": "stream",
          "name": "stdout",
          "text": [
            "\n",
            "NOW EVALUATE THE TEST DF.\n"
          ]
        },
        {
          "output_type": "stream",
          "name": "stderr",
          "text": [
            "C:\\Users\\Domenico\\.conda\\envs\\tf\\lib\\site-packages\\simpletransformers\\classification\\classification_model.py:1454: UserWarning: Dataframe headers not specified. Falling back to using column 0 as text and column 1 as labels.\n",
            "  warnings.warn(\n"
          ]
        },
        {
          "output_type": "stream",
          "name": "stdout",
          "text": [
            "{'mcc': 0.6316253549224045, 'tp': 1936, 'tn': 2137, 'fp': 356, 'fn': 571, 'auroc': 0.8939479685520735, 'auprc': 0.8965721428633397, 'eval_loss': 0.5730273792266846}\n",
            "Correct predictions are:  4073\n",
            "Total predictions are:  5000\n",
            "Accuracy on test set is: 0.8146 \n",
            "\n",
            "\n",
            "\n",
            "EPOCH NUMBER:  9\n",
            "\n",
            "NOW TRAIN THE MODEL.\n"
          ]
        },
        {
          "output_type": "stream",
          "name": "stderr",
          "text": [
            "C:\\Users\\Domenico\\.conda\\envs\\tf\\lib\\site-packages\\simpletransformers\\classification\\classification_model.py:612: UserWarning: Dataframe headers not specified. Falling back to using column 0 as text and column 1 as labels.\n",
            "  warnings.warn(\n"
          ]
        },
        {
          "output_type": "stream",
          "name": "stdout",
          "text": [
            "\n",
            "NOW EVALUATE THE TEST DF.\n"
          ]
        },
        {
          "output_type": "stream",
          "name": "stderr",
          "text": [
            "C:\\Users\\Domenico\\.conda\\envs\\tf\\lib\\site-packages\\simpletransformers\\classification\\classification_model.py:1454: UserWarning: Dataframe headers not specified. Falling back to using column 0 as text and column 1 as labels.\n",
            "  warnings.warn(\n"
          ]
        },
        {
          "output_type": "stream",
          "name": "stdout",
          "text": [
            "{'mcc': 0.6445191693632344, 'tp': 1942, 'tn': 2162, 'fp': 331, 'fn': 565, 'auroc': 0.9060596635077619, 'auprc': 0.9049869773236683, 'eval_loss': 0.5461396047234536}\n",
            "Correct predictions are:  4104\n",
            "Total predictions are:  5000\n",
            "Accuracy on test set is: 0.8208 \n",
            "\n",
            "\n",
            "[0.8172, 0.8344, 0.8324, 0.8268, 0.8244, 0.8272, 0.822, 0.8094, 0.8146, 0.8208]\n",
            "\n",
            "RUN NUMBER:  4\n"
          ]
        },
        {
          "output_type": "stream",
          "name": "stderr",
          "text": [
            "Some weights of the model checkpoint at roberta-base were not used when initializing RobertaForSequenceClassification: ['roberta.pooler.dense.bias', 'lm_head.bias', 'lm_head.dense.bias', 'lm_head.decoder.weight', 'lm_head.dense.weight', 'roberta.pooler.dense.weight', 'lm_head.layer_norm.weight', 'lm_head.layer_norm.bias']\n",
            "- This IS expected if you are initializing RobertaForSequenceClassification from the checkpoint of a model trained on another task or with another architecture (e.g. initializing a BertForSequenceClassification model from a BertForPreTraining model).\n",
            "- This IS NOT expected if you are initializing RobertaForSequenceClassification from the checkpoint of a model that you expect to be exactly identical (initializing a BertForSequenceClassification model from a BertForSequenceClassification model).\n",
            "Some weights of RobertaForSequenceClassification were not initialized from the model checkpoint at roberta-base and are newly initialized: ['classifier.dense.weight', 'classifier.out_proj.weight', 'classifier.out_proj.bias', 'classifier.dense.bias']\n",
            "You should probably TRAIN this model on a down-stream task to be able to use it for predictions and inference.\n"
          ]
        },
        {
          "output_type": "stream",
          "name": "stdout",
          "text": [
            "\n",
            "EPOCH NUMBER:  0\n",
            "\n",
            "NOW TRAIN THE MODEL.\n"
          ]
        },
        {
          "output_type": "stream",
          "name": "stderr",
          "text": [
            "C:\\Users\\Domenico\\.conda\\envs\\tf\\lib\\site-packages\\simpletransformers\\classification\\classification_model.py:612: UserWarning: Dataframe headers not specified. Falling back to using column 0 as text and column 1 as labels.\n",
            "  warnings.warn(\n"
          ]
        },
        {
          "output_type": "stream",
          "name": "stdout",
          "text": [
            "\n",
            "NOW EVALUATE THE TEST DF.\n"
          ]
        },
        {
          "output_type": "stream",
          "name": "stderr",
          "text": [
            "C:\\Users\\Domenico\\.conda\\envs\\tf\\lib\\site-packages\\simpletransformers\\classification\\classification_model.py:1454: UserWarning: Dataframe headers not specified. Falling back to using column 0 as text and column 1 as labels.\n",
            "  warnings.warn(\n"
          ]
        },
        {
          "output_type": "stream",
          "name": "stdout",
          "text": [
            "{'mcc': 0.0, 'tp': 0, 'tn': 2493, 'fp': 0, 'fn': 2507, 'auroc': 0.598732534063067, 'auprc': 0.5641156222814498, 'eval_loss': 0.6932618310928345}\n",
            "Correct predictions are:  2493\n",
            "Total predictions are:  5000\n",
            "Accuracy on test set is: 0.4986 \n",
            "\n",
            "\n",
            "\n",
            "EPOCH NUMBER:  1\n",
            "\n",
            "NOW TRAIN THE MODEL.\n"
          ]
        },
        {
          "output_type": "stream",
          "name": "stderr",
          "text": [
            "C:\\Users\\Domenico\\.conda\\envs\\tf\\lib\\site-packages\\simpletransformers\\classification\\classification_model.py:612: UserWarning: Dataframe headers not specified. Falling back to using column 0 as text and column 1 as labels.\n",
            "  warnings.warn(\n"
          ]
        },
        {
          "output_type": "stream",
          "name": "stdout",
          "text": [
            "\n",
            "NOW EVALUATE THE TEST DF.\n"
          ]
        },
        {
          "output_type": "stream",
          "name": "stderr",
          "text": [
            "C:\\Users\\Domenico\\.conda\\envs\\tf\\lib\\site-packages\\simpletransformers\\classification\\classification_model.py:1454: UserWarning: Dataframe headers not specified. Falling back to using column 0 as text and column 1 as labels.\n",
            "  warnings.warn(\n"
          ]
        },
        {
          "output_type": "stream",
          "name": "stdout",
          "text": [
            "{'mcc': 0.0, 'tp': 2507, 'tn': 0, 'fp': 2493, 'fn': 0, 'auroc': 0.7093102009919757, 'auprc': 0.7151448337435009, 'eval_loss': 0.6931814058303833}\n",
            "Correct predictions are:  2507\n",
            "Total predictions are:  5000\n",
            "Accuracy on test set is: 0.5014 \n",
            "\n",
            "\n",
            "\n",
            "EPOCH NUMBER:  2\n",
            "\n",
            "NOW TRAIN THE MODEL.\n"
          ]
        },
        {
          "output_type": "stream",
          "name": "stderr",
          "text": [
            "C:\\Users\\Domenico\\.conda\\envs\\tf\\lib\\site-packages\\simpletransformers\\classification\\classification_model.py:612: UserWarning: Dataframe headers not specified. Falling back to using column 0 as text and column 1 as labels.\n",
            "  warnings.warn(\n"
          ]
        },
        {
          "output_type": "stream",
          "name": "stdout",
          "text": [
            "\n",
            "NOW EVALUATE THE TEST DF.\n"
          ]
        },
        {
          "output_type": "stream",
          "name": "stderr",
          "text": [
            "C:\\Users\\Domenico\\.conda\\envs\\tf\\lib\\site-packages\\simpletransformers\\classification\\classification_model.py:1454: UserWarning: Dataframe headers not specified. Falling back to using column 0 as text and column 1 as labels.\n",
            "  warnings.warn(\n"
          ]
        },
        {
          "output_type": "stream",
          "name": "stdout",
          "text": [
            "{'mcc': 0.0, 'tp': 2507, 'tn': 0, 'fp': 2493, 'fn': 0, 'auroc': 0.6985291564685867, 'auprc': 0.6865167601254649, 'eval_loss': 0.6935119316101074}\n",
            "Correct predictions are:  2507\n",
            "Total predictions are:  5000\n",
            "Accuracy on test set is: 0.5014 \n",
            "\n",
            "\n",
            "\n",
            "EPOCH NUMBER:  3\n",
            "\n",
            "NOW TRAIN THE MODEL.\n"
          ]
        },
        {
          "output_type": "stream",
          "name": "stderr",
          "text": [
            "C:\\Users\\Domenico\\.conda\\envs\\tf\\lib\\site-packages\\simpletransformers\\classification\\classification_model.py:612: UserWarning: Dataframe headers not specified. Falling back to using column 0 as text and column 1 as labels.\n",
            "  warnings.warn(\n"
          ]
        },
        {
          "output_type": "stream",
          "name": "stdout",
          "text": [
            "\n",
            "NOW EVALUATE THE TEST DF.\n"
          ]
        },
        {
          "output_type": "stream",
          "name": "stderr",
          "text": [
            "C:\\Users\\Domenico\\.conda\\envs\\tf\\lib\\site-packages\\simpletransformers\\classification\\classification_model.py:1454: UserWarning: Dataframe headers not specified. Falling back to using column 0 as text and column 1 as labels.\n",
            "  warnings.warn(\n"
          ]
        },
        {
          "output_type": "stream",
          "name": "stdout",
          "text": [
            "{'mcc': 0.45607831868153054, 'tp': 1968, 'tn': 1665, 'fp': 828, 'fn': 539, 'auroc': 0.7843208690756136, 'auprc': 0.7674903946414201, 'eval_loss': 0.6166477967262268}\n",
            "Correct predictions are:  3633\n",
            "Total predictions are:  5000\n",
            "Accuracy on test set is: 0.7266 \n",
            "\n",
            "\n",
            "\n",
            "EPOCH NUMBER:  4\n",
            "\n",
            "NOW TRAIN THE MODEL.\n"
          ]
        },
        {
          "output_type": "stream",
          "name": "stderr",
          "text": [
            "C:\\Users\\Domenico\\.conda\\envs\\tf\\lib\\site-packages\\simpletransformers\\classification\\classification_model.py:612: UserWarning: Dataframe headers not specified. Falling back to using column 0 as text and column 1 as labels.\n",
            "  warnings.warn(\n"
          ]
        },
        {
          "output_type": "stream",
          "name": "stdout",
          "text": [
            "\n",
            "NOW EVALUATE THE TEST DF.\n"
          ]
        },
        {
          "output_type": "stream",
          "name": "stderr",
          "text": [
            "C:\\Users\\Domenico\\.conda\\envs\\tf\\lib\\site-packages\\simpletransformers\\classification\\classification_model.py:1454: UserWarning: Dataframe headers not specified. Falling back to using column 0 as text and column 1 as labels.\n",
            "  warnings.warn(\n"
          ]
        },
        {
          "output_type": "stream",
          "name": "stdout",
          "text": [
            "{'mcc': 0.0, 'tp': 2507, 'tn': 0, 'fp': 2493, 'fn': 0, 'auroc': 0.8284898553604662, 'auprc': 0.8174244069827998, 'eval_loss': 0.6933281583786011}\n",
            "Correct predictions are:  2507\n",
            "Total predictions are:  5000\n",
            "Accuracy on test set is: 0.5014 \n",
            "\n",
            "\n",
            "\n",
            "EPOCH NUMBER:  5\n",
            "\n",
            "NOW TRAIN THE MODEL.\n"
          ]
        },
        {
          "output_type": "stream",
          "name": "stderr",
          "text": [
            "C:\\Users\\Domenico\\.conda\\envs\\tf\\lib\\site-packages\\simpletransformers\\classification\\classification_model.py:612: UserWarning: Dataframe headers not specified. Falling back to using column 0 as text and column 1 as labels.\n",
            "  warnings.warn(\n"
          ]
        },
        {
          "output_type": "stream",
          "name": "stdout",
          "text": [
            "\n",
            "NOW EVALUATE THE TEST DF.\n"
          ]
        },
        {
          "output_type": "stream",
          "name": "stderr",
          "text": [
            "C:\\Users\\Domenico\\.conda\\envs\\tf\\lib\\site-packages\\simpletransformers\\classification\\classification_model.py:1454: UserWarning: Dataframe headers not specified. Falling back to using column 0 as text and column 1 as labels.\n",
            "  warnings.warn(\n"
          ]
        },
        {
          "output_type": "stream",
          "name": "stdout",
          "text": [
            "{'mcc': 0.5346135931668134, 'tp': 2099, 'tn': 1724, 'fp': 769, 'fn': 408, 'auroc': 0.8540846960240168, 'auprc': 0.8520058487782176, 'eval_loss': 0.5326273390054703}\n",
            "Correct predictions are:  3823\n",
            "Total predictions are:  5000\n",
            "Accuracy on test set is: 0.7646 \n",
            "\n",
            "\n",
            "\n",
            "EPOCH NUMBER:  6\n",
            "\n",
            "NOW TRAIN THE MODEL.\n"
          ]
        },
        {
          "output_type": "stream",
          "name": "stderr",
          "text": [
            "C:\\Users\\Domenico\\.conda\\envs\\tf\\lib\\site-packages\\simpletransformers\\classification\\classification_model.py:612: UserWarning: Dataframe headers not specified. Falling back to using column 0 as text and column 1 as labels.\n",
            "  warnings.warn(\n"
          ]
        },
        {
          "output_type": "stream",
          "name": "stdout",
          "text": [
            "\n",
            "NOW EVALUATE THE TEST DF.\n"
          ]
        },
        {
          "output_type": "stream",
          "name": "stderr",
          "text": [
            "C:\\Users\\Domenico\\.conda\\envs\\tf\\lib\\site-packages\\simpletransformers\\classification\\classification_model.py:1454: UserWarning: Dataframe headers not specified. Falling back to using column 0 as text and column 1 as labels.\n",
            "  warnings.warn(\n"
          ]
        },
        {
          "output_type": "stream",
          "name": "stdout",
          "text": [
            "{'mcc': 0.5732171803842407, 'tp': 1987, 'tn': 1946, 'fp': 547, 'fn': 520, 'auroc': 0.8697654589611983, 'auprc': 0.8674683192963593, 'eval_loss': 0.5231236866950989}\n",
            "Correct predictions are:  3933\n",
            "Total predictions are:  5000\n",
            "Accuracy on test set is: 0.7866 \n",
            "\n",
            "\n",
            "\n",
            "EPOCH NUMBER:  7\n",
            "\n",
            "NOW TRAIN THE MODEL.\n"
          ]
        },
        {
          "output_type": "stream",
          "name": "stderr",
          "text": [
            "C:\\Users\\Domenico\\.conda\\envs\\tf\\lib\\site-packages\\simpletransformers\\classification\\classification_model.py:612: UserWarning: Dataframe headers not specified. Falling back to using column 0 as text and column 1 as labels.\n",
            "  warnings.warn(\n"
          ]
        },
        {
          "output_type": "stream",
          "name": "stdout",
          "text": [
            "\n",
            "NOW EVALUATE THE TEST DF.\n"
          ]
        },
        {
          "output_type": "stream",
          "name": "stderr",
          "text": [
            "C:\\Users\\Domenico\\.conda\\envs\\tf\\lib\\site-packages\\simpletransformers\\classification\\classification_model.py:1454: UserWarning: Dataframe headers not specified. Falling back to using column 0 as text and column 1 as labels.\n",
            "  warnings.warn(\n"
          ]
        },
        {
          "output_type": "stream",
          "name": "stdout",
          "text": [
            "{'mcc': 0.515039277534465, 'tp': 1386, 'tn': 2307, 'fp': 186, 'fn': 1121, 'auroc': 0.8563067934452606, 'auprc': 0.8614632834668711, 'eval_loss': 0.5564842728376389}\n",
            "Correct predictions are:  3693\n",
            "Total predictions are:  5000\n",
            "Accuracy on test set is: 0.7386 \n",
            "\n",
            "\n",
            "\n",
            "EPOCH NUMBER:  8\n",
            "\n",
            "NOW TRAIN THE MODEL.\n"
          ]
        },
        {
          "output_type": "stream",
          "name": "stderr",
          "text": [
            "C:\\Users\\Domenico\\.conda\\envs\\tf\\lib\\site-packages\\simpletransformers\\classification\\classification_model.py:612: UserWarning: Dataframe headers not specified. Falling back to using column 0 as text and column 1 as labels.\n",
            "  warnings.warn(\n"
          ]
        },
        {
          "output_type": "stream",
          "name": "stdout",
          "text": [
            "\n",
            "NOW EVALUATE THE TEST DF.\n"
          ]
        },
        {
          "output_type": "stream",
          "name": "stderr",
          "text": [
            "C:\\Users\\Domenico\\.conda\\envs\\tf\\lib\\site-packages\\simpletransformers\\classification\\classification_model.py:1454: UserWarning: Dataframe headers not specified. Falling back to using column 0 as text and column 1 as labels.\n",
            "  warnings.warn(\n"
          ]
        },
        {
          "output_type": "stream",
          "name": "stdout",
          "text": [
            "{'mcc': 0.5824985708324629, 'tp': 1964, 'tn': 1992, 'fp': 501, 'fn': 543, 'auroc': 0.8722175581856562, 'auprc': 0.8675794192773678, 'eval_loss': 0.5113457057356834}\n",
            "Correct predictions are:  3956\n",
            "Total predictions are:  5000\n",
            "Accuracy on test set is: 0.7912 \n",
            "\n",
            "\n",
            "\n",
            "EPOCH NUMBER:  9\n",
            "\n",
            "NOW TRAIN THE MODEL.\n"
          ]
        },
        {
          "output_type": "stream",
          "name": "stderr",
          "text": [
            "C:\\Users\\Domenico\\.conda\\envs\\tf\\lib\\site-packages\\simpletransformers\\classification\\classification_model.py:612: UserWarning: Dataframe headers not specified. Falling back to using column 0 as text and column 1 as labels.\n",
            "  warnings.warn(\n"
          ]
        },
        {
          "output_type": "stream",
          "name": "stdout",
          "text": [
            "\n",
            "NOW EVALUATE THE TEST DF.\n"
          ]
        },
        {
          "output_type": "stream",
          "name": "stderr",
          "text": [
            "C:\\Users\\Domenico\\.conda\\envs\\tf\\lib\\site-packages\\simpletransformers\\classification\\classification_model.py:1454: UserWarning: Dataframe headers not specified. Falling back to using column 0 as text and column 1 as labels.\n",
            "  warnings.warn(\n"
          ]
        },
        {
          "output_type": "stream",
          "name": "stdout",
          "text": [
            "{'mcc': 0.592404063700453, 'tp': 1953, 'tn': 2027, 'fp': 466, 'fn': 554, 'auroc': 0.8775508799988991, 'auprc': 0.8785462534117109, 'eval_loss': 0.4772482273101807}\n",
            "Correct predictions are:  3980\n",
            "Total predictions are:  5000\n",
            "Accuracy on test set is: 0.796 \n",
            "\n",
            "\n",
            "[0.4986, 0.5014, 0.5014, 0.7266, 0.5014, 0.7646, 0.7866, 0.7386, 0.7912, 0.796]\n",
            "\n",
            "RUN NUMBER:  5\n"
          ]
        },
        {
          "output_type": "stream",
          "name": "stderr",
          "text": [
            "Some weights of the model checkpoint at roberta-base were not used when initializing RobertaForSequenceClassification: ['roberta.pooler.dense.bias', 'lm_head.bias', 'lm_head.dense.bias', 'lm_head.decoder.weight', 'lm_head.dense.weight', 'roberta.pooler.dense.weight', 'lm_head.layer_norm.weight', 'lm_head.layer_norm.bias']\n",
            "- This IS expected if you are initializing RobertaForSequenceClassification from the checkpoint of a model trained on another task or with another architecture (e.g. initializing a BertForSequenceClassification model from a BertForPreTraining model).\n",
            "- This IS NOT expected if you are initializing RobertaForSequenceClassification from the checkpoint of a model that you expect to be exactly identical (initializing a BertForSequenceClassification model from a BertForSequenceClassification model).\n",
            "Some weights of RobertaForSequenceClassification were not initialized from the model checkpoint at roberta-base and are newly initialized: ['classifier.dense.weight', 'classifier.out_proj.weight', 'classifier.out_proj.bias', 'classifier.dense.bias']\n",
            "You should probably TRAIN this model on a down-stream task to be able to use it for predictions and inference.\n"
          ]
        },
        {
          "output_type": "stream",
          "name": "stdout",
          "text": [
            "\n",
            "EPOCH NUMBER:  0\n",
            "\n",
            "NOW TRAIN THE MODEL.\n"
          ]
        },
        {
          "output_type": "stream",
          "name": "stderr",
          "text": [
            "C:\\Users\\Domenico\\.conda\\envs\\tf\\lib\\site-packages\\simpletransformers\\classification\\classification_model.py:612: UserWarning: Dataframe headers not specified. Falling back to using column 0 as text and column 1 as labels.\n",
            "  warnings.warn(\n"
          ]
        },
        {
          "output_type": "stream",
          "name": "stdout",
          "text": [
            "\n",
            "NOW EVALUATE THE TEST DF.\n"
          ]
        },
        {
          "output_type": "stream",
          "name": "stderr",
          "text": [
            "C:\\Users\\Domenico\\.conda\\envs\\tf\\lib\\site-packages\\simpletransformers\\classification\\classification_model.py:1454: UserWarning: Dataframe headers not specified. Falling back to using column 0 as text and column 1 as labels.\n",
            "  warnings.warn(\n"
          ]
        },
        {
          "output_type": "stream",
          "name": "stdout",
          "text": [
            "{'mcc': 0.6705684454856312, 'tp': 2125, 'tn': 2051, 'fp': 442, 'fn': 382, 'auroc': 0.9107372201798062, 'auprc': 0.9060670082783973, 'eval_loss': 0.390125433909893}\n",
            "Correct predictions are:  4176\n",
            "Total predictions are:  5000\n",
            "Accuracy on test set is: 0.8352 \n",
            "\n",
            "\n",
            "\n",
            "EPOCH NUMBER:  1\n",
            "\n",
            "NOW TRAIN THE MODEL.\n"
          ]
        },
        {
          "output_type": "stream",
          "name": "stderr",
          "text": [
            "C:\\Users\\Domenico\\.conda\\envs\\tf\\lib\\site-packages\\simpletransformers\\classification\\classification_model.py:612: UserWarning: Dataframe headers not specified. Falling back to using column 0 as text and column 1 as labels.\n",
            "  warnings.warn(\n"
          ]
        },
        {
          "output_type": "stream",
          "name": "stdout",
          "text": [
            "\n",
            "NOW EVALUATE THE TEST DF.\n"
          ]
        },
        {
          "output_type": "stream",
          "name": "stderr",
          "text": [
            "C:\\Users\\Domenico\\.conda\\envs\\tf\\lib\\site-packages\\simpletransformers\\classification\\classification_model.py:1454: UserWarning: Dataframe headers not specified. Falling back to using column 0 as text and column 1 as labels.\n",
            "  warnings.warn(\n"
          ]
        },
        {
          "output_type": "stream",
          "name": "stdout",
          "text": [
            "{'mcc': 0.683242139950775, 'tp': 2127, 'tn': 2081, 'fp': 412, 'fn': 380, 'auroc': 0.922531232644864, 'auprc': 0.919718460612471, 'eval_loss': 0.3898367895424366}\n",
            "Correct predictions are:  4208\n",
            "Total predictions are:  5000\n",
            "Accuracy on test set is: 0.8416 \n",
            "\n",
            "\n",
            "\n",
            "EPOCH NUMBER:  2\n",
            "\n",
            "NOW TRAIN THE MODEL.\n"
          ]
        },
        {
          "output_type": "stream",
          "name": "stderr",
          "text": [
            "C:\\Users\\Domenico\\.conda\\envs\\tf\\lib\\site-packages\\simpletransformers\\classification\\classification_model.py:612: UserWarning: Dataframe headers not specified. Falling back to using column 0 as text and column 1 as labels.\n",
            "  warnings.warn(\n"
          ]
        },
        {
          "output_type": "stream",
          "name": "stdout",
          "text": [
            "\n",
            "NOW EVALUATE THE TEST DF.\n"
          ]
        },
        {
          "output_type": "stream",
          "name": "stderr",
          "text": [
            "C:\\Users\\Domenico\\.conda\\envs\\tf\\lib\\site-packages\\simpletransformers\\classification\\classification_model.py:1454: UserWarning: Dataframe headers not specified. Falling back to using column 0 as text and column 1 as labels.\n",
            "  warnings.warn(\n"
          ]
        },
        {
          "output_type": "stream",
          "name": "stdout",
          "text": [
            "{'mcc': 0.6896640376756672, 'tp': 2138, 'tn': 2086, 'fp': 407, 'fn': 369, 'auroc': 0.9236114011133847, 'auprc': 0.9224857842056573, 'eval_loss': 0.45016738476529716}\n",
            "Correct predictions are:  4224\n",
            "Total predictions are:  5000\n",
            "Accuracy on test set is: 0.8448 \n",
            "\n",
            "\n",
            "\n",
            "EPOCH NUMBER:  3\n",
            "\n",
            "NOW TRAIN THE MODEL.\n"
          ]
        },
        {
          "output_type": "stream",
          "name": "stderr",
          "text": [
            "C:\\Users\\Domenico\\.conda\\envs\\tf\\lib\\site-packages\\simpletransformers\\classification\\classification_model.py:612: UserWarning: Dataframe headers not specified. Falling back to using column 0 as text and column 1 as labels.\n",
            "  warnings.warn(\n"
          ]
        },
        {
          "output_type": "stream",
          "name": "stdout",
          "text": [
            "\n",
            "NOW EVALUATE THE TEST DF.\n"
          ]
        },
        {
          "output_type": "stream",
          "name": "stderr",
          "text": [
            "C:\\Users\\Domenico\\.conda\\envs\\tf\\lib\\site-packages\\simpletransformers\\classification\\classification_model.py:1454: UserWarning: Dataframe headers not specified. Falling back to using column 0 as text and column 1 as labels.\n",
            "  warnings.warn(\n"
          ]
        },
        {
          "output_type": "stream",
          "name": "stdout",
          "text": [
            "{'mcc': 0.688946721580046, 'tp': 2169, 'tn': 2052, 'fp': 441, 'fn': 338, 'auroc': 0.9237219619801819, 'auprc': 0.9213168803731353, 'eval_loss': 0.6083554167695343}\n",
            "Correct predictions are:  4221\n",
            "Total predictions are:  5000\n",
            "Accuracy on test set is: 0.8442 \n",
            "\n",
            "\n",
            "\n",
            "EPOCH NUMBER:  4\n",
            "\n",
            "NOW TRAIN THE MODEL.\n"
          ]
        },
        {
          "output_type": "stream",
          "name": "stderr",
          "text": [
            "C:\\Users\\Domenico\\.conda\\envs\\tf\\lib\\site-packages\\simpletransformers\\classification\\classification_model.py:612: UserWarning: Dataframe headers not specified. Falling back to using column 0 as text and column 1 as labels.\n",
            "  warnings.warn(\n"
          ]
        },
        {
          "output_type": "stream",
          "name": "stdout",
          "text": [
            "\n",
            "NOW EVALUATE THE TEST DF.\n"
          ]
        },
        {
          "output_type": "stream",
          "name": "stderr",
          "text": [
            "C:\\Users\\Domenico\\.conda\\envs\\tf\\lib\\site-packages\\simpletransformers\\classification\\classification_model.py:1454: UserWarning: Dataframe headers not specified. Falling back to using column 0 as text and column 1 as labels.\n",
            "  warnings.warn(\n"
          ]
        },
        {
          "output_type": "stream",
          "name": "stdout",
          "text": [
            "{'mcc': 0.6864216553458997, 'tp': 2106, 'tn': 2110, 'fp': 383, 'fn': 401, 'auroc': 0.9219518681026461, 'auprc': 0.9199809415861427, 'eval_loss': 0.6356915968537331}\n",
            "Correct predictions are:  4216\n",
            "Total predictions are:  5000\n",
            "Accuracy on test set is: 0.8432 \n",
            "\n",
            "\n",
            "\n",
            "EPOCH NUMBER:  5\n",
            "\n",
            "NOW TRAIN THE MODEL.\n"
          ]
        },
        {
          "output_type": "stream",
          "name": "stderr",
          "text": [
            "C:\\Users\\Domenico\\.conda\\envs\\tf\\lib\\site-packages\\simpletransformers\\classification\\classification_model.py:612: UserWarning: Dataframe headers not specified. Falling back to using column 0 as text and column 1 as labels.\n",
            "  warnings.warn(\n"
          ]
        },
        {
          "output_type": "stream",
          "name": "stdout",
          "text": [
            "\n",
            "NOW EVALUATE THE TEST DF.\n"
          ]
        },
        {
          "output_type": "stream",
          "name": "stderr",
          "text": [
            "C:\\Users\\Domenico\\.conda\\envs\\tf\\lib\\site-packages\\simpletransformers\\classification\\classification_model.py:1454: UserWarning: Dataframe headers not specified. Falling back to using column 0 as text and column 1 as labels.\n",
            "  warnings.warn(\n"
          ]
        },
        {
          "output_type": "stream",
          "name": "stdout",
          "text": [
            "{'mcc': 0.6851202237249955, 'tp': 2153, 'tn': 2059, 'fp': 434, 'fn': 354, 'auroc': 0.9208481794497269, 'auprc': 0.9190835841174891, 'eval_loss': 0.6342100040309131}\n",
            "Correct predictions are:  4212\n",
            "Total predictions are:  5000\n",
            "Accuracy on test set is: 0.8424 \n",
            "\n",
            "\n",
            "\n",
            "EPOCH NUMBER:  6\n",
            "\n",
            "NOW TRAIN THE MODEL.\n"
          ]
        },
        {
          "output_type": "stream",
          "name": "stderr",
          "text": [
            "C:\\Users\\Domenico\\.conda\\envs\\tf\\lib\\site-packages\\simpletransformers\\classification\\classification_model.py:612: UserWarning: Dataframe headers not specified. Falling back to using column 0 as text and column 1 as labels.\n",
            "  warnings.warn(\n"
          ]
        },
        {
          "output_type": "stream",
          "name": "stdout",
          "text": [
            "\n",
            "NOW EVALUATE THE TEST DF.\n"
          ]
        },
        {
          "output_type": "stream",
          "name": "stderr",
          "text": [
            "C:\\Users\\Domenico\\.conda\\envs\\tf\\lib\\site-packages\\simpletransformers\\classification\\classification_model.py:1454: UserWarning: Dataframe headers not specified. Falling back to using column 0 as text and column 1 as labels.\n",
            "  warnings.warn(\n"
          ]
        },
        {
          "output_type": "stream",
          "name": "stdout",
          "text": [
            "{'mcc': 0.6774451006577661, 'tp': 2139, 'tn': 2054, 'fp': 439, 'fn': 368, 'auroc': 0.9215476249333795, 'auprc': 0.9181699478494754, 'eval_loss': 0.6701958037793636}\n",
            "Correct predictions are:  4193\n",
            "Total predictions are:  5000\n",
            "Accuracy on test set is: 0.8386 \n",
            "\n",
            "\n",
            "\n",
            "EPOCH NUMBER:  7\n",
            "\n",
            "NOW TRAIN THE MODEL.\n"
          ]
        },
        {
          "output_type": "stream",
          "name": "stderr",
          "text": [
            "C:\\Users\\Domenico\\.conda\\envs\\tf\\lib\\site-packages\\simpletransformers\\classification\\classification_model.py:612: UserWarning: Dataframe headers not specified. Falling back to using column 0 as text and column 1 as labels.\n",
            "  warnings.warn(\n"
          ]
        },
        {
          "output_type": "stream",
          "name": "stdout",
          "text": [
            "\n",
            "NOW EVALUATE THE TEST DF.\n"
          ]
        },
        {
          "output_type": "stream",
          "name": "stderr",
          "text": [
            "C:\\Users\\Domenico\\.conda\\envs\\tf\\lib\\site-packages\\simpletransformers\\classification\\classification_model.py:1454: UserWarning: Dataframe headers not specified. Falling back to using column 0 as text and column 1 as labels.\n",
            "  warnings.warn(\n"
          ]
        },
        {
          "output_type": "stream",
          "name": "stdout",
          "text": [
            "{'mcc': 0.6814320415775814, 'tp': 2178, 'tn': 2023, 'fp': 470, 'fn': 329, 'auroc': 0.9189972049380868, 'auprc': 0.9156801943256554, 'eval_loss': 0.7407045612581075}\n",
            "Correct predictions are:  4201\n",
            "Total predictions are:  5000\n",
            "Accuracy on test set is: 0.8402 \n",
            "\n",
            "\n",
            "\n",
            "EPOCH NUMBER:  8\n",
            "\n",
            "NOW TRAIN THE MODEL.\n"
          ]
        },
        {
          "output_type": "stream",
          "name": "stderr",
          "text": [
            "C:\\Users\\Domenico\\.conda\\envs\\tf\\lib\\site-packages\\simpletransformers\\classification\\classification_model.py:612: UserWarning: Dataframe headers not specified. Falling back to using column 0 as text and column 1 as labels.\n",
            "  warnings.warn(\n"
          ]
        },
        {
          "output_type": "stream",
          "name": "stdout",
          "text": [
            "\n",
            "NOW EVALUATE THE TEST DF.\n"
          ]
        },
        {
          "output_type": "stream",
          "name": "stderr",
          "text": [
            "C:\\Users\\Domenico\\.conda\\envs\\tf\\lib\\site-packages\\simpletransformers\\classification\\classification_model.py:1454: UserWarning: Dataframe headers not specified. Falling back to using column 0 as text and column 1 as labels.\n",
            "  warnings.warn(\n"
          ]
        },
        {
          "output_type": "stream",
          "name": "stdout",
          "text": [
            "{'mcc': 0.6797104909658948, 'tp': 2131, 'tn': 2068, 'fp': 425, 'fn': 376, 'auroc': 0.919925692217427, 'auprc': 0.918370206486555, 'eval_loss': 0.725298882190138}\n",
            "Correct predictions are:  4199\n",
            "Total predictions are:  5000\n",
            "Accuracy on test set is: 0.8398 \n",
            "\n",
            "\n",
            "\n",
            "EPOCH NUMBER:  9\n",
            "\n",
            "NOW TRAIN THE MODEL.\n"
          ]
        },
        {
          "output_type": "stream",
          "name": "stderr",
          "text": [
            "C:\\Users\\Domenico\\.conda\\envs\\tf\\lib\\site-packages\\simpletransformers\\classification\\classification_model.py:612: UserWarning: Dataframe headers not specified. Falling back to using column 0 as text and column 1 as labels.\n",
            "  warnings.warn(\n"
          ]
        },
        {
          "output_type": "stream",
          "name": "stdout",
          "text": [
            "\n",
            "NOW EVALUATE THE TEST DF.\n"
          ]
        },
        {
          "output_type": "stream",
          "name": "stderr",
          "text": [
            "C:\\Users\\Domenico\\.conda\\envs\\tf\\lib\\site-packages\\simpletransformers\\classification\\classification_model.py:1454: UserWarning: Dataframe headers not specified. Falling back to using column 0 as text and column 1 as labels.\n",
            "  warnings.warn(\n"
          ]
        },
        {
          "output_type": "stream",
          "name": "stdout",
          "text": [
            "{'mcc': 0.673794903037646, 'tp': 2131, 'tn': 2053, 'fp': 440, 'fn': 376, 'auroc': 0.9189280043955544, 'auprc': 0.9169436585691602, 'eval_loss': 0.8425950717188417}\n",
            "Correct predictions are:  4184\n",
            "Total predictions are:  5000\n",
            "Accuracy on test set is: 0.8368 \n",
            "\n",
            "\n",
            "[0.8352, 0.8416, 0.8448, 0.8442, 0.8432, 0.8424, 0.8386, 0.8402, 0.8398, 0.8368]\n",
            "\n",
            "\n",
            " Over all runs maximum accuracies are: [0.796, 0.8076, 0.829, 0.8344, 0.8448]\n",
            "The median is: 0.829\n",
            "RoBERTa Accuracy Score on Test set ->  ['0.829 +/- 0.03299999999999992']\n"
          ]
        },
        {
          "output_type": "stream",
          "name": "stderr",
          "text": [
            "Some weights of the model checkpoint at roberta-base were not used when initializing RobertaForSequenceClassification: ['roberta.pooler.dense.bias', 'lm_head.bias', 'lm_head.dense.bias', 'lm_head.decoder.weight', 'lm_head.dense.weight', 'roberta.pooler.dense.weight', 'lm_head.layer_norm.weight', 'lm_head.layer_norm.bias']\n",
            "- This IS expected if you are initializing RobertaForSequenceClassification from the checkpoint of a model trained on another task or with another architecture (e.g. initializing a BertForSequenceClassification model from a BertForPreTraining model).\n",
            "- This IS NOT expected if you are initializing RobertaForSequenceClassification from the checkpoint of a model that you expect to be exactly identical (initializing a BertForSequenceClassification model from a BertForSequenceClassification model).\n",
            "Some weights of RobertaForSequenceClassification were not initialized from the model checkpoint at roberta-base and are newly initialized: ['classifier.dense.weight', 'classifier.out_proj.weight', 'classifier.out_proj.bias', 'classifier.dense.bias']\n",
            "You should probably TRAIN this model on a down-stream task to be able to use it for predictions and inference.\n"
          ]
        },
        {
          "output_type": "stream",
          "name": "stdout",
          "text": [
            "\n",
            "\n",
            "* * * * EVALUATION USING RSW_STM_LOW AS PREPROCESSING FUNCTION * * * *\n",
            "\n",
            "RUN NUMBER:  1\n"
          ]
        },
        {
          "output_type": "stream",
          "name": "stderr",
          "text": [
            "Some weights of the model checkpoint at roberta-base were not used when initializing RobertaForSequenceClassification: ['roberta.pooler.dense.bias', 'lm_head.bias', 'lm_head.dense.bias', 'lm_head.decoder.weight', 'lm_head.dense.weight', 'roberta.pooler.dense.weight', 'lm_head.layer_norm.weight', 'lm_head.layer_norm.bias']\n",
            "- This IS expected if you are initializing RobertaForSequenceClassification from the checkpoint of a model trained on another task or with another architecture (e.g. initializing a BertForSequenceClassification model from a BertForPreTraining model).\n",
            "- This IS NOT expected if you are initializing RobertaForSequenceClassification from the checkpoint of a model that you expect to be exactly identical (initializing a BertForSequenceClassification model from a BertForSequenceClassification model).\n",
            "Some weights of RobertaForSequenceClassification were not initialized from the model checkpoint at roberta-base and are newly initialized: ['classifier.dense.weight', 'classifier.out_proj.weight', 'classifier.out_proj.bias', 'classifier.dense.bias']\n",
            "You should probably TRAIN this model on a down-stream task to be able to use it for predictions and inference.\n"
          ]
        },
        {
          "output_type": "stream",
          "name": "stdout",
          "text": [
            "\n",
            "EPOCH NUMBER:  0\n",
            "\n",
            "NOW TRAIN THE MODEL.\n"
          ]
        },
        {
          "output_type": "stream",
          "name": "stderr",
          "text": [
            "C:\\Users\\Domenico\\.conda\\envs\\tf\\lib\\site-packages\\simpletransformers\\classification\\classification_model.py:612: UserWarning: Dataframe headers not specified. Falling back to using column 0 as text and column 1 as labels.\n",
            "  warnings.warn(\n"
          ]
        },
        {
          "output_type": "stream",
          "name": "stdout",
          "text": [
            "\n",
            "NOW EVALUATE THE TEST DF.\n"
          ]
        },
        {
          "output_type": "stream",
          "name": "stderr",
          "text": [
            "C:\\Users\\Domenico\\.conda\\envs\\tf\\lib\\site-packages\\simpletransformers\\classification\\classification_model.py:1454: UserWarning: Dataframe headers not specified. Falling back to using column 0 as text and column 1 as labels.\n",
            "  warnings.warn(\n"
          ]
        },
        {
          "output_type": "stream",
          "name": "stdout",
          "text": [
            "{'mcc': 0.6512043521693864, 'tp': 2079, 'tn': 2049, 'fp': 444, 'fn': 428, 'auroc': 0.9048778142420638, 'auprc': 0.8994201074860784, 'eval_loss': 0.40557987733483314}\n",
            "Correct predictions are:  4128\n",
            "Total predictions are:  5000\n",
            "Accuracy on test set is: 0.8256 \n",
            "\n",
            "\n",
            "\n",
            "EPOCH NUMBER:  1\n",
            "\n",
            "NOW TRAIN THE MODEL.\n"
          ]
        },
        {
          "output_type": "stream",
          "name": "stderr",
          "text": [
            "C:\\Users\\Domenico\\.conda\\envs\\tf\\lib\\site-packages\\simpletransformers\\classification\\classification_model.py:612: UserWarning: Dataframe headers not specified. Falling back to using column 0 as text and column 1 as labels.\n",
            "  warnings.warn(\n"
          ]
        },
        {
          "output_type": "stream",
          "name": "stdout",
          "text": [
            "\n",
            "NOW EVALUATE THE TEST DF.\n"
          ]
        },
        {
          "output_type": "stream",
          "name": "stderr",
          "text": [
            "C:\\Users\\Domenico\\.conda\\envs\\tf\\lib\\site-packages\\simpletransformers\\classification\\classification_model.py:1454: UserWarning: Dataframe headers not specified. Falling back to using column 0 as text and column 1 as labels.\n",
            "  warnings.warn(\n"
          ]
        },
        {
          "output_type": "stream",
          "name": "stdout",
          "text": [
            "{'mcc': 0.6740135574287255, 'tp': 2110, 'tn': 2075, 'fp': 418, 'fn': 397, 'auroc': 0.9171555104992023, 'auprc': 0.91256878454957, 'eval_loss': 0.38623946703672407}\n",
            "Correct predictions are:  4185\n",
            "Total predictions are:  5000\n",
            "Accuracy on test set is: 0.837 \n",
            "\n",
            "\n",
            "\n",
            "EPOCH NUMBER:  2\n",
            "\n",
            "NOW TRAIN THE MODEL.\n"
          ]
        },
        {
          "output_type": "stream",
          "name": "stderr",
          "text": [
            "C:\\Users\\Domenico\\.conda\\envs\\tf\\lib\\site-packages\\simpletransformers\\classification\\classification_model.py:612: UserWarning: Dataframe headers not specified. Falling back to using column 0 as text and column 1 as labels.\n",
            "  warnings.warn(\n"
          ]
        },
        {
          "output_type": "stream",
          "name": "stdout",
          "text": [
            "\n",
            "NOW EVALUATE THE TEST DF.\n"
          ]
        },
        {
          "output_type": "stream",
          "name": "stderr",
          "text": [
            "C:\\Users\\Domenico\\.conda\\envs\\tf\\lib\\site-packages\\simpletransformers\\classification\\classification_model.py:1454: UserWarning: Dataframe headers not specified. Falling back to using column 0 as text and column 1 as labels.\n",
            "  warnings.warn(\n"
          ]
        },
        {
          "output_type": "stream",
          "name": "stdout",
          "text": [
            "{'mcc': 0.6602388923790115, 'tp': 2153, 'tn': 1995, 'fp': 498, 'fn': 354, 'auroc': 0.9081778401142665, 'auprc': 0.9042335937621013, 'eval_loss': 0.48595071543455126}\n",
            "Correct predictions are:  4148\n",
            "Total predictions are:  5000\n",
            "Accuracy on test set is: 0.8296 \n",
            "\n",
            "\n",
            "\n",
            "EPOCH NUMBER:  3\n",
            "\n",
            "NOW TRAIN THE MODEL.\n"
          ]
        },
        {
          "output_type": "stream",
          "name": "stderr",
          "text": [
            "C:\\Users\\Domenico\\.conda\\envs\\tf\\lib\\site-packages\\simpletransformers\\classification\\classification_model.py:612: UserWarning: Dataframe headers not specified. Falling back to using column 0 as text and column 1 as labels.\n",
            "  warnings.warn(\n"
          ]
        },
        {
          "output_type": "stream",
          "name": "stdout",
          "text": [
            "\n",
            "NOW EVALUATE THE TEST DF.\n"
          ]
        },
        {
          "output_type": "stream",
          "name": "stderr",
          "text": [
            "C:\\Users\\Domenico\\.conda\\envs\\tf\\lib\\site-packages\\simpletransformers\\classification\\classification_model.py:1454: UserWarning: Dataframe headers not specified. Falling back to using column 0 as text and column 1 as labels.\n",
            "  warnings.warn(\n"
          ]
        },
        {
          "output_type": "stream",
          "name": "stdout",
          "text": [
            "{'mcc': 0.6614637339751291, 'tp': 2202, 'tn': 1944, 'fp': 549, 'fn': 305, 'auroc': 0.9157951798342099, 'auprc': 0.9106744510751862, 'eval_loss': 0.5205044457912446}\n",
            "Correct predictions are:  4146\n",
            "Total predictions are:  5000\n",
            "Accuracy on test set is: 0.8292 \n",
            "\n",
            "\n",
            "\n",
            "EPOCH NUMBER:  4\n",
            "\n",
            "NOW TRAIN THE MODEL.\n"
          ]
        },
        {
          "output_type": "stream",
          "name": "stderr",
          "text": [
            "C:\\Users\\Domenico\\.conda\\envs\\tf\\lib\\site-packages\\simpletransformers\\classification\\classification_model.py:612: UserWarning: Dataframe headers not specified. Falling back to using column 0 as text and column 1 as labels.\n",
            "  warnings.warn(\n"
          ]
        },
        {
          "output_type": "stream",
          "name": "stdout",
          "text": [
            "\n",
            "NOW EVALUATE THE TEST DF.\n"
          ]
        },
        {
          "output_type": "stream",
          "name": "stderr",
          "text": [
            "C:\\Users\\Domenico\\.conda\\envs\\tf\\lib\\site-packages\\simpletransformers\\classification\\classification_model.py:1454: UserWarning: Dataframe headers not specified. Falling back to using column 0 as text and column 1 as labels.\n",
            "  warnings.warn(\n"
          ]
        },
        {
          "output_type": "stream",
          "name": "stdout",
          "text": [
            "{'mcc': 0.66794795331784, 'tp': 2152, 'tn': 2016, 'fp': 477, 'fn': 355, 'auroc': 0.9136398829366823, 'auprc': 0.9083738960316788, 'eval_loss': 0.5003267734348774}\n",
            "Correct predictions are:  4168\n",
            "Total predictions are:  5000\n",
            "Accuracy on test set is: 0.8336 \n",
            "\n",
            "\n",
            "\n",
            "EPOCH NUMBER:  5\n",
            "\n",
            "NOW TRAIN THE MODEL.\n"
          ]
        },
        {
          "output_type": "stream",
          "name": "stderr",
          "text": [
            "C:\\Users\\Domenico\\.conda\\envs\\tf\\lib\\site-packages\\simpletransformers\\classification\\classification_model.py:612: UserWarning: Dataframe headers not specified. Falling back to using column 0 as text and column 1 as labels.\n",
            "  warnings.warn(\n"
          ]
        },
        {
          "output_type": "stream",
          "name": "stdout",
          "text": [
            "\n",
            "NOW EVALUATE THE TEST DF.\n"
          ]
        },
        {
          "output_type": "stream",
          "name": "stderr",
          "text": [
            "C:\\Users\\Domenico\\.conda\\envs\\tf\\lib\\site-packages\\simpletransformers\\classification\\classification_model.py:1454: UserWarning: Dataframe headers not specified. Falling back to using column 0 as text and column 1 as labels.\n",
            "  warnings.warn(\n"
          ]
        },
        {
          "output_type": "stream",
          "name": "stdout",
          "text": [
            "{'mcc': 0.6685279836724588, 'tp': 2119, 'tn': 2052, 'fp': 441, 'fn': 388, 'auroc': 0.9115220263326864, 'auprc': 0.901116109701853, 'eval_loss': 0.6172272881940007}\n",
            "Correct predictions are:  4171\n",
            "Total predictions are:  5000\n",
            "Accuracy on test set is: 0.8342 \n",
            "\n",
            "\n",
            "\n",
            "EPOCH NUMBER:  6\n",
            "\n",
            "NOW TRAIN THE MODEL.\n"
          ]
        },
        {
          "output_type": "stream",
          "name": "stderr",
          "text": [
            "C:\\Users\\Domenico\\.conda\\envs\\tf\\lib\\site-packages\\simpletransformers\\classification\\classification_model.py:612: UserWarning: Dataframe headers not specified. Falling back to using column 0 as text and column 1 as labels.\n",
            "  warnings.warn(\n"
          ]
        },
        {
          "output_type": "stream",
          "name": "stdout",
          "text": [
            "\n",
            "NOW EVALUATE THE TEST DF.\n"
          ]
        },
        {
          "output_type": "stream",
          "name": "stderr",
          "text": [
            "C:\\Users\\Domenico\\.conda\\envs\\tf\\lib\\site-packages\\simpletransformers\\classification\\classification_model.py:1454: UserWarning: Dataframe headers not specified. Falling back to using column 0 as text and column 1 as labels.\n",
            "  warnings.warn(\n"
          ]
        },
        {
          "output_type": "stream",
          "name": "stdout",
          "text": [
            "{'mcc': 0.6615038947744839, 'tp': 2027, 'tn': 2125, 'fp': 368, 'fn': 480, 'auroc': 0.9108234608559331, 'auprc': 0.9060865077608216, 'eval_loss': 0.5880864151716232}\n",
            "Correct predictions are:  4152\n",
            "Total predictions are:  5000\n",
            "Accuracy on test set is: 0.8304 \n",
            "\n",
            "\n",
            "\n",
            "EPOCH NUMBER:  7\n",
            "\n",
            "NOW TRAIN THE MODEL.\n"
          ]
        },
        {
          "output_type": "stream",
          "name": "stderr",
          "text": [
            "C:\\Users\\Domenico\\.conda\\envs\\tf\\lib\\site-packages\\simpletransformers\\classification\\classification_model.py:612: UserWarning: Dataframe headers not specified. Falling back to using column 0 as text and column 1 as labels.\n",
            "  warnings.warn(\n"
          ]
        },
        {
          "output_type": "stream",
          "name": "stdout",
          "text": [
            "\n",
            "NOW EVALUATE THE TEST DF.\n"
          ]
        },
        {
          "output_type": "stream",
          "name": "stderr",
          "text": [
            "C:\\Users\\Domenico\\.conda\\envs\\tf\\lib\\site-packages\\simpletransformers\\classification\\classification_model.py:1454: UserWarning: Dataframe headers not specified. Falling back to using column 0 as text and column 1 as labels.\n",
            "  warnings.warn(\n"
          ]
        },
        {
          "output_type": "stream",
          "name": "stdout",
          "text": [
            "{'mcc': 0.6538475508249395, 'tp': 2004, 'tn': 2128, 'fp': 365, 'fn': 503, 'auroc': 0.9085292028689503, 'auprc': 0.9032181111949033, 'eval_loss': 0.5642174033731222}\n",
            "Correct predictions are:  4132\n",
            "Total predictions are:  5000\n",
            "Accuracy on test set is: 0.8264 \n",
            "\n",
            "\n",
            "\n",
            "EPOCH NUMBER:  8\n",
            "\n",
            "NOW TRAIN THE MODEL.\n"
          ]
        },
        {
          "output_type": "stream",
          "name": "stderr",
          "text": [
            "C:\\Users\\Domenico\\.conda\\envs\\tf\\lib\\site-packages\\simpletransformers\\classification\\classification_model.py:612: UserWarning: Dataframe headers not specified. Falling back to using column 0 as text and column 1 as labels.\n",
            "  warnings.warn(\n"
          ]
        },
        {
          "output_type": "stream",
          "name": "stdout",
          "text": [
            "\n",
            "NOW EVALUATE THE TEST DF.\n"
          ]
        },
        {
          "output_type": "stream",
          "name": "stderr",
          "text": [
            "C:\\Users\\Domenico\\.conda\\envs\\tf\\lib\\site-packages\\simpletransformers\\classification\\classification_model.py:1454: UserWarning: Dataframe headers not specified. Falling back to using column 0 as text and column 1 as labels.\n",
            "  warnings.warn(\n"
          ]
        },
        {
          "output_type": "stream",
          "name": "stdout",
          "text": [
            "{'mcc': 0.666871782797828, 'tp': 2111, 'tn': 2056, 'fp': 437, 'fn': 396, 'auroc': 0.910628259325553, 'auprc': 0.9077934266201785, 'eval_loss': 0.6537563972175121}\n",
            "Correct predictions are:  4167\n",
            "Total predictions are:  5000\n",
            "Accuracy on test set is: 0.8334 \n",
            "\n",
            "\n",
            "\n",
            "EPOCH NUMBER:  9\n",
            "\n",
            "NOW TRAIN THE MODEL.\n"
          ]
        },
        {
          "output_type": "stream",
          "name": "stderr",
          "text": [
            "C:\\Users\\Domenico\\.conda\\envs\\tf\\lib\\site-packages\\simpletransformers\\classification\\classification_model.py:612: UserWarning: Dataframe headers not specified. Falling back to using column 0 as text and column 1 as labels.\n",
            "  warnings.warn(\n"
          ]
        },
        {
          "output_type": "stream",
          "name": "stdout",
          "text": [
            "\n",
            "NOW EVALUATE THE TEST DF.\n"
          ]
        },
        {
          "output_type": "stream",
          "name": "stderr",
          "text": [
            "C:\\Users\\Domenico\\.conda\\envs\\tf\\lib\\site-packages\\simpletransformers\\classification\\classification_model.py:1454: UserWarning: Dataframe headers not specified. Falling back to using column 0 as text and column 1 as labels.\n",
            "  warnings.warn(\n"
          ]
        },
        {
          "output_type": "stream",
          "name": "stdout",
          "text": [
            "{'mcc': 0.6561422311874182, 'tp': 1957, 'tn': 2176, 'fp': 317, 'fn': 550, 'auroc': 0.9018789907312873, 'auprc': 0.8753867564735003, 'eval_loss': 0.6120661280572415}\n",
            "Correct predictions are:  4133\n",
            "Total predictions are:  5000\n",
            "Accuracy on test set is: 0.8266 \n",
            "\n",
            "\n",
            "[0.8256, 0.837, 0.8296, 0.8292, 0.8336, 0.8342, 0.8304, 0.8264, 0.8334, 0.8266]\n",
            "\n",
            "RUN NUMBER:  2\n"
          ]
        },
        {
          "output_type": "stream",
          "name": "stderr",
          "text": [
            "Some weights of the model checkpoint at roberta-base were not used when initializing RobertaForSequenceClassification: ['roberta.pooler.dense.bias', 'lm_head.bias', 'lm_head.dense.bias', 'lm_head.decoder.weight', 'lm_head.dense.weight', 'roberta.pooler.dense.weight', 'lm_head.layer_norm.weight', 'lm_head.layer_norm.bias']\n",
            "- This IS expected if you are initializing RobertaForSequenceClassification from the checkpoint of a model trained on another task or with another architecture (e.g. initializing a BertForSequenceClassification model from a BertForPreTraining model).\n",
            "- This IS NOT expected if you are initializing RobertaForSequenceClassification from the checkpoint of a model that you expect to be exactly identical (initializing a BertForSequenceClassification model from a BertForSequenceClassification model).\n",
            "Some weights of RobertaForSequenceClassification were not initialized from the model checkpoint at roberta-base and are newly initialized: ['classifier.dense.weight', 'classifier.out_proj.weight', 'classifier.out_proj.bias', 'classifier.dense.bias']\n",
            "You should probably TRAIN this model on a down-stream task to be able to use it for predictions and inference.\n"
          ]
        },
        {
          "output_type": "stream",
          "name": "stdout",
          "text": [
            "\n",
            "EPOCH NUMBER:  0\n",
            "\n",
            "NOW TRAIN THE MODEL.\n"
          ]
        },
        {
          "output_type": "stream",
          "name": "stderr",
          "text": [
            "C:\\Users\\Domenico\\.conda\\envs\\tf\\lib\\site-packages\\simpletransformers\\classification\\classification_model.py:612: UserWarning: Dataframe headers not specified. Falling back to using column 0 as text and column 1 as labels.\n",
            "  warnings.warn(\n"
          ]
        },
        {
          "output_type": "stream",
          "name": "stdout",
          "text": [
            "\n",
            "NOW EVALUATE THE TEST DF.\n"
          ]
        },
        {
          "output_type": "stream",
          "name": "stderr",
          "text": [
            "C:\\Users\\Domenico\\.conda\\envs\\tf\\lib\\site-packages\\simpletransformers\\classification\\classification_model.py:1454: UserWarning: Dataframe headers not specified. Falling back to using column 0 as text and column 1 as labels.\n",
            "  warnings.warn(\n"
          ]
        },
        {
          "output_type": "stream",
          "name": "stdout",
          "text": [
            "{'mcc': 0.580363857452257, 'tp': 1940, 'tn': 2010, 'fp': 483, 'fn': 567, 'auroc': 0.8423128437326949, 'auprc': 0.8556478976643926, 'eval_loss': 0.4944001515865326}\n",
            "Correct predictions are:  3950\n",
            "Total predictions are:  5000\n",
            "Accuracy on test set is: 0.79 \n",
            "\n",
            "\n",
            "\n",
            "EPOCH NUMBER:  1\n",
            "\n",
            "NOW TRAIN THE MODEL.\n"
          ]
        },
        {
          "output_type": "stream",
          "name": "stderr",
          "text": [
            "C:\\Users\\Domenico\\.conda\\envs\\tf\\lib\\site-packages\\simpletransformers\\classification\\classification_model.py:612: UserWarning: Dataframe headers not specified. Falling back to using column 0 as text and column 1 as labels.\n",
            "  warnings.warn(\n"
          ]
        },
        {
          "output_type": "stream",
          "name": "stdout",
          "text": [
            "\n",
            "NOW EVALUATE THE TEST DF.\n"
          ]
        },
        {
          "output_type": "stream",
          "name": "stderr",
          "text": [
            "C:\\Users\\Domenico\\.conda\\envs\\tf\\lib\\site-packages\\simpletransformers\\classification\\classification_model.py:1454: UserWarning: Dataframe headers not specified. Falling back to using column 0 as text and column 1 as labels.\n",
            "  warnings.warn(\n"
          ]
        },
        {
          "output_type": "stream",
          "name": "stdout",
          "text": [
            "{'mcc': 0.5933891515514262, 'tp': 1891, 'tn': 2087, 'fp': 406, 'fn': 616, 'auroc': 0.8822132365517745, 'auprc': 0.8794683566048469, 'eval_loss': 0.45949745297431943}\n",
            "Correct predictions are:  3978\n",
            "Total predictions are:  5000\n",
            "Accuracy on test set is: 0.7956 \n",
            "\n",
            "\n",
            "\n",
            "EPOCH NUMBER:  2\n",
            "\n",
            "NOW TRAIN THE MODEL.\n"
          ]
        },
        {
          "output_type": "stream",
          "name": "stderr",
          "text": [
            "C:\\Users\\Domenico\\.conda\\envs\\tf\\lib\\site-packages\\simpletransformers\\classification\\classification_model.py:612: UserWarning: Dataframe headers not specified. Falling back to using column 0 as text and column 1 as labels.\n",
            "  warnings.warn(\n"
          ]
        },
        {
          "output_type": "stream",
          "name": "stdout",
          "text": [
            "\n",
            "NOW EVALUATE THE TEST DF.\n"
          ]
        },
        {
          "output_type": "stream",
          "name": "stderr",
          "text": [
            "C:\\Users\\Domenico\\.conda\\envs\\tf\\lib\\site-packages\\simpletransformers\\classification\\classification_model.py:1454: UserWarning: Dataframe headers not specified. Falling back to using column 0 as text and column 1 as labels.\n",
            "  warnings.warn(\n"
          ]
        },
        {
          "output_type": "stream",
          "name": "stdout",
          "text": [
            "{'mcc': 0.6001148015962388, 'tp': 2163, 'tn': 1825, 'fp': 668, 'fn': 344, 'auroc': 0.8831354037815656, 'auprc': 0.8761316944962345, 'eval_loss': 0.48288584072589874}\n",
            "Correct predictions are:  3988\n",
            "Total predictions are:  5000\n",
            "Accuracy on test set is: 0.7976 \n",
            "\n",
            "\n",
            "\n",
            "EPOCH NUMBER:  3\n",
            "\n",
            "NOW TRAIN THE MODEL.\n"
          ]
        },
        {
          "output_type": "stream",
          "name": "stderr",
          "text": [
            "C:\\Users\\Domenico\\.conda\\envs\\tf\\lib\\site-packages\\simpletransformers\\classification\\classification_model.py:612: UserWarning: Dataframe headers not specified. Falling back to using column 0 as text and column 1 as labels.\n",
            "  warnings.warn(\n"
          ]
        },
        {
          "output_type": "stream",
          "name": "stdout",
          "text": [
            "\n",
            "NOW EVALUATE THE TEST DF.\n"
          ]
        },
        {
          "output_type": "stream",
          "name": "stderr",
          "text": [
            "C:\\Users\\Domenico\\.conda\\envs\\tf\\lib\\site-packages\\simpletransformers\\classification\\classification_model.py:1454: UserWarning: Dataframe headers not specified. Falling back to using column 0 as text and column 1 as labels.\n",
            "  warnings.warn(\n"
          ]
        },
        {
          "output_type": "stream",
          "name": "stdout",
          "text": [
            "{'mcc': 0.6099279313116635, 'tp': 1980, 'tn': 2044, 'fp': 449, 'fn': 527, 'auroc': 0.8906100223825755, 'auprc': 0.8898229788401081, 'eval_loss': 0.47512486672401427}\n",
            "Correct predictions are:  4024\n",
            "Total predictions are:  5000\n",
            "Accuracy on test set is: 0.8048 \n",
            "\n",
            "\n",
            "\n",
            "EPOCH NUMBER:  4\n",
            "\n",
            "NOW TRAIN THE MODEL.\n"
          ]
        },
        {
          "output_type": "stream",
          "name": "stderr",
          "text": [
            "C:\\Users\\Domenico\\.conda\\envs\\tf\\lib\\site-packages\\simpletransformers\\classification\\classification_model.py:612: UserWarning: Dataframe headers not specified. Falling back to using column 0 as text and column 1 as labels.\n",
            "  warnings.warn(\n"
          ]
        },
        {
          "output_type": "stream",
          "name": "stdout",
          "text": [
            "\n",
            "NOW EVALUATE THE TEST DF.\n"
          ]
        },
        {
          "output_type": "stream",
          "name": "stderr",
          "text": [
            "C:\\Users\\Domenico\\.conda\\envs\\tf\\lib\\site-packages\\simpletransformers\\classification\\classification_model.py:1454: UserWarning: Dataframe headers not specified. Falling back to using column 0 as text and column 1 as labels.\n",
            "  warnings.warn(\n"
          ]
        },
        {
          "output_type": "stream",
          "name": "stdout",
          "text": [
            "{'mcc': 0.600424288641508, 'tp': 2022, 'tn': 1979, 'fp': 514, 'fn': 485, 'auroc': 0.8920269134910018, 'auprc': 0.8922655221412166, 'eval_loss': 0.49931270241737363}\n",
            "Correct predictions are:  4001\n",
            "Total predictions are:  5000\n",
            "Accuracy on test set is: 0.8002 \n",
            "\n",
            "\n",
            "\n",
            "EPOCH NUMBER:  5\n",
            "\n",
            "NOW TRAIN THE MODEL.\n"
          ]
        },
        {
          "output_type": "stream",
          "name": "stderr",
          "text": [
            "C:\\Users\\Domenico\\.conda\\envs\\tf\\lib\\site-packages\\simpletransformers\\classification\\classification_model.py:612: UserWarning: Dataframe headers not specified. Falling back to using column 0 as text and column 1 as labels.\n",
            "  warnings.warn(\n"
          ]
        },
        {
          "output_type": "stream",
          "name": "stdout",
          "text": [
            "\n",
            "NOW EVALUATE THE TEST DF.\n"
          ]
        },
        {
          "output_type": "stream",
          "name": "stderr",
          "text": [
            "C:\\Users\\Domenico\\.conda\\envs\\tf\\lib\\site-packages\\simpletransformers\\classification\\classification_model.py:1454: UserWarning: Dataframe headers not specified. Falling back to using column 0 as text and column 1 as labels.\n",
            "  warnings.warn(\n"
          ]
        },
        {
          "output_type": "stream",
          "name": "stdout",
          "text": [
            "{'mcc': 0.6143858750574951, 'tp': 2231, 'tn': 1782, 'fp': 711, 'fn': 276, 'auroc': 0.8963471073613217, 'auprc': 0.8883083996878981, 'eval_loss': 0.49142840518951414}\n",
            "Correct predictions are:  4013\n",
            "Total predictions are:  5000\n",
            "Accuracy on test set is: 0.8026 \n",
            "\n",
            "\n",
            "\n",
            "EPOCH NUMBER:  6\n",
            "\n",
            "NOW TRAIN THE MODEL.\n"
          ]
        },
        {
          "output_type": "stream",
          "name": "stderr",
          "text": [
            "C:\\Users\\Domenico\\.conda\\envs\\tf\\lib\\site-packages\\simpletransformers\\classification\\classification_model.py:612: UserWarning: Dataframe headers not specified. Falling back to using column 0 as text and column 1 as labels.\n",
            "  warnings.warn(\n"
          ]
        },
        {
          "output_type": "stream",
          "name": "stdout",
          "text": [
            "\n",
            "NOW EVALUATE THE TEST DF.\n"
          ]
        },
        {
          "output_type": "stream",
          "name": "stderr",
          "text": [
            "C:\\Users\\Domenico\\.conda\\envs\\tf\\lib\\site-packages\\simpletransformers\\classification\\classification_model.py:1454: UserWarning: Dataframe headers not specified. Falling back to using column 0 as text and column 1 as labels.\n",
            "  warnings.warn(\n"
          ]
        },
        {
          "output_type": "stream",
          "name": "stdout",
          "text": [
            "{'mcc': 0.6344305333374848, 'tp': 2065, 'tn': 2021, 'fp': 472, 'fn': 442, 'auroc': 0.8633598887415278, 'auprc': 0.8838902492382232, 'eval_loss': 0.4838585893750191}\n",
            "Correct predictions are:  4086\n",
            "Total predictions are:  5000\n",
            "Accuracy on test set is: 0.8172 \n",
            "\n",
            "\n",
            "\n",
            "EPOCH NUMBER:  7\n",
            "\n",
            "NOW TRAIN THE MODEL.\n"
          ]
        },
        {
          "output_type": "stream",
          "name": "stderr",
          "text": [
            "C:\\Users\\Domenico\\.conda\\envs\\tf\\lib\\site-packages\\simpletransformers\\classification\\classification_model.py:612: UserWarning: Dataframe headers not specified. Falling back to using column 0 as text and column 1 as labels.\n",
            "  warnings.warn(\n"
          ]
        },
        {
          "output_type": "stream",
          "name": "stdout",
          "text": [
            "\n",
            "NOW EVALUATE THE TEST DF.\n"
          ]
        },
        {
          "output_type": "stream",
          "name": "stderr",
          "text": [
            "C:\\Users\\Domenico\\.conda\\envs\\tf\\lib\\site-packages\\simpletransformers\\classification\\classification_model.py:1454: UserWarning: Dataframe headers not specified. Falling back to using column 0 as text and column 1 as labels.\n",
            "  warnings.warn(\n"
          ]
        },
        {
          "output_type": "stream",
          "name": "stdout",
          "text": [
            "{'mcc': 0.6289904790929196, 'tp': 2014, 'tn': 2058, 'fp': 435, 'fn': 493, 'auroc': 0.8974900763221983, 'auprc': 0.8945735470220456, 'eval_loss': 0.519858059412241}\n",
            "Correct predictions are:  4072\n",
            "Total predictions are:  5000\n",
            "Accuracy on test set is: 0.8144 \n",
            "\n",
            "\n",
            "\n",
            "EPOCH NUMBER:  8\n",
            "\n",
            "NOW TRAIN THE MODEL.\n"
          ]
        },
        {
          "output_type": "stream",
          "name": "stderr",
          "text": [
            "C:\\Users\\Domenico\\.conda\\envs\\tf\\lib\\site-packages\\simpletransformers\\classification\\classification_model.py:612: UserWarning: Dataframe headers not specified. Falling back to using column 0 as text and column 1 as labels.\n",
            "  warnings.warn(\n"
          ]
        },
        {
          "output_type": "stream",
          "name": "stdout",
          "text": [
            "\n",
            "NOW EVALUATE THE TEST DF.\n"
          ]
        },
        {
          "output_type": "stream",
          "name": "stderr",
          "text": [
            "C:\\Users\\Domenico\\.conda\\envs\\tf\\lib\\site-packages\\simpletransformers\\classification\\classification_model.py:1454: UserWarning: Dataframe headers not specified. Falling back to using column 0 as text and column 1 as labels.\n",
            "  warnings.warn(\n"
          ]
        },
        {
          "output_type": "stream",
          "name": "stdout",
          "text": [
            "{'mcc': 0.6487374906855184, 'tp': 2164, 'tn': 1953, 'fp': 540, 'fn': 343, 'auroc': 0.9087171243422549, 'auprc': 0.9086764073685778, 'eval_loss': 0.4680276470720768}\n",
            "Correct predictions are:  4117\n",
            "Total predictions are:  5000\n",
            "Accuracy on test set is: 0.8234 \n",
            "\n",
            "\n",
            "\n",
            "EPOCH NUMBER:  9\n",
            "\n",
            "NOW TRAIN THE MODEL.\n"
          ]
        },
        {
          "output_type": "stream",
          "name": "stderr",
          "text": [
            "C:\\Users\\Domenico\\.conda\\envs\\tf\\lib\\site-packages\\simpletransformers\\classification\\classification_model.py:612: UserWarning: Dataframe headers not specified. Falling back to using column 0 as text and column 1 as labels.\n",
            "  warnings.warn(\n"
          ]
        },
        {
          "output_type": "stream",
          "name": "stdout",
          "text": [
            "\n",
            "NOW EVALUATE THE TEST DF.\n"
          ]
        },
        {
          "output_type": "stream",
          "name": "stderr",
          "text": [
            "C:\\Users\\Domenico\\.conda\\envs\\tf\\lib\\site-packages\\simpletransformers\\classification\\classification_model.py:1454: UserWarning: Dataframe headers not specified. Falling back to using column 0 as text and column 1 as labels.\n",
            "  warnings.warn(\n"
          ]
        },
        {
          "output_type": "stream",
          "name": "stdout",
          "text": [
            "{'mcc': 0.6367305423230569, 'tp': 2014, 'tn': 2077, 'fp': 416, 'fn': 493, 'auroc': 0.8967271903411724, 'auprc': 0.8961974671089943, 'eval_loss': 0.4857456985890865}\n",
            "Correct predictions are:  4091\n",
            "Total predictions are:  5000\n",
            "Accuracy on test set is: 0.8182 \n",
            "\n",
            "\n",
            "[0.79, 0.7956, 0.7976, 0.8048, 0.8002, 0.8026, 0.8172, 0.8144, 0.8234, 0.8182]\n",
            "\n",
            "RUN NUMBER:  3\n"
          ]
        },
        {
          "output_type": "stream",
          "name": "stderr",
          "text": [
            "Some weights of the model checkpoint at roberta-base were not used when initializing RobertaForSequenceClassification: ['roberta.pooler.dense.bias', 'lm_head.bias', 'lm_head.dense.bias', 'lm_head.decoder.weight', 'lm_head.dense.weight', 'roberta.pooler.dense.weight', 'lm_head.layer_norm.weight', 'lm_head.layer_norm.bias']\n",
            "- This IS expected if you are initializing RobertaForSequenceClassification from the checkpoint of a model trained on another task or with another architecture (e.g. initializing a BertForSequenceClassification model from a BertForPreTraining model).\n",
            "- This IS NOT expected if you are initializing RobertaForSequenceClassification from the checkpoint of a model that you expect to be exactly identical (initializing a BertForSequenceClassification model from a BertForSequenceClassification model).\n",
            "Some weights of RobertaForSequenceClassification were not initialized from the model checkpoint at roberta-base and are newly initialized: ['classifier.dense.weight', 'classifier.out_proj.weight', 'classifier.out_proj.bias', 'classifier.dense.bias']\n",
            "You should probably TRAIN this model on a down-stream task to be able to use it for predictions and inference.\n"
          ]
        },
        {
          "output_type": "stream",
          "name": "stdout",
          "text": [
            "\n",
            "EPOCH NUMBER:  0\n",
            "\n",
            "NOW TRAIN THE MODEL.\n"
          ]
        },
        {
          "output_type": "stream",
          "name": "stderr",
          "text": [
            "C:\\Users\\Domenico\\.conda\\envs\\tf\\lib\\site-packages\\simpletransformers\\classification\\classification_model.py:612: UserWarning: Dataframe headers not specified. Falling back to using column 0 as text and column 1 as labels.\n",
            "  warnings.warn(\n"
          ]
        },
        {
          "output_type": "stream",
          "name": "stdout",
          "text": [
            "\n",
            "NOW EVALUATE THE TEST DF.\n"
          ]
        },
        {
          "output_type": "stream",
          "name": "stderr",
          "text": [
            "C:\\Users\\Domenico\\.conda\\envs\\tf\\lib\\site-packages\\simpletransformers\\classification\\classification_model.py:1454: UserWarning: Dataframe headers not specified. Falling back to using column 0 as text and column 1 as labels.\n",
            "  warnings.warn(\n"
          ]
        },
        {
          "output_type": "stream",
          "name": "stdout",
          "text": [
            "{'mcc': 0.0, 'tp': 0, 'tn': 2493, 'fp': 0, 'fn': 2507, 'auroc': 0.7715650090696711, 'auprc': 0.7815768044816627, 'eval_loss': 0.6930916538238525}\n",
            "Correct predictions are:  2493\n",
            "Total predictions are:  5000\n",
            "Accuracy on test set is: 0.4986 \n",
            "\n",
            "\n",
            "\n",
            "EPOCH NUMBER:  1\n",
            "\n",
            "NOW TRAIN THE MODEL.\n"
          ]
        },
        {
          "output_type": "stream",
          "name": "stderr",
          "text": [
            "C:\\Users\\Domenico\\.conda\\envs\\tf\\lib\\site-packages\\simpletransformers\\classification\\classification_model.py:612: UserWarning: Dataframe headers not specified. Falling back to using column 0 as text and column 1 as labels.\n",
            "  warnings.warn(\n"
          ]
        },
        {
          "output_type": "stream",
          "name": "stdout",
          "text": [
            "\n",
            "NOW EVALUATE THE TEST DF.\n"
          ]
        },
        {
          "output_type": "stream",
          "name": "stderr",
          "text": [
            "C:\\Users\\Domenico\\.conda\\envs\\tf\\lib\\site-packages\\simpletransformers\\classification\\classification_model.py:1454: UserWarning: Dataframe headers not specified. Falling back to using column 0 as text and column 1 as labels.\n",
            "  warnings.warn(\n"
          ]
        },
        {
          "output_type": "stream",
          "name": "stdout",
          "text": [
            "{'mcc': 0.5007069351022942, 'tp': 2216, 'tn': 1484, 'fp': 1009, 'fn': 291, 'auroc': 0.8472808826821203, 'auprc': 0.8493502957684547, 'eval_loss': 0.5430451931238175}\n",
            "Correct predictions are:  3700\n",
            "Total predictions are:  5000\n",
            "Accuracy on test set is: 0.74 \n",
            "\n",
            "\n",
            "\n",
            "EPOCH NUMBER:  2\n",
            "\n",
            "NOW TRAIN THE MODEL.\n"
          ]
        },
        {
          "output_type": "stream",
          "name": "stderr",
          "text": [
            "C:\\Users\\Domenico\\.conda\\envs\\tf\\lib\\site-packages\\simpletransformers\\classification\\classification_model.py:612: UserWarning: Dataframe headers not specified. Falling back to using column 0 as text and column 1 as labels.\n",
            "  warnings.warn(\n"
          ]
        },
        {
          "output_type": "stream",
          "name": "stdout",
          "text": [
            "\n",
            "NOW EVALUATE THE TEST DF.\n"
          ]
        },
        {
          "output_type": "stream",
          "name": "stderr",
          "text": [
            "C:\\Users\\Domenico\\.conda\\envs\\tf\\lib\\site-packages\\simpletransformers\\classification\\classification_model.py:1454: UserWarning: Dataframe headers not specified. Falling back to using column 0 as text and column 1 as labels.\n",
            "  warnings.warn(\n"
          ]
        },
        {
          "output_type": "stream",
          "name": "stdout",
          "text": [
            "{'mcc': 0.5284241944255423, 'tp': 2250, 'tn': 1516, 'fp': 977, 'fn': 257, 'auroc': 0.8625804426306702, 'auprc': 0.8584144261169397, 'eval_loss': 0.5384169618606567}\n",
            "Correct predictions are:  3766\n",
            "Total predictions are:  5000\n",
            "Accuracy on test set is: 0.7532 \n",
            "\n",
            "\n",
            "\n",
            "EPOCH NUMBER:  3\n",
            "\n",
            "NOW TRAIN THE MODEL.\n"
          ]
        },
        {
          "output_type": "stream",
          "name": "stderr",
          "text": [
            "C:\\Users\\Domenico\\.conda\\envs\\tf\\lib\\site-packages\\simpletransformers\\classification\\classification_model.py:612: UserWarning: Dataframe headers not specified. Falling back to using column 0 as text and column 1 as labels.\n",
            "  warnings.warn(\n"
          ]
        },
        {
          "output_type": "stream",
          "name": "stdout",
          "text": [
            "\n",
            "NOW EVALUATE THE TEST DF.\n"
          ]
        },
        {
          "output_type": "stream",
          "name": "stderr",
          "text": [
            "C:\\Users\\Domenico\\.conda\\envs\\tf\\lib\\site-packages\\simpletransformers\\classification\\classification_model.py:1454: UserWarning: Dataframe headers not specified. Falling back to using column 0 as text and column 1 as labels.\n",
            "  warnings.warn(\n"
          ]
        },
        {
          "output_type": "stream",
          "name": "stdout",
          "text": [
            "{'mcc': 0.6000538157622874, 'tp': 1960, 'tn': 2039, 'fp': 454, 'fn': 547, 'auroc': 0.8799606588915656, 'auprc': 0.8803193531767584, 'eval_loss': 0.4787813989043236}\n",
            "Correct predictions are:  3999\n",
            "Total predictions are:  5000\n",
            "Accuracy on test set is: 0.7998 \n",
            "\n",
            "\n",
            "\n",
            "EPOCH NUMBER:  4\n",
            "\n",
            "NOW TRAIN THE MODEL.\n"
          ]
        },
        {
          "output_type": "stream",
          "name": "stderr",
          "text": [
            "C:\\Users\\Domenico\\.conda\\envs\\tf\\lib\\site-packages\\simpletransformers\\classification\\classification_model.py:612: UserWarning: Dataframe headers not specified. Falling back to using column 0 as text and column 1 as labels.\n",
            "  warnings.warn(\n"
          ]
        },
        {
          "output_type": "stream",
          "name": "stdout",
          "text": [
            "\n",
            "NOW EVALUATE THE TEST DF.\n"
          ]
        },
        {
          "output_type": "stream",
          "name": "stderr",
          "text": [
            "C:\\Users\\Domenico\\.conda\\envs\\tf\\lib\\site-packages\\simpletransformers\\classification\\classification_model.py:1454: UserWarning: Dataframe headers not specified. Falling back to using column 0 as text and column 1 as labels.\n",
            "  warnings.warn(\n"
          ]
        },
        {
          "output_type": "stream",
          "name": "stdout",
          "text": [
            "{'mcc': 0.5769615731535954, 'tp': 1692, 'tn': 2216, 'fp': 277, 'fn': 815, 'auroc': 0.8408499522636258, 'auprc': 0.7762891940756418, 'eval_loss': 0.4923677665829658}\n",
            "Correct predictions are:  3908\n",
            "Total predictions are:  5000\n",
            "Accuracy on test set is: 0.7816 \n",
            "\n",
            "\n",
            "\n",
            "EPOCH NUMBER:  5\n",
            "\n",
            "NOW TRAIN THE MODEL.\n"
          ]
        },
        {
          "output_type": "stream",
          "name": "stderr",
          "text": [
            "C:\\Users\\Domenico\\.conda\\envs\\tf\\lib\\site-packages\\simpletransformers\\classification\\classification_model.py:612: UserWarning: Dataframe headers not specified. Falling back to using column 0 as text and column 1 as labels.\n",
            "  warnings.warn(\n"
          ]
        },
        {
          "output_type": "stream",
          "name": "stdout",
          "text": [
            "\n",
            "NOW EVALUATE THE TEST DF.\n"
          ]
        },
        {
          "output_type": "stream",
          "name": "stderr",
          "text": [
            "C:\\Users\\Domenico\\.conda\\envs\\tf\\lib\\site-packages\\simpletransformers\\classification\\classification_model.py:1454: UserWarning: Dataframe headers not specified. Falling back to using column 0 as text and column 1 as labels.\n",
            "  warnings.warn(\n"
          ]
        },
        {
          "output_type": "stream",
          "name": "stdout",
          "text": [
            "{'mcc': 0.11559771800942333, 'tp': 72, 'tn': 2491, 'fp': 2, 'fn': 2435, 'auroc': 0.8575491231851258, 'auprc': 0.8540839978942733, 'eval_loss': 0.6850279695510865}\n",
            "Correct predictions are:  2563\n",
            "Total predictions are:  5000\n",
            "Accuracy on test set is: 0.5126 \n",
            "\n",
            "\n",
            "\n",
            "EPOCH NUMBER:  6\n",
            "\n",
            "NOW TRAIN THE MODEL.\n"
          ]
        },
        {
          "output_type": "stream",
          "name": "stderr",
          "text": [
            "C:\\Users\\Domenico\\.conda\\envs\\tf\\lib\\site-packages\\simpletransformers\\classification\\classification_model.py:612: UserWarning: Dataframe headers not specified. Falling back to using column 0 as text and column 1 as labels.\n",
            "  warnings.warn(\n"
          ]
        },
        {
          "output_type": "stream",
          "name": "stdout",
          "text": [
            "\n",
            "NOW EVALUATE THE TEST DF.\n"
          ]
        },
        {
          "output_type": "stream",
          "name": "stderr",
          "text": [
            "C:\\Users\\Domenico\\.conda\\envs\\tf\\lib\\site-packages\\simpletransformers\\classification\\classification_model.py:1454: UserWarning: Dataframe headers not specified. Falling back to using column 0 as text and column 1 as labels.\n",
            "  warnings.warn(\n"
          ]
        },
        {
          "output_type": "stream",
          "name": "stdout",
          "text": [
            "{'mcc': 0.5829365457315541, 'tp': 1916, 'tn': 2039, 'fp': 454, 'fn': 591, 'auroc': 0.7827138964769486, 'auprc': 0.7539040991988225, 'eval_loss': 0.5790452673792839}\n",
            "Correct predictions are:  3955\n",
            "Total predictions are:  5000\n",
            "Accuracy on test set is: 0.791 \n",
            "\n",
            "\n",
            "\n",
            "EPOCH NUMBER:  7\n",
            "\n",
            "NOW TRAIN THE MODEL.\n"
          ]
        },
        {
          "output_type": "stream",
          "name": "stderr",
          "text": [
            "C:\\Users\\Domenico\\.conda\\envs\\tf\\lib\\site-packages\\simpletransformers\\classification\\classification_model.py:612: UserWarning: Dataframe headers not specified. Falling back to using column 0 as text and column 1 as labels.\n",
            "  warnings.warn(\n"
          ]
        },
        {
          "output_type": "stream",
          "name": "stdout",
          "text": [
            "\n",
            "NOW EVALUATE THE TEST DF.\n"
          ]
        },
        {
          "output_type": "stream",
          "name": "stderr",
          "text": [
            "C:\\Users\\Domenico\\.conda\\envs\\tf\\lib\\site-packages\\simpletransformers\\classification\\classification_model.py:1454: UserWarning: Dataframe headers not specified. Falling back to using column 0 as text and column 1 as labels.\n",
            "  warnings.warn(\n"
          ]
        },
        {
          "output_type": "stream",
          "name": "stdout",
          "text": [
            "{'mcc': 0.0, 'tp': 2507, 'tn': 0, 'fp': 2493, 'fn': 0, 'auroc': 0.40316756083367694, 'auprc': 0.5079811478782825, 'eval_loss': 0.6850839206695557}\n",
            "Correct predictions are:  2507\n",
            "Total predictions are:  5000\n",
            "Accuracy on test set is: 0.5014 \n",
            "\n",
            "\n",
            "\n",
            "EPOCH NUMBER:  8\n",
            "\n",
            "NOW TRAIN THE MODEL.\n"
          ]
        },
        {
          "output_type": "stream",
          "name": "stderr",
          "text": [
            "C:\\Users\\Domenico\\.conda\\envs\\tf\\lib\\site-packages\\simpletransformers\\classification\\classification_model.py:612: UserWarning: Dataframe headers not specified. Falling back to using column 0 as text and column 1 as labels.\n",
            "  warnings.warn(\n"
          ]
        },
        {
          "output_type": "stream",
          "name": "stdout",
          "text": [
            "\n",
            "NOW EVALUATE THE TEST DF.\n"
          ]
        },
        {
          "output_type": "stream",
          "name": "stderr",
          "text": [
            "C:\\Users\\Domenico\\.conda\\envs\\tf\\lib\\site-packages\\simpletransformers\\classification\\classification_model.py:1454: UserWarning: Dataframe headers not specified. Falling back to using column 0 as text and column 1 as labels.\n",
            "  warnings.warn(\n"
          ]
        },
        {
          "output_type": "stream",
          "name": "stdout",
          "text": [
            "{'mcc': 0.5770175966567249, 'tp': 1744, 'tn': 2175, 'fp': 318, 'fn': 763, 'auroc': 0.8712296304403025, 'auprc': 0.8493657653410748, 'eval_loss': 0.5413344659864903}\n",
            "Correct predictions are:  3919\n",
            "Total predictions are:  5000\n",
            "Accuracy on test set is: 0.7838 \n",
            "\n",
            "\n",
            "\n",
            "EPOCH NUMBER:  9\n",
            "\n",
            "NOW TRAIN THE MODEL.\n"
          ]
        },
        {
          "output_type": "stream",
          "name": "stderr",
          "text": [
            "C:\\Users\\Domenico\\.conda\\envs\\tf\\lib\\site-packages\\simpletransformers\\classification\\classification_model.py:612: UserWarning: Dataframe headers not specified. Falling back to using column 0 as text and column 1 as labels.\n",
            "  warnings.warn(\n"
          ]
        },
        {
          "output_type": "stream",
          "name": "stdout",
          "text": [
            "\n",
            "NOW EVALUATE THE TEST DF.\n"
          ]
        },
        {
          "output_type": "stream",
          "name": "stderr",
          "text": [
            "C:\\Users\\Domenico\\.conda\\envs\\tf\\lib\\site-packages\\simpletransformers\\classification\\classification_model.py:1454: UserWarning: Dataframe headers not specified. Falling back to using column 0 as text and column 1 as labels.\n",
            "  warnings.warn(\n"
          ]
        },
        {
          "output_type": "stream",
          "name": "stdout",
          "text": [
            "{'mcc': 0.17020092300010053, 'tp': 2507, 'tn': 140, 'fp': 2353, 'fn': 0, 'auroc': 0.8723909195448092, 'auprc': 0.8649467858823205, 'eval_loss': 0.6755483539581298}\n",
            "Correct predictions are:  2647\n",
            "Total predictions are:  5000\n",
            "Accuracy on test set is: 0.5294 \n",
            "\n",
            "\n",
            "[0.4986, 0.74, 0.7532, 0.7998, 0.7816, 0.5126, 0.791, 0.5014, 0.7838, 0.5294]\n",
            "\n",
            "RUN NUMBER:  4\n"
          ]
        },
        {
          "output_type": "stream",
          "name": "stderr",
          "text": [
            "Some weights of the model checkpoint at roberta-base were not used when initializing RobertaForSequenceClassification: ['roberta.pooler.dense.bias', 'lm_head.bias', 'lm_head.dense.bias', 'lm_head.decoder.weight', 'lm_head.dense.weight', 'roberta.pooler.dense.weight', 'lm_head.layer_norm.weight', 'lm_head.layer_norm.bias']\n",
            "- This IS expected if you are initializing RobertaForSequenceClassification from the checkpoint of a model trained on another task or with another architecture (e.g. initializing a BertForSequenceClassification model from a BertForPreTraining model).\n",
            "- This IS NOT expected if you are initializing RobertaForSequenceClassification from the checkpoint of a model that you expect to be exactly identical (initializing a BertForSequenceClassification model from a BertForSequenceClassification model).\n",
            "Some weights of RobertaForSequenceClassification were not initialized from the model checkpoint at roberta-base and are newly initialized: ['classifier.dense.weight', 'classifier.out_proj.weight', 'classifier.out_proj.bias', 'classifier.dense.bias']\n",
            "You should probably TRAIN this model on a down-stream task to be able to use it for predictions and inference.\n"
          ]
        },
        {
          "output_type": "stream",
          "name": "stdout",
          "text": [
            "\n",
            "EPOCH NUMBER:  0\n",
            "\n",
            "NOW TRAIN THE MODEL.\n"
          ]
        },
        {
          "output_type": "stream",
          "name": "stderr",
          "text": [
            "C:\\Users\\Domenico\\.conda\\envs\\tf\\lib\\site-packages\\simpletransformers\\classification\\classification_model.py:612: UserWarning: Dataframe headers not specified. Falling back to using column 0 as text and column 1 as labels.\n",
            "  warnings.warn(\n"
          ]
        },
        {
          "output_type": "stream",
          "name": "stdout",
          "text": [
            "\n",
            "NOW EVALUATE THE TEST DF.\n"
          ]
        },
        {
          "output_type": "stream",
          "name": "stderr",
          "text": [
            "C:\\Users\\Domenico\\.conda\\envs\\tf\\lib\\site-packages\\simpletransformers\\classification\\classification_model.py:1454: UserWarning: Dataframe headers not specified. Falling back to using column 0 as text and column 1 as labels.\n",
            "  warnings.warn(\n"
          ]
        },
        {
          "output_type": "stream",
          "name": "stdout",
          "text": [
            "{'mcc': 0.5744012193387706, 'tp': 1690, 'tn': 2212, 'fp': 281, 'fn': 817, 'auroc': 0.8759769476592696, 'auprc': 0.8681356311849255, 'eval_loss': 0.48683997576236726}\n",
            "Correct predictions are:  3902\n",
            "Total predictions are:  5000\n",
            "Accuracy on test set is: 0.7804 \n",
            "\n",
            "\n",
            "\n",
            "EPOCH NUMBER:  1\n",
            "\n",
            "NOW TRAIN THE MODEL.\n"
          ]
        },
        {
          "output_type": "stream",
          "name": "stderr",
          "text": [
            "C:\\Users\\Domenico\\.conda\\envs\\tf\\lib\\site-packages\\simpletransformers\\classification\\classification_model.py:612: UserWarning: Dataframe headers not specified. Falling back to using column 0 as text and column 1 as labels.\n",
            "  warnings.warn(\n"
          ]
        },
        {
          "output_type": "stream",
          "name": "stdout",
          "text": [
            "\n",
            "NOW EVALUATE THE TEST DF.\n"
          ]
        },
        {
          "output_type": "stream",
          "name": "stderr",
          "text": [
            "C:\\Users\\Domenico\\.conda\\envs\\tf\\lib\\site-packages\\simpletransformers\\classification\\classification_model.py:1454: UserWarning: Dataframe headers not specified. Falling back to using column 0 as text and column 1 as labels.\n",
            "  warnings.warn(\n"
          ]
        },
        {
          "output_type": "stream",
          "name": "stdout",
          "text": [
            "{'mcc': 0.5940643514109394, 'tp': 1781, 'tn': 2183, 'fp': 310, 'fn': 726, 'auroc': 0.884128291565806, 'auprc': 0.8820868640225803, 'eval_loss': 0.5062294722616673}\n",
            "Correct predictions are:  3964\n",
            "Total predictions are:  5000\n",
            "Accuracy on test set is: 0.7928 \n",
            "\n",
            "\n",
            "\n",
            "EPOCH NUMBER:  2\n",
            "\n",
            "NOW TRAIN THE MODEL.\n"
          ]
        },
        {
          "output_type": "stream",
          "name": "stderr",
          "text": [
            "C:\\Users\\Domenico\\.conda\\envs\\tf\\lib\\site-packages\\simpletransformers\\classification\\classification_model.py:612: UserWarning: Dataframe headers not specified. Falling back to using column 0 as text and column 1 as labels.\n",
            "  warnings.warn(\n"
          ]
        },
        {
          "output_type": "stream",
          "name": "stdout",
          "text": [
            "\n",
            "NOW EVALUATE THE TEST DF.\n"
          ]
        },
        {
          "output_type": "stream",
          "name": "stderr",
          "text": [
            "C:\\Users\\Domenico\\.conda\\envs\\tf\\lib\\site-packages\\simpletransformers\\classification\\classification_model.py:1454: UserWarning: Dataframe headers not specified. Falling back to using column 0 as text and column 1 as labels.\n",
            "  warnings.warn(\n"
          ]
        },
        {
          "output_type": "stream",
          "name": "stdout",
          "text": [
            "{'mcc': 0.6130194704267211, 'tp': 1952, 'tn': 2078, 'fp': 415, 'fn': 555, 'auroc': 0.8893793727342821, 'auprc': 0.8882560601307853, 'eval_loss': 0.4786493512392044}\n",
            "Correct predictions are:  4030\n",
            "Total predictions are:  5000\n",
            "Accuracy on test set is: 0.806 \n",
            "\n",
            "\n",
            "\n",
            "EPOCH NUMBER:  3\n",
            "\n",
            "NOW TRAIN THE MODEL.\n"
          ]
        },
        {
          "output_type": "stream",
          "name": "stderr",
          "text": [
            "C:\\Users\\Domenico\\.conda\\envs\\tf\\lib\\site-packages\\simpletransformers\\classification\\classification_model.py:612: UserWarning: Dataframe headers not specified. Falling back to using column 0 as text and column 1 as labels.\n",
            "  warnings.warn(\n"
          ]
        },
        {
          "output_type": "stream",
          "name": "stdout",
          "text": [
            "\n",
            "NOW EVALUATE THE TEST DF.\n"
          ]
        },
        {
          "output_type": "stream",
          "name": "stderr",
          "text": [
            "C:\\Users\\Domenico\\.conda\\envs\\tf\\lib\\site-packages\\simpletransformers\\classification\\classification_model.py:1454: UserWarning: Dataframe headers not specified. Falling back to using column 0 as text and column 1 as labels.\n",
            "  warnings.warn(\n"
          ]
        },
        {
          "output_type": "stream",
          "name": "stdout",
          "text": [
            "{'mcc': 0.6114700240237765, 'tp': 1913, 'tn': 2110, 'fp': 383, 'fn': 594, 'auroc': 0.8916185102891206, 'auprc': 0.8883597676968753, 'eval_loss': 0.4781431970477104}\n",
            "Correct predictions are:  4023\n",
            "Total predictions are:  5000\n",
            "Accuracy on test set is: 0.8046 \n",
            "\n",
            "\n",
            "\n",
            "EPOCH NUMBER:  4\n",
            "\n",
            "NOW TRAIN THE MODEL.\n"
          ]
        },
        {
          "output_type": "stream",
          "name": "stderr",
          "text": [
            "C:\\Users\\Domenico\\.conda\\envs\\tf\\lib\\site-packages\\simpletransformers\\classification\\classification_model.py:612: UserWarning: Dataframe headers not specified. Falling back to using column 0 as text and column 1 as labels.\n",
            "  warnings.warn(\n"
          ]
        },
        {
          "output_type": "stream",
          "name": "stdout",
          "text": [
            "\n",
            "NOW EVALUATE THE TEST DF.\n"
          ]
        },
        {
          "output_type": "stream",
          "name": "stderr",
          "text": [
            "C:\\Users\\Domenico\\.conda\\envs\\tf\\lib\\site-packages\\simpletransformers\\classification\\classification_model.py:1454: UserWarning: Dataframe headers not specified. Falling back to using column 0 as text and column 1 as labels.\n",
            "  warnings.warn(\n"
          ]
        },
        {
          "output_type": "stream",
          "name": "stdout",
          "text": [
            "{'mcc': 0.6084473483729522, 'tp': 2036, 'tn': 1985, 'fp': 508, 'fn': 471, 'auroc': 0.830840113786492, 'auprc': 0.7351550399633098, 'eval_loss': 0.5236061470031739}\n",
            "Correct predictions are:  4021\n",
            "Total predictions are:  5000\n",
            "Accuracy on test set is: 0.8042 \n",
            "\n",
            "\n",
            "\n",
            "EPOCH NUMBER:  5\n",
            "\n",
            "NOW TRAIN THE MODEL.\n"
          ]
        },
        {
          "output_type": "stream",
          "name": "stderr",
          "text": [
            "C:\\Users\\Domenico\\.conda\\envs\\tf\\lib\\site-packages\\simpletransformers\\classification\\classification_model.py:612: UserWarning: Dataframe headers not specified. Falling back to using column 0 as text and column 1 as labels.\n",
            "  warnings.warn(\n"
          ]
        },
        {
          "output_type": "stream",
          "name": "stdout",
          "text": [
            "\n",
            "NOW EVALUATE THE TEST DF.\n"
          ]
        },
        {
          "output_type": "stream",
          "name": "stderr",
          "text": [
            "C:\\Users\\Domenico\\.conda\\envs\\tf\\lib\\site-packages\\simpletransformers\\classification\\classification_model.py:1454: UserWarning: Dataframe headers not specified. Falling back to using column 0 as text and column 1 as labels.\n",
            "  warnings.warn(\n"
          ]
        },
        {
          "output_type": "stream",
          "name": "stdout",
          "text": [
            "{'mcc': 0.6098636096699076, 'tp': 2135, 'tn': 1883, 'fp': 610, 'fn': 372, 'auroc': 0.876931595143706, 'auprc': 0.8264796577870466, 'eval_loss': 0.47803251518607137}\n",
            "Correct predictions are:  4018\n",
            "Total predictions are:  5000\n",
            "Accuracy on test set is: 0.8036 \n",
            "\n",
            "\n",
            "\n",
            "EPOCH NUMBER:  6\n",
            "\n",
            "NOW TRAIN THE MODEL.\n"
          ]
        },
        {
          "output_type": "stream",
          "name": "stderr",
          "text": [
            "C:\\Users\\Domenico\\.conda\\envs\\tf\\lib\\site-packages\\simpletransformers\\classification\\classification_model.py:612: UserWarning: Dataframe headers not specified. Falling back to using column 0 as text and column 1 as labels.\n",
            "  warnings.warn(\n"
          ]
        },
        {
          "output_type": "stream",
          "name": "stdout",
          "text": [
            "\n",
            "NOW EVALUATE THE TEST DF.\n"
          ]
        },
        {
          "output_type": "stream",
          "name": "stderr",
          "text": [
            "C:\\Users\\Domenico\\.conda\\envs\\tf\\lib\\site-packages\\simpletransformers\\classification\\classification_model.py:1454: UserWarning: Dataframe headers not specified. Falling back to using column 0 as text and column 1 as labels.\n",
            "  warnings.warn(\n"
          ]
        },
        {
          "output_type": "stream",
          "name": "stdout",
          "text": [
            "{'mcc': 0.6113991652122043, 'tp': 1991, 'tn': 2037, 'fp': 456, 'fn': 516, 'auroc': 0.8688917721114933, 'auprc': 0.8008433051122514, 'eval_loss': 0.5272000352144242}\n",
            "Correct predictions are:  4028\n",
            "Total predictions are:  5000\n",
            "Accuracy on test set is: 0.8056 \n",
            "\n",
            "\n",
            "\n",
            "EPOCH NUMBER:  7\n",
            "\n",
            "NOW TRAIN THE MODEL.\n"
          ]
        },
        {
          "output_type": "stream",
          "name": "stderr",
          "text": [
            "C:\\Users\\Domenico\\.conda\\envs\\tf\\lib\\site-packages\\simpletransformers\\classification\\classification_model.py:612: UserWarning: Dataframe headers not specified. Falling back to using column 0 as text and column 1 as labels.\n",
            "  warnings.warn(\n"
          ]
        },
        {
          "output_type": "stream",
          "name": "stdout",
          "text": [
            "\n",
            "NOW EVALUATE THE TEST DF.\n"
          ]
        },
        {
          "output_type": "stream",
          "name": "stderr",
          "text": [
            "C:\\Users\\Domenico\\.conda\\envs\\tf\\lib\\site-packages\\simpletransformers\\classification\\classification_model.py:1454: UserWarning: Dataframe headers not specified. Falling back to using column 0 as text and column 1 as labels.\n",
            "  warnings.warn(\n"
          ]
        },
        {
          "output_type": "stream",
          "name": "stdout",
          "text": [
            "{'mcc': 0.5445543847343279, 'tp': 2341, 'tn': 1431, 'fp': 1062, 'fn': 166, 'auroc': 0.6453358594331379, 'auprc': 0.535807032260618, 'eval_loss': 0.548152256321907}\n",
            "Correct predictions are:  3772\n",
            "Total predictions are:  5000\n",
            "Accuracy on test set is: 0.7544 \n",
            "\n",
            "\n",
            "\n",
            "EPOCH NUMBER:  8\n",
            "\n",
            "NOW TRAIN THE MODEL.\n"
          ]
        },
        {
          "output_type": "stream",
          "name": "stderr",
          "text": [
            "C:\\Users\\Domenico\\.conda\\envs\\tf\\lib\\site-packages\\simpletransformers\\classification\\classification_model.py:612: UserWarning: Dataframe headers not specified. Falling back to using column 0 as text and column 1 as labels.\n",
            "  warnings.warn(\n"
          ]
        },
        {
          "output_type": "stream",
          "name": "stdout",
          "text": [
            "\n",
            "NOW EVALUATE THE TEST DF.\n"
          ]
        },
        {
          "output_type": "stream",
          "name": "stderr",
          "text": [
            "C:\\Users\\Domenico\\.conda\\envs\\tf\\lib\\site-packages\\simpletransformers\\classification\\classification_model.py:1454: UserWarning: Dataframe headers not specified. Falling back to using column 0 as text and column 1 as labels.\n",
            "  warnings.warn(\n"
          ]
        },
        {
          "output_type": "stream",
          "name": "stdout",
          "text": [
            "{'mcc': 0.547477658935102, 'tp': 1512, 'tn': 2286, 'fp': 207, 'fn': 995, 'auroc': 0.875479343758055, 'auprc': 0.8674727168069667, 'eval_loss': 0.5778911242961884}\n",
            "Correct predictions are:  3798\n",
            "Total predictions are:  5000\n",
            "Accuracy on test set is: 0.7596 \n",
            "\n",
            "\n",
            "\n",
            "EPOCH NUMBER:  9\n",
            "\n",
            "NOW TRAIN THE MODEL.\n"
          ]
        },
        {
          "output_type": "stream",
          "name": "stderr",
          "text": [
            "C:\\Users\\Domenico\\.conda\\envs\\tf\\lib\\site-packages\\simpletransformers\\classification\\classification_model.py:612: UserWarning: Dataframe headers not specified. Falling back to using column 0 as text and column 1 as labels.\n",
            "  warnings.warn(\n"
          ]
        },
        {
          "output_type": "stream",
          "name": "stdout",
          "text": [
            "\n",
            "NOW EVALUATE THE TEST DF.\n"
          ]
        },
        {
          "output_type": "stream",
          "name": "stderr",
          "text": [
            "C:\\Users\\Domenico\\.conda\\envs\\tf\\lib\\site-packages\\simpletransformers\\classification\\classification_model.py:1454: UserWarning: Dataframe headers not specified. Falling back to using column 0 as text and column 1 as labels.\n",
            "  warnings.warn(\n"
          ]
        },
        {
          "output_type": "stream",
          "name": "stdout",
          "text": [
            "{'mcc': 0.555351770833568, 'tp': 2273, 'tn': 1561, 'fp': 932, 'fn': 234, 'auroc': 0.8562730331805801, 'auprc': 0.7896650311983344, 'eval_loss': 0.539209355354309}\n",
            "Correct predictions are:  3834\n",
            "Total predictions are:  5000\n",
            "Accuracy on test set is: 0.7668 \n",
            "\n",
            "\n",
            "[0.7804, 0.7928, 0.806, 0.8046, 0.8042, 0.8036, 0.8056, 0.7544, 0.7596, 0.7668]\n",
            "\n",
            "RUN NUMBER:  5\n"
          ]
        },
        {
          "output_type": "stream",
          "name": "stderr",
          "text": [
            "Some weights of the model checkpoint at roberta-base were not used when initializing RobertaForSequenceClassification: ['roberta.pooler.dense.bias', 'lm_head.bias', 'lm_head.dense.bias', 'lm_head.decoder.weight', 'lm_head.dense.weight', 'roberta.pooler.dense.weight', 'lm_head.layer_norm.weight', 'lm_head.layer_norm.bias']\n",
            "- This IS expected if you are initializing RobertaForSequenceClassification from the checkpoint of a model trained on another task or with another architecture (e.g. initializing a BertForSequenceClassification model from a BertForPreTraining model).\n",
            "- This IS NOT expected if you are initializing RobertaForSequenceClassification from the checkpoint of a model that you expect to be exactly identical (initializing a BertForSequenceClassification model from a BertForSequenceClassification model).\n",
            "Some weights of RobertaForSequenceClassification were not initialized from the model checkpoint at roberta-base and are newly initialized: ['classifier.dense.weight', 'classifier.out_proj.weight', 'classifier.out_proj.bias', 'classifier.dense.bias']\n",
            "You should probably TRAIN this model on a down-stream task to be able to use it for predictions and inference.\n"
          ]
        },
        {
          "output_type": "stream",
          "name": "stdout",
          "text": [
            "\n",
            "EPOCH NUMBER:  0\n",
            "\n",
            "NOW TRAIN THE MODEL.\n"
          ]
        },
        {
          "output_type": "stream",
          "name": "stderr",
          "text": [
            "C:\\Users\\Domenico\\.conda\\envs\\tf\\lib\\site-packages\\simpletransformers\\classification\\classification_model.py:612: UserWarning: Dataframe headers not specified. Falling back to using column 0 as text and column 1 as labels.\n",
            "  warnings.warn(\n"
          ]
        },
        {
          "output_type": "stream",
          "name": "stdout",
          "text": [
            "\n",
            "NOW EVALUATE THE TEST DF.\n"
          ]
        },
        {
          "output_type": "stream",
          "name": "stderr",
          "text": [
            "C:\\Users\\Domenico\\.conda\\envs\\tf\\lib\\site-packages\\simpletransformers\\classification\\classification_model.py:1454: UserWarning: Dataframe headers not specified. Falling back to using column 0 as text and column 1 as labels.\n",
            "  warnings.warn(\n"
          ]
        },
        {
          "output_type": "stream",
          "name": "stdout",
          "text": [
            "{'mcc': 0.0, 'tp': 2507, 'tn': 0, 'fp': 2493, 'fn': 0, 'auroc': 0.27644680734296956, 'auprc': 0.3704816650816938, 'eval_loss': 0.6939984322547913}\n",
            "Correct predictions are:  2507\n",
            "Total predictions are:  5000\n",
            "Accuracy on test set is: 0.5014 \n",
            "\n",
            "\n",
            "\n",
            "EPOCH NUMBER:  1\n",
            "\n",
            "NOW TRAIN THE MODEL.\n"
          ]
        },
        {
          "output_type": "stream",
          "name": "stderr",
          "text": [
            "C:\\Users\\Domenico\\.conda\\envs\\tf\\lib\\site-packages\\simpletransformers\\classification\\classification_model.py:612: UserWarning: Dataframe headers not specified. Falling back to using column 0 as text and column 1 as labels.\n",
            "  warnings.warn(\n"
          ]
        },
        {
          "output_type": "stream",
          "name": "stdout",
          "text": [
            "\n",
            "NOW EVALUATE THE TEST DF.\n"
          ]
        },
        {
          "output_type": "stream",
          "name": "stderr",
          "text": [
            "C:\\Users\\Domenico\\.conda\\envs\\tf\\lib\\site-packages\\simpletransformers\\classification\\classification_model.py:1454: UserWarning: Dataframe headers not specified. Falling back to using column 0 as text and column 1 as labels.\n",
            "  warnings.warn(\n"
          ]
        },
        {
          "output_type": "stream",
          "name": "stdout",
          "text": [
            "{'mcc': 0.0, 'tp': 0, 'tn': 2493, 'fp': 0, 'fn': 2507, 'auroc': 0.798098017088454, 'auprc': 0.7992092687833255, 'eval_loss': 0.6931283585548401}\n",
            "Correct predictions are:  2493\n",
            "Total predictions are:  5000\n",
            "Accuracy on test set is: 0.4986 \n",
            "\n",
            "\n",
            "\n",
            "EPOCH NUMBER:  2\n",
            "\n",
            "NOW TRAIN THE MODEL.\n"
          ]
        },
        {
          "output_type": "stream",
          "name": "stderr",
          "text": [
            "C:\\Users\\Domenico\\.conda\\envs\\tf\\lib\\site-packages\\simpletransformers\\classification\\classification_model.py:612: UserWarning: Dataframe headers not specified. Falling back to using column 0 as text and column 1 as labels.\n",
            "  warnings.warn(\n"
          ]
        },
        {
          "output_type": "stream",
          "name": "stdout",
          "text": [
            "\n",
            "NOW EVALUATE THE TEST DF.\n"
          ]
        },
        {
          "output_type": "stream",
          "name": "stderr",
          "text": [
            "C:\\Users\\Domenico\\.conda\\envs\\tf\\lib\\site-packages\\simpletransformers\\classification\\classification_model.py:1454: UserWarning: Dataframe headers not specified. Falling back to using column 0 as text and column 1 as labels.\n",
            "  warnings.warn(\n",
            "C:\\Users\\Domenico\\.conda\\envs\\tf\\lib\\site-packages\\simpletransformers\\classification\\classification_model.py:612: UserWarning: Dataframe headers not specified. Falling back to using column 0 as text and column 1 as labels.\n",
            "  warnings.warn(\n"
          ]
        },
        {
          "output_type": "stream",
          "name": "stdout",
          "text": [
            "{'mcc': 0.564176578329915, 'tp': 1890, 'tn': 2018, 'fp': 475, 'fn': 617, 'auroc': 0.8563351136672911, 'auprc': 0.8564736168623516, 'eval_loss': 0.5111249790191651}\n",
            "Correct predictions are:  3908\n",
            "Total predictions are:  5000\n",
            "Accuracy on test set is: 0.7816 \n",
            "\n",
            "\n",
            "\n",
            "EPOCH NUMBER:  3\n",
            "\n",
            "NOW TRAIN THE MODEL.\n",
            "\n",
            "NOW EVALUATE THE TEST DF.\n"
          ]
        },
        {
          "output_type": "stream",
          "name": "stderr",
          "text": [
            "C:\\Users\\Domenico\\.conda\\envs\\tf\\lib\\site-packages\\simpletransformers\\classification\\classification_model.py:1454: UserWarning: Dataframe headers not specified. Falling back to using column 0 as text and column 1 as labels.\n",
            "  warnings.warn(\n"
          ]
        },
        {
          "output_type": "stream",
          "name": "stdout",
          "text": [
            "{'mcc': 0.58586652433231, 'tp': 1879, 'tn': 2080, 'fp': 413, 'fn': 628, 'auroc': 0.8770653561923926, 'auprc': 0.8787057944437645, 'eval_loss': 0.4939262263417244}\n",
            "Correct predictions are:  3959\n",
            "Total predictions are:  5000\n",
            "Accuracy on test set is: 0.7918 \n",
            "\n",
            "\n",
            "\n",
            "EPOCH NUMBER:  4\n",
            "\n",
            "NOW TRAIN THE MODEL.\n"
          ]
        },
        {
          "output_type": "stream",
          "name": "stderr",
          "text": [
            "C:\\Users\\Domenico\\.conda\\envs\\tf\\lib\\site-packages\\simpletransformers\\classification\\classification_model.py:612: UserWarning: Dataframe headers not specified. Falling back to using column 0 as text and column 1 as labels.\n",
            "  warnings.warn(\n"
          ]
        },
        {
          "output_type": "stream",
          "name": "stdout",
          "text": [
            "\n",
            "NOW EVALUATE THE TEST DF.\n"
          ]
        },
        {
          "output_type": "stream",
          "name": "stderr",
          "text": [
            "C:\\Users\\Domenico\\.conda\\envs\\tf\\lib\\site-packages\\simpletransformers\\classification\\classification_model.py:1454: UserWarning: Dataframe headers not specified. Falling back to using column 0 as text and column 1 as labels.\n",
            "  warnings.warn(\n"
          ]
        },
        {
          "output_type": "stream",
          "name": "stdout",
          "text": [
            "{'mcc': 0.5923763401403235, 'tp': 1791, 'tn': 2171, 'fp': 322, 'fn': 716, 'auroc': 0.8838447693429917, 'auprc': 0.8810824967742336, 'eval_loss': 0.5132007195830345}\n",
            "Correct predictions are:  3962\n",
            "Total predictions are:  5000\n",
            "Accuracy on test set is: 0.7924 \n",
            "\n",
            "\n",
            "\n",
            "EPOCH NUMBER:  5\n",
            "\n",
            "NOW TRAIN THE MODEL.\n"
          ]
        },
        {
          "output_type": "stream",
          "name": "stderr",
          "text": [
            "C:\\Users\\Domenico\\.conda\\envs\\tf\\lib\\site-packages\\simpletransformers\\classification\\classification_model.py:612: UserWarning: Dataframe headers not specified. Falling back to using column 0 as text and column 1 as labels.\n",
            "  warnings.warn(\n"
          ]
        },
        {
          "output_type": "stream",
          "name": "stdout",
          "text": [
            "\n",
            "NOW EVALUATE THE TEST DF.\n"
          ]
        },
        {
          "output_type": "stream",
          "name": "stderr",
          "text": [
            "C:\\Users\\Domenico\\.conda\\envs\\tf\\lib\\site-packages\\simpletransformers\\classification\\classification_model.py:1454: UserWarning: Dataframe headers not specified. Falling back to using column 0 as text and column 1 as labels.\n",
            "  warnings.warn(\n"
          ]
        },
        {
          "output_type": "stream",
          "name": "stdout",
          "text": [
            "{'mcc': 0.590421741748309, 'tp': 2168, 'tn': 1793, 'fp': 700, 'fn': 339, 'auroc': 0.8813509097911327, 'auprc': 0.868647392117236, 'eval_loss': 0.5071105330109597}\n",
            "Correct predictions are:  3961\n",
            "Total predictions are:  5000\n",
            "Accuracy on test set is: 0.7922 \n",
            "\n",
            "\n",
            "\n",
            "EPOCH NUMBER:  6\n",
            "\n",
            "NOW TRAIN THE MODEL.\n"
          ]
        },
        {
          "output_type": "stream",
          "name": "stderr",
          "text": [
            "C:\\Users\\Domenico\\.conda\\envs\\tf\\lib\\site-packages\\simpletransformers\\classification\\classification_model.py:612: UserWarning: Dataframe headers not specified. Falling back to using column 0 as text and column 1 as labels.\n",
            "  warnings.warn(\n"
          ]
        },
        {
          "output_type": "stream",
          "name": "stdout",
          "text": [
            "\n",
            "NOW EVALUATE THE TEST DF.\n"
          ]
        },
        {
          "output_type": "stream",
          "name": "stderr",
          "text": [
            "C:\\Users\\Domenico\\.conda\\envs\\tf\\lib\\site-packages\\simpletransformers\\classification\\classification_model.py:1454: UserWarning: Dataframe headers not specified. Falling back to using column 0 as text and column 1 as labels.\n",
            "  warnings.warn(\n"
          ]
        },
        {
          "output_type": "stream",
          "name": "stdout",
          "text": [
            "{'mcc': 0.5967697848278001, 'tp': 2068, 'tn': 1922, 'fp': 571, 'fn': 439, 'auroc': 0.8754818237774984, 'auprc': 0.8667533826427959, 'eval_loss': 0.5109570847392082}\n",
            "Correct predictions are:  3990\n",
            "Total predictions are:  5000\n",
            "Accuracy on test set is: 0.798 \n",
            "\n",
            "\n",
            "\n",
            "EPOCH NUMBER:  7\n",
            "\n",
            "NOW TRAIN THE MODEL.\n"
          ]
        },
        {
          "output_type": "stream",
          "name": "stderr",
          "text": [
            "C:\\Users\\Domenico\\.conda\\envs\\tf\\lib\\site-packages\\simpletransformers\\classification\\classification_model.py:612: UserWarning: Dataframe headers not specified. Falling back to using column 0 as text and column 1 as labels.\n",
            "  warnings.warn(\n"
          ]
        },
        {
          "output_type": "stream",
          "name": "stdout",
          "text": [
            "\n",
            "NOW EVALUATE THE TEST DF.\n"
          ]
        },
        {
          "output_type": "stream",
          "name": "stderr",
          "text": [
            "C:\\Users\\Domenico\\.conda\\envs\\tf\\lib\\site-packages\\simpletransformers\\classification\\classification_model.py:1454: UserWarning: Dataframe headers not specified. Falling back to using column 0 as text and column 1 as labels.\n",
            "  warnings.warn(\n"
          ]
        },
        {
          "output_type": "stream",
          "name": "stdout",
          "text": [
            "{'mcc': 0.5846683506751273, 'tp': 1888, 'tn': 2069, 'fp': 424, 'fn': 619, 'auroc': 0.8516425968779595, 'auprc': 0.7950767692459505, 'eval_loss': 0.5026116547942161}\n",
            "Correct predictions are:  3957\n",
            "Total predictions are:  5000\n",
            "Accuracy on test set is: 0.7914 \n",
            "\n",
            "\n",
            "\n",
            "EPOCH NUMBER:  8\n",
            "\n",
            "NOW TRAIN THE MODEL.\n"
          ]
        },
        {
          "output_type": "stream",
          "name": "stderr",
          "text": [
            "C:\\Users\\Domenico\\.conda\\envs\\tf\\lib\\site-packages\\simpletransformers\\classification\\classification_model.py:612: UserWarning: Dataframe headers not specified. Falling back to using column 0 as text and column 1 as labels.\n",
            "  warnings.warn(\n"
          ]
        },
        {
          "output_type": "stream",
          "name": "stdout",
          "text": [
            "\n",
            "NOW EVALUATE THE TEST DF.\n"
          ]
        },
        {
          "output_type": "stream",
          "name": "stderr",
          "text": [
            "C:\\Users\\Domenico\\.conda\\envs\\tf\\lib\\site-packages\\simpletransformers\\classification\\classification_model.py:1454: UserWarning: Dataframe headers not specified. Falling back to using column 0 as text and column 1 as labels.\n",
            "  warnings.warn(\n"
          ]
        },
        {
          "output_type": "stream",
          "name": "stdout",
          "text": [
            "{'mcc': 0.5674634105378706, 'tp': 1735, 'tn': 2161, 'fp': 332, 'fn': 772, 'auroc': 0.8133990970489209, 'auprc': 0.8423729753470552, 'eval_loss': 0.582154800605774}\n",
            "Correct predictions are:  3896\n",
            "Total predictions are:  5000\n",
            "Accuracy on test set is: 0.7792 \n",
            "\n",
            "\n",
            "\n",
            "EPOCH NUMBER:  9\n",
            "\n",
            "NOW TRAIN THE MODEL.\n"
          ]
        },
        {
          "output_type": "stream",
          "name": "stderr",
          "text": [
            "C:\\Users\\Domenico\\.conda\\envs\\tf\\lib\\site-packages\\simpletransformers\\classification\\classification_model.py:612: UserWarning: Dataframe headers not specified. Falling back to using column 0 as text and column 1 as labels.\n",
            "  warnings.warn(\n"
          ]
        },
        {
          "output_type": "stream",
          "name": "stdout",
          "text": [
            "\n",
            "NOW EVALUATE THE TEST DF.\n"
          ]
        },
        {
          "output_type": "stream",
          "name": "stderr",
          "text": [
            "C:\\Users\\Domenico\\.conda\\envs\\tf\\lib\\site-packages\\simpletransformers\\classification\\classification_model.py:1454: UserWarning: Dataframe headers not specified. Falling back to using column 0 as text and column 1 as labels.\n",
            "  warnings.warn(\n"
          ]
        },
        {
          "output_type": "stream",
          "name": "stdout",
          "text": [
            "{'mcc': 0.521745499786021, 'tp': 1506, 'tn': 2238, 'fp': 255, 'fn': 1001, 'auroc': 0.8510947525828603, 'auprc': 0.8436577444028861, 'eval_loss': 0.5632236823916436}\n",
            "Correct predictions are:  3744\n",
            "Total predictions are:  5000\n",
            "Accuracy on test set is: 0.7488 \n",
            "\n",
            "\n",
            "[0.5014, 0.4986, 0.7816, 0.7918, 0.7924, 0.7922, 0.798, 0.7914, 0.7792, 0.7488]\n",
            "\n",
            "\n",
            " Over all runs maximum accuracies are: [0.798, 0.7998, 0.806, 0.8234, 0.837]\n",
            "The median is: 0.806\n",
            "RoBERTa Accuracy Score on Test set ->  ['0.806 +/- 0.030999999999999917']\n"
          ]
        }
      ]
    },
    {
      "cell_type": "markdown",
      "source": [
        "## Now show compact results in a table."
      ],
      "metadata": {
        "id": "VzTjFDal2jVR"
      }
    },
    {
      "cell_type": "code",
      "source": [
        "print(\" PREPRO FUNCTION    |  Test Accuracy   |\",end = '')\n",
        "\n",
        "print(\"\\n\")\n",
        "for prepro_func in prepro_functions_dict_comb:\n",
        "  #print(prepro_func,\"\\t\\t\\t\",format(round(model_results[prepro_func][0],4),'.4f'),\"\\t\\t\",end='')\n",
        "  result = model_results[prepro_func][0]\n",
        "  # result = format(round(model_results[prepro_func][0],4),'.4f')\n",
        "  print(f'{prepro_func:27}{ result :12}')\n",
        "  print(\"\\n\")"
      ],
      "metadata": {
        "id": "-hyR5v7G2YW5"
      },
      "execution_count": null,
      "outputs": []
    }
  ]
}